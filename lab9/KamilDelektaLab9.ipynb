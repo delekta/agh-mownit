{
 "cells": [
  {
   "cell_type": "code",
   "execution_count": 2,
   "id": "inner-importance",
   "metadata": {},
   "outputs": [],
   "source": [
    "using(LinearAlgebra)"
   ]
  },
  {
   "cell_type": "markdown",
   "id": "metallic-battle",
   "metadata": {},
   "source": [
    "#### Zadanie 1 (1pkt)\n",
    "Ustal losowe (referencyjne) x rozmiaru 1000 oraz losowe A rozmiaru 1000x1000, policz b=A*x.\n",
    "Nastepnie rozwiąż równanie Ax=b trzema metodami:\n",
    "- inv()\n",
    "- \\\n",
    "- factorize()\n",
    "\n",
    "Porównaj jakość wyniku (zmierzoną jako długość różnicy wektorów wyniku oraz referencyjnego x) oraz czas wykonania (@time). UWAGA: pierwsze wykonanie funkcji w Julii zawiera czas kompilacji tej funkcji, dlatego czas mierzymy  od drugiego wywołania !"
   ]
  },
  {
   "cell_type": "code",
   "execution_count": 3,
   "id": "promising-participation",
   "metadata": {},
   "outputs": [
    {
     "data": {
      "text/plain": [
       "1000-element Array{Float64,1}:\n",
       " 0.31883684745362517\n",
       " 0.9608420659174708\n",
       " 0.16375997561702027\n",
       " 0.051356745360099376\n",
       " 0.29781226431479\n",
       " 0.387801183322273\n",
       " 0.1441856084784734\n",
       " 0.7073606317990686\n",
       " 0.7778078727851931\n",
       " 0.42379395319056834\n",
       " 0.6338372262721446\n",
       " 0.8950225792446003\n",
       " 0.5575611657836208\n",
       " ⋮\n",
       " 0.8948534704183522\n",
       " 0.7375165156314585\n",
       " 0.14150303031868772\n",
       " 0.5675154855734954\n",
       " 0.5355601658567763\n",
       " 0.4032405072259415\n",
       " 0.33799970024755743\n",
       " 0.6981598260123805\n",
       " 0.3847619002109637\n",
       " 0.37028816604045534\n",
       " 0.002812643590498043\n",
       " 0.9251604427504128"
      ]
     },
     "execution_count": 3,
     "metadata": {},
     "output_type": "execute_result"
    }
   ],
   "source": [
    "A = rand(1000, 1000)\n",
    "x_original = rand(1000)"
   ]
  },
  {
   "cell_type": "code",
   "execution_count": 4,
   "id": "massive-palestinian",
   "metadata": {},
   "outputs": [
    {
     "data": {
      "text/plain": [
       "1000-element Array{Float64,1}:\n",
       " 244.34987472141026\n",
       " 252.7654196392798\n",
       " 256.3681003033508\n",
       " 252.12681668698227\n",
       " 251.5797275244023\n",
       " 244.45494398826602\n",
       " 248.12997127627955\n",
       " 248.11017771428243\n",
       " 247.0788458714232\n",
       " 244.03482248588324\n",
       " 250.6183462622642\n",
       " 243.28382209921946\n",
       " 242.77414662069228\n",
       "   ⋮\n",
       " 241.91721544044566\n",
       " 251.03578599558796\n",
       " 234.1266732906108\n",
       " 242.67866964470775\n",
       " 251.4563508452119\n",
       " 240.2215742749175\n",
       " 252.60471038365705\n",
       " 247.6805373219931\n",
       " 254.2431321130997\n",
       " 242.99737038959128\n",
       " 243.34448183292469\n",
       " 246.53618363324878"
      ]
     },
     "execution_count": 4,
     "metadata": {},
     "output_type": "execute_result"
    }
   ],
   "source": [
    "b = A * x_original"
   ]
  },
  {
   "cell_type": "code",
   "execution_count": 5,
   "id": "functioning-shopping",
   "metadata": {},
   "outputs": [
    {
     "data": {
      "text/plain": [
       "1000-element Array{Float64,1}:\n",
       " 0.3188368474531025\n",
       " 0.9608420659192802\n",
       " 0.163759975614866\n",
       " 0.05135674535877399\n",
       " 0.29781226431424557\n",
       " 0.38780118332406666\n",
       " 0.1441856084781996\n",
       " 0.7073606317985934\n",
       " 0.7778078727847024\n",
       " 0.42379395319031943\n",
       " 0.6338372262710479\n",
       " 0.8950225792444826\n",
       " 0.5575611657834223\n",
       " ⋮\n",
       " 0.8948534704190649\n",
       " 0.7375165156290961\n",
       " 0.14150303031385647\n",
       " 0.5675154855733275\n",
       " 0.5355601658585627\n",
       " 0.40324050722576743\n",
       " 0.33799970024757897\n",
       " 0.6981598260126578\n",
       " 0.38476190021049206\n",
       " 0.3702881660386197\n",
       " 0.0028126435900990288\n",
       " 0.9251604427559812"
      ]
     },
     "execution_count": 5,
     "metadata": {},
     "output_type": "execute_result"
    }
   ],
   "source": [
    "# nieefektywny przyklad\n",
    "x_inv = inv(A) * b"
   ]
  },
  {
   "cell_type": "code",
   "execution_count": 6,
   "id": "beautiful-powder",
   "metadata": {},
   "outputs": [
    {
     "data": {
      "text/plain": [
       "1000-element Array{Float64,1}:\n",
       " 0.31883684745257435\n",
       " 0.9608420659178042\n",
       " 0.16375997561672814\n",
       " 0.051356745360656805\n",
       " 0.2978122643145239\n",
       " 0.3878011833223188\n",
       " 0.14418560847866826\n",
       " 0.7073606317999145\n",
       " 0.7778078727849957\n",
       " 0.4237939531906843\n",
       " 0.6338372262710954\n",
       " 0.895022579244341\n",
       " 0.5575611657837309\n",
       " ⋮\n",
       " 0.8948534704183403\n",
       " 0.7375165156301247\n",
       " 0.14150303031921163\n",
       " 0.5675154855737945\n",
       " 0.5355601658578863\n",
       " 0.4032405072259701\n",
       " 0.3379997002480392\n",
       " 0.6981598260127209\n",
       " 0.38476190021028295\n",
       " 0.3702881660395127\n",
       " 0.0028126435904065827\n",
       " 0.9251604427519841"
      ]
     },
     "execution_count": 6,
     "metadata": {},
     "output_type": "execute_result"
    }
   ],
   "source": [
    "# z uzyciem zoptymalizowanego operatora \"\\\"\n",
    "x_slash = A \\ b"
   ]
  },
  {
   "cell_type": "code",
   "execution_count": 7,
   "id": "leading-apache",
   "metadata": {},
   "outputs": [
    {
     "data": {
      "text/plain": [
       "1000-element Array{Float64,1}:\n",
       " 0.31883684745257435\n",
       " 0.9608420659178042\n",
       " 0.16375997561672814\n",
       " 0.051356745360656805\n",
       " 0.2978122643145239\n",
       " 0.3878011833223188\n",
       " 0.14418560847866826\n",
       " 0.7073606317999145\n",
       " 0.7778078727849957\n",
       " 0.4237939531906843\n",
       " 0.6338372262710954\n",
       " 0.895022579244341\n",
       " 0.5575611657837309\n",
       " ⋮\n",
       " 0.8948534704183403\n",
       " 0.7375165156301247\n",
       " 0.14150303031921163\n",
       " 0.5675154855737945\n",
       " 0.5355601658578863\n",
       " 0.4032405072259701\n",
       " 0.3379997002480392\n",
       " 0.6981598260127209\n",
       " 0.38476190021028295\n",
       " 0.3702881660395127\n",
       " 0.0028126435904065827\n",
       " 0.9251604427519841"
      ]
     },
     "execution_count": 7,
     "metadata": {},
     "output_type": "execute_result"
    }
   ],
   "source": [
    "# faktoryzacja LU\n",
    "A = factorize(A)\n",
    "x_lu = A \\ b"
   ]
  },
  {
   "cell_type": "code",
   "execution_count": 8,
   "id": "clinical-details",
   "metadata": {},
   "outputs": [
    {
     "data": {
      "text/plain": [
       "get_quality (generic function with 1 method)"
      ]
     },
     "execution_count": 8,
     "metadata": {},
     "output_type": "execute_result"
    }
   ],
   "source": [
    "function get_quality(x)\n",
    "    diff = x - x_original\n",
    "    return sqrt(dot(diff, diff))\n",
    "end"
   ]
  },
  {
   "cell_type": "code",
   "execution_count": 9,
   "id": "christian-title",
   "metadata": {},
   "outputs": [
    {
     "name": "stdout",
     "output_type": "stream",
     "text": [
      "inv()     time: 0.036499670000000005\n",
      "\\         time: 0.022906569999999998\n",
      "factorize time: 0.014048229999999998\n",
      "-----------------------------------------\n",
      "inv()     quality: 3.915693796605548e-11\n",
      "\\         quality: 2.990167592860418e-11\n",
      "factorize quality: 2.990167592860418e-11\n"
     ]
    }
   ],
   "source": [
    "# initializing\n",
    "A = rand(1000, 1000)\n",
    "x_original = rand(1000)\n",
    "b = A * x_original\n",
    "\n",
    "# first compilation\n",
    "inv(A) * b\n",
    "A \\ b\n",
    "Af = factorize(A)\n",
    "Af \\ b\n",
    "\n",
    "iters = 10\n",
    "t_inv = 0\n",
    "t_slash = 0\n",
    "t_lu = 0\n",
    "\n",
    "for t in 1:iters\n",
    "    t_inv += @elapsed x_inv = inv(A) * b\n",
    "    t_slash += @elapsed x_slash = A \\ b\n",
    "    t_lu += @elapsed Af = factorize(A); x_lu = Af \\ b\n",
    "end\n",
    "\n",
    "# average time\n",
    "t_inv /= iters\n",
    "t_slash /= iters\n",
    "t_lu /= iters\n",
    "println(\"inv()     time: \", t_inv)\n",
    "println(\"\\\\         time: \", t_slash)\n",
    "println(\"factorize time: \", t_lu)\n",
    "\n",
    "println(\"-----------------------------------------\")\n",
    "\n",
    "q_inv = get_quality(x_inv)\n",
    "q_slash = get_quality(x_slash)\n",
    "q_lu = get_quality(x_lu)\n",
    "println(\"inv()     quality: \", q_inv)\n",
    "println(\"\\\\         quality: \", q_slash)\n",
    "println(\"factorize quality: \", q_lu)\n"
   ]
  },
  {
   "cell_type": "markdown",
   "id": "intelligent-courtesy",
   "metadata": {},
   "source": [
    "#### Zadanie 2 (1pkt)\n",
    "Policz współczynniki wielomianu aproksymującego dowolne dane z poprzednich laboratoriów tworząc wprost układ równań i rozwiązujac go (metoda z użyciem faktoryzacji QR zaprezentowana na tym laboratorium).\n",
    "Porównaj wyniki z tymi otrzymanymi poprzednio.\n",
    "\n"
   ]
  },
  {
   "cell_type": "code",
   "execution_count": 10,
   "id": "compressed-thong",
   "metadata": {},
   "outputs": [],
   "source": [
    "using CSV\n",
    "using DataFrames\n",
    "using Statistics"
   ]
  },
  {
   "cell_type": "code",
   "execution_count": 11,
   "id": "exterior-wonder",
   "metadata": {},
   "outputs": [
    {
     "data": {
      "text/html": [
       "<table class=\"data-frame\"><thead><tr><th></th><th>SIZE</th><th>mean_time</th></tr><tr><th></th><th>Int64</th><th>Float64</th></tr></thead><tbody><p>10 rows × 2 columns</p><tr><th>1</th><td>500</td><td>0.00452073</td></tr><tr><th>2</th><td>1000</td><td>0.0131747</td></tr><tr><th>3</th><td>1500</td><td>0.0285138</td></tr><tr><th>4</th><td>2000</td><td>0.063156</td></tr><tr><th>5</th><td>2500</td><td>0.140981</td></tr><tr><th>6</th><td>3000</td><td>0.255901</td></tr><tr><th>7</th><td>3500</td><td>0.357966</td></tr><tr><th>8</th><td>4000</td><td>0.531104</td></tr><tr><th>9</th><td>4500</td><td>0.640824</td></tr><tr><th>10</th><td>5000</td><td>0.798477</td></tr></tbody></table>"
      ],
      "text/latex": [
       "\\begin{tabular}{r|cc}\n",
       "\t& SIZE & mean\\_time\\\\\n",
       "\t\\hline\n",
       "\t& Int64 & Float64\\\\\n",
       "\t\\hline\n",
       "\t1 & 500 & 0.00452073 \\\\\n",
       "\t2 & 1000 & 0.0131747 \\\\\n",
       "\t3 & 1500 & 0.0285138 \\\\\n",
       "\t4 & 2000 & 0.063156 \\\\\n",
       "\t5 & 2500 & 0.140981 \\\\\n",
       "\t6 & 3000 & 0.255901 \\\\\n",
       "\t7 & 3500 & 0.357966 \\\\\n",
       "\t8 & 4000 & 0.531104 \\\\\n",
       "\t9 & 4500 & 0.640824 \\\\\n",
       "\t10 & 5000 & 0.798477 \\\\\n",
       "\\end{tabular}\n"
      ],
      "text/plain": [
       "\u001b[1m10×2 DataFrame\u001b[0m\n",
       "\u001b[1m Row \u001b[0m│\u001b[1m SIZE  \u001b[0m\u001b[1m mean_time  \u001b[0m\n",
       "\u001b[1m     \u001b[0m│\u001b[90m Int64 \u001b[0m\u001b[90m Float64    \u001b[0m\n",
       "─────┼───────────────────\n",
       "   1 │   500  0.00452073\n",
       "   2 │  1000  0.0131747\n",
       "   3 │  1500  0.0285138\n",
       "   4 │  2000  0.063156\n",
       "   5 │  2500  0.140981\n",
       "   6 │  3000  0.255901\n",
       "   7 │  3500  0.357966\n",
       "   8 │  4000  0.531104\n",
       "   9 │  4500  0.640824\n",
       "  10 │  5000  0.798477"
      ]
     },
     "execution_count": 11,
     "metadata": {},
     "output_type": "execute_result"
    }
   ],
   "source": [
    "time_df = CSV.read(\"multiplying_time.csv\", DataFrame)\n",
    "# getting matrix vector multiplication results\n",
    "mv_frame =  filter(row -> row.TYPE in [\"MV\"], time_df)\n",
    "mv_size_grouped = groupby(mv_frame, :SIZE)\n",
    "mv_avrg = combine(mv_size_grouped, :TIME => mean => :mean_time)"
   ]
  },
  {
   "cell_type": "code",
   "execution_count": 13,
   "id": "acceptable-rebound",
   "metadata": {},
   "outputs": [
    {
     "data": {
      "text/html": [
       "0.008035857166666608 &#45; 4.384724595454542e-5&#8729;x &#43; 4.114347378787879e-8&#8729;x<sup>2</sup>"
      ],
      "text/latex": [
       "$0.008035857166666608 - 4.384724595454542e-5\\cdot x + 4.114347378787879e-8\\cdot x^{2}$"
      ],
      "text/plain": [
       "Polynomial(0.008035857166666608 - 4.384724595454542e-5*x + 4.114347378787879e-8*x^2)"
      ]
     },
     "execution_count": 13,
     "metadata": {},
     "output_type": "execute_result"
    }
   ],
   "source": [
    "using Polynomials\n",
    "x = mv_avrg[!, :SIZE]\n",
    "y = mv_avrg[!, :mean_time]"
   ]
  },
  {
   "cell_type": "code",
   "execution_count": 17,
   "id": "appointed-producer",
   "metadata": {},
   "outputs": [
    {
     "data": {
      "text/plain": [
       "10-element Array{Float64,1}:\n",
       " 1.0\n",
       " 1.0\n",
       " 1.0\n",
       " 1.0\n",
       " 1.0\n",
       " 1.0\n",
       " 1.0\n",
       " 1.0\n",
       " 1.0\n",
       " 1.0"
      ]
     },
     "execution_count": 17,
     "metadata": {},
     "output_type": "execute_result"
    }
   ],
   "source": [
    "A = zeros(length(x), 3)\n",
    "A[:,1] = x.^2\n",
    "A[:,2] = x\n",
    "A[:,3] = ones(length(x))"
   ]
  },
  {
   "cell_type": "code",
   "execution_count": 20,
   "id": "retired-chassis",
   "metadata": {},
   "outputs": [
    {
     "data": {
      "text/plain": [
       "3-element Array{Float64,1}:\n",
       "  4.1143473787878716e-8\n",
       " -4.384724595454507e-5\n",
       "  0.008035857166666141"
      ]
     },
     "execution_count": 20,
     "metadata": {},
     "output_type": "execute_result"
    }
   ],
   "source": [
    "res = A \\ y"
   ]
  },
  {
   "cell_type": "code",
   "execution_count": 21,
   "id": "entire-palestinian",
   "metadata": {},
   "outputs": [
    {
     "data": {
      "text/html": [
       "0.008035857166666608 &#45; 4.384724595454542e-5&#8729;x &#43; 4.114347378787879e-8&#8729;x<sup>2</sup>"
      ],
      "text/latex": [
       "$0.008035857166666608 - 4.384724595454542e-5\\cdot x + 4.114347378787879e-8\\cdot x^{2}$"
      ],
      "text/plain": [
       "Polynomial(0.008035857166666608 - 4.384724595454542e-5*x + 4.114347378787879e-8*x^2)"
      ]
     },
     "execution_count": 21,
     "metadata": {},
     "output_type": "execute_result"
    }
   ],
   "source": [
    "fit(x, y, 2)"
   ]
  },
  {
   "cell_type": "markdown",
   "id": "placed-young",
   "metadata": {},
   "source": [
    "Jak widzimy współczynniki wyliczone wprost tworząc układ równań są niemal identyczne z wynikami otrzymanymi za pomocą funkcji fit()"
   ]
  },
  {
   "cell_type": "code",
   "execution_count": null,
   "id": "interior-reunion",
   "metadata": {},
   "outputs": [],
   "source": []
  }
 ],
 "metadata": {
  "kernelspec": {
   "display_name": "Julia 1.5.3",
   "language": "julia",
   "name": "julia-1.5"
  },
  "language_info": {
   "file_extension": ".jl",
   "mimetype": "application/julia",
   "name": "julia",
   "version": "1.5.3"
  }
 },
 "nbformat": 4,
 "nbformat_minor": 5
}
