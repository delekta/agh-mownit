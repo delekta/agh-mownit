{
 "cells": [
  {
   "cell_type": "markdown",
   "id": "straight-referral",
   "metadata": {},
   "source": [
    "### Napisać program w języku Julia do obliczania iloczynu skalarnego wektorów i mnożenia macierzy kwadratowej przez wektor z użyicem operatora \"*\" "
   ]
  },
  {
   "cell_type": "markdown",
   "id": "cardiac-ceremony",
   "metadata": {},
   "source": [
    "#### Funkcja do liczenia iloczynu skalarnego wektorów"
   ]
  },
  {
   "cell_type": "code",
   "execution_count": 130,
   "id": "weighted-works",
   "metadata": {},
   "outputs": [
    {
     "data": {
      "text/plain": [
       "_dot (generic function with 1 method)"
      ]
     },
     "execution_count": 130,
     "metadata": {},
     "output_type": "execute_result"
    }
   ],
   "source": [
    "function _dot(A, B)\n",
    "    _sum = 0\n",
    "    for i in eachindex(A)\n",
    "        _sum = _sum + A[i] * B[i]\n",
    "    end\n",
    "    return _sum\n",
    "end"
   ]
  },
  {
   "cell_type": "markdown",
   "id": "armed-faculty",
   "metadata": {},
   "source": [
    "#### Sprawdzenie poprawności dzialania funkcji"
   ]
  },
  {
   "cell_type": "code",
   "execution_count": 131,
   "id": "numeric-destruction",
   "metadata": {},
   "outputs": [
    {
     "data": {
      "text/plain": [
       "0 + 2im"
      ]
     },
     "execution_count": 131,
     "metadata": {},
     "output_type": "execute_result"
    }
   ],
   "source": [
    "_dot([im, im], [1, 1])"
   ]
  },
  {
   "cell_type": "code",
   "execution_count": 132,
   "id": "capital-double",
   "metadata": {},
   "outputs": [
    {
     "data": {
      "text/plain": [
       "70"
      ]
     },
     "execution_count": 132,
     "metadata": {},
     "output_type": "execute_result"
    }
   ],
   "source": [
    "_dot(1:5, 2:6)"
   ]
  },
  {
   "cell_type": "code",
   "execution_count": 133,
   "id": "regional-signal",
   "metadata": {},
   "outputs": [
    {
     "data": {
      "text/plain": [
       "25"
      ]
     },
     "execution_count": 133,
     "metadata": {},
     "output_type": "execute_result"
    }
   ],
   "source": [
    "_dot([2, 7], [2, 3])"
   ]
  },
  {
   "cell_type": "code",
   "execution_count": 134,
   "id": "arctic-health",
   "metadata": {},
   "outputs": [
    {
     "ename": "LoadError",
     "evalue": "\u001b[91mMethodError: no method matching _dot()\u001b[39m\n\u001b[91m\u001b[0mClosest candidates are:\u001b[39m\n\u001b[91m\u001b[0m  _dot(\u001b[91m::Any\u001b[39m, \u001b[91m::Any\u001b[39m) at In[130]:1\u001b[39m",
     "output_type": "error",
     "traceback": [
      "\u001b[91mMethodError: no method matching _dot()\u001b[39m\n\u001b[91m\u001b[0mClosest candidates are:\u001b[39m\n\u001b[91m\u001b[0m  _dot(\u001b[91m::Any\u001b[39m, \u001b[91m::Any\u001b[39m) at In[130]:1\u001b[39m",
      "",
      "Stacktrace:",
      " [1] top-level scope at In[134]:1",
      " [2] include_string(::Function, ::Module, ::String, ::String) at ./loading.jl:1091"
     ]
    }
   ],
   "source": [
    "_dot()"
   ]
  },
  {
   "cell_type": "markdown",
   "id": "suitable-oxford",
   "metadata": {},
   "source": [
    "#### Funkcja do mnożenia macierzy kwadratowej przez wektor"
   ]
  },
  {
   "cell_type": "code",
   "execution_count": 135,
   "id": "anonymous-relation",
   "metadata": {},
   "outputs": [
    {
     "data": {
      "text/plain": [
       "matrix_vector_mul (generic function with 1 method)"
      ]
     },
     "execution_count": 135,
     "metadata": {},
     "output_type": "execute_result"
    }
   ],
   "source": [
    "function matrix_vector_mul(M, V)\n",
    "    res = Int32[]\n",
    "    for i in eachindex(V)\n",
    "        # i-th row in M matrix\n",
    "        push!(res, _dot(M[i, :], V))\n",
    "    end\n",
    "    return res\n",
    "end"
   ]
  },
  {
   "cell_type": "markdown",
   "id": "varying-dynamics",
   "metadata": {},
   "source": [
    "#### Sprawdzenie dzialania funkji"
   ]
  },
  {
   "cell_type": "code",
   "execution_count": 136,
   "id": "patient-tunisia",
   "metadata": {},
   "outputs": [
    {
     "data": {
      "text/plain": [
       "2-element Array{Int32,1}:\n",
       " 15\n",
       " 31"
      ]
     },
     "execution_count": 136,
     "metadata": {},
     "output_type": "execute_result"
    }
   ],
   "source": [
    "matrix = [1 2; 3 4]\n",
    "vector = [1 7]\n",
    "matrix_vector_mul(matrix, vector)"
   ]
  },
  {
   "cell_type": "code",
   "execution_count": 137,
   "id": "boolean-edwards",
   "metadata": {},
   "outputs": [
    {
     "data": {
      "text/plain": [
       "2-element Array{Int32,1}:\n",
       " 23\n",
       " 37"
      ]
     },
     "execution_count": 137,
     "metadata": {},
     "output_type": "execute_result"
    }
   ],
   "source": [
    "matrix = [3 2; 3 4]\n",
    "vector = [3 7]\n",
    "matrix_vector_mul(matrix, vector)"
   ]
  },
  {
   "cell_type": "markdown",
   "id": "biological-essay",
   "metadata": {},
   "source": [
    "### Mierzenie czasów działania funkcji"
   ]
  },
  {
   "cell_type": "code",
   "execution_count": 138,
   "id": "empirical-dressing",
   "metadata": {},
   "outputs": [
    {
     "name": "stderr",
     "output_type": "stream",
     "text": [
      "\u001b[32m\u001b[1m  Resolving\u001b[22m\u001b[39m package versions...\n",
      "\u001b[32m\u001b[1mNo Changes\u001b[22m\u001b[39m to `/opt/julia/environments/v1.5/Project.toml`\n",
      "\u001b[32m\u001b[1mNo Changes\u001b[22m\u001b[39m to `/opt/julia/environments/v1.5/Manifest.toml`\n"
     ]
    }
   ],
   "source": [
    "import Pkg; Pkg.add(\"BenchmarkTools\")\n",
    "using BenchmarkTools"
   ]
  },
  {
   "cell_type": "code",
   "execution_count": 139,
   "id": "younger-chart",
   "metadata": {},
   "outputs": [
    {
     "name": "stdout",
     "output_type": "stream",
     "text": [
      "  112.054 ns (4 allocations: 304 bytes)\n"
     ]
    },
    {
     "data": {
      "text/plain": [
       "2-element Array{Int32,1}:\n",
       " 23\n",
       " 37"
      ]
     },
     "execution_count": 139,
     "metadata": {},
     "output_type": "execute_result"
    }
   ],
   "source": [
    "@btime matrix_vector_mul(matrix, vector)"
   ]
  },
  {
   "cell_type": "markdown",
   "id": "legislative-guide",
   "metadata": {},
   "source": [
    "#### Mierzenie czasów obu funkcji"
   ]
  },
  {
   "cell_type": "markdown",
   "id": "elegant-selection",
   "metadata": {},
   "source": [
    "#### @elapsed - macro to evaluate an expression, discarding the resulting value, instead returning the number of seconds it took to execute as a floating-point number | That's what I needed!"
   ]
  },
  {
   "cell_type": "code",
   "execution_count": 140,
   "id": "single-canvas",
   "metadata": {},
   "outputs": [
    {
     "data": {
      "text/plain": [
       "10×10 Array{Float64,2}:\n",
       " 3.01e-5  2.72e-5  3.69e-5    4.64e-5    …  8.88e-5    8.34e-5    8.75e-5\n",
       " 2.11e-5  2.68e-5  3.97e-5    4.43e-5       0.0001329  8.35e-5    8.72e-5\n",
       " 2.02e-5  2.92e-5  3.58e-5    4.43e-5       7.35e-5    8.21e-5    8.54e-5\n",
       " 1.92e-5  2.72e-5  3.79e-5    4.53e-5       7.16e-5    0.0001574  8.74e-5\n",
       " 1.85e-5  2.7e-5   3.61e-5    0.0001055     0.000134   8.23e-5    8.72e-5\n",
       " 2.03e-5  2.74e-5  3.87e-5    4.29e-5    …  7.65e-5    8.06e-5    8.81e-5\n",
       " 1.79e-5  2.82e-5  0.0001067  4.41e-5       7.94e-5    8.03e-5    9.52e-5\n",
       " 1.8e-5   2.95e-5  3.68e-5    4.38e-5       0.0001345  8.32e-5    9.25e-5\n",
       " 1.84e-5  2.72e-5  3.66e-5    4.75e-5       7.5e-5     8.02e-5    8.82e-5\n",
       " 1.7e-5   2.63e-5  3.62e-5    0.0001048     7.44e-5    8.01e-5    8.73e-5"
      ]
     },
     "execution_count": 140,
     "metadata": {},
     "output_type": "execute_result"
    }
   ],
   "source": [
    "dot_times = Array{Float64}(undef, 10, 10)\n",
    "matrix_vector_times = Array{Float64}(undef, 10, 10)\n",
    "for _size in 500:500:5000\n",
    "    for i = 1:10\n",
    "        dot_times[i, convert(Int64, _size / 500)]  = @elapsed (_dot(rand(1:100, 1, _size), rand(1:100, 1, _size)))\n",
    "        matrix_vector_times[i, convert(Int64, _size / 500)] =  @elapsed (matrix_vector_mul(rand(1:100, _size, _size), rand(1:100, 1, _size)))\n",
    "    end\n",
    "end\n",
    "dot_times"
   ]
  },
  {
   "cell_type": "code",
   "execution_count": 141,
   "id": "revolutionary-raise",
   "metadata": {},
   "outputs": [
    {
     "data": {
      "text/plain": [
       "10-element Array{Float64,1}:\n",
       " 3.01e-5\n",
       " 2.72e-5\n",
       " 3.69e-5\n",
       " 4.64e-5\n",
       " 5.62e-5\n",
       " 6.46e-5\n",
       " 8.85e-5\n",
       " 8.88e-5\n",
       " 8.34e-5\n",
       " 8.75e-5"
      ]
     },
     "execution_count": 141,
     "metadata": {},
     "output_type": "execute_result"
    }
   ],
   "source": [
    "dot_times[1, :]"
   ]
  },
  {
   "cell_type": "code",
   "execution_count": 142,
   "id": "iraqi-ordinary",
   "metadata": {},
   "outputs": [
    {
     "data": {
      "text/plain": [
       "10×10 Array{Float64,2}:\n",
       " 0.0028684  0.010598   0.0345509  0.0636815  …  0.42824   0.566698  0.714218\n",
       " 0.0026309  0.0106548  0.0239162  0.0668187     0.625202  0.573214  0.737456\n",
       " 0.0026129  0.0190971  0.0347241  0.0708896     0.571743  0.571967  0.744505\n",
       " 0.0026468  0.010544   0.0241457  0.0724961     0.438724  0.568908  0.748862\n",
       " 0.0140598  0.0107106  0.0298836  0.0734523     0.436265  0.563958  0.739279\n",
       " 0.0028346  0.0105869  0.0241409  0.0652263  …  0.430044  0.569204  0.742862\n",
       " 0.0026927  0.018559   0.0295304  0.0705433     0.434347  0.569685  0.743343\n",
       " 0.0026188  0.010535   0.0238799  0.0753712     0.436539  0.569585  0.752463\n",
       " 0.0027263  0.0103642  0.0299408  0.0709973     0.433026  0.570914  0.746837\n",
       " 0.0025487  0.0103121  0.0242568  0.0716656     0.436887  0.565404  0.744447"
      ]
     },
     "execution_count": 142,
     "metadata": {},
     "output_type": "execute_result"
    }
   ],
   "source": [
    "matrix_vector_times"
   ]
  },
  {
   "cell_type": "code",
   "execution_count": 143,
   "id": "preceding-designer",
   "metadata": {},
   "outputs": [
    {
     "name": "stderr",
     "output_type": "stream",
     "text": [
      "\u001b[32m\u001b[1m  Resolving\u001b[22m\u001b[39m package versions...\n",
      "\u001b[32m\u001b[1mNo Changes\u001b[22m\u001b[39m to `/opt/julia/environments/v1.5/Project.toml`\n",
      "\u001b[32m\u001b[1mNo Changes\u001b[22m\u001b[39m to `/opt/julia/environments/v1.5/Manifest.toml`\n"
     ]
    }
   ],
   "source": [
    "Pkg.add(\"DataFrames\")\n",
    "using DataFrames"
   ]
  },
  {
   "cell_type": "code",
   "execution_count": 144,
   "id": "useful-management",
   "metadata": {},
   "outputs": [
    {
     "data": {
      "text/plain": [
       "100-element Array{Int64,1}:\n",
       "  500\n",
       " 1000\n",
       " 1500\n",
       " 2000\n",
       " 2500\n",
       " 3000\n",
       " 3500\n",
       " 4000\n",
       " 4500\n",
       " 5000\n",
       "  500\n",
       " 1000\n",
       " 1500\n",
       "    ⋮\n",
       " 4500\n",
       " 5000\n",
       "  500\n",
       " 1000\n",
       " 1500\n",
       " 2000\n",
       " 2500\n",
       " 3000\n",
       " 3500\n",
       " 4000\n",
       " 4500\n",
       " 5000"
      ]
     },
     "execution_count": 144,
     "metadata": {},
     "output_type": "execute_result"
    }
   ],
   "source": [
    "### create one_dimensional arrays\n",
    "_dt = Float64[]\n",
    "_mv = Float64[]\n",
    "_sizes = Int64[]\n",
    "for i = 1:10\n",
    "    for j = 1:10\n",
    "        push!(_dt, dot_times[i, j])\n",
    "        push!(_mv, matrix_vector_times[i, j])\n",
    "        push!(_sizes, j * 500)\n",
    "    end\n",
    "end\n",
    "_sizes"
   ]
  },
  {
   "cell_type": "code",
   "execution_count": 145,
   "id": "funky-victim",
   "metadata": {},
   "outputs": [
    {
     "data": {
      "text/html": [
       "<table class=\"data-frame\"><thead><tr><th></th><th>TYPE</th><th>SIZE</th><th>TIME</th></tr><tr><th></th><th>String</th><th>Int64</th><th>Float64</th></tr></thead><tbody><p>100 rows × 3 columns</p><tr><th>1</th><td>D</td><td>500</td><td>3.01e-5</td></tr><tr><th>2</th><td>D</td><td>1000</td><td>2.72e-5</td></tr><tr><th>3</th><td>D</td><td>1500</td><td>3.69e-5</td></tr><tr><th>4</th><td>D</td><td>2000</td><td>4.64e-5</td></tr><tr><th>5</th><td>D</td><td>2500</td><td>5.62e-5</td></tr><tr><th>6</th><td>D</td><td>3000</td><td>6.46e-5</td></tr><tr><th>7</th><td>D</td><td>3500</td><td>8.85e-5</td></tr><tr><th>8</th><td>D</td><td>4000</td><td>8.88e-5</td></tr><tr><th>9</th><td>D</td><td>4500</td><td>8.34e-5</td></tr><tr><th>10</th><td>D</td><td>5000</td><td>8.75e-5</td></tr><tr><th>11</th><td>D</td><td>500</td><td>2.11e-5</td></tr><tr><th>12</th><td>D</td><td>1000</td><td>2.68e-5</td></tr><tr><th>13</th><td>D</td><td>1500</td><td>3.97e-5</td></tr><tr><th>14</th><td>D</td><td>2000</td><td>4.43e-5</td></tr><tr><th>15</th><td>D</td><td>2500</td><td>5.42e-5</td></tr><tr><th>16</th><td>D</td><td>3000</td><td>7.4e-5</td></tr><tr><th>17</th><td>D</td><td>3500</td><td>0.000108</td></tr><tr><th>18</th><td>D</td><td>4000</td><td>0.0001329</td></tr><tr><th>19</th><td>D</td><td>4500</td><td>8.35e-5</td></tr><tr><th>20</th><td>D</td><td>5000</td><td>8.72e-5</td></tr><tr><th>21</th><td>D</td><td>500</td><td>2.02e-5</td></tr><tr><th>22</th><td>D</td><td>1000</td><td>2.92e-5</td></tr><tr><th>23</th><td>D</td><td>1500</td><td>3.58e-5</td></tr><tr><th>24</th><td>D</td><td>2000</td><td>4.43e-5</td></tr><tr><th>25</th><td>D</td><td>2500</td><td>5.11e-5</td></tr><tr><th>26</th><td>D</td><td>3000</td><td>5.82e-5</td></tr><tr><th>27</th><td>D</td><td>3500</td><td>8.17e-5</td></tr><tr><th>28</th><td>D</td><td>4000</td><td>7.35e-5</td></tr><tr><th>29</th><td>D</td><td>4500</td><td>8.21e-5</td></tr><tr><th>30</th><td>D</td><td>5000</td><td>8.54e-5</td></tr><tr><th>&vellip;</th><td>&vellip;</td><td>&vellip;</td><td>&vellip;</td></tr></tbody></table>"
      ],
      "text/latex": [
       "\\begin{tabular}{r|ccc}\n",
       "\t& TYPE & SIZE & TIME\\\\\n",
       "\t\\hline\n",
       "\t& String & Int64 & Float64\\\\\n",
       "\t\\hline\n",
       "\t1 & D & 500 & 3.01e-5 \\\\\n",
       "\t2 & D & 1000 & 2.72e-5 \\\\\n",
       "\t3 & D & 1500 & 3.69e-5 \\\\\n",
       "\t4 & D & 2000 & 4.64e-5 \\\\\n",
       "\t5 & D & 2500 & 5.62e-5 \\\\\n",
       "\t6 & D & 3000 & 6.46e-5 \\\\\n",
       "\t7 & D & 3500 & 8.85e-5 \\\\\n",
       "\t8 & D & 4000 & 8.88e-5 \\\\\n",
       "\t9 & D & 4500 & 8.34e-5 \\\\\n",
       "\t10 & D & 5000 & 8.75e-5 \\\\\n",
       "\t11 & D & 500 & 2.11e-5 \\\\\n",
       "\t12 & D & 1000 & 2.68e-5 \\\\\n",
       "\t13 & D & 1500 & 3.97e-5 \\\\\n",
       "\t14 & D & 2000 & 4.43e-5 \\\\\n",
       "\t15 & D & 2500 & 5.42e-5 \\\\\n",
       "\t16 & D & 3000 & 7.4e-5 \\\\\n",
       "\t17 & D & 3500 & 0.000108 \\\\\n",
       "\t18 & D & 4000 & 0.0001329 \\\\\n",
       "\t19 & D & 4500 & 8.35e-5 \\\\\n",
       "\t20 & D & 5000 & 8.72e-5 \\\\\n",
       "\t21 & D & 500 & 2.02e-5 \\\\\n",
       "\t22 & D & 1000 & 2.92e-5 \\\\\n",
       "\t23 & D & 1500 & 3.58e-5 \\\\\n",
       "\t24 & D & 2000 & 4.43e-5 \\\\\n",
       "\t25 & D & 2500 & 5.11e-5 \\\\\n",
       "\t26 & D & 3000 & 5.82e-5 \\\\\n",
       "\t27 & D & 3500 & 8.17e-5 \\\\\n",
       "\t28 & D & 4000 & 7.35e-5 \\\\\n",
       "\t29 & D & 4500 & 8.21e-5 \\\\\n",
       "\t30 & D & 5000 & 8.54e-5 \\\\\n",
       "\t$\\dots$ & $\\dots$ & $\\dots$ & $\\dots$ \\\\\n",
       "\\end{tabular}\n"
      ],
      "text/plain": [
       "\u001b[1m100×3 DataFrame\u001b[0m\n",
       "\u001b[1m Row \u001b[0m│\u001b[1m TYPE   \u001b[0m\u001b[1m SIZE  \u001b[0m\u001b[1m TIME      \u001b[0m\n",
       "\u001b[1m     \u001b[0m│\u001b[90m String \u001b[0m\u001b[90m Int64 \u001b[0m\u001b[90m Float64   \u001b[0m\n",
       "─────┼──────────────────────────\n",
       "   1 │ D         500  3.01e-5\n",
       "   2 │ D        1000  2.72e-5\n",
       "   3 │ D        1500  3.69e-5\n",
       "   4 │ D        2000  4.64e-5\n",
       "   5 │ D        2500  5.62e-5\n",
       "   6 │ D        3000  6.46e-5\n",
       "   7 │ D        3500  8.85e-5\n",
       "   8 │ D        4000  8.88e-5\n",
       "   9 │ D        4500  8.34e-5\n",
       "  10 │ D        5000  8.75e-5\n",
       "  11 │ D         500  2.11e-5\n",
       "  ⋮  │   ⋮       ⋮        ⋮\n",
       "  91 │ D         500  1.7e-5\n",
       "  92 │ D        1000  2.63e-5\n",
       "  93 │ D        1500  3.62e-5\n",
       "  94 │ D        2000  0.0001048\n",
       "  95 │ D        2500  5.51e-5\n",
       "  96 │ D        3000  5.92e-5\n",
       "  97 │ D        3500  0.0001297\n",
       "  98 │ D        4000  7.44e-5\n",
       "  99 │ D        4500  8.01e-5\n",
       " 100 │ D        5000  8.73e-5\n",
       "\u001b[36m                 79 rows omitted\u001b[0m"
      ]
     },
     "execution_count": 145,
     "metadata": {},
     "output_type": "execute_result"
    }
   ],
   "source": [
    "dot_frame = DataFrame(TYPE = [\"D\" for i in 1: 100], \n",
    "               SIZE = _sizes,\n",
    "               TIME = _dt\n",
    "               ) "
   ]
  },
  {
   "cell_type": "code",
   "execution_count": 146,
   "id": "located-position",
   "metadata": {},
   "outputs": [
    {
     "data": {
      "text/html": [
       "<table class=\"data-frame\"><thead><tr><th></th><th>TYPE</th><th>SIZE</th><th>TIME</th></tr><tr><th></th><th>String</th><th>Int64</th><th>Float64</th></tr></thead><tbody><p>100 rows × 3 columns</p><tr><th>1</th><td>MV</td><td>500</td><td>0.0028684</td></tr><tr><th>2</th><td>MV</td><td>1000</td><td>0.010598</td></tr><tr><th>3</th><td>MV</td><td>1500</td><td>0.0345509</td></tr><tr><th>4</th><td>MV</td><td>2000</td><td>0.0636815</td></tr><tr><th>5</th><td>MV</td><td>2500</td><td>0.122888</td></tr><tr><th>6</th><td>MV</td><td>3000</td><td>0.230507</td></tr><tr><th>7</th><td>MV</td><td>3500</td><td>0.33831</td></tr><tr><th>8</th><td>MV</td><td>4000</td><td>0.42824</td></tr><tr><th>9</th><td>MV</td><td>4500</td><td>0.566698</td></tr><tr><th>10</th><td>MV</td><td>5000</td><td>0.714218</td></tr><tr><th>11</th><td>MV</td><td>500</td><td>0.0026309</td></tr><tr><th>12</th><td>MV</td><td>1000</td><td>0.0106548</td></tr><tr><th>13</th><td>MV</td><td>1500</td><td>0.0239162</td></tr><tr><th>14</th><td>MV</td><td>2000</td><td>0.0668187</td></tr><tr><th>15</th><td>MV</td><td>2500</td><td>0.14371</td></tr><tr><th>16</th><td>MV</td><td>3000</td><td>0.229395</td></tr><tr><th>17</th><td>MV</td><td>3500</td><td>0.323895</td></tr><tr><th>18</th><td>MV</td><td>4000</td><td>0.625202</td></tr><tr><th>19</th><td>MV</td><td>4500</td><td>0.573214</td></tr><tr><th>20</th><td>MV</td><td>5000</td><td>0.737456</td></tr><tr><th>21</th><td>MV</td><td>500</td><td>0.0026129</td></tr><tr><th>22</th><td>MV</td><td>1000</td><td>0.0190971</td></tr><tr><th>23</th><td>MV</td><td>1500</td><td>0.0347241</td></tr><tr><th>24</th><td>MV</td><td>2000</td><td>0.0708896</td></tr><tr><th>25</th><td>MV</td><td>2500</td><td>0.141098</td></tr><tr><th>26</th><td>MV</td><td>3000</td><td>0.227852</td></tr><tr><th>27</th><td>MV</td><td>3500</td><td>0.327346</td></tr><tr><th>28</th><td>MV</td><td>4000</td><td>0.571743</td></tr><tr><th>29</th><td>MV</td><td>4500</td><td>0.571967</td></tr><tr><th>30</th><td>MV</td><td>5000</td><td>0.744505</td></tr><tr><th>&vellip;</th><td>&vellip;</td><td>&vellip;</td><td>&vellip;</td></tr></tbody></table>"
      ],
      "text/latex": [
       "\\begin{tabular}{r|ccc}\n",
       "\t& TYPE & SIZE & TIME\\\\\n",
       "\t\\hline\n",
       "\t& String & Int64 & Float64\\\\\n",
       "\t\\hline\n",
       "\t1 & MV & 500 & 0.0028684 \\\\\n",
       "\t2 & MV & 1000 & 0.010598 \\\\\n",
       "\t3 & MV & 1500 & 0.0345509 \\\\\n",
       "\t4 & MV & 2000 & 0.0636815 \\\\\n",
       "\t5 & MV & 2500 & 0.122888 \\\\\n",
       "\t6 & MV & 3000 & 0.230507 \\\\\n",
       "\t7 & MV & 3500 & 0.33831 \\\\\n",
       "\t8 & MV & 4000 & 0.42824 \\\\\n",
       "\t9 & MV & 4500 & 0.566698 \\\\\n",
       "\t10 & MV & 5000 & 0.714218 \\\\\n",
       "\t11 & MV & 500 & 0.0026309 \\\\\n",
       "\t12 & MV & 1000 & 0.0106548 \\\\\n",
       "\t13 & MV & 1500 & 0.0239162 \\\\\n",
       "\t14 & MV & 2000 & 0.0668187 \\\\\n",
       "\t15 & MV & 2500 & 0.14371 \\\\\n",
       "\t16 & MV & 3000 & 0.229395 \\\\\n",
       "\t17 & MV & 3500 & 0.323895 \\\\\n",
       "\t18 & MV & 4000 & 0.625202 \\\\\n",
       "\t19 & MV & 4500 & 0.573214 \\\\\n",
       "\t20 & MV & 5000 & 0.737456 \\\\\n",
       "\t21 & MV & 500 & 0.0026129 \\\\\n",
       "\t22 & MV & 1000 & 0.0190971 \\\\\n",
       "\t23 & MV & 1500 & 0.0347241 \\\\\n",
       "\t24 & MV & 2000 & 0.0708896 \\\\\n",
       "\t25 & MV & 2500 & 0.141098 \\\\\n",
       "\t26 & MV & 3000 & 0.227852 \\\\\n",
       "\t27 & MV & 3500 & 0.327346 \\\\\n",
       "\t28 & MV & 4000 & 0.571743 \\\\\n",
       "\t29 & MV & 4500 & 0.571967 \\\\\n",
       "\t30 & MV & 5000 & 0.744505 \\\\\n",
       "\t$\\dots$ & $\\dots$ & $\\dots$ & $\\dots$ \\\\\n",
       "\\end{tabular}\n"
      ],
      "text/plain": [
       "\u001b[1m100×3 DataFrame\u001b[0m\n",
       "\u001b[1m Row \u001b[0m│\u001b[1m TYPE   \u001b[0m\u001b[1m SIZE  \u001b[0m\u001b[1m TIME      \u001b[0m\n",
       "\u001b[1m     \u001b[0m│\u001b[90m String \u001b[0m\u001b[90m Int64 \u001b[0m\u001b[90m Float64   \u001b[0m\n",
       "─────┼──────────────────────────\n",
       "   1 │ MV        500  0.0028684\n",
       "   2 │ MV       1000  0.010598\n",
       "   3 │ MV       1500  0.0345509\n",
       "   4 │ MV       2000  0.0636815\n",
       "   5 │ MV       2500  0.122888\n",
       "   6 │ MV       3000  0.230507\n",
       "   7 │ MV       3500  0.33831\n",
       "   8 │ MV       4000  0.42824\n",
       "   9 │ MV       4500  0.566698\n",
       "  10 │ MV       5000  0.714218\n",
       "  11 │ MV        500  0.0026309\n",
       "  ⋮  │   ⋮       ⋮        ⋮\n",
       "  91 │ MV        500  0.0025487\n",
       "  92 │ MV       1000  0.0103121\n",
       "  93 │ MV       1500  0.0242568\n",
       "  94 │ MV       2000  0.0716656\n",
       "  95 │ MV       2500  0.1426\n",
       "  96 │ MV       3000  0.227052\n",
       "  97 │ MV       3500  0.327537\n",
       "  98 │ MV       4000  0.436887\n",
       "  99 │ MV       4500  0.565404\n",
       " 100 │ MV       5000  0.744447\n",
       "\u001b[36m                 79 rows omitted\u001b[0m"
      ]
     },
     "execution_count": 146,
     "metadata": {},
     "output_type": "execute_result"
    }
   ],
   "source": [
    "matrix_vector_frame = DataFrame(TYPE = [\"MV\" for i in 1: 100], \n",
    "                                SIZE = _sizes,\n",
    "                                TIME = _mv\n",
    "                                ) "
   ]
  },
  {
   "cell_type": "code",
   "execution_count": 147,
   "id": "personal-softball",
   "metadata": {},
   "outputs": [
    {
     "data": {
      "text/html": [
       "<table class=\"data-frame\"><thead><tr><th></th><th>TYPE</th><th>SIZE</th><th>TIME</th></tr><tr><th></th><th>String</th><th>Int64</th><th>Float64</th></tr></thead><tbody><p>200 rows × 3 columns</p><tr><th>1</th><td>D</td><td>500</td><td>3.01e-5</td></tr><tr><th>2</th><td>D</td><td>1000</td><td>2.72e-5</td></tr><tr><th>3</th><td>D</td><td>1500</td><td>3.69e-5</td></tr><tr><th>4</th><td>D</td><td>2000</td><td>4.64e-5</td></tr><tr><th>5</th><td>D</td><td>2500</td><td>5.62e-5</td></tr><tr><th>6</th><td>D</td><td>3000</td><td>6.46e-5</td></tr><tr><th>7</th><td>D</td><td>3500</td><td>8.85e-5</td></tr><tr><th>8</th><td>D</td><td>4000</td><td>8.88e-5</td></tr><tr><th>9</th><td>D</td><td>4500</td><td>8.34e-5</td></tr><tr><th>10</th><td>D</td><td>5000</td><td>8.75e-5</td></tr><tr><th>11</th><td>D</td><td>500</td><td>2.11e-5</td></tr><tr><th>12</th><td>D</td><td>1000</td><td>2.68e-5</td></tr><tr><th>13</th><td>D</td><td>1500</td><td>3.97e-5</td></tr><tr><th>14</th><td>D</td><td>2000</td><td>4.43e-5</td></tr><tr><th>15</th><td>D</td><td>2500</td><td>5.42e-5</td></tr><tr><th>16</th><td>D</td><td>3000</td><td>7.4e-5</td></tr><tr><th>17</th><td>D</td><td>3500</td><td>0.000108</td></tr><tr><th>18</th><td>D</td><td>4000</td><td>0.0001329</td></tr><tr><th>19</th><td>D</td><td>4500</td><td>8.35e-5</td></tr><tr><th>20</th><td>D</td><td>5000</td><td>8.72e-5</td></tr><tr><th>21</th><td>D</td><td>500</td><td>2.02e-5</td></tr><tr><th>22</th><td>D</td><td>1000</td><td>2.92e-5</td></tr><tr><th>23</th><td>D</td><td>1500</td><td>3.58e-5</td></tr><tr><th>24</th><td>D</td><td>2000</td><td>4.43e-5</td></tr><tr><th>25</th><td>D</td><td>2500</td><td>5.11e-5</td></tr><tr><th>26</th><td>D</td><td>3000</td><td>5.82e-5</td></tr><tr><th>27</th><td>D</td><td>3500</td><td>8.17e-5</td></tr><tr><th>28</th><td>D</td><td>4000</td><td>7.35e-5</td></tr><tr><th>29</th><td>D</td><td>4500</td><td>8.21e-5</td></tr><tr><th>30</th><td>D</td><td>5000</td><td>8.54e-5</td></tr><tr><th>&vellip;</th><td>&vellip;</td><td>&vellip;</td><td>&vellip;</td></tr></tbody></table>"
      ],
      "text/latex": [
       "\\begin{tabular}{r|ccc}\n",
       "\t& TYPE & SIZE & TIME\\\\\n",
       "\t\\hline\n",
       "\t& String & Int64 & Float64\\\\\n",
       "\t\\hline\n",
       "\t1 & D & 500 & 3.01e-5 \\\\\n",
       "\t2 & D & 1000 & 2.72e-5 \\\\\n",
       "\t3 & D & 1500 & 3.69e-5 \\\\\n",
       "\t4 & D & 2000 & 4.64e-5 \\\\\n",
       "\t5 & D & 2500 & 5.62e-5 \\\\\n",
       "\t6 & D & 3000 & 6.46e-5 \\\\\n",
       "\t7 & D & 3500 & 8.85e-5 \\\\\n",
       "\t8 & D & 4000 & 8.88e-5 \\\\\n",
       "\t9 & D & 4500 & 8.34e-5 \\\\\n",
       "\t10 & D & 5000 & 8.75e-5 \\\\\n",
       "\t11 & D & 500 & 2.11e-5 \\\\\n",
       "\t12 & D & 1000 & 2.68e-5 \\\\\n",
       "\t13 & D & 1500 & 3.97e-5 \\\\\n",
       "\t14 & D & 2000 & 4.43e-5 \\\\\n",
       "\t15 & D & 2500 & 5.42e-5 \\\\\n",
       "\t16 & D & 3000 & 7.4e-5 \\\\\n",
       "\t17 & D & 3500 & 0.000108 \\\\\n",
       "\t18 & D & 4000 & 0.0001329 \\\\\n",
       "\t19 & D & 4500 & 8.35e-5 \\\\\n",
       "\t20 & D & 5000 & 8.72e-5 \\\\\n",
       "\t21 & D & 500 & 2.02e-5 \\\\\n",
       "\t22 & D & 1000 & 2.92e-5 \\\\\n",
       "\t23 & D & 1500 & 3.58e-5 \\\\\n",
       "\t24 & D & 2000 & 4.43e-5 \\\\\n",
       "\t25 & D & 2500 & 5.11e-5 \\\\\n",
       "\t26 & D & 3000 & 5.82e-5 \\\\\n",
       "\t27 & D & 3500 & 8.17e-5 \\\\\n",
       "\t28 & D & 4000 & 7.35e-5 \\\\\n",
       "\t29 & D & 4500 & 8.21e-5 \\\\\n",
       "\t30 & D & 5000 & 8.54e-5 \\\\\n",
       "\t$\\dots$ & $\\dots$ & $\\dots$ & $\\dots$ \\\\\n",
       "\\end{tabular}\n"
      ],
      "text/plain": [
       "\u001b[1m200×3 DataFrame\u001b[0m\n",
       "\u001b[1m Row \u001b[0m│\u001b[1m TYPE   \u001b[0m\u001b[1m SIZE  \u001b[0m\u001b[1m TIME      \u001b[0m\n",
       "\u001b[1m     \u001b[0m│\u001b[90m String \u001b[0m\u001b[90m Int64 \u001b[0m\u001b[90m Float64   \u001b[0m\n",
       "─────┼──────────────────────────\n",
       "   1 │ D         500  3.01e-5\n",
       "   2 │ D        1000  2.72e-5\n",
       "   3 │ D        1500  3.69e-5\n",
       "   4 │ D        2000  4.64e-5\n",
       "   5 │ D        2500  5.62e-5\n",
       "   6 │ D        3000  6.46e-5\n",
       "   7 │ D        3500  8.85e-5\n",
       "   8 │ D        4000  8.88e-5\n",
       "   9 │ D        4500  8.34e-5\n",
       "  10 │ D        5000  8.75e-5\n",
       "  11 │ D         500  2.11e-5\n",
       "  ⋮  │   ⋮       ⋮        ⋮\n",
       " 191 │ MV        500  0.0025487\n",
       " 192 │ MV       1000  0.0103121\n",
       " 193 │ MV       1500  0.0242568\n",
       " 194 │ MV       2000  0.0716656\n",
       " 195 │ MV       2500  0.1426\n",
       " 196 │ MV       3000  0.227052\n",
       " 197 │ MV       3500  0.327537\n",
       " 198 │ MV       4000  0.436887\n",
       " 199 │ MV       4500  0.565404\n",
       " 200 │ MV       5000  0.744447\n",
       "\u001b[36m                179 rows omitted\u001b[0m"
      ]
     },
     "execution_count": 147,
     "metadata": {},
     "output_type": "execute_result"
    }
   ],
   "source": [
    "sum_of_frames = vcat(dot_frame, matrix_vector_frame)"
   ]
  },
  {
   "cell_type": "code",
   "execution_count": 148,
   "id": "inside-suggestion",
   "metadata": {},
   "outputs": [
    {
     "name": "stderr",
     "output_type": "stream",
     "text": [
      "\u001b[32m\u001b[1m  Resolving\u001b[22m\u001b[39m package versions...\n",
      "\u001b[32m\u001b[1mNo Changes\u001b[22m\u001b[39m to `/opt/julia/environments/v1.5/Project.toml`\n",
      "\u001b[32m\u001b[1mNo Changes\u001b[22m\u001b[39m to `/opt/julia/environments/v1.5/Manifest.toml`\n"
     ]
    }
   ],
   "source": [
    "Pkg.add(\"CSV\")\n",
    "using CSV"
   ]
  },
  {
   "cell_type": "markdown",
   "id": "creative-tracker",
   "metadata": {},
   "source": [
    "#### zapisanie do jednego pliku CSV"
   ]
  },
  {
   "cell_type": "code",
   "execution_count": 149,
   "id": "bottom-surface",
   "metadata": {},
   "outputs": [
    {
     "data": {
      "text/plain": [
       "\"multiplying_time.csv\""
      ]
     },
     "execution_count": 149,
     "metadata": {},
     "output_type": "execute_result"
    }
   ],
   "source": [
    "CSV.write(\"multiplying_time.csv\", sum_of_frames)"
   ]
  },
  {
   "cell_type": "markdown",
   "id": "obvious-spirit",
   "metadata": {},
   "source": [
    "#### wczytanie danych do jednego dataFrame"
   ]
  },
  {
   "cell_type": "code",
   "execution_count": 150,
   "id": "abstract-skill",
   "metadata": {},
   "outputs": [
    {
     "data": {
      "text/html": [
       "<table class=\"data-frame\"><thead><tr><th></th><th>TYPE</th><th>SIZE</th><th>TIME</th></tr><tr><th></th><th>String</th><th>Int64</th><th>Float64</th></tr></thead><tbody><p>200 rows × 3 columns</p><tr><th>1</th><td>D</td><td>500</td><td>3.01e-5</td></tr><tr><th>2</th><td>D</td><td>1000</td><td>2.72e-5</td></tr><tr><th>3</th><td>D</td><td>1500</td><td>3.69e-5</td></tr><tr><th>4</th><td>D</td><td>2000</td><td>4.64e-5</td></tr><tr><th>5</th><td>D</td><td>2500</td><td>5.62e-5</td></tr><tr><th>6</th><td>D</td><td>3000</td><td>6.46e-5</td></tr><tr><th>7</th><td>D</td><td>3500</td><td>8.85e-5</td></tr><tr><th>8</th><td>D</td><td>4000</td><td>8.88e-5</td></tr><tr><th>9</th><td>D</td><td>4500</td><td>8.34e-5</td></tr><tr><th>10</th><td>D</td><td>5000</td><td>8.75e-5</td></tr><tr><th>11</th><td>D</td><td>500</td><td>2.11e-5</td></tr><tr><th>12</th><td>D</td><td>1000</td><td>2.68e-5</td></tr><tr><th>13</th><td>D</td><td>1500</td><td>3.97e-5</td></tr><tr><th>14</th><td>D</td><td>2000</td><td>4.43e-5</td></tr><tr><th>15</th><td>D</td><td>2500</td><td>5.42e-5</td></tr><tr><th>16</th><td>D</td><td>3000</td><td>7.4e-5</td></tr><tr><th>17</th><td>D</td><td>3500</td><td>0.000108</td></tr><tr><th>18</th><td>D</td><td>4000</td><td>0.0001329</td></tr><tr><th>19</th><td>D</td><td>4500</td><td>8.35e-5</td></tr><tr><th>20</th><td>D</td><td>5000</td><td>8.72e-5</td></tr><tr><th>21</th><td>D</td><td>500</td><td>2.02e-5</td></tr><tr><th>22</th><td>D</td><td>1000</td><td>2.92e-5</td></tr><tr><th>23</th><td>D</td><td>1500</td><td>3.58e-5</td></tr><tr><th>24</th><td>D</td><td>2000</td><td>4.43e-5</td></tr><tr><th>25</th><td>D</td><td>2500</td><td>5.11e-5</td></tr><tr><th>26</th><td>D</td><td>3000</td><td>5.82e-5</td></tr><tr><th>27</th><td>D</td><td>3500</td><td>8.17e-5</td></tr><tr><th>28</th><td>D</td><td>4000</td><td>7.35e-5</td></tr><tr><th>29</th><td>D</td><td>4500</td><td>8.21e-5</td></tr><tr><th>30</th><td>D</td><td>5000</td><td>8.54e-5</td></tr><tr><th>&vellip;</th><td>&vellip;</td><td>&vellip;</td><td>&vellip;</td></tr></tbody></table>"
      ],
      "text/latex": [
       "\\begin{tabular}{r|ccc}\n",
       "\t& TYPE & SIZE & TIME\\\\\n",
       "\t\\hline\n",
       "\t& String & Int64 & Float64\\\\\n",
       "\t\\hline\n",
       "\t1 & D & 500 & 3.01e-5 \\\\\n",
       "\t2 & D & 1000 & 2.72e-5 \\\\\n",
       "\t3 & D & 1500 & 3.69e-5 \\\\\n",
       "\t4 & D & 2000 & 4.64e-5 \\\\\n",
       "\t5 & D & 2500 & 5.62e-5 \\\\\n",
       "\t6 & D & 3000 & 6.46e-5 \\\\\n",
       "\t7 & D & 3500 & 8.85e-5 \\\\\n",
       "\t8 & D & 4000 & 8.88e-5 \\\\\n",
       "\t9 & D & 4500 & 8.34e-5 \\\\\n",
       "\t10 & D & 5000 & 8.75e-5 \\\\\n",
       "\t11 & D & 500 & 2.11e-5 \\\\\n",
       "\t12 & D & 1000 & 2.68e-5 \\\\\n",
       "\t13 & D & 1500 & 3.97e-5 \\\\\n",
       "\t14 & D & 2000 & 4.43e-5 \\\\\n",
       "\t15 & D & 2500 & 5.42e-5 \\\\\n",
       "\t16 & D & 3000 & 7.4e-5 \\\\\n",
       "\t17 & D & 3500 & 0.000108 \\\\\n",
       "\t18 & D & 4000 & 0.0001329 \\\\\n",
       "\t19 & D & 4500 & 8.35e-5 \\\\\n",
       "\t20 & D & 5000 & 8.72e-5 \\\\\n",
       "\t21 & D & 500 & 2.02e-5 \\\\\n",
       "\t22 & D & 1000 & 2.92e-5 \\\\\n",
       "\t23 & D & 1500 & 3.58e-5 \\\\\n",
       "\t24 & D & 2000 & 4.43e-5 \\\\\n",
       "\t25 & D & 2500 & 5.11e-5 \\\\\n",
       "\t26 & D & 3000 & 5.82e-5 \\\\\n",
       "\t27 & D & 3500 & 8.17e-5 \\\\\n",
       "\t28 & D & 4000 & 7.35e-5 \\\\\n",
       "\t29 & D & 4500 & 8.21e-5 \\\\\n",
       "\t30 & D & 5000 & 8.54e-5 \\\\\n",
       "\t$\\dots$ & $\\dots$ & $\\dots$ & $\\dots$ \\\\\n",
       "\\end{tabular}\n"
      ],
      "text/plain": [
       "\u001b[1m200×3 DataFrame\u001b[0m\n",
       "\u001b[1m Row \u001b[0m│\u001b[1m TYPE   \u001b[0m\u001b[1m SIZE  \u001b[0m\u001b[1m TIME      \u001b[0m\n",
       "\u001b[1m     \u001b[0m│\u001b[90m String \u001b[0m\u001b[90m Int64 \u001b[0m\u001b[90m Float64   \u001b[0m\n",
       "─────┼──────────────────────────\n",
       "   1 │ D         500  3.01e-5\n",
       "   2 │ D        1000  2.72e-5\n",
       "   3 │ D        1500  3.69e-5\n",
       "   4 │ D        2000  4.64e-5\n",
       "   5 │ D        2500  5.62e-5\n",
       "   6 │ D        3000  6.46e-5\n",
       "   7 │ D        3500  8.85e-5\n",
       "   8 │ D        4000  8.88e-5\n",
       "   9 │ D        4500  8.34e-5\n",
       "  10 │ D        5000  8.75e-5\n",
       "  11 │ D         500  2.11e-5\n",
       "  ⋮  │   ⋮       ⋮        ⋮\n",
       " 191 │ MV        500  0.0025487\n",
       " 192 │ MV       1000  0.0103121\n",
       " 193 │ MV       1500  0.0242568\n",
       " 194 │ MV       2000  0.0716656\n",
       " 195 │ MV       2500  0.1426\n",
       " 196 │ MV       3000  0.227052\n",
       " 197 │ MV       3500  0.327537\n",
       " 198 │ MV       4000  0.436887\n",
       " 199 │ MV       4500  0.565404\n",
       " 200 │ MV       5000  0.744447\n",
       "\u001b[36m                179 rows omitted\u001b[0m"
      ]
     },
     "execution_count": 150,
     "metadata": {},
     "output_type": "execute_result"
    }
   ],
   "source": [
    "df = DataFrame()\n",
    "df = CSV.read(\"multiplying_time.csv\", DataFrame)"
   ]
  },
  {
   "cell_type": "code",
   "execution_count": 151,
   "id": "tough-oklahoma",
   "metadata": {},
   "outputs": [
    {
     "data": {
      "text/html": [
       "<p><b>GroupedDataFrame with 10 groups based on key: SIZE</b></p><p><i>First Group (20 rows): SIZE = 500</i></p><table class=\"data-frame\"><thead><tr><th></th><th>TYPE</th><th>SIZE</th><th>TIME</th></tr><tr><th></th><th>String</th><th>Int64</th><th>Float64</th></tr></thead><tbody><tr><th>1</th><td>D</td><td>500</td><td>3.01e-5</td></tr><tr><th>2</th><td>D</td><td>500</td><td>2.11e-5</td></tr><tr><th>3</th><td>D</td><td>500</td><td>2.02e-5</td></tr><tr><th>4</th><td>D</td><td>500</td><td>1.92e-5</td></tr><tr><th>5</th><td>D</td><td>500</td><td>1.85e-5</td></tr><tr><th>6</th><td>D</td><td>500</td><td>2.03e-5</td></tr><tr><th>7</th><td>D</td><td>500</td><td>1.79e-5</td></tr><tr><th>8</th><td>D</td><td>500</td><td>1.8e-5</td></tr><tr><th>9</th><td>D</td><td>500</td><td>1.84e-5</td></tr><tr><th>10</th><td>D</td><td>500</td><td>1.7e-5</td></tr><tr><th>11</th><td>MV</td><td>500</td><td>0.0028684</td></tr><tr><th>12</th><td>MV</td><td>500</td><td>0.0026309</td></tr><tr><th>13</th><td>MV</td><td>500</td><td>0.0026129</td></tr><tr><th>14</th><td>MV</td><td>500</td><td>0.0026468</td></tr><tr><th>15</th><td>MV</td><td>500</td><td>0.0140598</td></tr><tr><th>16</th><td>MV</td><td>500</td><td>0.0028346</td></tr><tr><th>17</th><td>MV</td><td>500</td><td>0.0026927</td></tr><tr><th>18</th><td>MV</td><td>500</td><td>0.0026188</td></tr><tr><th>19</th><td>MV</td><td>500</td><td>0.0027263</td></tr><tr><th>20</th><td>MV</td><td>500</td><td>0.0025487</td></tr></tbody></table><p>&vellip;</p><p><i>Last Group (20 rows): SIZE = 5000</i></p><table class=\"data-frame\"><thead><tr><th></th><th>TYPE</th><th>SIZE</th><th>TIME</th></tr><tr><th></th><th>String</th><th>Int64</th><th>Float64</th></tr></thead><tbody><tr><th>1</th><td>D</td><td>5000</td><td>8.75e-5</td></tr><tr><th>2</th><td>D</td><td>5000</td><td>8.72e-5</td></tr><tr><th>3</th><td>D</td><td>5000</td><td>8.54e-5</td></tr><tr><th>4</th><td>D</td><td>5000</td><td>8.74e-5</td></tr><tr><th>5</th><td>D</td><td>5000</td><td>8.72e-5</td></tr><tr><th>6</th><td>D</td><td>5000</td><td>8.81e-5</td></tr><tr><th>7</th><td>D</td><td>5000</td><td>9.52e-5</td></tr><tr><th>8</th><td>D</td><td>5000</td><td>9.25e-5</td></tr><tr><th>9</th><td>D</td><td>5000</td><td>8.82e-5</td></tr><tr><th>10</th><td>D</td><td>5000</td><td>8.73e-5</td></tr><tr><th>11</th><td>MV</td><td>5000</td><td>0.714218</td></tr><tr><th>12</th><td>MV</td><td>5000</td><td>0.737456</td></tr><tr><th>13</th><td>MV</td><td>5000</td><td>0.744505</td></tr><tr><th>14</th><td>MV</td><td>5000</td><td>0.748862</td></tr><tr><th>15</th><td>MV</td><td>5000</td><td>0.739279</td></tr><tr><th>16</th><td>MV</td><td>5000</td><td>0.742862</td></tr><tr><th>17</th><td>MV</td><td>5000</td><td>0.743343</td></tr><tr><th>18</th><td>MV</td><td>5000</td><td>0.752463</td></tr><tr><th>19</th><td>MV</td><td>5000</td><td>0.746837</td></tr><tr><th>20</th><td>MV</td><td>5000</td><td>0.744447</td></tr></tbody></table>"
      ],
      "text/latex": [
       "GroupedDataFrame with 10 groups based on key: SIZE\n",
       "\n",
       "First Group (20 rows): SIZE = 500\n",
       "\n",
       "\\begin{tabular}{r|ccc}\n",
       "\t& TYPE & SIZE & TIME\\\\\n",
       "\t\\hline\n",
       "\t& String & Int64 & Float64\\\\\n",
       "\t\\hline\n",
       "\t1 & D & 500 & 3.01e-5 \\\\\n",
       "\t2 & D & 500 & 2.11e-5 \\\\\n",
       "\t3 & D & 500 & 2.02e-5 \\\\\n",
       "\t4 & D & 500 & 1.92e-5 \\\\\n",
       "\t5 & D & 500 & 1.85e-5 \\\\\n",
       "\t6 & D & 500 & 2.03e-5 \\\\\n",
       "\t7 & D & 500 & 1.79e-5 \\\\\n",
       "\t8 & D & 500 & 1.8e-5 \\\\\n",
       "\t9 & D & 500 & 1.84e-5 \\\\\n",
       "\t10 & D & 500 & 1.7e-5 \\\\\n",
       "\t11 & MV & 500 & 0.0028684 \\\\\n",
       "\t12 & MV & 500 & 0.0026309 \\\\\n",
       "\t13 & MV & 500 & 0.0026129 \\\\\n",
       "\t14 & MV & 500 & 0.0026468 \\\\\n",
       "\t15 & MV & 500 & 0.0140598 \\\\\n",
       "\t16 & MV & 500 & 0.0028346 \\\\\n",
       "\t17 & MV & 500 & 0.0026927 \\\\\n",
       "\t18 & MV & 500 & 0.0026188 \\\\\n",
       "\t19 & MV & 500 & 0.0027263 \\\\\n",
       "\t20 & MV & 500 & 0.0025487 \\\\\n",
       "\\end{tabular}\n",
       "\n",
       "$\\dots$\n",
       "\n",
       "Last Group (20 rows): SIZE = 5000\n",
       "\n",
       "\\begin{tabular}{r|ccc}\n",
       "\t& TYPE & SIZE & TIME\\\\\n",
       "\t\\hline\n",
       "\t& String & Int64 & Float64\\\\\n",
       "\t\\hline\n",
       "\t1 & D & 5000 & 8.75e-5 \\\\\n",
       "\t2 & D & 5000 & 8.72e-5 \\\\\n",
       "\t3 & D & 5000 & 8.54e-5 \\\\\n",
       "\t4 & D & 5000 & 8.74e-5 \\\\\n",
       "\t5 & D & 5000 & 8.72e-5 \\\\\n",
       "\t6 & D & 5000 & 8.81e-5 \\\\\n",
       "\t7 & D & 5000 & 9.52e-5 \\\\\n",
       "\t8 & D & 5000 & 9.25e-5 \\\\\n",
       "\t9 & D & 5000 & 8.82e-5 \\\\\n",
       "\t10 & D & 5000 & 8.73e-5 \\\\\n",
       "\t11 & MV & 5000 & 0.714218 \\\\\n",
       "\t12 & MV & 5000 & 0.737456 \\\\\n",
       "\t13 & MV & 5000 & 0.744505 \\\\\n",
       "\t14 & MV & 5000 & 0.748862 \\\\\n",
       "\t15 & MV & 5000 & 0.739279 \\\\\n",
       "\t16 & MV & 5000 & 0.742862 \\\\\n",
       "\t17 & MV & 5000 & 0.743343 \\\\\n",
       "\t18 & MV & 5000 & 0.752463 \\\\\n",
       "\t19 & MV & 5000 & 0.746837 \\\\\n",
       "\t20 & MV & 5000 & 0.744447 \\\\\n",
       "\\end{tabular}\n"
      ],
      "text/plain": [
       "GroupedDataFrame with 10 groups based on key: SIZE\n",
       "First Group (20 rows): SIZE = 500\n",
       "\u001b[1m Row \u001b[0m│\u001b[1m TYPE   \u001b[0m\u001b[1m SIZE  \u001b[0m\u001b[1m TIME      \u001b[0m\n",
       "\u001b[1m     \u001b[0m│\u001b[90m String \u001b[0m\u001b[90m Int64 \u001b[0m\u001b[90m Float64   \u001b[0m\n",
       "─────┼──────────────────────────\n",
       "   1 │ D         500  3.01e-5\n",
       "   2 │ D         500  2.11e-5\n",
       "   3 │ D         500  2.02e-5\n",
       "   4 │ D         500  1.92e-5\n",
       "   5 │ D         500  1.85e-5\n",
       "   6 │ D         500  2.03e-5\n",
       "   7 │ D         500  1.79e-5\n",
       "   8 │ D         500  1.8e-5\n",
       "   9 │ D         500  1.84e-5\n",
       "  10 │ D         500  1.7e-5\n",
       "  11 │ MV        500  0.0028684\n",
       "  12 │ MV        500  0.0026309\n",
       "  13 │ MV        500  0.0026129\n",
       "  14 │ MV        500  0.0026468\n",
       "  15 │ MV        500  0.0140598\n",
       "  16 │ MV        500  0.0028346\n",
       "  17 │ MV        500  0.0026927\n",
       "  18 │ MV        500  0.0026188\n",
       "  19 │ MV        500  0.0027263\n",
       "  20 │ MV        500  0.0025487\n",
       "⋮\n",
       "Last Group (20 rows): SIZE = 5000\n",
       "\u001b[1m Row \u001b[0m│\u001b[1m TYPE   \u001b[0m\u001b[1m SIZE  \u001b[0m\u001b[1m TIME     \u001b[0m\n",
       "\u001b[1m     \u001b[0m│\u001b[90m String \u001b[0m\u001b[90m Int64 \u001b[0m\u001b[90m Float64  \u001b[0m\n",
       "─────┼─────────────────────────\n",
       "   1 │ D        5000  8.75e-5\n",
       "   2 │ D        5000  8.72e-5\n",
       "   3 │ D        5000  8.54e-5\n",
       "   4 │ D        5000  8.74e-5\n",
       "   5 │ D        5000  8.72e-5\n",
       "   6 │ D        5000  8.81e-5\n",
       "   7 │ D        5000  9.52e-5\n",
       "   8 │ D        5000  9.25e-5\n",
       "   9 │ D        5000  8.82e-5\n",
       "  10 │ D        5000  8.73e-5\n",
       "  11 │ MV       5000  0.714218\n",
       "  12 │ MV       5000  0.737456\n",
       "  13 │ MV       5000  0.744505\n",
       "  14 │ MV       5000  0.748862\n",
       "  15 │ MV       5000  0.739279\n",
       "  16 │ MV       5000  0.742862\n",
       "  17 │ MV       5000  0.743343\n",
       "  18 │ MV       5000  0.752463\n",
       "  19 │ MV       5000  0.746837\n",
       "  20 │ MV       5000  0.744447"
      ]
     },
     "execution_count": 151,
     "metadata": {},
     "output_type": "execute_result"
    }
   ],
   "source": [
    "###licze średnie dla rozmiarów\n",
    "size_grouped = groupby(df, :SIZE)"
   ]
  },
  {
   "cell_type": "code",
   "execution_count": 152,
   "id": "alleged-procedure",
   "metadata": {},
   "outputs": [
    {
     "name": "stderr",
     "output_type": "stream",
     "text": [
      "\u001b[32m\u001b[1m  Resolving\u001b[22m\u001b[39m package versions...\n",
      "\u001b[32m\u001b[1mNo Changes\u001b[22m\u001b[39m to `/opt/julia/environments/v1.5/Project.toml`\n",
      "\u001b[32m\u001b[1mNo Changes\u001b[22m\u001b[39m to `/opt/julia/environments/v1.5/Manifest.toml`\n"
     ]
    }
   ],
   "source": [
    "Pkg.add(\"Query\")\n",
    "using Query"
   ]
  },
  {
   "cell_type": "code",
   "execution_count": 153,
   "id": "minor-cabin",
   "metadata": {},
   "outputs": [
    {
     "data": {
      "text/html": [
       "<p><b>GroupedDataFrame with 10 groups based on key: SIZE</b></p><p><i>First Group (10 rows): SIZE = 500</i></p><table class=\"data-frame\"><thead><tr><th></th><th>TYPE</th><th>SIZE</th><th>TIME</th></tr><tr><th></th><th>String</th><th>Int64</th><th>Float64</th></tr></thead><tbody><tr><th>1</th><td>D</td><td>500</td><td>3.01e-5</td></tr><tr><th>2</th><td>D</td><td>500</td><td>2.11e-5</td></tr><tr><th>3</th><td>D</td><td>500</td><td>2.02e-5</td></tr><tr><th>4</th><td>D</td><td>500</td><td>1.92e-5</td></tr><tr><th>5</th><td>D</td><td>500</td><td>1.85e-5</td></tr><tr><th>6</th><td>D</td><td>500</td><td>2.03e-5</td></tr><tr><th>7</th><td>D</td><td>500</td><td>1.79e-5</td></tr><tr><th>8</th><td>D</td><td>500</td><td>1.8e-5</td></tr><tr><th>9</th><td>D</td><td>500</td><td>1.84e-5</td></tr><tr><th>10</th><td>D</td><td>500</td><td>1.7e-5</td></tr></tbody></table><p>&vellip;</p><p><i>Last Group (10 rows): SIZE = 5000</i></p><table class=\"data-frame\"><thead><tr><th></th><th>TYPE</th><th>SIZE</th><th>TIME</th></tr><tr><th></th><th>String</th><th>Int64</th><th>Float64</th></tr></thead><tbody><tr><th>1</th><td>D</td><td>5000</td><td>8.75e-5</td></tr><tr><th>2</th><td>D</td><td>5000</td><td>8.72e-5</td></tr><tr><th>3</th><td>D</td><td>5000</td><td>8.54e-5</td></tr><tr><th>4</th><td>D</td><td>5000</td><td>8.74e-5</td></tr><tr><th>5</th><td>D</td><td>5000</td><td>8.72e-5</td></tr><tr><th>6</th><td>D</td><td>5000</td><td>8.81e-5</td></tr><tr><th>7</th><td>D</td><td>5000</td><td>9.52e-5</td></tr><tr><th>8</th><td>D</td><td>5000</td><td>9.25e-5</td></tr><tr><th>9</th><td>D</td><td>5000</td><td>8.82e-5</td></tr><tr><th>10</th><td>D</td><td>5000</td><td>8.73e-5</td></tr></tbody></table>"
      ],
      "text/latex": [
       "GroupedDataFrame with 10 groups based on key: SIZE\n",
       "\n",
       "First Group (10 rows): SIZE = 500\n",
       "\n",
       "\\begin{tabular}{r|ccc}\n",
       "\t& TYPE & SIZE & TIME\\\\\n",
       "\t\\hline\n",
       "\t& String & Int64 & Float64\\\\\n",
       "\t\\hline\n",
       "\t1 & D & 500 & 3.01e-5 \\\\\n",
       "\t2 & D & 500 & 2.11e-5 \\\\\n",
       "\t3 & D & 500 & 2.02e-5 \\\\\n",
       "\t4 & D & 500 & 1.92e-5 \\\\\n",
       "\t5 & D & 500 & 1.85e-5 \\\\\n",
       "\t6 & D & 500 & 2.03e-5 \\\\\n",
       "\t7 & D & 500 & 1.79e-5 \\\\\n",
       "\t8 & D & 500 & 1.8e-5 \\\\\n",
       "\t9 & D & 500 & 1.84e-5 \\\\\n",
       "\t10 & D & 500 & 1.7e-5 \\\\\n",
       "\\end{tabular}\n",
       "\n",
       "$\\dots$\n",
       "\n",
       "Last Group (10 rows): SIZE = 5000\n",
       "\n",
       "\\begin{tabular}{r|ccc}\n",
       "\t& TYPE & SIZE & TIME\\\\\n",
       "\t\\hline\n",
       "\t& String & Int64 & Float64\\\\\n",
       "\t\\hline\n",
       "\t1 & D & 5000 & 8.75e-5 \\\\\n",
       "\t2 & D & 5000 & 8.72e-5 \\\\\n",
       "\t3 & D & 5000 & 8.54e-5 \\\\\n",
       "\t4 & D & 5000 & 8.74e-5 \\\\\n",
       "\t5 & D & 5000 & 8.72e-5 \\\\\n",
       "\t6 & D & 5000 & 8.81e-5 \\\\\n",
       "\t7 & D & 5000 & 9.52e-5 \\\\\n",
       "\t8 & D & 5000 & 9.25e-5 \\\\\n",
       "\t9 & D & 5000 & 8.82e-5 \\\\\n",
       "\t10 & D & 5000 & 8.73e-5 \\\\\n",
       "\\end{tabular}\n"
      ],
      "text/plain": [
       "GroupedDataFrame with 10 groups based on key: SIZE\n",
       "First Group (10 rows): SIZE = 500\n",
       "\u001b[1m Row \u001b[0m│\u001b[1m TYPE   \u001b[0m\u001b[1m SIZE  \u001b[0m\u001b[1m TIME    \u001b[0m\n",
       "\u001b[1m     \u001b[0m│\u001b[90m String \u001b[0m\u001b[90m Int64 \u001b[0m\u001b[90m Float64 \u001b[0m\n",
       "─────┼────────────────────────\n",
       "   1 │ D         500  3.01e-5\n",
       "   2 │ D         500  2.11e-5\n",
       "   3 │ D         500  2.02e-5\n",
       "   4 │ D         500  1.92e-5\n",
       "   5 │ D         500  1.85e-5\n",
       "   6 │ D         500  2.03e-5\n",
       "   7 │ D         500  1.79e-5\n",
       "   8 │ D         500  1.8e-5\n",
       "   9 │ D         500  1.84e-5\n",
       "  10 │ D         500  1.7e-5\n",
       "⋮\n",
       "Last Group (10 rows): SIZE = 5000\n",
       "\u001b[1m Row \u001b[0m│\u001b[1m TYPE   \u001b[0m\u001b[1m SIZE  \u001b[0m\u001b[1m TIME    \u001b[0m\n",
       "\u001b[1m     \u001b[0m│\u001b[90m String \u001b[0m\u001b[90m Int64 \u001b[0m\u001b[90m Float64 \u001b[0m\n",
       "─────┼────────────────────────\n",
       "   1 │ D        5000  8.75e-5\n",
       "   2 │ D        5000  8.72e-5\n",
       "   3 │ D        5000  8.54e-5\n",
       "   4 │ D        5000  8.74e-5\n",
       "   5 │ D        5000  8.72e-5\n",
       "   6 │ D        5000  8.81e-5\n",
       "   7 │ D        5000  9.52e-5\n",
       "   8 │ D        5000  9.25e-5\n",
       "   9 │ D        5000  8.82e-5\n",
       "  10 │ D        5000  8.73e-5"
      ]
     },
     "execution_count": 153,
     "metadata": {},
     "output_type": "execute_result"
    }
   ],
   "source": [
    "dot_frame =  filter(row -> row.TYPE in [\"D\"], df)\n",
    "dot_size_grouped = groupby(dot_frame, :SIZE)"
   ]
  },
  {
   "cell_type": "code",
   "execution_count": 154,
   "id": "appreciated-president",
   "metadata": {},
   "outputs": [
    {
     "data": {
      "text/html": [
       "<p><b>GroupedDataFrame with 10 groups based on key: SIZE</b></p><p><i>First Group (10 rows): SIZE = 500</i></p><table class=\"data-frame\"><thead><tr><th></th><th>TYPE</th><th>SIZE</th><th>TIME</th></tr><tr><th></th><th>String</th><th>Int64</th><th>Float64</th></tr></thead><tbody><tr><th>1</th><td>MV</td><td>500</td><td>0.0028684</td></tr><tr><th>2</th><td>MV</td><td>500</td><td>0.0026309</td></tr><tr><th>3</th><td>MV</td><td>500</td><td>0.0026129</td></tr><tr><th>4</th><td>MV</td><td>500</td><td>0.0026468</td></tr><tr><th>5</th><td>MV</td><td>500</td><td>0.0140598</td></tr><tr><th>6</th><td>MV</td><td>500</td><td>0.0028346</td></tr><tr><th>7</th><td>MV</td><td>500</td><td>0.0026927</td></tr><tr><th>8</th><td>MV</td><td>500</td><td>0.0026188</td></tr><tr><th>9</th><td>MV</td><td>500</td><td>0.0027263</td></tr><tr><th>10</th><td>MV</td><td>500</td><td>0.0025487</td></tr></tbody></table><p>&vellip;</p><p><i>Last Group (10 rows): SIZE = 5000</i></p><table class=\"data-frame\"><thead><tr><th></th><th>TYPE</th><th>SIZE</th><th>TIME</th></tr><tr><th></th><th>String</th><th>Int64</th><th>Float64</th></tr></thead><tbody><tr><th>1</th><td>MV</td><td>5000</td><td>0.714218</td></tr><tr><th>2</th><td>MV</td><td>5000</td><td>0.737456</td></tr><tr><th>3</th><td>MV</td><td>5000</td><td>0.744505</td></tr><tr><th>4</th><td>MV</td><td>5000</td><td>0.748862</td></tr><tr><th>5</th><td>MV</td><td>5000</td><td>0.739279</td></tr><tr><th>6</th><td>MV</td><td>5000</td><td>0.742862</td></tr><tr><th>7</th><td>MV</td><td>5000</td><td>0.743343</td></tr><tr><th>8</th><td>MV</td><td>5000</td><td>0.752463</td></tr><tr><th>9</th><td>MV</td><td>5000</td><td>0.746837</td></tr><tr><th>10</th><td>MV</td><td>5000</td><td>0.744447</td></tr></tbody></table>"
      ],
      "text/latex": [
       "GroupedDataFrame with 10 groups based on key: SIZE\n",
       "\n",
       "First Group (10 rows): SIZE = 500\n",
       "\n",
       "\\begin{tabular}{r|ccc}\n",
       "\t& TYPE & SIZE & TIME\\\\\n",
       "\t\\hline\n",
       "\t& String & Int64 & Float64\\\\\n",
       "\t\\hline\n",
       "\t1 & MV & 500 & 0.0028684 \\\\\n",
       "\t2 & MV & 500 & 0.0026309 \\\\\n",
       "\t3 & MV & 500 & 0.0026129 \\\\\n",
       "\t4 & MV & 500 & 0.0026468 \\\\\n",
       "\t5 & MV & 500 & 0.0140598 \\\\\n",
       "\t6 & MV & 500 & 0.0028346 \\\\\n",
       "\t7 & MV & 500 & 0.0026927 \\\\\n",
       "\t8 & MV & 500 & 0.0026188 \\\\\n",
       "\t9 & MV & 500 & 0.0027263 \\\\\n",
       "\t10 & MV & 500 & 0.0025487 \\\\\n",
       "\\end{tabular}\n",
       "\n",
       "$\\dots$\n",
       "\n",
       "Last Group (10 rows): SIZE = 5000\n",
       "\n",
       "\\begin{tabular}{r|ccc}\n",
       "\t& TYPE & SIZE & TIME\\\\\n",
       "\t\\hline\n",
       "\t& String & Int64 & Float64\\\\\n",
       "\t\\hline\n",
       "\t1 & MV & 5000 & 0.714218 \\\\\n",
       "\t2 & MV & 5000 & 0.737456 \\\\\n",
       "\t3 & MV & 5000 & 0.744505 \\\\\n",
       "\t4 & MV & 5000 & 0.748862 \\\\\n",
       "\t5 & MV & 5000 & 0.739279 \\\\\n",
       "\t6 & MV & 5000 & 0.742862 \\\\\n",
       "\t7 & MV & 5000 & 0.743343 \\\\\n",
       "\t8 & MV & 5000 & 0.752463 \\\\\n",
       "\t9 & MV & 5000 & 0.746837 \\\\\n",
       "\t10 & MV & 5000 & 0.744447 \\\\\n",
       "\\end{tabular}\n"
      ],
      "text/plain": [
       "GroupedDataFrame with 10 groups based on key: SIZE\n",
       "First Group (10 rows): SIZE = 500\n",
       "\u001b[1m Row \u001b[0m│\u001b[1m TYPE   \u001b[0m\u001b[1m SIZE  \u001b[0m\u001b[1m TIME      \u001b[0m\n",
       "\u001b[1m     \u001b[0m│\u001b[90m String \u001b[0m\u001b[90m Int64 \u001b[0m\u001b[90m Float64   \u001b[0m\n",
       "─────┼──────────────────────────\n",
       "   1 │ MV        500  0.0028684\n",
       "   2 │ MV        500  0.0026309\n",
       "   3 │ MV        500  0.0026129\n",
       "   4 │ MV        500  0.0026468\n",
       "   5 │ MV        500  0.0140598\n",
       "   6 │ MV        500  0.0028346\n",
       "   7 │ MV        500  0.0026927\n",
       "   8 │ MV        500  0.0026188\n",
       "   9 │ MV        500  0.0027263\n",
       "  10 │ MV        500  0.0025487\n",
       "⋮\n",
       "Last Group (10 rows): SIZE = 5000\n",
       "\u001b[1m Row \u001b[0m│\u001b[1m TYPE   \u001b[0m\u001b[1m SIZE  \u001b[0m\u001b[1m TIME     \u001b[0m\n",
       "\u001b[1m     \u001b[0m│\u001b[90m String \u001b[0m\u001b[90m Int64 \u001b[0m\u001b[90m Float64  \u001b[0m\n",
       "─────┼─────────────────────────\n",
       "   1 │ MV       5000  0.714218\n",
       "   2 │ MV       5000  0.737456\n",
       "   3 │ MV       5000  0.744505\n",
       "   4 │ MV       5000  0.748862\n",
       "   5 │ MV       5000  0.739279\n",
       "   6 │ MV       5000  0.742862\n",
       "   7 │ MV       5000  0.743343\n",
       "   8 │ MV       5000  0.752463\n",
       "   9 │ MV       5000  0.746837\n",
       "  10 │ MV       5000  0.744447"
      ]
     },
     "execution_count": 154,
     "metadata": {},
     "output_type": "execute_result"
    }
   ],
   "source": [
    "mv_frame =  filter(row -> row.TYPE in [\"MV\"], df)\n",
    "mv_size_grouped = groupby(mv_frame, :SIZE)"
   ]
  },
  {
   "cell_type": "markdown",
   "id": "focused-frederick",
   "metadata": {},
   "source": [
    "#### Liczenie średnich i odchylen"
   ]
  },
  {
   "cell_type": "code",
   "execution_count": 155,
   "id": "built-liverpool",
   "metadata": {},
   "outputs": [
    {
     "data": {
      "text/html": [
       "<table class=\"data-frame\"><thead><tr><th></th><th>SIZE</th><th>std_time</th></tr><tr><th></th><th>Int64</th><th>Float64</th></tr></thead><tbody><p>10 rows × 2 columns</p><tr><th>1</th><td>500</td><td>3.74405e-6</td></tr><tr><th>2</th><td>1000</td><td>1.0403e-6</td></tr><tr><th>3</th><td>1500</td><td>2.20161e-5</td></tr><tr><th>4</th><td>2000</td><td>2.547e-5</td></tr><tr><th>5</th><td>2500</td><td>1.856e-5</td></tr><tr><th>6</th><td>3000</td><td>4.91575e-6</td></tr><tr><th>7</th><td>3500</td><td>2.1734e-5</td></tr><tr><th>8</th><td>4000</td><td>2.78229e-5</td></tr><tr><th>9</th><td>4500</td><td>2.39635e-5</td></tr><tr><th>10</th><td>5000</td><td>2.93788e-6</td></tr></tbody></table>"
      ],
      "text/latex": [
       "\\begin{tabular}{r|cc}\n",
       "\t& SIZE & std\\_time\\\\\n",
       "\t\\hline\n",
       "\t& Int64 & Float64\\\\\n",
       "\t\\hline\n",
       "\t1 & 500 & 3.74405e-6 \\\\\n",
       "\t2 & 1000 & 1.0403e-6 \\\\\n",
       "\t3 & 1500 & 2.20161e-5 \\\\\n",
       "\t4 & 2000 & 2.547e-5 \\\\\n",
       "\t5 & 2500 & 1.856e-5 \\\\\n",
       "\t6 & 3000 & 4.91575e-6 \\\\\n",
       "\t7 & 3500 & 2.1734e-5 \\\\\n",
       "\t8 & 4000 & 2.78229e-5 \\\\\n",
       "\t9 & 4500 & 2.39635e-5 \\\\\n",
       "\t10 & 5000 & 2.93788e-6 \\\\\n",
       "\\end{tabular}\n"
      ],
      "text/plain": [
       "\u001b[1m10×2 DataFrame\u001b[0m\n",
       "\u001b[1m Row \u001b[0m│\u001b[1m SIZE  \u001b[0m\u001b[1m std_time   \u001b[0m\n",
       "\u001b[1m     \u001b[0m│\u001b[90m Int64 \u001b[0m\u001b[90m Float64    \u001b[0m\n",
       "─────┼───────────────────\n",
       "   1 │   500  3.74405e-6\n",
       "   2 │  1000  1.0403e-6\n",
       "   3 │  1500  2.20161e-5\n",
       "   4 │  2000  2.547e-5\n",
       "   5 │  2500  1.856e-5\n",
       "   6 │  3000  4.91575e-6\n",
       "   7 │  3500  2.1734e-5\n",
       "   8 │  4000  2.78229e-5\n",
       "   9 │  4500  2.39635e-5\n",
       "  10 │  5000  2.93788e-6"
      ]
     },
     "execution_count": 155,
     "metadata": {},
     "output_type": "execute_result"
    }
   ],
   "source": [
    "dot_avrg = combine(dot_size_grouped, :TIME => mean => :mean_time)\n",
    "dot_std = combine(dot_size_grouped, :TIME => std => :std_time)"
   ]
  },
  {
   "cell_type": "code",
   "execution_count": 156,
   "id": "toxic-zimbabwe",
   "metadata": {},
   "outputs": [
    {
     "data": {
      "text/html": [
       "<table class=\"data-frame\"><thead><tr><th></th><th>SIZE</th><th>std_time</th></tr><tr><th></th><th>Int64</th><th>Float64</th></tr></thead><tbody><p>10 rows × 2 columns</p><tr><th>1</th><td>500</td><td>0.00359789</td></tr><tr><th>2</th><td>1000</td><td>0.00349968</td></tr><tr><th>3</th><td>1500</td><td>0.00441073</td></tr><tr><th>4</th><td>2000</td><td>0.00372016</td></tr><tr><th>5</th><td>2500</td><td>0.00933683</td></tr><tr><th>6</th><td>3000</td><td>0.00189577</td></tr><tr><th>7</th><td>3500</td><td>0.00966992</td></tr><tr><th>8</th><td>4000</td><td>0.0704478</td></tr><tr><th>9</th><td>4500</td><td>0.00288125</td></tr><tr><th>10</th><td>5000</td><td>0.0104955</td></tr></tbody></table>"
      ],
      "text/latex": [
       "\\begin{tabular}{r|cc}\n",
       "\t& SIZE & std\\_time\\\\\n",
       "\t\\hline\n",
       "\t& Int64 & Float64\\\\\n",
       "\t\\hline\n",
       "\t1 & 500 & 0.00359789 \\\\\n",
       "\t2 & 1000 & 0.00349968 \\\\\n",
       "\t3 & 1500 & 0.00441073 \\\\\n",
       "\t4 & 2000 & 0.00372016 \\\\\n",
       "\t5 & 2500 & 0.00933683 \\\\\n",
       "\t6 & 3000 & 0.00189577 \\\\\n",
       "\t7 & 3500 & 0.00966992 \\\\\n",
       "\t8 & 4000 & 0.0704478 \\\\\n",
       "\t9 & 4500 & 0.00288125 \\\\\n",
       "\t10 & 5000 & 0.0104955 \\\\\n",
       "\\end{tabular}\n"
      ],
      "text/plain": [
       "\u001b[1m10×2 DataFrame\u001b[0m\n",
       "\u001b[1m Row \u001b[0m│\u001b[1m SIZE  \u001b[0m\u001b[1m std_time   \u001b[0m\n",
       "\u001b[1m     \u001b[0m│\u001b[90m Int64 \u001b[0m\u001b[90m Float64    \u001b[0m\n",
       "─────┼───────────────────\n",
       "   1 │   500  0.00359789\n",
       "   2 │  1000  0.00349968\n",
       "   3 │  1500  0.00441073\n",
       "   4 │  2000  0.00372016\n",
       "   5 │  2500  0.00933683\n",
       "   6 │  3000  0.00189577\n",
       "   7 │  3500  0.00966992\n",
       "   8 │  4000  0.0704478\n",
       "   9 │  4500  0.00288125\n",
       "  10 │  5000  0.0104955"
      ]
     },
     "execution_count": 156,
     "metadata": {},
     "output_type": "execute_result"
    }
   ],
   "source": [
    "mv_avrg = combine(mv_size_grouped, :TIME => mean => :mean_time)\n",
    "mv_std = combine(mv_size_grouped, :TIME => std => :std_time)"
   ]
  },
  {
   "cell_type": "code",
   "execution_count": 157,
   "id": "fancy-tennessee",
   "metadata": {},
   "outputs": [
    {
     "data": {
      "image/svg+xml": [
       "<?xml version=\"1.0\" encoding=\"utf-8\"?>\n",
       "<svg xmlns=\"http://www.w3.org/2000/svg\" xmlns:xlink=\"http://www.w3.org/1999/xlink\" width=\"600\" height=\"400\" viewBox=\"0 0 2400 1600\">\n",
       "<defs>\n",
       "  <clipPath id=\"clip700\">\n",
       "    <rect x=\"0\" y=\"0\" width=\"2400\" height=\"1600\"/>\n",
       "  </clipPath>\n",
       "</defs>\n",
       "<path clip-path=\"url(#clip700)\" d=\"\n",
       "M0 1600 L2400 1600 L2400 0 L0 0  Z\n",
       "  \" fill=\"#ffffff\" fill-rule=\"evenodd\" fill-opacity=\"1\"/>\n",
       "<defs>\n",
       "  <clipPath id=\"clip701\">\n",
       "    <rect x=\"480\" y=\"0\" width=\"1681\" height=\"1600\"/>\n",
       "  </clipPath>\n",
       "</defs>\n",
       "<path clip-path=\"url(#clip700)\" d=\"\n",
       "M345.19 1423.18 L2352.76 1423.18 L2352.76 123.472 L345.19 123.472  Z\n",
       "  \" fill=\"#ffffff\" fill-rule=\"evenodd\" fill-opacity=\"1\"/>\n",
       "<defs>\n",
       "  <clipPath id=\"clip702\">\n",
       "    <rect x=\"345\" y=\"123\" width=\"2009\" height=\"1301\"/>\n",
       "  </clipPath>\n",
       "</defs>\n",
       "<polyline clip-path=\"url(#clip702)\" style=\"stroke:#000000; stroke-width:2; stroke-opacity:0.1; fill:none\" points=\"\n",
       "  612.444,1423.18 612.444,123.472 \n",
       "  \"/>\n",
       "<polyline clip-path=\"url(#clip702)\" style=\"stroke:#000000; stroke-width:2; stroke-opacity:0.1; fill:none\" points=\"\n",
       "  1033.32,1423.18 1033.32,123.472 \n",
       "  \"/>\n",
       "<polyline clip-path=\"url(#clip702)\" style=\"stroke:#000000; stroke-width:2; stroke-opacity:0.1; fill:none\" points=\"\n",
       "  1454.19,1423.18 1454.19,123.472 \n",
       "  \"/>\n",
       "<polyline clip-path=\"url(#clip702)\" style=\"stroke:#000000; stroke-width:2; stroke-opacity:0.1; fill:none\" points=\"\n",
       "  1875.06,1423.18 1875.06,123.472 \n",
       "  \"/>\n",
       "<polyline clip-path=\"url(#clip702)\" style=\"stroke:#000000; stroke-width:2; stroke-opacity:0.1; fill:none\" points=\"\n",
       "  2295.94,1423.18 2295.94,123.472 \n",
       "  \"/>\n",
       "<polyline clip-path=\"url(#clip700)\" style=\"stroke:#000000; stroke-width:4; stroke-opacity:1; fill:none\" points=\"\n",
       "  345.19,1423.18 2352.76,1423.18 \n",
       "  \"/>\n",
       "<polyline clip-path=\"url(#clip700)\" style=\"stroke:#000000; stroke-width:4; stroke-opacity:1; fill:none\" points=\"\n",
       "  612.444,1423.18 612.444,1407.58 \n",
       "  \"/>\n",
       "<polyline clip-path=\"url(#clip700)\" style=\"stroke:#000000; stroke-width:4; stroke-opacity:1; fill:none\" points=\"\n",
       "  1033.32,1423.18 1033.32,1407.58 \n",
       "  \"/>\n",
       "<polyline clip-path=\"url(#clip700)\" style=\"stroke:#000000; stroke-width:4; stroke-opacity:1; fill:none\" points=\"\n",
       "  1454.19,1423.18 1454.19,1407.58 \n",
       "  \"/>\n",
       "<polyline clip-path=\"url(#clip700)\" style=\"stroke:#000000; stroke-width:4; stroke-opacity:1; fill:none\" points=\"\n",
       "  1875.06,1423.18 1875.06,1407.58 \n",
       "  \"/>\n",
       "<polyline clip-path=\"url(#clip700)\" style=\"stroke:#000000; stroke-width:4; stroke-opacity:1; fill:none\" points=\"\n",
       "  2295.94,1423.18 2295.94,1407.58 \n",
       "  \"/>\n",
       "<path clip-path=\"url(#clip700)\" d=\"M 0 0 M562.306 1479.92 L569.945 1479.92 L569.945 1453.55 L561.634 1455.22 L561.634 1450.96 L569.898 1449.29 L574.574 1449.29 L574.574 1479.92 L582.213 1479.92 L582.213 1483.85 L562.306 1483.85 L562.306 1479.92 Z\" fill=\"#000000\" fill-rule=\"evenodd\" fill-opacity=\"1\" /><path clip-path=\"url(#clip700)\" d=\"M 0 0 M597.282 1452.37 Q593.671 1452.37 591.843 1455.94 Q590.037 1459.48 590.037 1466.61 Q590.037 1473.71 591.843 1477.28 Q593.671 1480.82 597.282 1480.82 Q600.917 1480.82 602.722 1477.28 Q604.551 1473.71 604.551 1466.61 Q604.551 1459.48 602.722 1455.94 Q600.917 1452.37 597.282 1452.37 M597.282 1448.67 Q603.092 1448.67 606.148 1453.27 Q609.227 1457.86 609.227 1466.61 Q609.227 1475.33 606.148 1479.94 Q603.092 1484.52 597.282 1484.52 Q591.472 1484.52 588.393 1479.94 Q585.338 1475.33 585.338 1466.61 Q585.338 1457.86 588.393 1453.27 Q591.472 1448.67 597.282 1448.67 Z\" fill=\"#000000\" fill-rule=\"evenodd\" fill-opacity=\"1\" /><path clip-path=\"url(#clip700)\" d=\"M 0 0 M624.296 1452.37 Q620.685 1452.37 618.856 1455.94 Q617.051 1459.48 617.051 1466.61 Q617.051 1473.71 618.856 1477.28 Q620.685 1480.82 624.296 1480.82 Q627.93 1480.82 629.736 1477.28 Q631.565 1473.71 631.565 1466.61 Q631.565 1459.48 629.736 1455.94 Q627.93 1452.37 624.296 1452.37 M624.296 1448.67 Q630.106 1448.67 633.162 1453.27 Q636.24 1457.86 636.24 1466.61 Q636.24 1475.33 633.162 1479.94 Q630.106 1484.52 624.296 1484.52 Q618.486 1484.52 615.407 1479.94 Q612.352 1475.33 612.352 1466.61 Q612.352 1457.86 615.407 1453.27 Q618.486 1448.67 624.296 1448.67 Z\" fill=\"#000000\" fill-rule=\"evenodd\" fill-opacity=\"1\" /><path clip-path=\"url(#clip700)\" d=\"M 0 0 M651.31 1452.37 Q647.699 1452.37 645.87 1455.94 Q644.064 1459.48 644.064 1466.61 Q644.064 1473.71 645.87 1477.28 Q647.699 1480.82 651.31 1480.82 Q654.944 1480.82 656.75 1477.28 Q658.578 1473.71 658.578 1466.61 Q658.578 1459.48 656.75 1455.94 Q654.944 1452.37 651.31 1452.37 M651.31 1448.67 Q657.12 1448.67 660.176 1453.27 Q663.254 1457.86 663.254 1466.61 Q663.254 1475.33 660.176 1479.94 Q657.12 1484.52 651.31 1484.52 Q645.5 1484.52 642.421 1479.94 Q639.365 1475.33 639.365 1466.61 Q639.365 1457.86 642.421 1453.27 Q645.5 1448.67 651.31 1448.67 Z\" fill=\"#000000\" fill-rule=\"evenodd\" fill-opacity=\"1\" /><path clip-path=\"url(#clip700)\" d=\"M 0 0 M987.45 1479.92 L1003.77 1479.92 L1003.77 1483.85 L981.825 1483.85 L981.825 1479.92 Q984.487 1477.16 989.07 1472.53 Q993.677 1467.88 994.857 1466.54 Q997.103 1464.01 997.982 1462.28 Q998.885 1460.52 998.885 1458.83 Q998.885 1456.07 996.941 1454.34 Q995.019 1452.6 991.917 1452.6 Q989.718 1452.6 987.265 1453.37 Q984.834 1454.13 982.056 1455.68 L982.056 1450.96 Q984.88 1449.82 987.334 1449.25 Q989.788 1448.67 991.825 1448.67 Q997.195 1448.67 1000.39 1451.35 Q1003.58 1454.04 1003.58 1458.53 Q1003.58 1460.66 1002.77 1462.58 Q1001.99 1464.48 999.88 1467.07 Q999.302 1467.74 996.2 1470.96 Q993.098 1474.15 987.45 1479.92 Z\" fill=\"#000000\" fill-rule=\"evenodd\" fill-opacity=\"1\" /><path clip-path=\"url(#clip700)\" d=\"M 0 0 M1018.84 1452.37 Q1015.23 1452.37 1013.4 1455.94 Q1011.59 1459.48 1011.59 1466.61 Q1011.59 1473.71 1013.4 1477.28 Q1015.23 1480.82 1018.84 1480.82 Q1022.47 1480.82 1024.28 1477.28 Q1026.11 1473.71 1026.11 1466.61 Q1026.11 1459.48 1024.28 1455.94 Q1022.47 1452.37 1018.84 1452.37 M1018.84 1448.67 Q1024.65 1448.67 1027.7 1453.27 Q1030.78 1457.86 1030.78 1466.61 Q1030.78 1475.33 1027.7 1479.94 Q1024.65 1484.52 1018.84 1484.52 Q1013.03 1484.52 1009.95 1479.94 Q1006.89 1475.33 1006.89 1466.61 Q1006.89 1457.86 1009.95 1453.27 Q1013.03 1448.67 1018.84 1448.67 Z\" fill=\"#000000\" fill-rule=\"evenodd\" fill-opacity=\"1\" /><path clip-path=\"url(#clip700)\" d=\"M 0 0 M1045.85 1452.37 Q1042.24 1452.37 1040.41 1455.94 Q1038.61 1459.48 1038.61 1466.61 Q1038.61 1473.71 1040.41 1477.28 Q1042.24 1480.82 1045.85 1480.82 Q1049.49 1480.82 1051.29 1477.28 Q1053.12 1473.71 1053.12 1466.61 Q1053.12 1459.48 1051.29 1455.94 Q1049.49 1452.37 1045.85 1452.37 M1045.85 1448.67 Q1051.66 1448.67 1054.72 1453.27 Q1057.8 1457.86 1057.8 1466.61 Q1057.8 1475.33 1054.72 1479.94 Q1051.66 1484.52 1045.85 1484.52 Q1040.04 1484.52 1036.96 1479.94 Q1033.91 1475.33 1033.91 1466.61 Q1033.91 1457.86 1036.96 1453.27 Q1040.04 1448.67 1045.85 1448.67 Z\" fill=\"#000000\" fill-rule=\"evenodd\" fill-opacity=\"1\" /><path clip-path=\"url(#clip700)\" d=\"M 0 0 M1072.87 1452.37 Q1069.26 1452.37 1067.43 1455.94 Q1065.62 1459.48 1065.62 1466.61 Q1065.62 1473.71 1067.43 1477.28 Q1069.26 1480.82 1072.87 1480.82 Q1076.5 1480.82 1078.31 1477.28 Q1080.13 1473.71 1080.13 1466.61 Q1080.13 1459.48 1078.31 1455.94 Q1076.5 1452.37 1072.87 1452.37 M1072.87 1448.67 Q1078.68 1448.67 1081.73 1453.27 Q1084.81 1457.86 1084.81 1466.61 Q1084.81 1475.33 1081.73 1479.94 Q1078.68 1484.52 1072.87 1484.52 Q1067.06 1484.52 1063.98 1479.94 Q1060.92 1475.33 1060.92 1466.61 Q1060.92 1457.86 1063.98 1453.27 Q1067.06 1448.67 1072.87 1448.67 Z\" fill=\"#000000\" fill-rule=\"evenodd\" fill-opacity=\"1\" /><path clip-path=\"url(#clip700)\" d=\"M 0 0 M1417.92 1465.22 Q1421.27 1465.94 1423.15 1468.2 Q1425.05 1470.47 1425.05 1473.81 Q1425.05 1478.92 1421.53 1481.72 Q1418.01 1484.52 1411.53 1484.52 Q1409.35 1484.52 1407.04 1484.08 Q1404.75 1483.67 1402.29 1482.81 L1402.29 1478.3 Q1404.24 1479.43 1406.55 1480.01 Q1408.87 1480.59 1411.39 1480.59 Q1415.79 1480.59 1418.08 1478.85 Q1420.4 1477.12 1420.4 1473.81 Q1420.4 1470.75 1418.24 1469.04 Q1416.11 1467.3 1412.29 1467.3 L1408.27 1467.3 L1408.27 1463.46 L1412.48 1463.46 Q1415.93 1463.46 1417.76 1462.09 Q1419.58 1460.7 1419.58 1458.11 Q1419.58 1455.45 1417.69 1454.04 Q1415.81 1452.6 1412.29 1452.6 Q1410.37 1452.6 1408.17 1453.02 Q1405.97 1453.44 1403.33 1454.31 L1403.33 1450.15 Q1406 1449.41 1408.31 1449.04 Q1410.65 1448.67 1412.71 1448.67 Q1418.03 1448.67 1421.14 1451.1 Q1424.24 1453.5 1424.24 1457.63 Q1424.24 1460.5 1422.59 1462.49 Q1420.95 1464.45 1417.92 1465.22 Z\" fill=\"#000000\" fill-rule=\"evenodd\" fill-opacity=\"1\" /><path clip-path=\"url(#clip700)\" d=\"M 0 0 M1440.12 1452.37 Q1436.51 1452.37 1434.68 1455.94 Q1432.87 1459.48 1432.87 1466.61 Q1432.87 1473.71 1434.68 1477.28 Q1436.51 1480.82 1440.12 1480.82 Q1443.75 1480.82 1445.56 1477.28 Q1447.39 1473.71 1447.39 1466.61 Q1447.39 1459.48 1445.56 1455.94 Q1443.75 1452.37 1440.12 1452.37 M1440.12 1448.67 Q1445.93 1448.67 1448.98 1453.27 Q1452.06 1457.86 1452.06 1466.61 Q1452.06 1475.33 1448.98 1479.94 Q1445.93 1484.52 1440.12 1484.52 Q1434.31 1484.52 1431.23 1479.94 Q1428.17 1475.33 1428.17 1466.61 Q1428.17 1457.86 1431.23 1453.27 Q1434.31 1448.67 1440.12 1448.67 Z\" fill=\"#000000\" fill-rule=\"evenodd\" fill-opacity=\"1\" /><path clip-path=\"url(#clip700)\" d=\"M 0 0 M1467.13 1452.37 Q1463.52 1452.37 1461.69 1455.94 Q1459.89 1459.48 1459.89 1466.61 Q1459.89 1473.71 1461.69 1477.28 Q1463.52 1480.82 1467.13 1480.82 Q1470.77 1480.82 1472.57 1477.28 Q1474.4 1473.71 1474.4 1466.61 Q1474.4 1459.48 1472.57 1455.94 Q1470.77 1452.37 1467.13 1452.37 M1467.13 1448.67 Q1472.94 1448.67 1476 1453.27 Q1479.08 1457.86 1479.08 1466.61 Q1479.08 1475.33 1476 1479.94 Q1472.94 1484.52 1467.13 1484.52 Q1461.32 1484.52 1458.24 1479.94 Q1455.19 1475.33 1455.19 1466.61 Q1455.19 1457.86 1458.24 1453.27 Q1461.32 1448.67 1467.13 1448.67 Z\" fill=\"#000000\" fill-rule=\"evenodd\" fill-opacity=\"1\" /><path clip-path=\"url(#clip700)\" d=\"M 0 0 M1494.14 1452.37 Q1490.53 1452.37 1488.7 1455.94 Q1486.9 1459.48 1486.9 1466.61 Q1486.9 1473.71 1488.7 1477.28 Q1490.53 1480.82 1494.14 1480.82 Q1497.78 1480.82 1499.58 1477.28 Q1501.41 1473.71 1501.41 1466.61 Q1501.41 1459.48 1499.58 1455.94 Q1497.78 1452.37 1494.14 1452.37 M1494.14 1448.67 Q1499.95 1448.67 1503.01 1453.27 Q1506.09 1457.86 1506.09 1466.61 Q1506.09 1475.33 1503.01 1479.94 Q1499.95 1484.52 1494.14 1484.52 Q1488.33 1484.52 1485.26 1479.94 Q1482.2 1475.33 1482.2 1466.61 Q1482.2 1457.86 1485.26 1453.27 Q1488.33 1448.67 1494.14 1448.67 Z\" fill=\"#000000\" fill-rule=\"evenodd\" fill-opacity=\"1\" /><path clip-path=\"url(#clip700)\" d=\"M 0 0 M1837.55 1453.37 L1825.75 1471.81 L1837.55 1471.81 L1837.55 1453.37 M1836.33 1449.29 L1842.21 1449.29 L1842.21 1471.81 L1847.14 1471.81 L1847.14 1475.7 L1842.21 1475.7 L1842.21 1483.85 L1837.55 1483.85 L1837.55 1475.7 L1821.95 1475.7 L1821.95 1471.19 L1836.33 1449.29 Z\" fill=\"#000000\" fill-rule=\"evenodd\" fill-opacity=\"1\" /><path clip-path=\"url(#clip700)\" d=\"M 0 0 M1862.21 1452.37 Q1858.59 1452.37 1856.77 1455.94 Q1854.96 1459.48 1854.96 1466.61 Q1854.96 1473.71 1856.77 1477.28 Q1858.59 1480.82 1862.21 1480.82 Q1865.84 1480.82 1867.65 1477.28 Q1869.47 1473.71 1869.47 1466.61 Q1869.47 1459.48 1867.65 1455.94 Q1865.84 1452.37 1862.21 1452.37 M1862.21 1448.67 Q1868.02 1448.67 1871.07 1453.27 Q1874.15 1457.86 1874.15 1466.61 Q1874.15 1475.33 1871.07 1479.94 Q1868.02 1484.52 1862.21 1484.52 Q1856.4 1484.52 1853.32 1479.94 Q1850.26 1475.33 1850.26 1466.61 Q1850.26 1457.86 1853.32 1453.27 Q1856.4 1448.67 1862.21 1448.67 Z\" fill=\"#000000\" fill-rule=\"evenodd\" fill-opacity=\"1\" /><path clip-path=\"url(#clip700)\" d=\"M 0 0 M1889.22 1452.37 Q1885.61 1452.37 1883.78 1455.94 Q1881.97 1459.48 1881.97 1466.61 Q1881.97 1473.71 1883.78 1477.28 Q1885.61 1480.82 1889.22 1480.82 Q1892.85 1480.82 1894.66 1477.28 Q1896.49 1473.71 1896.49 1466.61 Q1896.49 1459.48 1894.66 1455.94 Q1892.85 1452.37 1889.22 1452.37 M1889.22 1448.67 Q1895.03 1448.67 1898.09 1453.27 Q1901.16 1457.86 1901.16 1466.61 Q1901.16 1475.33 1898.09 1479.94 Q1895.03 1484.52 1889.22 1484.52 Q1883.41 1484.52 1880.33 1479.94 Q1877.28 1475.33 1877.28 1466.61 Q1877.28 1457.86 1880.33 1453.27 Q1883.41 1448.67 1889.22 1448.67 Z\" fill=\"#000000\" fill-rule=\"evenodd\" fill-opacity=\"1\" /><path clip-path=\"url(#clip700)\" d=\"M 0 0 M1916.23 1452.37 Q1912.62 1452.37 1910.79 1455.94 Q1908.99 1459.48 1908.99 1466.61 Q1908.99 1473.71 1910.79 1477.28 Q1912.62 1480.82 1916.23 1480.82 Q1919.87 1480.82 1921.67 1477.28 Q1923.5 1473.71 1923.5 1466.61 Q1923.5 1459.48 1921.67 1455.94 Q1919.87 1452.37 1916.23 1452.37 M1916.23 1448.67 Q1922.04 1448.67 1925.1 1453.27 Q1928.18 1457.86 1928.18 1466.61 Q1928.18 1475.33 1925.1 1479.94 Q1922.04 1484.52 1916.23 1484.52 Q1910.42 1484.52 1907.34 1479.94 Q1904.29 1475.33 1904.29 1466.61 Q1904.29 1457.86 1907.34 1453.27 Q1910.42 1448.67 1916.23 1448.67 Z\" fill=\"#000000\" fill-rule=\"evenodd\" fill-opacity=\"1\" /><path clip-path=\"url(#clip700)\" d=\"M 0 0 M2245.7 1449.29 L2264.05 1449.29 L2264.05 1453.23 L2249.98 1453.23 L2249.98 1461.7 Q2251 1461.35 2252.01 1461.19 Q2253.03 1461 2254.05 1461 Q2259.84 1461 2263.22 1464.18 Q2266.6 1467.35 2266.6 1472.76 Q2266.6 1478.34 2263.13 1481.44 Q2259.65 1484.52 2253.33 1484.52 Q2251.16 1484.52 2248.89 1484.15 Q2246.64 1483.78 2244.24 1483.04 L2244.24 1478.34 Q2246.32 1479.48 2248.54 1480.03 Q2250.76 1480.59 2253.24 1480.59 Q2257.25 1480.59 2259.58 1478.48 Q2261.92 1476.38 2261.92 1472.76 Q2261.92 1469.15 2259.58 1467.05 Q2257.25 1464.94 2253.24 1464.94 Q2251.37 1464.94 2249.49 1465.36 Q2247.64 1465.77 2245.7 1466.65 L2245.7 1449.29 Z\" fill=\"#000000\" fill-rule=\"evenodd\" fill-opacity=\"1\" /><path clip-path=\"url(#clip700)\" d=\"M 0 0 M2281.67 1452.37 Q2278.06 1452.37 2276.23 1455.94 Q2274.42 1459.48 2274.42 1466.61 Q2274.42 1473.71 2276.23 1477.28 Q2278.06 1480.82 2281.67 1480.82 Q2285.3 1480.82 2287.11 1477.28 Q2288.94 1473.71 2288.94 1466.61 Q2288.94 1459.48 2287.11 1455.94 Q2285.3 1452.37 2281.67 1452.37 M2281.67 1448.67 Q2287.48 1448.67 2290.53 1453.27 Q2293.61 1457.86 2293.61 1466.61 Q2293.61 1475.33 2290.53 1479.94 Q2287.48 1484.52 2281.67 1484.52 Q2275.86 1484.52 2272.78 1479.94 Q2269.72 1475.33 2269.72 1466.61 Q2269.72 1457.86 2272.78 1453.27 Q2275.86 1448.67 2281.67 1448.67 Z\" fill=\"#000000\" fill-rule=\"evenodd\" fill-opacity=\"1\" /><path clip-path=\"url(#clip700)\" d=\"M 0 0 M2308.68 1452.37 Q2305.07 1452.37 2303.24 1455.94 Q2301.44 1459.48 2301.44 1466.61 Q2301.44 1473.71 2303.24 1477.28 Q2305.07 1480.82 2308.68 1480.82 Q2312.32 1480.82 2314.12 1477.28 Q2315.95 1473.71 2315.95 1466.61 Q2315.95 1459.48 2314.12 1455.94 Q2312.32 1452.37 2308.68 1452.37 M2308.68 1448.67 Q2314.49 1448.67 2317.55 1453.27 Q2320.63 1457.86 2320.63 1466.61 Q2320.63 1475.33 2317.55 1479.94 Q2314.49 1484.52 2308.68 1484.52 Q2302.87 1484.52 2299.79 1479.94 Q2296.74 1475.33 2296.74 1466.61 Q2296.74 1457.86 2299.79 1453.27 Q2302.87 1448.67 2308.68 1448.67 Z\" fill=\"#000000\" fill-rule=\"evenodd\" fill-opacity=\"1\" /><path clip-path=\"url(#clip700)\" d=\"M 0 0 M2335.69 1452.37 Q2332.08 1452.37 2330.25 1455.94 Q2328.45 1459.48 2328.45 1466.61 Q2328.45 1473.71 2330.25 1477.28 Q2332.08 1480.82 2335.69 1480.82 Q2339.33 1480.82 2341.13 1477.28 Q2342.96 1473.71 2342.96 1466.61 Q2342.96 1459.48 2341.13 1455.94 Q2339.33 1452.37 2335.69 1452.37 M2335.69 1448.67 Q2341.5 1448.67 2344.56 1453.27 Q2347.64 1457.86 2347.64 1466.61 Q2347.64 1475.33 2344.56 1479.94 Q2341.5 1484.52 2335.69 1484.52 Q2329.88 1484.52 2326.81 1479.94 Q2323.75 1475.33 2323.75 1466.61 Q2323.75 1457.86 2326.81 1453.27 Q2329.88 1448.67 2335.69 1448.67 Z\" fill=\"#000000\" fill-rule=\"evenodd\" fill-opacity=\"1\" /><path clip-path=\"url(#clip700)\" d=\"M 0 0 M1322.81 1522.08 L1322.81 1528.35 Q1319.15 1526.6 1315.9 1525.74 Q1312.66 1524.88 1309.63 1524.88 Q1304.38 1524.88 1301.52 1526.92 Q1298.68 1528.96 1298.68 1532.71 Q1298.68 1535.87 1300.56 1537.49 Q1302.47 1539.08 1307.75 1540.07 L1311.64 1540.86 Q1318.83 1542.23 1322.24 1545.7 Q1325.67 1549.14 1325.67 1554.93 Q1325.67 1561.84 1321.03 1565.4 Q1316.41 1568.97 1307.47 1568.97 Q1304.09 1568.97 1300.28 1568.2 Q1296.49 1567.44 1292.41 1565.94 L1292.41 1559.32 Q1296.33 1561.52 1300.08 1562.63 Q1303.84 1563.75 1307.47 1563.75 Q1312.97 1563.75 1315.97 1561.58 Q1318.96 1559.42 1318.96 1555.41 Q1318.96 1551.91 1316.79 1549.93 Q1314.66 1547.96 1309.76 1546.97 L1305.85 1546.21 Q1298.65 1544.78 1295.44 1541.72 Q1292.22 1538.67 1292.22 1533.22 Q1292.22 1526.92 1296.65 1523.29 Q1301.1 1519.66 1308.9 1519.66 Q1312.24 1519.66 1315.71 1520.27 Q1319.18 1520.87 1322.81 1522.08 Z\" fill=\"#000000\" fill-rule=\"evenodd\" fill-opacity=\"1\" /><path clip-path=\"url(#clip700)\" d=\"M 0 0 M1331.82 1532.4 L1337.67 1532.4 L1337.67 1568.04 L1331.82 1568.04 L1331.82 1532.4 M1331.82 1518.52 L1337.67 1518.52 L1337.67 1525.93 L1331.82 1525.93 L1331.82 1518.52 Z\" fill=\"#000000\" fill-rule=\"evenodd\" fill-opacity=\"1\" /><path clip-path=\"url(#clip700)\" d=\"M 0 0 M1341.27 1532.4 L1369.09 1532.4 L1369.09 1537.74 L1347.06 1563.37 L1369.09 1563.37 L1369.09 1568.04 L1340.47 1568.04 L1340.47 1562.7 L1362.5 1537.07 L1341.27 1537.07 L1341.27 1532.4 Z\" fill=\"#000000\" fill-rule=\"evenodd\" fill-opacity=\"1\" /><path clip-path=\"url(#clip700)\" d=\"M 0 0 M1405.72 1548.76 L1405.72 1551.62 L1378.8 1551.62 Q1379.18 1557.67 1382.42 1560.85 Q1385.7 1564 1391.53 1564 Q1394.9 1564 1398.05 1563.17 Q1401.24 1562.35 1404.35 1560.69 L1404.35 1566.23 Q1401.2 1567.57 1397.89 1568.27 Q1394.58 1568.97 1391.18 1568.97 Q1382.65 1568.97 1377.65 1564 Q1372.69 1559.04 1372.69 1550.57 Q1372.69 1541.82 1377.4 1536.69 Q1382.14 1531.54 1390.16 1531.54 Q1397.35 1531.54 1401.52 1536.18 Q1405.72 1540.8 1405.72 1548.76 M1399.87 1547.04 Q1399.8 1542.23 1397.16 1539.37 Q1394.55 1536.5 1390.22 1536.5 Q1385.32 1536.5 1382.36 1539.27 Q1379.43 1542.04 1378.99 1547.07 L1399.87 1547.04 Z\" fill=\"#000000\" fill-rule=\"evenodd\" fill-opacity=\"1\" /><polyline clip-path=\"url(#clip702)\" style=\"stroke:#000000; stroke-width:2; stroke-opacity:0.1; fill:none\" points=\"\n",
       "  345.19,1285.64 2352.76,1285.64 \n",
       "  \"/>\n",
       "<polyline clip-path=\"url(#clip702)\" style=\"stroke:#000000; stroke-width:2; stroke-opacity:0.1; fill:none\" points=\"\n",
       "  345.19,995.241 2352.76,995.241 \n",
       "  \"/>\n",
       "<polyline clip-path=\"url(#clip702)\" style=\"stroke:#000000; stroke-width:2; stroke-opacity:0.1; fill:none\" points=\"\n",
       "  345.19,704.844 2352.76,704.844 \n",
       "  \"/>\n",
       "<polyline clip-path=\"url(#clip702)\" style=\"stroke:#000000; stroke-width:2; stroke-opacity:0.1; fill:none\" points=\"\n",
       "  345.19,414.446 2352.76,414.446 \n",
       "  \"/>\n",
       "<polyline clip-path=\"url(#clip702)\" style=\"stroke:#000000; stroke-width:2; stroke-opacity:0.1; fill:none\" points=\"\n",
       "  345.19,124.049 2352.76,124.049 \n",
       "  \"/>\n",
       "<polyline clip-path=\"url(#clip700)\" style=\"stroke:#000000; stroke-width:4; stroke-opacity:1; fill:none\" points=\"\n",
       "  345.19,1423.18 345.19,123.472 \n",
       "  \"/>\n",
       "<polyline clip-path=\"url(#clip700)\" style=\"stroke:#000000; stroke-width:4; stroke-opacity:1; fill:none\" points=\"\n",
       "  345.19,1285.64 369.28,1285.64 \n",
       "  \"/>\n",
       "<polyline clip-path=\"url(#clip700)\" style=\"stroke:#000000; stroke-width:4; stroke-opacity:1; fill:none\" points=\"\n",
       "  345.19,995.241 369.28,995.241 \n",
       "  \"/>\n",
       "<polyline clip-path=\"url(#clip700)\" style=\"stroke:#000000; stroke-width:4; stroke-opacity:1; fill:none\" points=\"\n",
       "  345.19,704.844 369.28,704.844 \n",
       "  \"/>\n",
       "<polyline clip-path=\"url(#clip700)\" style=\"stroke:#000000; stroke-width:4; stroke-opacity:1; fill:none\" points=\"\n",
       "  345.19,414.446 369.28,414.446 \n",
       "  \"/>\n",
       "<polyline clip-path=\"url(#clip700)\" style=\"stroke:#000000; stroke-width:4; stroke-opacity:1; fill:none\" points=\"\n",
       "  345.19,124.049 369.28,124.049 \n",
       "  \"/>\n",
       "<path clip-path=\"url(#clip700)\" d=\"M 0 0 M127.802 1271.44 Q124.191 1271.44 122.362 1275 Q120.556 1278.54 120.556 1285.67 Q120.556 1292.78 122.362 1296.34 Q124.191 1299.89 127.802 1299.89 Q131.436 1299.89 133.242 1296.34 Q135.07 1292.78 135.07 1285.67 Q135.07 1278.54 133.242 1275 Q131.436 1271.44 127.802 1271.44 M127.802 1267.73 Q133.612 1267.73 136.667 1272.34 Q139.746 1276.92 139.746 1285.67 Q139.746 1294.4 136.667 1299.01 Q133.612 1303.59 127.802 1303.59 Q121.992 1303.59 118.913 1299.01 Q115.857 1294.4 115.857 1285.67 Q115.857 1276.92 118.913 1272.34 Q121.992 1267.73 127.802 1267.73 Z\" fill=\"#000000\" fill-rule=\"evenodd\" fill-opacity=\"1\" /><path clip-path=\"url(#clip700)\" d=\"M 0 0 M144.816 1297.04 L149.7 1297.04 L149.7 1302.92 L144.816 1302.92 L144.816 1297.04 Z\" fill=\"#000000\" fill-rule=\"evenodd\" fill-opacity=\"1\" /><path clip-path=\"url(#clip700)\" d=\"M 0 0 M164.769 1271.44 Q161.158 1271.44 159.329 1275 Q157.524 1278.54 157.524 1285.67 Q157.524 1292.78 159.329 1296.34 Q161.158 1299.89 164.769 1299.89 Q168.403 1299.89 170.209 1296.34 Q172.038 1292.78 172.038 1285.67 Q172.038 1278.54 170.209 1275 Q168.403 1271.44 164.769 1271.44 M164.769 1267.73 Q170.579 1267.73 173.635 1272.34 Q176.714 1276.92 176.714 1285.67 Q176.714 1294.4 173.635 1299.01 Q170.579 1303.59 164.769 1303.59 Q158.959 1303.59 155.88 1299.01 Q152.825 1294.4 152.825 1285.67 Q152.825 1276.92 155.88 1272.34 Q158.959 1267.73 164.769 1267.73 Z\" fill=\"#000000\" fill-rule=\"evenodd\" fill-opacity=\"1\" /><path clip-path=\"url(#clip700)\" d=\"M 0 0 M191.783 1271.44 Q188.172 1271.44 186.343 1275 Q184.538 1278.54 184.538 1285.67 Q184.538 1292.78 186.343 1296.34 Q188.172 1299.89 191.783 1299.89 Q195.417 1299.89 197.223 1296.34 Q199.051 1292.78 199.051 1285.67 Q199.051 1278.54 197.223 1275 Q195.417 1271.44 191.783 1271.44 M191.783 1267.73 Q197.593 1267.73 200.649 1272.34 Q203.727 1276.92 203.727 1285.67 Q203.727 1294.4 200.649 1299.01 Q197.593 1303.59 191.783 1303.59 Q185.973 1303.59 182.894 1299.01 Q179.839 1294.4 179.839 1285.67 Q179.839 1276.92 182.894 1272.34 Q185.973 1267.73 191.783 1267.73 Z\" fill=\"#000000\" fill-rule=\"evenodd\" fill-opacity=\"1\" /><path clip-path=\"url(#clip700)\" d=\"M 0 0 M218.797 1271.44 Q215.186 1271.44 213.357 1275 Q211.551 1278.54 211.551 1285.67 Q211.551 1292.78 213.357 1296.34 Q215.186 1299.89 218.797 1299.89 Q222.431 1299.89 224.236 1296.34 Q226.065 1292.78 226.065 1285.67 Q226.065 1278.54 224.236 1275 Q222.431 1271.44 218.797 1271.44 M218.797 1267.73 Q224.607 1267.73 227.662 1272.34 Q230.741 1276.92 230.741 1285.67 Q230.741 1294.4 227.662 1299.01 Q224.607 1303.59 218.797 1303.59 Q212.986 1303.59 209.908 1299.01 Q206.852 1294.4 206.852 1285.67 Q206.852 1276.92 209.908 1272.34 Q212.986 1267.73 218.797 1267.73 Z\" fill=\"#000000\" fill-rule=\"evenodd\" fill-opacity=\"1\" /><path clip-path=\"url(#clip700)\" d=\"M 0 0 M245.81 1271.44 Q242.199 1271.44 240.371 1275 Q238.565 1278.54 238.565 1285.67 Q238.565 1292.78 240.371 1296.34 Q242.199 1299.89 245.81 1299.89 Q249.445 1299.89 251.25 1296.34 Q253.079 1292.78 253.079 1285.67 Q253.079 1278.54 251.25 1275 Q249.445 1271.44 245.81 1271.44 M245.81 1267.73 Q251.621 1267.73 254.676 1272.34 Q257.755 1276.92 257.755 1285.67 Q257.755 1294.4 254.676 1299.01 Q251.621 1303.59 245.81 1303.59 Q240 1303.59 236.922 1299.01 Q233.866 1294.4 233.866 1285.67 Q233.866 1276.92 236.922 1272.34 Q240 1267.73 245.81 1267.73 Z\" fill=\"#000000\" fill-rule=\"evenodd\" fill-opacity=\"1\" /><path clip-path=\"url(#clip700)\" d=\"M 0 0 M266.852 1298.98 L283.171 1298.98 L283.171 1302.92 L261.227 1302.92 L261.227 1298.98 Q263.889 1296.23 268.472 1291.6 Q273.079 1286.95 274.259 1285.6 Q276.505 1283.08 277.384 1281.34 Q278.287 1279.59 278.287 1277.9 Q278.287 1275.14 276.343 1273.41 Q274.421 1271.67 271.32 1271.67 Q269.12 1271.67 266.667 1272.43 Q264.236 1273.2 261.458 1274.75 L261.458 1270.03 Q264.283 1268.89 266.736 1268.31 Q269.19 1267.73 271.227 1267.73 Q276.597 1267.73 279.792 1270.42 Q282.986 1273.1 282.986 1277.59 Q282.986 1279.72 282.176 1281.65 Q281.389 1283.54 279.282 1286.14 Q278.704 1286.81 275.602 1290.03 Q272.5 1293.22 266.852 1298.98 Z\" fill=\"#000000\" fill-rule=\"evenodd\" fill-opacity=\"1\" /><path clip-path=\"url(#clip700)\" d=\"M 0 0 M288.287 1268.36 L306.643 1268.36 L306.643 1272.29 L292.569 1272.29 L292.569 1280.77 Q293.588 1280.42 294.606 1280.26 Q295.625 1280.07 296.643 1280.07 Q302.43 1280.07 305.81 1283.24 Q309.19 1286.41 309.19 1291.83 Q309.19 1297.41 305.717 1300.51 Q302.245 1303.59 295.926 1303.59 Q293.75 1303.59 291.481 1303.22 Q289.236 1302.85 286.829 1302.11 L286.829 1297.41 Q288.912 1298.54 291.134 1299.1 Q293.356 1299.65 295.833 1299.65 Q299.838 1299.65 302.176 1297.55 Q304.514 1295.44 304.514 1291.83 Q304.514 1288.22 302.176 1286.11 Q299.838 1284.01 295.833 1284.01 Q293.958 1284.01 292.083 1284.42 Q290.231 1284.84 288.287 1285.72 L288.287 1268.36 Z\" fill=\"#000000\" fill-rule=\"evenodd\" fill-opacity=\"1\" /><path clip-path=\"url(#clip700)\" d=\"M 0 0 M126.205 981.04 Q122.593 981.04 120.765 984.605 Q118.959 988.146 118.959 995.276 Q118.959 1002.38 120.765 1005.95 Q122.593 1009.49 126.205 1009.49 Q129.839 1009.49 131.644 1005.95 Q133.473 1002.38 133.473 995.276 Q133.473 988.146 131.644 984.605 Q129.839 981.04 126.205 981.04 M126.205 977.336 Q132.015 977.336 135.07 981.943 Q138.149 986.526 138.149 995.276 Q138.149 1004 135.07 1008.61 Q132.015 1013.19 126.205 1013.19 Q120.394 1013.19 117.316 1008.61 Q114.26 1004 114.26 995.276 Q114.26 986.526 117.316 981.943 Q120.394 977.336 126.205 977.336 Z\" fill=\"#000000\" fill-rule=\"evenodd\" fill-opacity=\"1\" /><path clip-path=\"url(#clip700)\" d=\"M 0 0 M143.218 1006.64 L148.103 1006.64 L148.103 1012.52 L143.218 1012.52 L143.218 1006.64 Z\" fill=\"#000000\" fill-rule=\"evenodd\" fill-opacity=\"1\" /><path clip-path=\"url(#clip700)\" d=\"M 0 0 M163.172 981.04 Q159.561 981.04 157.732 984.605 Q155.927 988.146 155.927 995.276 Q155.927 1002.38 157.732 1005.95 Q159.561 1009.49 163.172 1009.49 Q166.806 1009.49 168.612 1005.95 Q170.44 1002.38 170.44 995.276 Q170.44 988.146 168.612 984.605 Q166.806 981.04 163.172 981.04 M163.172 977.336 Q168.982 977.336 172.038 981.943 Q175.116 986.526 175.116 995.276 Q175.116 1004 172.038 1008.61 Q168.982 1013.19 163.172 1013.19 Q157.362 1013.19 154.283 1008.61 Q151.228 1004 151.228 995.276 Q151.228 986.526 154.283 981.943 Q157.362 977.336 163.172 977.336 Z\" fill=\"#000000\" fill-rule=\"evenodd\" fill-opacity=\"1\" /><path clip-path=\"url(#clip700)\" d=\"M 0 0 M190.186 981.04 Q186.575 981.04 184.746 984.605 Q182.94 988.146 182.94 995.276 Q182.94 1002.38 184.746 1005.95 Q186.575 1009.49 190.186 1009.49 Q193.82 1009.49 195.625 1005.95 Q197.454 1002.38 197.454 995.276 Q197.454 988.146 195.625 984.605 Q193.82 981.04 190.186 981.04 M190.186 977.336 Q195.996 977.336 199.051 981.943 Q202.13 986.526 202.13 995.276 Q202.13 1004 199.051 1008.61 Q195.996 1013.19 190.186 1013.19 Q184.376 1013.19 181.297 1008.61 Q178.241 1004 178.241 995.276 Q178.241 986.526 181.297 981.943 Q184.376 977.336 190.186 977.336 Z\" fill=\"#000000\" fill-rule=\"evenodd\" fill-opacity=\"1\" /><path clip-path=\"url(#clip700)\" d=\"M 0 0 M217.199 981.04 Q213.588 981.04 211.76 984.605 Q209.954 988.146 209.954 995.276 Q209.954 1002.38 211.76 1005.95 Q213.588 1009.49 217.199 1009.49 Q220.834 1009.49 222.639 1005.95 Q224.468 1002.38 224.468 995.276 Q224.468 988.146 222.639 984.605 Q220.834 981.04 217.199 981.04 M217.199 977.336 Q223.01 977.336 226.065 981.943 Q229.144 986.526 229.144 995.276 Q229.144 1004 226.065 1008.61 Q223.01 1013.19 217.199 1013.19 Q211.389 1013.19 208.311 1008.61 Q205.255 1004 205.255 995.276 Q205.255 986.526 208.311 981.943 Q211.389 977.336 217.199 977.336 Z\" fill=\"#000000\" fill-rule=\"evenodd\" fill-opacity=\"1\" /><path clip-path=\"url(#clip700)\" d=\"M 0 0 M244.213 981.04 Q240.602 981.04 238.773 984.605 Q236.968 988.146 236.968 995.276 Q236.968 1002.38 238.773 1005.95 Q240.602 1009.49 244.213 1009.49 Q247.847 1009.49 249.653 1005.95 Q251.482 1002.38 251.482 995.276 Q251.482 988.146 249.653 984.605 Q247.847 981.04 244.213 981.04 M244.213 977.336 Q250.023 977.336 253.079 981.943 Q256.158 986.526 256.158 995.276 Q256.158 1004 253.079 1008.61 Q250.023 1013.19 244.213 1013.19 Q238.403 1013.19 235.324 1008.61 Q232.269 1004 232.269 995.276 Q232.269 986.526 235.324 981.943 Q238.403 977.336 244.213 977.336 Z\" fill=\"#000000\" fill-rule=\"evenodd\" fill-opacity=\"1\" /><path clip-path=\"url(#clip700)\" d=\"M 0 0 M261.273 977.961 L279.63 977.961 L279.63 981.896 L265.556 981.896 L265.556 990.369 Q266.574 990.021 267.593 989.859 Q268.611 989.674 269.63 989.674 Q275.417 989.674 278.796 992.845 Q282.176 996.017 282.176 1001.43 Q282.176 1007.01 278.704 1010.11 Q275.232 1013.19 268.912 1013.19 Q266.736 1013.19 264.468 1012.82 Q262.222 1012.45 259.815 1011.71 L259.815 1007.01 Q261.898 1008.15 264.12 1008.7 Q266.343 1009.26 268.82 1009.26 Q272.824 1009.26 275.162 1007.15 Q277.5 1005.04 277.5 1001.43 Q277.5 997.822 275.162 995.716 Q272.824 993.609 268.82 993.609 Q266.945 993.609 265.07 994.026 Q263.218 994.443 261.273 995.322 L261.273 977.961 Z\" fill=\"#000000\" fill-rule=\"evenodd\" fill-opacity=\"1\" /><path clip-path=\"url(#clip700)\" d=\"M 0 0 M297.245 981.04 Q293.634 981.04 291.806 984.605 Q290 988.146 290 995.276 Q290 1002.38 291.806 1005.95 Q293.634 1009.49 297.245 1009.49 Q300.88 1009.49 302.685 1005.95 Q304.514 1002.38 304.514 995.276 Q304.514 988.146 302.685 984.605 Q300.88 981.04 297.245 981.04 M297.245 977.336 Q303.055 977.336 306.111 981.943 Q309.19 986.526 309.19 995.276 Q309.19 1004 306.111 1008.61 Q303.055 1013.19 297.245 1013.19 Q291.435 1013.19 288.356 1008.61 Q285.301 1004 285.301 995.276 Q285.301 986.526 288.356 981.943 Q291.435 977.336 297.245 977.336 Z\" fill=\"#000000\" fill-rule=\"evenodd\" fill-opacity=\"1\" /><path clip-path=\"url(#clip700)\" d=\"M 0 0 M127.107 690.643 Q123.496 690.643 121.668 694.207 Q119.862 697.749 119.862 704.879 Q119.862 711.985 121.668 715.55 Q123.496 719.091 127.107 719.091 Q130.742 719.091 132.547 715.55 Q134.376 711.985 134.376 704.879 Q134.376 697.749 132.547 694.207 Q130.742 690.643 127.107 690.643 M127.107 686.939 Q132.917 686.939 135.973 691.545 Q139.052 696.129 139.052 704.879 Q139.052 713.605 135.973 718.212 Q132.917 722.795 127.107 722.795 Q121.297 722.795 118.218 718.212 Q115.163 713.605 115.163 704.879 Q115.163 696.129 118.218 691.545 Q121.297 686.939 127.107 686.939 Z\" fill=\"#000000\" fill-rule=\"evenodd\" fill-opacity=\"1\" /><path clip-path=\"url(#clip700)\" d=\"M 0 0 M144.121 716.244 L149.005 716.244 L149.005 722.124 L144.121 722.124 L144.121 716.244 Z\" fill=\"#000000\" fill-rule=\"evenodd\" fill-opacity=\"1\" /><path clip-path=\"url(#clip700)\" d=\"M 0 0 M164.075 690.643 Q160.464 690.643 158.635 694.207 Q156.829 697.749 156.829 704.879 Q156.829 711.985 158.635 715.55 Q160.464 719.091 164.075 719.091 Q167.709 719.091 169.514 715.55 Q171.343 711.985 171.343 704.879 Q171.343 697.749 169.514 694.207 Q167.709 690.643 164.075 690.643 M164.075 686.939 Q169.885 686.939 172.94 691.545 Q176.019 696.129 176.019 704.879 Q176.019 713.605 172.94 718.212 Q169.885 722.795 164.075 722.795 Q158.265 722.795 155.186 718.212 Q152.13 713.605 152.13 704.879 Q152.13 696.129 155.186 691.545 Q158.265 686.939 164.075 686.939 Z\" fill=\"#000000\" fill-rule=\"evenodd\" fill-opacity=\"1\" /><path clip-path=\"url(#clip700)\" d=\"M 0 0 M191.088 690.643 Q187.477 690.643 185.649 694.207 Q183.843 697.749 183.843 704.879 Q183.843 711.985 185.649 715.55 Q187.477 719.091 191.088 719.091 Q194.723 719.091 196.528 715.55 Q198.357 711.985 198.357 704.879 Q198.357 697.749 196.528 694.207 Q194.723 690.643 191.088 690.643 M191.088 686.939 Q196.899 686.939 199.954 691.545 Q203.033 696.129 203.033 704.879 Q203.033 713.605 199.954 718.212 Q196.899 722.795 191.088 722.795 Q185.278 722.795 182.2 718.212 Q179.144 713.605 179.144 704.879 Q179.144 696.129 182.2 691.545 Q185.278 686.939 191.088 686.939 Z\" fill=\"#000000\" fill-rule=\"evenodd\" fill-opacity=\"1\" /><path clip-path=\"url(#clip700)\" d=\"M 0 0 M218.102 690.643 Q214.491 690.643 212.662 694.207 Q210.857 697.749 210.857 704.879 Q210.857 711.985 212.662 715.55 Q214.491 719.091 218.102 719.091 Q221.736 719.091 223.542 715.55 Q225.371 711.985 225.371 704.879 Q225.371 697.749 223.542 694.207 Q221.736 690.643 218.102 690.643 M218.102 686.939 Q223.912 686.939 226.968 691.545 Q230.047 696.129 230.047 704.879 Q230.047 713.605 226.968 718.212 Q223.912 722.795 218.102 722.795 Q212.292 722.795 209.213 718.212 Q206.158 713.605 206.158 704.879 Q206.158 696.129 209.213 691.545 Q212.292 686.939 218.102 686.939 Z\" fill=\"#000000\" fill-rule=\"evenodd\" fill-opacity=\"1\" /><path clip-path=\"url(#clip700)\" d=\"M 0 0 M245.116 690.643 Q241.505 690.643 239.676 694.207 Q237.871 697.749 237.871 704.879 Q237.871 711.985 239.676 715.55 Q241.505 719.091 245.116 719.091 Q248.75 719.091 250.556 715.55 Q252.384 711.985 252.384 704.879 Q252.384 697.749 250.556 694.207 Q248.75 690.643 245.116 690.643 M245.116 686.939 Q250.926 686.939 253.982 691.545 Q257.06 696.129 257.06 704.879 Q257.06 713.605 253.982 718.212 Q250.926 722.795 245.116 722.795 Q239.306 722.795 236.227 718.212 Q233.172 713.605 233.172 704.879 Q233.172 696.129 236.227 691.545 Q239.306 686.939 245.116 686.939 Z\" fill=\"#000000\" fill-rule=\"evenodd\" fill-opacity=\"1\" /><path clip-path=\"url(#clip700)\" d=\"M 0 0 M260.949 687.564 L283.171 687.564 L283.171 689.555 L270.625 722.124 L265.741 722.124 L277.546 691.499 L260.949 691.499 L260.949 687.564 Z\" fill=\"#000000\" fill-rule=\"evenodd\" fill-opacity=\"1\" /><path clip-path=\"url(#clip700)\" d=\"M 0 0 M288.287 687.564 L306.643 687.564 L306.643 691.499 L292.569 691.499 L292.569 699.971 Q293.588 699.624 294.606 699.462 Q295.625 699.277 296.643 699.277 Q302.43 699.277 305.81 702.448 Q309.19 705.619 309.19 711.036 Q309.19 716.615 305.717 719.716 Q302.245 722.795 295.926 722.795 Q293.75 722.795 291.481 722.425 Q289.236 722.054 286.829 721.314 L286.829 716.615 Q288.912 717.749 291.134 718.304 Q293.356 718.86 295.833 718.86 Q299.838 718.86 302.176 716.753 Q304.514 714.647 304.514 711.036 Q304.514 707.425 302.176 705.318 Q299.838 703.212 295.833 703.212 Q293.958 703.212 292.083 703.629 Q290.231 704.045 288.287 704.925 L288.287 687.564 Z\" fill=\"#000000\" fill-rule=\"evenodd\" fill-opacity=\"1\" /><path clip-path=\"url(#clip700)\" d=\"M 0 0 M126.436 400.245 Q122.825 400.245 120.996 403.81 Q119.191 407.351 119.191 414.481 Q119.191 421.588 120.996 425.152 Q122.825 428.694 126.436 428.694 Q130.07 428.694 131.876 425.152 Q133.704 421.588 133.704 414.481 Q133.704 407.351 131.876 403.81 Q130.07 400.245 126.436 400.245 M126.436 396.541 Q132.246 396.541 135.302 401.148 Q138.38 405.731 138.38 414.481 Q138.38 423.208 135.302 427.814 Q132.246 432.398 126.436 432.398 Q120.626 432.398 117.547 427.814 Q114.492 423.208 114.492 414.481 Q114.492 405.731 117.547 401.148 Q120.626 396.541 126.436 396.541 Z\" fill=\"#000000\" fill-rule=\"evenodd\" fill-opacity=\"1\" /><path clip-path=\"url(#clip700)\" d=\"M 0 0 M143.45 425.847 L148.334 425.847 L148.334 431.726 L143.45 431.726 L143.45 425.847 Z\" fill=\"#000000\" fill-rule=\"evenodd\" fill-opacity=\"1\" /><path clip-path=\"url(#clip700)\" d=\"M 0 0 M163.403 400.245 Q159.792 400.245 157.964 403.81 Q156.158 407.351 156.158 414.481 Q156.158 421.588 157.964 425.152 Q159.792 428.694 163.403 428.694 Q167.038 428.694 168.843 425.152 Q170.672 421.588 170.672 414.481 Q170.672 407.351 168.843 403.81 Q167.038 400.245 163.403 400.245 M163.403 396.541 Q169.214 396.541 172.269 401.148 Q175.348 405.731 175.348 414.481 Q175.348 423.208 172.269 427.814 Q169.214 432.398 163.403 432.398 Q157.593 432.398 154.515 427.814 Q151.459 423.208 151.459 414.481 Q151.459 405.731 154.515 401.148 Q157.593 396.541 163.403 396.541 Z\" fill=\"#000000\" fill-rule=\"evenodd\" fill-opacity=\"1\" /><path clip-path=\"url(#clip700)\" d=\"M 0 0 M190.417 400.245 Q186.806 400.245 184.977 403.81 Q183.172 407.351 183.172 414.481 Q183.172 421.588 184.977 425.152 Q186.806 428.694 190.417 428.694 Q194.051 428.694 195.857 425.152 Q197.686 421.588 197.686 414.481 Q197.686 407.351 195.857 403.81 Q194.051 400.245 190.417 400.245 M190.417 396.541 Q196.227 396.541 199.283 401.148 Q202.362 405.731 202.362 414.481 Q202.362 423.208 199.283 427.814 Q196.227 432.398 190.417 432.398 Q184.607 432.398 181.528 427.814 Q178.473 423.208 178.473 414.481 Q178.473 405.731 181.528 401.148 Q184.607 396.541 190.417 396.541 Z\" fill=\"#000000\" fill-rule=\"evenodd\" fill-opacity=\"1\" /><path clip-path=\"url(#clip700)\" d=\"M 0 0 M217.431 400.245 Q213.82 400.245 211.991 403.81 Q210.186 407.351 210.186 414.481 Q210.186 421.588 211.991 425.152 Q213.82 428.694 217.431 428.694 Q221.065 428.694 222.871 425.152 Q224.699 421.588 224.699 414.481 Q224.699 407.351 222.871 403.81 Q221.065 400.245 217.431 400.245 M217.431 396.541 Q223.241 396.541 226.297 401.148 Q229.375 405.731 229.375 414.481 Q229.375 423.208 226.297 427.814 Q223.241 432.398 217.431 432.398 Q211.621 432.398 208.542 427.814 Q205.487 423.208 205.487 414.481 Q205.487 405.731 208.542 401.148 Q211.621 396.541 217.431 396.541 Z\" fill=\"#000000\" fill-rule=\"evenodd\" fill-opacity=\"1\" /><path clip-path=\"url(#clip700)\" d=\"M 0 0 M235.255 427.791 L242.894 427.791 L242.894 401.426 L234.584 403.092 L234.584 398.833 L242.847 397.166 L247.523 397.166 L247.523 427.791 L255.162 427.791 L255.162 431.726 L235.255 431.726 L235.255 427.791 Z\" fill=\"#000000\" fill-rule=\"evenodd\" fill-opacity=\"1\" /><path clip-path=\"url(#clip700)\" d=\"M 0 0 M270.232 400.245 Q266.62 400.245 264.792 403.81 Q262.986 407.351 262.986 414.481 Q262.986 421.588 264.792 425.152 Q266.62 428.694 270.232 428.694 Q273.866 428.694 275.671 425.152 Q277.5 421.588 277.5 414.481 Q277.5 407.351 275.671 403.81 Q273.866 400.245 270.232 400.245 M270.232 396.541 Q276.042 396.541 279.097 401.148 Q282.176 405.731 282.176 414.481 Q282.176 423.208 279.097 427.814 Q276.042 432.398 270.232 432.398 Q264.421 432.398 261.343 427.814 Q258.287 423.208 258.287 414.481 Q258.287 405.731 261.343 401.148 Q264.421 396.541 270.232 396.541 Z\" fill=\"#000000\" fill-rule=\"evenodd\" fill-opacity=\"1\" /><path clip-path=\"url(#clip700)\" d=\"M 0 0 M297.245 400.245 Q293.634 400.245 291.806 403.81 Q290 407.351 290 414.481 Q290 421.588 291.806 425.152 Q293.634 428.694 297.245 428.694 Q300.88 428.694 302.685 425.152 Q304.514 421.588 304.514 414.481 Q304.514 407.351 302.685 403.81 Q300.88 400.245 297.245 400.245 M297.245 396.541 Q303.055 396.541 306.111 401.148 Q309.19 405.731 309.19 414.481 Q309.19 423.208 306.111 427.814 Q303.055 432.398 297.245 432.398 Q291.435 432.398 288.356 427.814 Q285.301 423.208 285.301 414.481 Q285.301 405.731 288.356 401.148 Q291.435 396.541 297.245 396.541 Z\" fill=\"#000000\" fill-rule=\"evenodd\" fill-opacity=\"1\" /><path clip-path=\"url(#clip700)\" d=\"M 0 0 M129.029 109.848 Q125.418 109.848 123.589 113.412 Q121.783 116.954 121.783 124.084 Q121.783 131.19 123.589 134.755 Q125.418 138.296 129.029 138.296 Q132.663 138.296 134.468 134.755 Q136.297 131.19 136.297 124.084 Q136.297 116.954 134.468 113.412 Q132.663 109.848 129.029 109.848 M129.029 106.144 Q134.839 106.144 137.894 110.75 Q140.973 115.334 140.973 124.084 Q140.973 132.81 137.894 137.417 Q134.839 142 129.029 142 Q123.218 142 120.14 137.417 Q117.084 132.81 117.084 124.084 Q117.084 115.334 120.14 110.75 Q123.218 106.144 129.029 106.144 Z\" fill=\"#000000\" fill-rule=\"evenodd\" fill-opacity=\"1\" /><path clip-path=\"url(#clip700)\" d=\"M 0 0 M146.042 135.449 L150.927 135.449 L150.927 141.329 L146.042 141.329 L146.042 135.449 Z\" fill=\"#000000\" fill-rule=\"evenodd\" fill-opacity=\"1\" /><path clip-path=\"url(#clip700)\" d=\"M 0 0 M165.996 109.848 Q162.385 109.848 160.556 113.412 Q158.751 116.954 158.751 124.084 Q158.751 131.19 160.556 134.755 Q162.385 138.296 165.996 138.296 Q169.63 138.296 171.436 134.755 Q173.264 131.19 173.264 124.084 Q173.264 116.954 171.436 113.412 Q169.63 109.848 165.996 109.848 M165.996 106.144 Q171.806 106.144 174.862 110.75 Q177.94 115.334 177.94 124.084 Q177.94 132.81 174.862 137.417 Q171.806 142 165.996 142 Q160.186 142 157.107 137.417 Q154.052 132.81 154.052 124.084 Q154.052 115.334 157.107 110.75 Q160.186 106.144 165.996 106.144 Z\" fill=\"#000000\" fill-rule=\"evenodd\" fill-opacity=\"1\" /><path clip-path=\"url(#clip700)\" d=\"M 0 0 M193.01 109.848 Q189.399 109.848 187.57 113.412 Q185.764 116.954 185.764 124.084 Q185.764 131.19 187.57 134.755 Q189.399 138.296 193.01 138.296 Q196.644 138.296 198.45 134.755 Q200.278 131.19 200.278 124.084 Q200.278 116.954 198.45 113.412 Q196.644 109.848 193.01 109.848 M193.01 106.144 Q198.82 106.144 201.875 110.75 Q204.954 115.334 204.954 124.084 Q204.954 132.81 201.875 137.417 Q198.82 142 193.01 142 Q187.2 142 184.121 137.417 Q181.065 132.81 181.065 124.084 Q181.065 115.334 184.121 110.75 Q187.2 106.144 193.01 106.144 Z\" fill=\"#000000\" fill-rule=\"evenodd\" fill-opacity=\"1\" /><path clip-path=\"url(#clip700)\" d=\"M 0 0 M220.023 109.848 Q216.412 109.848 214.584 113.412 Q212.778 116.954 212.778 124.084 Q212.778 131.19 214.584 134.755 Q216.412 138.296 220.023 138.296 Q223.658 138.296 225.463 134.755 Q227.292 131.19 227.292 124.084 Q227.292 116.954 225.463 113.412 Q223.658 109.848 220.023 109.848 M220.023 106.144 Q225.834 106.144 228.889 110.75 Q231.968 115.334 231.968 124.084 Q231.968 132.81 228.889 137.417 Q225.834 142 220.023 142 Q214.213 142 211.135 137.417 Q208.079 132.81 208.079 124.084 Q208.079 115.334 211.135 110.75 Q214.213 106.144 220.023 106.144 Z\" fill=\"#000000\" fill-rule=\"evenodd\" fill-opacity=\"1\" /><path clip-path=\"url(#clip700)\" d=\"M 0 0 M237.847 137.394 L245.486 137.394 L245.486 111.028 L237.176 112.695 L237.176 108.436 L245.44 106.769 L250.116 106.769 L250.116 137.394 L257.755 137.394 L257.755 141.329 L237.847 141.329 L237.847 137.394 Z\" fill=\"#000000\" fill-rule=\"evenodd\" fill-opacity=\"1\" /><path clip-path=\"url(#clip700)\" d=\"M 0 0 M266.852 137.394 L283.171 137.394 L283.171 141.329 L261.227 141.329 L261.227 137.394 Q263.889 134.639 268.472 130.009 Q273.079 125.357 274.259 124.014 Q276.505 121.491 277.384 119.755 Q278.287 117.996 278.287 116.306 Q278.287 113.551 276.343 111.815 Q274.421 110.079 271.32 110.079 Q269.12 110.079 266.667 110.843 Q264.236 111.607 261.458 113.158 L261.458 108.436 Q264.283 107.301 266.736 106.723 Q269.19 106.144 271.227 106.144 Q276.597 106.144 279.792 108.829 Q282.986 111.514 282.986 116.005 Q282.986 118.135 282.176 120.056 Q281.389 121.954 279.282 124.547 Q278.704 125.218 275.602 128.435 Q272.5 131.63 266.852 137.394 Z\" fill=\"#000000\" fill-rule=\"evenodd\" fill-opacity=\"1\" /><path clip-path=\"url(#clip700)\" d=\"M 0 0 M288.287 106.769 L306.643 106.769 L306.643 110.704 L292.569 110.704 L292.569 119.176 Q293.588 118.829 294.606 118.667 Q295.625 118.482 296.643 118.482 Q302.43 118.482 305.81 121.653 Q309.19 124.824 309.19 130.241 Q309.19 135.82 305.717 138.921 Q302.245 142 295.926 142 Q293.75 142 291.481 141.63 Q289.236 141.259 286.829 140.519 L286.829 135.82 Q288.912 136.954 291.134 137.509 Q293.356 138.065 295.833 138.065 Q299.838 138.065 302.176 135.959 Q304.514 133.852 304.514 130.241 Q304.514 126.63 302.176 124.523 Q299.838 122.417 295.833 122.417 Q293.958 122.417 292.083 122.834 Q290.231 123.25 288.287 124.13 L288.287 106.769 Z\" fill=\"#000000\" fill-rule=\"evenodd\" fill-opacity=\"1\" /><path clip-path=\"url(#clip700)\" d=\"M 0 0 M16.4842 845.72 L16.4842 805.521 L21.895 805.521 L21.895 822.39 L64.0042 822.39 L64.0042 828.851 L21.895 828.851 L21.895 845.72 L16.4842 845.72 Z\" fill=\"#000000\" fill-rule=\"evenodd\" fill-opacity=\"1\" /><path clip-path=\"url(#clip700)\" d=\"M 0 0 M28.3562 801.383 L28.3562 795.526 L64.0042 795.526 L64.0042 801.383 L28.3562 801.383 M14.479 801.383 L14.479 795.526 L21.895 795.526 L21.895 801.383 L14.479 801.383 Z\" fill=\"#000000\" fill-rule=\"evenodd\" fill-opacity=\"1\" /><path clip-path=\"url(#clip700)\" d=\"M 0 0 M35.1993 761.629 Q31.2526 759.433 29.3747 756.377 Q27.4968 753.322 27.4968 749.184 Q27.4968 743.614 31.4117 740.59 Q35.2948 737.567 42.4881 737.567 L64.0042 737.567 L64.0042 743.455 L42.679 743.455 Q37.5546 743.455 35.072 745.269 Q32.5894 747.083 32.5894 750.807 Q32.5894 755.359 35.6131 758.001 Q38.6368 760.642 43.8567 760.642 L64.0042 760.642 L64.0042 766.531 L42.679 766.531 Q37.5228 766.531 35.072 768.345 Q32.5894 770.159 32.5894 773.947 Q32.5894 778.434 35.6449 781.076 Q38.6686 783.718 43.8567 783.718 L64.0042 783.718 L64.0042 789.606 L28.3562 789.606 L28.3562 783.718 L33.8944 783.718 Q30.616 781.713 29.0564 778.912 Q27.4968 776.111 27.4968 772.26 Q27.4968 768.377 29.4702 765.671 Q31.4436 762.934 35.1993 761.629 Z\" fill=\"#000000\" fill-rule=\"evenodd\" fill-opacity=\"1\" /><path clip-path=\"url(#clip700)\" d=\"M 0 0 M44.7161 700.932 L47.5806 700.932 L47.5806 727.859 Q53.6281 727.477 56.8109 724.23 Q59.9619 720.952 59.9619 715.128 Q59.9619 711.754 59.1344 708.603 Q58.3069 705.42 56.6518 702.301 L62.1899 702.301 Q63.5267 705.452 64.227 708.762 Q64.9272 712.072 64.9272 715.478 Q64.9272 724.008 59.9619 729.005 Q54.9967 733.97 46.5303 733.97 Q37.7774 733.97 32.6531 729.259 Q27.4968 724.517 27.4968 716.496 Q27.4968 709.303 32.1438 705.133 Q36.7589 700.932 44.7161 700.932 M42.9973 706.788 Q38.1912 706.852 35.3266 709.494 Q32.4621 712.104 32.4621 716.432 Q32.4621 721.334 35.2312 724.294 Q38.0002 727.222 43.0292 727.668 L42.9973 706.788 Z\" fill=\"#000000\" fill-rule=\"evenodd\" fill-opacity=\"1\" /><path clip-path=\"url(#clip700)\" d=\"M 0 0 M943.923 18.8205 L943.923 65.8515 L953.807 65.8515 Q966.324 65.8515 972.117 60.1802 Q977.95 54.509 977.95 42.2752 Q977.95 30.1225 972.117 24.4918 Q966.324 18.8205 953.807 18.8205 L943.923 18.8205 M935.74 12.096 L952.551 12.096 Q970.132 12.096 978.356 19.4281 Q986.579 26.7198 986.579 42.2752 Q986.579 57.9117 978.315 65.2439 Q970.051 72.576 952.551 72.576 L935.74 72.576 L935.74 12.096 Z\" fill=\"#000000\" fill-rule=\"evenodd\" fill-opacity=\"1\" /><path clip-path=\"url(#clip700)\" d=\"M 0 0 M1011.98 32.4315 Q1005.98 32.4315 1002.5 37.1306 Q999.015 41.7891 999.015 49.9314 Q999.015 58.0738 1002.46 62.7728 Q1005.94 67.4314 1011.98 67.4314 Q1017.93 67.4314 1021.42 62.7323 Q1024.9 58.0333 1024.9 49.9314 Q1024.9 41.8701 1021.42 37.1711 Q1017.93 32.4315 1011.98 32.4315 M1011.98 26.1121 Q1021.7 26.1121 1027.25 32.4315 Q1032.8 38.7509 1032.8 49.9314 Q1032.8 61.0714 1027.25 67.4314 Q1021.7 73.7508 1011.98 73.7508 Q1002.22 73.7508 996.666 67.4314 Q991.156 61.0714 991.156 49.9314 Q991.156 38.7509 996.666 32.4315 Q1002.22 26.1121 1011.98 26.1121 Z\" fill=\"#000000\" fill-rule=\"evenodd\" fill-opacity=\"1\" /><path clip-path=\"url(#clip700)\" d=\"M 0 0 M1047.99 14.324 L1047.99 27.2059 L1063.34 27.2059 L1063.34 32.9987 L1047.99 32.9987 L1047.99 57.6282 Q1047.99 63.1779 1049.49 64.7578 Q1051.03 66.3376 1055.69 66.3376 L1063.34 66.3376 L1063.34 72.576 L1055.69 72.576 Q1047.06 72.576 1043.78 69.3758 Q1040.5 66.1351 1040.5 57.6282 L1040.5 32.9987 L1035.03 32.9987 L1035.03 27.2059 L1040.5 27.2059 L1040.5 14.324 L1047.99 14.324 Z\" fill=\"#000000\" fill-rule=\"evenodd\" fill-opacity=\"1\" /><path clip-path=\"url(#clip700)\" d=\"M 0 0 M1132.86 35.9153 Q1135.65 30.8922 1139.54 28.5022 Q1143.43 26.1121 1148.7 26.1121 Q1155.79 26.1121 1159.63 31.0947 Q1163.48 36.0368 1163.48 45.1919 L1163.48 72.576 L1155.99 72.576 L1155.99 45.4349 Q1155.99 38.913 1153.68 35.7533 Q1151.37 32.5936 1146.63 32.5936 Q1140.84 32.5936 1137.48 36.4419 Q1134.11 40.2903 1134.11 46.9338 L1134.11 72.576 L1126.62 72.576 L1126.62 45.4349 Q1126.62 38.8725 1124.31 35.7533 Q1122 32.5936 1117.18 32.5936 Q1111.47 32.5936 1108.11 36.4824 Q1104.74 40.3308 1104.74 46.9338 L1104.74 72.576 L1097.25 72.576 L1097.25 27.2059 L1104.74 27.2059 L1104.74 34.2544 Q1107.3 30.082 1110.86 28.0971 Q1114.43 26.1121 1119.33 26.1121 Q1124.27 26.1121 1127.71 28.6237 Q1131.2 31.1352 1132.86 35.9153 Z\" fill=\"#000000\" fill-rule=\"evenodd\" fill-opacity=\"1\" /><path clip-path=\"url(#clip700)\" d=\"M 0 0 M1170.53 54.671 L1170.53 27.2059 L1177.98 27.2059 L1177.98 54.3874 Q1177.98 60.8284 1180.5 64.0691 Q1183.01 67.2693 1188.03 67.2693 Q1194.07 67.2693 1197.55 63.421 Q1201.07 59.5726 1201.07 52.9291 L1201.07 27.2059 L1208.53 27.2059 L1208.53 72.576 L1201.07 72.576 L1201.07 65.6084 Q1198.36 69.7404 1194.75 71.7658 Q1191.19 73.7508 1186.45 73.7508 Q1178.63 73.7508 1174.58 68.8897 Q1170.53 64.0286 1170.53 54.671 M1189.29 26.1121 L1189.29 26.1121 Z\" fill=\"#000000\" fill-rule=\"evenodd\" fill-opacity=\"1\" /><path clip-path=\"url(#clip700)\" d=\"M 0 0 M1216.35 9.54393 L1223.8 9.54393 L1223.8 72.576 L1216.35 72.576 L1216.35 9.54393 Z\" fill=\"#000000\" fill-rule=\"evenodd\" fill-opacity=\"1\" /><path clip-path=\"url(#clip700)\" d=\"M 0 0 M1238.99 14.324 L1238.99 27.2059 L1254.34 27.2059 L1254.34 32.9987 L1238.99 32.9987 L1238.99 57.6282 Q1238.99 63.1779 1240.49 64.7578 Q1242.03 66.3376 1246.69 66.3376 L1254.34 66.3376 L1254.34 72.576 L1246.69 72.576 Q1238.06 72.576 1234.78 69.3758 Q1231.5 66.1351 1231.5 57.6282 L1231.5 32.9987 L1226.03 32.9987 L1226.03 27.2059 L1231.5 27.2059 L1231.5 14.324 L1238.99 14.324 Z\" fill=\"#000000\" fill-rule=\"evenodd\" fill-opacity=\"1\" /><path clip-path=\"url(#clip700)\" d=\"M 0 0 M1262.16 27.2059 L1269.62 27.2059 L1269.62 72.576 L1262.16 72.576 L1262.16 27.2059 M1262.16 9.54393 L1269.62 9.54393 L1269.62 18.9825 L1262.16 18.9825 L1262.16 9.54393 Z\" fill=\"#000000\" fill-rule=\"evenodd\" fill-opacity=\"1\" /><path clip-path=\"url(#clip700)\" d=\"M 0 0 M1284.64 65.7705 L1284.64 89.8329 L1277.15 89.8329 L1277.15 27.2059 L1284.64 27.2059 L1284.64 34.0924 Q1286.99 30.0415 1290.56 28.0971 Q1294.16 26.1121 1299.15 26.1121 Q1307.41 26.1121 1312.56 32.6746 Q1317.74 39.2371 1317.74 49.9314 Q1317.74 60.6258 1312.56 67.1883 Q1307.41 73.7508 1299.15 73.7508 Q1294.16 73.7508 1290.56 71.8063 Q1286.99 69.8214 1284.64 65.7705 M1310 49.9314 Q1310 41.7081 1306.6 37.0496 Q1303.24 32.3505 1297.32 32.3505 Q1291.41 32.3505 1288.01 37.0496 Q1284.64 41.7081 1284.64 49.9314 Q1284.64 58.1548 1288.01 62.8538 Q1291.41 67.5124 1297.32 67.5124 Q1303.24 67.5124 1306.6 62.8538 Q1310 58.1548 1310 49.9314 Z\" fill=\"#000000\" fill-rule=\"evenodd\" fill-opacity=\"1\" /><path clip-path=\"url(#clip700)\" d=\"M 0 0 M1325.56 9.54393 L1333.01 9.54393 L1333.01 72.576 L1325.56 72.576 L1325.56 9.54393 Z\" fill=\"#000000\" fill-rule=\"evenodd\" fill-opacity=\"1\" /><path clip-path=\"url(#clip700)\" d=\"M 0 0 M1340.83 27.2059 L1348.28 27.2059 L1348.28 72.576 L1340.83 72.576 L1340.83 27.2059 M1340.83 9.54393 L1348.28 9.54393 L1348.28 18.9825 L1340.83 18.9825 L1340.83 9.54393 Z\" fill=\"#000000\" fill-rule=\"evenodd\" fill-opacity=\"1\" /><path clip-path=\"url(#clip700)\" d=\"M 0 0 M1388.75 28.9478 L1388.75 35.9153 Q1385.59 34.1734 1382.39 33.3227 Q1379.23 32.4315 1375.99 32.4315 Q1368.74 32.4315 1364.73 37.0496 Q1360.72 41.6271 1360.72 49.9314 Q1360.72 58.2358 1364.73 62.8538 Q1368.74 67.4314 1375.99 67.4314 Q1379.23 67.4314 1382.39 66.5807 Q1385.59 65.6895 1388.75 63.9476 L1388.75 70.8341 Q1385.63 72.2924 1382.27 73.0216 Q1378.95 73.7508 1375.18 73.7508 Q1364.93 73.7508 1358.9 67.3098 Q1352.86 60.8689 1352.86 49.9314 Q1352.86 38.832 1358.94 32.472 Q1365.05 26.1121 1375.67 26.1121 Q1379.11 26.1121 1382.39 26.8413 Q1385.67 27.5299 1388.75 28.9478 Z\" fill=\"#000000\" fill-rule=\"evenodd\" fill-opacity=\"1\" /><path clip-path=\"url(#clip700)\" d=\"M 0 0 M1417.19 49.7694 Q1408.16 49.7694 1404.67 51.8354 Q1401.19 53.9013 1401.19 58.8839 Q1401.19 62.8538 1403.78 65.2034 Q1406.41 67.5124 1410.91 67.5124 Q1417.11 67.5124 1420.84 63.1374 Q1424.6 58.7219 1424.6 51.4303 L1424.6 49.7694 L1417.19 49.7694 M1432.06 46.6907 L1432.06 72.576 L1424.6 72.576 L1424.6 65.6895 Q1422.05 69.8214 1418.24 71.8063 Q1414.44 73.7508 1408.93 73.7508 Q1401.96 73.7508 1397.83 69.8619 Q1393.74 65.9325 1393.74 59.3701 Q1393.74 51.7138 1398.84 47.825 Q1403.98 43.9361 1414.15 43.9361 L1424.6 43.9361 L1424.6 43.2069 Q1424.6 38.0623 1421.2 35.2672 Q1417.84 32.4315 1411.72 32.4315 Q1407.83 32.4315 1404.15 33.3632 Q1400.46 34.295 1397.06 36.1584 L1397.06 29.2718 Q1401.15 27.692 1405 26.9223 Q1408.85 26.1121 1412.49 26.1121 Q1422.33 26.1121 1427.2 31.2163 Q1432.06 36.3204 1432.06 46.6907 Z\" fill=\"#000000\" fill-rule=\"evenodd\" fill-opacity=\"1\" /><path clip-path=\"url(#clip700)\" d=\"M 0 0 M1447.25 14.324 L1447.25 27.2059 L1462.6 27.2059 L1462.6 32.9987 L1447.25 32.9987 L1447.25 57.6282 Q1447.25 63.1779 1448.75 64.7578 Q1450.29 66.3376 1454.94 66.3376 L1462.6 66.3376 L1462.6 72.576 L1454.94 72.576 Q1446.32 72.576 1443.03 69.3758 Q1439.75 66.1351 1439.75 57.6282 L1439.75 32.9987 L1434.28 32.9987 L1434.28 27.2059 L1439.75 27.2059 L1439.75 14.324 L1447.25 14.324 Z\" fill=\"#000000\" fill-rule=\"evenodd\" fill-opacity=\"1\" /><path clip-path=\"url(#clip700)\" d=\"M 0 0 M1470.42 27.2059 L1477.87 27.2059 L1477.87 72.576 L1470.42 72.576 L1470.42 27.2059 M1470.42 9.54393 L1477.87 9.54393 L1477.87 18.9825 L1470.42 18.9825 L1470.42 9.54393 Z\" fill=\"#000000\" fill-rule=\"evenodd\" fill-opacity=\"1\" /><path clip-path=\"url(#clip700)\" d=\"M 0 0 M1503.27 32.4315 Q1497.28 32.4315 1493.79 37.1306 Q1490.31 41.7891 1490.31 49.9314 Q1490.31 58.0738 1493.75 62.7728 Q1497.24 67.4314 1503.27 67.4314 Q1509.23 67.4314 1512.71 62.7323 Q1516.19 58.0333 1516.19 49.9314 Q1516.19 41.8701 1512.71 37.1711 Q1509.23 32.4315 1503.27 32.4315 M1503.27 26.1121 Q1512.99 26.1121 1518.54 32.4315 Q1524.09 38.7509 1524.09 49.9314 Q1524.09 61.0714 1518.54 67.4314 Q1512.99 73.7508 1503.27 73.7508 Q1493.51 73.7508 1487.96 67.4314 Q1482.45 61.0714 1482.45 49.9314 Q1482.45 38.7509 1487.96 32.4315 Q1493.51 26.1121 1503.27 26.1121 Z\" fill=\"#000000\" fill-rule=\"evenodd\" fill-opacity=\"1\" /><path clip-path=\"url(#clip700)\" d=\"M 0 0 M1569.63 45.1919 L1569.63 72.576 L1562.17 72.576 L1562.17 45.4349 Q1562.17 38.994 1559.66 35.7938 Q1557.15 32.5936 1552.13 32.5936 Q1546.09 32.5936 1542.61 36.4419 Q1539.12 40.2903 1539.12 46.9338 L1539.12 72.576 L1531.63 72.576 L1531.63 27.2059 L1539.12 27.2059 L1539.12 34.2544 Q1541.8 30.163 1545.4 28.1376 Q1549.05 26.1121 1553.79 26.1121 Q1561.6 26.1121 1565.62 30.9732 Q1569.63 35.7938 1569.63 45.1919 Z\" fill=\"#000000\" fill-rule=\"evenodd\" fill-opacity=\"1\" /><path clip-path=\"url(#clip700)\" d=\"M 0 0 M1611.19 14.324 L1611.19 27.2059 L1626.54 27.2059 L1626.54 32.9987 L1611.19 32.9987 L1611.19 57.6282 Q1611.19 63.1779 1612.69 64.7578 Q1614.23 66.3376 1618.88 66.3376 L1626.54 66.3376 L1626.54 72.576 L1618.88 72.576 Q1610.26 72.576 1606.97 69.3758 Q1603.69 66.1351 1603.69 57.6282 L1603.69 32.9987 L1598.22 32.9987 L1598.22 27.2059 L1603.69 27.2059 L1603.69 14.324 L1611.19 14.324 Z\" fill=\"#000000\" fill-rule=\"evenodd\" fill-opacity=\"1\" /><path clip-path=\"url(#clip700)\" d=\"M 0 0 M1634.36 27.2059 L1641.81 27.2059 L1641.81 72.576 L1634.36 72.576 L1634.36 27.2059 M1634.36 9.54393 L1641.81 9.54393 L1641.81 18.9825 L1634.36 18.9825 L1634.36 9.54393 Z\" fill=\"#000000\" fill-rule=\"evenodd\" fill-opacity=\"1\" /><path clip-path=\"url(#clip700)\" d=\"M 0 0 M1684.95 35.9153 Q1687.75 30.8922 1691.64 28.5022 Q1695.53 26.1121 1700.79 26.1121 Q1707.88 26.1121 1711.73 31.0947 Q1715.58 36.0368 1715.58 45.1919 L1715.58 72.576 L1708.09 72.576 L1708.09 45.4349 Q1708.09 38.913 1705.78 35.7533 Q1703.47 32.5936 1698.73 32.5936 Q1692.94 32.5936 1689.57 36.4419 Q1686.21 40.2903 1686.21 46.9338 L1686.21 72.576 L1678.72 72.576 L1678.72 45.4349 Q1678.72 38.8725 1676.41 35.7533 Q1674.1 32.5936 1669.28 32.5936 Q1663.57 32.5936 1660.2 36.4824 Q1656.84 40.3308 1656.84 46.9338 L1656.84 72.576 L1649.35 72.576 L1649.35 27.2059 L1656.84 27.2059 L1656.84 34.2544 Q1659.39 30.082 1662.96 28.0971 Q1666.52 26.1121 1671.42 26.1121 Q1676.37 26.1121 1679.81 28.6237 Q1683.29 31.1352 1684.95 35.9153 Z\" fill=\"#000000\" fill-rule=\"evenodd\" fill-opacity=\"1\" /><path clip-path=\"url(#clip700)\" d=\"M 0 0 M1762.21 48.0275 L1762.21 51.6733 L1727.93 51.6733 Q1728.42 59.3701 1732.55 63.421 Q1736.73 67.4314 1744.14 67.4314 Q1748.43 67.4314 1752.44 66.3781 Q1756.49 65.3249 1760.46 63.2184 L1760.46 70.267 Q1756.45 71.9684 1752.24 72.8596 Q1748.03 73.7508 1743.69 73.7508 Q1732.84 73.7508 1726.48 67.4314 Q1720.16 61.1119 1720.16 50.3365 Q1720.16 39.1965 1726.15 32.6746 Q1732.19 26.1121 1742.4 26.1121 Q1751.55 26.1121 1756.86 32.0264 Q1762.21 37.9003 1762.21 48.0275 M1754.75 45.84 Q1754.67 39.7232 1751.31 36.0774 Q1747.99 32.4315 1742.48 32.4315 Q1736.24 32.4315 1732.47 35.9558 Q1728.75 39.4801 1728.18 45.8805 L1754.75 45.84 Z\" fill=\"#000000\" fill-rule=\"evenodd\" fill-opacity=\"1\" /><polyline clip-path=\"url(#clip702)\" style=\"stroke:#009af9; stroke-width:4; stroke-opacity:1; fill:none\" points=\"\n",
       "  402.008,1342.91 612.444,1255.44 822.881,1063.31 1033.32,915.208 1243.75,886.865 1454.19,857.825 1664.63,620.164 1875.06,483.445 2085.5,538.62 2295.94,546.868 \n",
       "  \n",
       "  \"/>\n",
       "<polyline clip-path=\"url(#clip702)\" style=\"stroke:#000000; stroke-width:4; stroke-opacity:1; fill:none\" points=\"\n",
       "  402.008,1386.4 402.008,1299.41 \n",
       "  \"/>\n",
       "<polyline clip-path=\"url(#clip702)\" style=\"stroke:#000000; stroke-width:4; stroke-opacity:1; fill:none\" points=\"\n",
       "  612.444,1267.52 612.444,1243.35 \n",
       "  \"/>\n",
       "<polyline clip-path=\"url(#clip702)\" style=\"stroke:#000000; stroke-width:4; stroke-opacity:1; fill:none\" points=\"\n",
       "  822.881,1319.05 822.881,807.574 \n",
       "  \"/>\n",
       "<polyline clip-path=\"url(#clip702)\" style=\"stroke:#000000; stroke-width:4; stroke-opacity:1; fill:none\" points=\"\n",
       "  1033.32,1211.07 1033.32,619.35 \n",
       "  \"/>\n",
       "<polyline clip-path=\"url(#clip702)\" style=\"stroke:#000000; stroke-width:4; stroke-opacity:1; fill:none\" points=\"\n",
       "  1243.75,1102.46 1243.75,671.274 \n",
       "  \"/>\n",
       "<polyline clip-path=\"url(#clip702)\" style=\"stroke:#000000; stroke-width:4; stroke-opacity:1; fill:none\" points=\"\n",
       "  1454.19,914.926 1454.19,800.724 \n",
       "  \"/>\n",
       "<polyline clip-path=\"url(#clip702)\" style=\"stroke:#000000; stroke-width:4; stroke-opacity:1; fill:none\" points=\"\n",
       "  1664.63,872.624 1664.63,367.704 \n",
       "  \"/>\n",
       "<polyline clip-path=\"url(#clip702)\" style=\"stroke:#000000; stroke-width:4; stroke-opacity:1; fill:none\" points=\"\n",
       "  1875.06,806.633 1875.06,160.256 \n",
       "  \"/>\n",
       "<polyline clip-path=\"url(#clip702)\" style=\"stroke:#000000; stroke-width:4; stroke-opacity:1; fill:none\" points=\"\n",
       "  2085.5,816.978 2085.5,260.263 \n",
       "  \"/>\n",
       "<polyline clip-path=\"url(#clip702)\" style=\"stroke:#000000; stroke-width:4; stroke-opacity:1; fill:none\" points=\"\n",
       "  2295.94,580.994 2295.94,512.742 \n",
       "  \"/>\n",
       "<line clip-path=\"url(#clip702)\" x1=\"418.008\" y1=\"1386.4\" x2=\"386.008\" y2=\"1386.4\" style=\"stroke:#000000; stroke-width:3.2; stroke-opacity:1\"/>\n",
       "<line clip-path=\"url(#clip702)\" x1=\"418.008\" y1=\"1299.41\" x2=\"386.008\" y2=\"1299.41\" style=\"stroke:#000000; stroke-width:3.2; stroke-opacity:1\"/>\n",
       "<line clip-path=\"url(#clip702)\" x1=\"628.444\" y1=\"1267.52\" x2=\"596.444\" y2=\"1267.52\" style=\"stroke:#000000; stroke-width:3.2; stroke-opacity:1\"/>\n",
       "<line clip-path=\"url(#clip702)\" x1=\"628.444\" y1=\"1243.35\" x2=\"596.444\" y2=\"1243.35\" style=\"stroke:#000000; stroke-width:3.2; stroke-opacity:1\"/>\n",
       "<line clip-path=\"url(#clip702)\" x1=\"838.881\" y1=\"1319.05\" x2=\"806.881\" y2=\"1319.05\" style=\"stroke:#000000; stroke-width:3.2; stroke-opacity:1\"/>\n",
       "<line clip-path=\"url(#clip702)\" x1=\"838.881\" y1=\"807.574\" x2=\"806.881\" y2=\"807.574\" style=\"stroke:#000000; stroke-width:3.2; stroke-opacity:1\"/>\n",
       "<line clip-path=\"url(#clip702)\" x1=\"1049.32\" y1=\"1211.07\" x2=\"1017.32\" y2=\"1211.07\" style=\"stroke:#000000; stroke-width:3.2; stroke-opacity:1\"/>\n",
       "<line clip-path=\"url(#clip702)\" x1=\"1049.32\" y1=\"619.35\" x2=\"1017.32\" y2=\"619.35\" style=\"stroke:#000000; stroke-width:3.2; stroke-opacity:1\"/>\n",
       "<line clip-path=\"url(#clip702)\" x1=\"1259.75\" y1=\"1102.46\" x2=\"1227.75\" y2=\"1102.46\" style=\"stroke:#000000; stroke-width:3.2; stroke-opacity:1\"/>\n",
       "<line clip-path=\"url(#clip702)\" x1=\"1259.75\" y1=\"671.274\" x2=\"1227.75\" y2=\"671.274\" style=\"stroke:#000000; stroke-width:3.2; stroke-opacity:1\"/>\n",
       "<line clip-path=\"url(#clip702)\" x1=\"1470.19\" y1=\"914.926\" x2=\"1438.19\" y2=\"914.926\" style=\"stroke:#000000; stroke-width:3.2; stroke-opacity:1\"/>\n",
       "<line clip-path=\"url(#clip702)\" x1=\"1470.19\" y1=\"800.724\" x2=\"1438.19\" y2=\"800.724\" style=\"stroke:#000000; stroke-width:3.2; stroke-opacity:1\"/>\n",
       "<line clip-path=\"url(#clip702)\" x1=\"1680.63\" y1=\"872.624\" x2=\"1648.63\" y2=\"872.624\" style=\"stroke:#000000; stroke-width:3.2; stroke-opacity:1\"/>\n",
       "<line clip-path=\"url(#clip702)\" x1=\"1680.63\" y1=\"367.704\" x2=\"1648.63\" y2=\"367.704\" style=\"stroke:#000000; stroke-width:3.2; stroke-opacity:1\"/>\n",
       "<line clip-path=\"url(#clip702)\" x1=\"1891.06\" y1=\"806.633\" x2=\"1859.06\" y2=\"806.633\" style=\"stroke:#000000; stroke-width:3.2; stroke-opacity:1\"/>\n",
       "<line clip-path=\"url(#clip702)\" x1=\"1891.06\" y1=\"160.256\" x2=\"1859.06\" y2=\"160.256\" style=\"stroke:#000000; stroke-width:3.2; stroke-opacity:1\"/>\n",
       "<line clip-path=\"url(#clip702)\" x1=\"2101.5\" y1=\"816.978\" x2=\"2069.5\" y2=\"816.978\" style=\"stroke:#000000; stroke-width:3.2; stroke-opacity:1\"/>\n",
       "<line clip-path=\"url(#clip702)\" x1=\"2101.5\" y1=\"260.263\" x2=\"2069.5\" y2=\"260.263\" style=\"stroke:#000000; stroke-width:3.2; stroke-opacity:1\"/>\n",
       "<line clip-path=\"url(#clip702)\" x1=\"2311.94\" y1=\"580.994\" x2=\"2279.94\" y2=\"580.994\" style=\"stroke:#000000; stroke-width:3.2; stroke-opacity:1\"/>\n",
       "<line clip-path=\"url(#clip702)\" x1=\"2311.94\" y1=\"512.742\" x2=\"2279.94\" y2=\"512.742\" style=\"stroke:#000000; stroke-width:3.2; stroke-opacity:1\"/>\n",
       "<path clip-path=\"url(#clip700)\" d=\"\n",
       "M2011.76 287.756 L2285.84 287.756 L2285.84 166.796 L2011.76 166.796  Z\n",
       "  \" fill=\"#ffffff\" fill-rule=\"evenodd\" fill-opacity=\"1\"/>\n",
       "<polyline clip-path=\"url(#clip700)\" style=\"stroke:#000000; stroke-width:4; stroke-opacity:1; fill:none\" points=\"\n",
       "  2011.76,287.756 2285.84,287.756 2285.84,166.796 2011.76,166.796 2011.76,287.756 \n",
       "  \"/>\n",
       "<polyline clip-path=\"url(#clip700)\" style=\"stroke:#009af9; stroke-width:4; stroke-opacity:1; fill:none\" points=\"\n",
       "  2034.06,227.276 2167.9,227.276 \n",
       "  \"/>\n",
       "<path clip-path=\"url(#clip700)\" d=\"M 0 0 M2204.05 246.963 Q2202.24 251.593 2200.53 253.005 Q2198.82 254.417 2195.95 254.417 L2192.54 254.417 L2192.54 250.852 L2195.04 250.852 Q2196.8 250.852 2197.78 250.019 Q2198.75 249.185 2199.93 246.083 L2200.69 244.139 L2190.21 218.63 L2194.72 218.63 L2202.82 238.908 L2210.92 218.63 L2215.44 218.63 L2204.05 246.963 Z\" fill=\"#000000\" fill-rule=\"evenodd\" fill-opacity=\"1\" /><path clip-path=\"url(#clip700)\" d=\"M 0 0 M2221.32 240.621 L2228.96 240.621 L2228.96 214.255 L2220.65 215.922 L2220.65 211.662 L2228.91 209.996 L2233.59 209.996 L2233.59 240.621 L2241.22 240.621 L2241.22 244.556 L2221.32 244.556 L2221.32 240.621 Z\" fill=\"#000000\" fill-rule=\"evenodd\" fill-opacity=\"1\" /></svg>\n"
      ]
     },
     "execution_count": 157,
     "metadata": {},
     "output_type": "execute_result"
    }
   ],
   "source": [
    "using Plots\n",
    "std_arr = convert(Array,dot_std.std_time)\n",
    "p1 = plot(dot_avrg.SIZE, dot_avrg.mean_time, yerr=std_arr, xlabel = \"Size\", ylabel=\"Time\",title = \"Dot multiplication time\")"
   ]
  },
  {
   "cell_type": "code",
   "execution_count": 158,
   "id": "heard-northern",
   "metadata": {},
   "outputs": [
    {
     "data": {
      "image/svg+xml": [
       "<?xml version=\"1.0\" encoding=\"utf-8\"?>\n",
       "<svg xmlns=\"http://www.w3.org/2000/svg\" xmlns:xlink=\"http://www.w3.org/1999/xlink\" width=\"600\" height=\"400\" viewBox=\"0 0 2400 1600\">\n",
       "<defs>\n",
       "  <clipPath id=\"clip740\">\n",
       "    <rect x=\"0\" y=\"0\" width=\"2400\" height=\"1600\"/>\n",
       "  </clipPath>\n",
       "</defs>\n",
       "<path clip-path=\"url(#clip740)\" d=\"\n",
       "M0 1600 L2400 1600 L2400 0 L0 0  Z\n",
       "  \" fill=\"#ffffff\" fill-rule=\"evenodd\" fill-opacity=\"1\"/>\n",
       "<defs>\n",
       "  <clipPath id=\"clip741\">\n",
       "    <rect x=\"480\" y=\"0\" width=\"1681\" height=\"1600\"/>\n",
       "  </clipPath>\n",
       "</defs>\n",
       "<path clip-path=\"url(#clip740)\" d=\"\n",
       "M211.602 1423.18 L2352.76 1423.18 L2352.76 123.472 L211.602 123.472  Z\n",
       "  \" fill=\"#ffffff\" fill-rule=\"evenodd\" fill-opacity=\"1\"/>\n",
       "<defs>\n",
       "  <clipPath id=\"clip742\">\n",
       "    <rect x=\"211\" y=\"123\" width=\"2142\" height=\"1301\"/>\n",
       "  </clipPath>\n",
       "</defs>\n",
       "<polyline clip-path=\"url(#clip742)\" style=\"stroke:#000000; stroke-width:2; stroke-opacity:0.1; fill:none\" points=\"\n",
       "  496.641,1423.18 496.641,123.472 \n",
       "  \"/>\n",
       "<polyline clip-path=\"url(#clip742)\" style=\"stroke:#000000; stroke-width:2; stroke-opacity:0.1; fill:none\" points=\"\n",
       "  945.52,1423.18 945.52,123.472 \n",
       "  \"/>\n",
       "<polyline clip-path=\"url(#clip742)\" style=\"stroke:#000000; stroke-width:2; stroke-opacity:0.1; fill:none\" points=\"\n",
       "  1394.4,1423.18 1394.4,123.472 \n",
       "  \"/>\n",
       "<polyline clip-path=\"url(#clip742)\" style=\"stroke:#000000; stroke-width:2; stroke-opacity:0.1; fill:none\" points=\"\n",
       "  1843.28,1423.18 1843.28,123.472 \n",
       "  \"/>\n",
       "<polyline clip-path=\"url(#clip742)\" style=\"stroke:#000000; stroke-width:2; stroke-opacity:0.1; fill:none\" points=\"\n",
       "  2292.16,1423.18 2292.16,123.472 \n",
       "  \"/>\n",
       "<polyline clip-path=\"url(#clip740)\" style=\"stroke:#000000; stroke-width:4; stroke-opacity:1; fill:none\" points=\"\n",
       "  211.602,1423.18 2352.76,1423.18 \n",
       "  \"/>\n",
       "<polyline clip-path=\"url(#clip740)\" style=\"stroke:#000000; stroke-width:4; stroke-opacity:1; fill:none\" points=\"\n",
       "  496.641,1423.18 496.641,1407.58 \n",
       "  \"/>\n",
       "<polyline clip-path=\"url(#clip740)\" style=\"stroke:#000000; stroke-width:4; stroke-opacity:1; fill:none\" points=\"\n",
       "  945.52,1423.18 945.52,1407.58 \n",
       "  \"/>\n",
       "<polyline clip-path=\"url(#clip740)\" style=\"stroke:#000000; stroke-width:4; stroke-opacity:1; fill:none\" points=\"\n",
       "  1394.4,1423.18 1394.4,1407.58 \n",
       "  \"/>\n",
       "<polyline clip-path=\"url(#clip740)\" style=\"stroke:#000000; stroke-width:4; stroke-opacity:1; fill:none\" points=\"\n",
       "  1843.28,1423.18 1843.28,1407.58 \n",
       "  \"/>\n",
       "<polyline clip-path=\"url(#clip740)\" style=\"stroke:#000000; stroke-width:4; stroke-opacity:1; fill:none\" points=\"\n",
       "  2292.16,1423.18 2292.16,1407.58 \n",
       "  \"/>\n",
       "<path clip-path=\"url(#clip740)\" d=\"M 0 0 M446.502 1479.92 L454.141 1479.92 L454.141 1453.55 L445.831 1455.22 L445.831 1450.96 L454.095 1449.29 L458.771 1449.29 L458.771 1479.92 L466.409 1479.92 L466.409 1483.85 L446.502 1483.85 L446.502 1479.92 Z\" fill=\"#000000\" fill-rule=\"evenodd\" fill-opacity=\"1\" /><path clip-path=\"url(#clip740)\" d=\"M 0 0 M481.479 1452.37 Q477.868 1452.37 476.039 1455.94 Q474.233 1459.48 474.233 1466.61 Q474.233 1473.71 476.039 1477.28 Q477.868 1480.82 481.479 1480.82 Q485.113 1480.82 486.919 1477.28 Q488.747 1473.71 488.747 1466.61 Q488.747 1459.48 486.919 1455.94 Q485.113 1452.37 481.479 1452.37 M481.479 1448.67 Q487.289 1448.67 490.344 1453.27 Q493.423 1457.86 493.423 1466.61 Q493.423 1475.33 490.344 1479.94 Q487.289 1484.52 481.479 1484.52 Q475.669 1484.52 472.59 1479.94 Q469.534 1475.33 469.534 1466.61 Q469.534 1457.86 472.59 1453.27 Q475.669 1448.67 481.479 1448.67 Z\" fill=\"#000000\" fill-rule=\"evenodd\" fill-opacity=\"1\" /><path clip-path=\"url(#clip740)\" d=\"M 0 0 M508.492 1452.37 Q504.881 1452.37 503.053 1455.94 Q501.247 1459.48 501.247 1466.61 Q501.247 1473.71 503.053 1477.28 Q504.881 1480.82 508.492 1480.82 Q512.127 1480.82 513.932 1477.28 Q515.761 1473.71 515.761 1466.61 Q515.761 1459.48 513.932 1455.94 Q512.127 1452.37 508.492 1452.37 M508.492 1448.67 Q514.303 1448.67 517.358 1453.27 Q520.437 1457.86 520.437 1466.61 Q520.437 1475.33 517.358 1479.94 Q514.303 1484.52 508.492 1484.52 Q502.682 1484.52 499.604 1479.94 Q496.548 1475.33 496.548 1466.61 Q496.548 1457.86 499.604 1453.27 Q502.682 1448.67 508.492 1448.67 Z\" fill=\"#000000\" fill-rule=\"evenodd\" fill-opacity=\"1\" /><path clip-path=\"url(#clip740)\" d=\"M 0 0 M535.506 1452.37 Q531.895 1452.37 530.066 1455.94 Q528.261 1459.48 528.261 1466.61 Q528.261 1473.71 530.066 1477.28 Q531.895 1480.82 535.506 1480.82 Q539.14 1480.82 540.946 1477.28 Q542.775 1473.71 542.775 1466.61 Q542.775 1459.48 540.946 1455.94 Q539.14 1452.37 535.506 1452.37 M535.506 1448.67 Q541.316 1448.67 544.372 1453.27 Q547.451 1457.86 547.451 1466.61 Q547.451 1475.33 544.372 1479.94 Q541.316 1484.52 535.506 1484.52 Q529.696 1484.52 526.617 1479.94 Q523.562 1475.33 523.562 1466.61 Q523.562 1457.86 526.617 1453.27 Q529.696 1448.67 535.506 1448.67 Z\" fill=\"#000000\" fill-rule=\"evenodd\" fill-opacity=\"1\" /><path clip-path=\"url(#clip740)\" d=\"M 0 0 M899.652 1479.92 L915.971 1479.92 L915.971 1483.85 L894.027 1483.85 L894.027 1479.92 Q896.689 1477.16 901.272 1472.53 Q905.879 1467.88 907.059 1466.54 Q909.305 1464.01 910.184 1462.28 Q911.087 1460.52 911.087 1458.83 Q911.087 1456.07 909.143 1454.34 Q907.221 1452.6 904.12 1452.6 Q901.921 1452.6 899.467 1453.37 Q897.036 1454.13 894.259 1455.68 L894.259 1450.96 Q897.083 1449.82 899.536 1449.25 Q901.99 1448.67 904.027 1448.67 Q909.397 1448.67 912.592 1451.35 Q915.786 1454.04 915.786 1458.53 Q915.786 1460.66 914.976 1462.58 Q914.189 1464.48 912.082 1467.07 Q911.504 1467.74 908.402 1470.96 Q905.3 1474.15 899.652 1479.92 Z\" fill=\"#000000\" fill-rule=\"evenodd\" fill-opacity=\"1\" /><path clip-path=\"url(#clip740)\" d=\"M 0 0 M931.041 1452.37 Q927.43 1452.37 925.601 1455.94 Q923.795 1459.48 923.795 1466.61 Q923.795 1473.71 925.601 1477.28 Q927.43 1480.82 931.041 1480.82 Q934.675 1480.82 936.481 1477.28 Q938.309 1473.71 938.309 1466.61 Q938.309 1459.48 936.481 1455.94 Q934.675 1452.37 931.041 1452.37 M931.041 1448.67 Q936.851 1448.67 939.906 1453.27 Q942.985 1457.86 942.985 1466.61 Q942.985 1475.33 939.906 1479.94 Q936.851 1484.52 931.041 1484.52 Q925.231 1484.52 922.152 1479.94 Q919.096 1475.33 919.096 1466.61 Q919.096 1457.86 922.152 1453.27 Q925.231 1448.67 931.041 1448.67 Z\" fill=\"#000000\" fill-rule=\"evenodd\" fill-opacity=\"1\" /><path clip-path=\"url(#clip740)\" d=\"M 0 0 M958.054 1452.37 Q954.443 1452.37 952.615 1455.94 Q950.809 1459.48 950.809 1466.61 Q950.809 1473.71 952.615 1477.28 Q954.443 1480.82 958.054 1480.82 Q961.689 1480.82 963.494 1477.28 Q965.323 1473.71 965.323 1466.61 Q965.323 1459.48 963.494 1455.94 Q961.689 1452.37 958.054 1452.37 M958.054 1448.67 Q963.865 1448.67 966.92 1453.27 Q969.999 1457.86 969.999 1466.61 Q969.999 1475.33 966.92 1479.94 Q963.865 1484.52 958.054 1484.52 Q952.244 1484.52 949.166 1479.94 Q946.11 1475.33 946.11 1466.61 Q946.11 1457.86 949.166 1453.27 Q952.244 1448.67 958.054 1448.67 Z\" fill=\"#000000\" fill-rule=\"evenodd\" fill-opacity=\"1\" /><path clip-path=\"url(#clip740)\" d=\"M 0 0 M985.068 1452.37 Q981.457 1452.37 979.628 1455.94 Q977.823 1459.48 977.823 1466.61 Q977.823 1473.71 979.628 1477.28 Q981.457 1480.82 985.068 1480.82 Q988.702 1480.82 990.508 1477.28 Q992.337 1473.71 992.337 1466.61 Q992.337 1459.48 990.508 1455.94 Q988.702 1452.37 985.068 1452.37 M985.068 1448.67 Q990.878 1448.67 993.934 1453.27 Q997.013 1457.86 997.013 1466.61 Q997.013 1475.33 993.934 1479.94 Q990.878 1484.52 985.068 1484.52 Q979.258 1484.52 976.179 1479.94 Q973.124 1475.33 973.124 1466.61 Q973.124 1457.86 976.179 1453.27 Q979.258 1448.67 985.068 1448.67 Z\" fill=\"#000000\" fill-rule=\"evenodd\" fill-opacity=\"1\" /><path clip-path=\"url(#clip740)\" d=\"M 0 0 M1358.13 1465.22 Q1361.48 1465.94 1363.36 1468.2 Q1365.26 1470.47 1365.26 1473.81 Q1365.26 1478.92 1361.74 1481.72 Q1358.22 1484.52 1351.74 1484.52 Q1349.56 1484.52 1347.25 1484.08 Q1344.95 1483.67 1342.5 1482.81 L1342.5 1478.3 Q1344.45 1479.43 1346.76 1480.01 Q1349.08 1480.59 1351.6 1480.59 Q1356 1480.59 1358.29 1478.85 Q1360.6 1477.12 1360.6 1473.81 Q1360.6 1470.75 1358.45 1469.04 Q1356.32 1467.3 1352.5 1467.3 L1348.47 1467.3 L1348.47 1463.46 L1352.69 1463.46 Q1356.14 1463.46 1357.96 1462.09 Q1359.79 1460.7 1359.79 1458.11 Q1359.79 1455.45 1357.89 1454.04 Q1356.02 1452.6 1352.5 1452.6 Q1350.58 1452.6 1348.38 1453.02 Q1346.18 1453.44 1343.54 1454.31 L1343.54 1450.15 Q1346.2 1449.41 1348.52 1449.04 Q1350.86 1448.67 1352.92 1448.67 Q1358.24 1448.67 1361.34 1451.1 Q1364.45 1453.5 1364.45 1457.63 Q1364.45 1460.5 1362.8 1462.49 Q1361.16 1464.45 1358.13 1465.22 Z\" fill=\"#000000\" fill-rule=\"evenodd\" fill-opacity=\"1\" /><path clip-path=\"url(#clip740)\" d=\"M 0 0 M1380.32 1452.37 Q1376.71 1452.37 1374.89 1455.94 Q1373.08 1459.48 1373.08 1466.61 Q1373.08 1473.71 1374.89 1477.28 Q1376.71 1480.82 1380.32 1480.82 Q1383.96 1480.82 1385.76 1477.28 Q1387.59 1473.71 1387.59 1466.61 Q1387.59 1459.48 1385.76 1455.94 Q1383.96 1452.37 1380.32 1452.37 M1380.32 1448.67 Q1386.14 1448.67 1389.19 1453.27 Q1392.27 1457.86 1392.27 1466.61 Q1392.27 1475.33 1389.19 1479.94 Q1386.14 1484.52 1380.32 1484.52 Q1374.51 1484.52 1371.44 1479.94 Q1368.38 1475.33 1368.38 1466.61 Q1368.38 1457.86 1371.44 1453.27 Q1374.51 1448.67 1380.32 1448.67 Z\" fill=\"#000000\" fill-rule=\"evenodd\" fill-opacity=\"1\" /><path clip-path=\"url(#clip740)\" d=\"M 0 0 M1407.34 1452.37 Q1403.73 1452.37 1401.9 1455.94 Q1400.09 1459.48 1400.09 1466.61 Q1400.09 1473.71 1401.9 1477.28 Q1403.73 1480.82 1407.34 1480.82 Q1410.97 1480.82 1412.78 1477.28 Q1414.61 1473.71 1414.61 1466.61 Q1414.61 1459.48 1412.78 1455.94 Q1410.97 1452.37 1407.34 1452.37 M1407.34 1448.67 Q1413.15 1448.67 1416.2 1453.27 Q1419.28 1457.86 1419.28 1466.61 Q1419.28 1475.33 1416.2 1479.94 Q1413.15 1484.52 1407.34 1484.52 Q1401.53 1484.52 1398.45 1479.94 Q1395.39 1475.33 1395.39 1466.61 Q1395.39 1457.86 1398.45 1453.27 Q1401.53 1448.67 1407.34 1448.67 Z\" fill=\"#000000\" fill-rule=\"evenodd\" fill-opacity=\"1\" /><path clip-path=\"url(#clip740)\" d=\"M 0 0 M1434.35 1452.37 Q1430.74 1452.37 1428.91 1455.94 Q1427.11 1459.48 1427.11 1466.61 Q1427.11 1473.71 1428.91 1477.28 Q1430.74 1480.82 1434.35 1480.82 Q1437.99 1480.82 1439.79 1477.28 Q1441.62 1473.71 1441.62 1466.61 Q1441.62 1459.48 1439.79 1455.94 Q1437.99 1452.37 1434.35 1452.37 M1434.35 1448.67 Q1440.16 1448.67 1443.22 1453.27 Q1446.3 1457.86 1446.3 1466.61 Q1446.3 1475.33 1443.22 1479.94 Q1440.16 1484.52 1434.35 1484.52 Q1428.54 1484.52 1425.46 1479.94 Q1422.41 1475.33 1422.41 1466.61 Q1422.41 1457.86 1425.46 1453.27 Q1428.54 1448.67 1434.35 1448.67 Z\" fill=\"#000000\" fill-rule=\"evenodd\" fill-opacity=\"1\" /><path clip-path=\"url(#clip740)\" d=\"M 0 0 M1805.77 1453.37 L1793.96 1471.81 L1805.77 1471.81 L1805.77 1453.37 M1804.54 1449.29 L1810.42 1449.29 L1810.42 1471.81 L1815.35 1471.81 L1815.35 1475.7 L1810.42 1475.7 L1810.42 1483.85 L1805.77 1483.85 L1805.77 1475.7 L1790.16 1475.7 L1790.16 1471.19 L1804.54 1449.29 Z\" fill=\"#000000\" fill-rule=\"evenodd\" fill-opacity=\"1\" /><path clip-path=\"url(#clip740)\" d=\"M 0 0 M1830.42 1452.37 Q1826.81 1452.37 1824.98 1455.94 Q1823.17 1459.48 1823.17 1466.61 Q1823.17 1473.71 1824.98 1477.28 Q1826.81 1480.82 1830.42 1480.82 Q1834.05 1480.82 1835.86 1477.28 Q1837.69 1473.71 1837.69 1466.61 Q1837.69 1459.48 1835.86 1455.94 Q1834.05 1452.37 1830.42 1452.37 M1830.42 1448.67 Q1836.23 1448.67 1839.29 1453.27 Q1842.36 1457.86 1842.36 1466.61 Q1842.36 1475.33 1839.29 1479.94 Q1836.23 1484.52 1830.42 1484.52 Q1824.61 1484.52 1821.53 1479.94 Q1818.47 1475.33 1818.47 1466.61 Q1818.47 1457.86 1821.53 1453.27 Q1824.61 1448.67 1830.42 1448.67 Z\" fill=\"#000000\" fill-rule=\"evenodd\" fill-opacity=\"1\" /><path clip-path=\"url(#clip740)\" d=\"M 0 0 M1857.43 1452.37 Q1853.82 1452.37 1851.99 1455.94 Q1850.19 1459.48 1850.19 1466.61 Q1850.19 1473.71 1851.99 1477.28 Q1853.82 1480.82 1857.43 1480.82 Q1861.07 1480.82 1862.87 1477.28 Q1864.7 1473.71 1864.7 1466.61 Q1864.7 1459.48 1862.87 1455.94 Q1861.07 1452.37 1857.43 1452.37 M1857.43 1448.67 Q1863.24 1448.67 1866.3 1453.27 Q1869.38 1457.86 1869.38 1466.61 Q1869.38 1475.33 1866.3 1479.94 Q1863.24 1484.52 1857.43 1484.52 Q1851.62 1484.52 1848.54 1479.94 Q1845.49 1475.33 1845.49 1466.61 Q1845.49 1457.86 1848.54 1453.27 Q1851.62 1448.67 1857.43 1448.67 Z\" fill=\"#000000\" fill-rule=\"evenodd\" fill-opacity=\"1\" /><path clip-path=\"url(#clip740)\" d=\"M 0 0 M1884.45 1452.37 Q1880.84 1452.37 1879.01 1455.94 Q1877.2 1459.48 1877.2 1466.61 Q1877.2 1473.71 1879.01 1477.28 Q1880.84 1480.82 1884.45 1480.82 Q1888.08 1480.82 1889.89 1477.28 Q1891.72 1473.71 1891.72 1466.61 Q1891.72 1459.48 1889.89 1455.94 Q1888.08 1452.37 1884.45 1452.37 M1884.45 1448.67 Q1890.26 1448.67 1893.31 1453.27 Q1896.39 1457.86 1896.39 1466.61 Q1896.39 1475.33 1893.31 1479.94 Q1890.26 1484.52 1884.45 1484.52 Q1878.64 1484.52 1875.56 1479.94 Q1872.5 1475.33 1872.5 1466.61 Q1872.5 1457.86 1875.56 1453.27 Q1878.64 1448.67 1884.45 1448.67 Z\" fill=\"#000000\" fill-rule=\"evenodd\" fill-opacity=\"1\" /><path clip-path=\"url(#clip740)\" d=\"M 0 0 M2241.91 1449.29 L2260.27 1449.29 L2260.27 1453.23 L2246.2 1453.23 L2246.2 1461.7 Q2247.22 1461.35 2248.23 1461.19 Q2249.25 1461 2250.27 1461 Q2256.06 1461 2259.44 1464.18 Q2262.82 1467.35 2262.82 1472.76 Q2262.82 1478.34 2259.34 1481.44 Q2255.87 1484.52 2249.55 1484.52 Q2247.38 1484.52 2245.11 1484.15 Q2242.86 1483.78 2240.46 1483.04 L2240.46 1478.34 Q2242.54 1479.48 2244.76 1480.03 Q2246.98 1480.59 2249.46 1480.59 Q2253.47 1480.59 2255.8 1478.48 Q2258.14 1476.38 2258.14 1472.76 Q2258.14 1469.15 2255.8 1467.05 Q2253.47 1464.94 2249.46 1464.94 Q2247.59 1464.94 2245.71 1465.36 Q2243.86 1465.77 2241.91 1466.65 L2241.91 1449.29 Z\" fill=\"#000000\" fill-rule=\"evenodd\" fill-opacity=\"1\" /><path clip-path=\"url(#clip740)\" d=\"M 0 0 M2277.89 1452.37 Q2274.28 1452.37 2272.45 1455.94 Q2270.64 1459.48 2270.64 1466.61 Q2270.64 1473.71 2272.45 1477.28 Q2274.28 1480.82 2277.89 1480.82 Q2281.52 1480.82 2283.33 1477.28 Q2285.15 1473.71 2285.15 1466.61 Q2285.15 1459.48 2283.33 1455.94 Q2281.52 1452.37 2277.89 1452.37 M2277.89 1448.67 Q2283.7 1448.67 2286.75 1453.27 Q2289.83 1457.86 2289.83 1466.61 Q2289.83 1475.33 2286.75 1479.94 Q2283.7 1484.52 2277.89 1484.52 Q2272.08 1484.52 2269 1479.94 Q2265.94 1475.33 2265.94 1466.61 Q2265.94 1457.86 2269 1453.27 Q2272.08 1448.67 2277.89 1448.67 Z\" fill=\"#000000\" fill-rule=\"evenodd\" fill-opacity=\"1\" /><path clip-path=\"url(#clip740)\" d=\"M 0 0 M2304.9 1452.37 Q2301.29 1452.37 2299.46 1455.94 Q2297.65 1459.48 2297.65 1466.61 Q2297.65 1473.71 2299.46 1477.28 Q2301.29 1480.82 2304.9 1480.82 Q2308.53 1480.82 2310.34 1477.28 Q2312.17 1473.71 2312.17 1466.61 Q2312.17 1459.48 2310.34 1455.94 Q2308.53 1452.37 2304.9 1452.37 M2304.9 1448.67 Q2310.71 1448.67 2313.77 1453.27 Q2316.84 1457.86 2316.84 1466.61 Q2316.84 1475.33 2313.77 1479.94 Q2310.71 1484.52 2304.9 1484.52 Q2299.09 1484.52 2296.01 1479.94 Q2292.96 1475.33 2292.96 1466.61 Q2292.96 1457.86 2296.01 1453.27 Q2299.09 1448.67 2304.9 1448.67 Z\" fill=\"#000000\" fill-rule=\"evenodd\" fill-opacity=\"1\" /><path clip-path=\"url(#clip740)\" d=\"M 0 0 M2331.91 1452.37 Q2328.3 1452.37 2326.47 1455.94 Q2324.67 1459.48 2324.67 1466.61 Q2324.67 1473.71 2326.47 1477.28 Q2328.3 1480.82 2331.91 1480.82 Q2335.55 1480.82 2337.35 1477.28 Q2339.18 1473.71 2339.18 1466.61 Q2339.18 1459.48 2337.35 1455.94 Q2335.55 1452.37 2331.91 1452.37 M2331.91 1448.67 Q2337.72 1448.67 2340.78 1453.27 Q2343.86 1457.86 2343.86 1466.61 Q2343.86 1475.33 2340.78 1479.94 Q2337.72 1484.52 2331.91 1484.52 Q2326.1 1484.52 2323.03 1479.94 Q2319.97 1475.33 2319.97 1466.61 Q2319.97 1457.86 2323.03 1453.27 Q2326.1 1448.67 2331.91 1448.67 Z\" fill=\"#000000\" fill-rule=\"evenodd\" fill-opacity=\"1\" /><path clip-path=\"url(#clip740)\" d=\"M 0 0 M1256.02 1522.08 L1256.02 1528.35 Q1252.36 1526.6 1249.11 1525.74 Q1245.86 1524.88 1242.84 1524.88 Q1237.59 1524.88 1234.72 1526.92 Q1231.89 1528.96 1231.89 1532.71 Q1231.89 1535.87 1233.77 1537.49 Q1235.68 1539.08 1240.96 1540.07 L1244.84 1540.86 Q1252.04 1542.23 1255.44 1545.7 Q1258.88 1549.14 1258.88 1554.93 Q1258.88 1561.84 1254.23 1565.4 Q1249.62 1568.97 1240.67 1568.97 Q1237.3 1568.97 1233.48 1568.2 Q1229.69 1567.44 1225.62 1565.94 L1225.62 1559.32 Q1229.53 1561.52 1233.29 1562.63 Q1237.05 1563.75 1240.67 1563.75 Q1246.18 1563.75 1249.17 1561.58 Q1252.16 1559.42 1252.16 1555.41 Q1252.16 1551.91 1250 1549.93 Q1247.87 1547.96 1242.97 1546.97 L1239.05 1546.21 Q1231.86 1544.78 1228.64 1541.72 Q1225.43 1538.67 1225.43 1533.22 Q1225.43 1526.92 1229.85 1523.29 Q1234.31 1519.66 1242.11 1519.66 Q1245.45 1519.66 1248.92 1520.27 Q1252.39 1520.87 1256.02 1522.08 Z\" fill=\"#000000\" fill-rule=\"evenodd\" fill-opacity=\"1\" /><path clip-path=\"url(#clip740)\" d=\"M 0 0 M1265.02 1532.4 L1270.88 1532.4 L1270.88 1568.04 L1265.02 1568.04 L1265.02 1532.4 M1265.02 1518.52 L1270.88 1518.52 L1270.88 1525.93 L1265.02 1525.93 L1265.02 1518.52 Z\" fill=\"#000000\" fill-rule=\"evenodd\" fill-opacity=\"1\" /><path clip-path=\"url(#clip740)\" d=\"M 0 0 M1274.48 1532.4 L1302.29 1532.4 L1302.29 1537.74 L1280.27 1563.37 L1302.29 1563.37 L1302.29 1568.04 L1273.68 1568.04 L1273.68 1562.7 L1295.71 1537.07 L1274.48 1537.07 L1274.48 1532.4 Z\" fill=\"#000000\" fill-rule=\"evenodd\" fill-opacity=\"1\" /><path clip-path=\"url(#clip740)\" d=\"M 0 0 M1338.93 1548.76 L1338.93 1551.62 L1312 1551.62 Q1312.38 1557.67 1315.63 1560.85 Q1318.91 1564 1324.73 1564 Q1328.11 1564 1331.26 1563.17 Q1334.44 1562.35 1337.56 1560.69 L1337.56 1566.23 Q1334.41 1567.57 1331.1 1568.27 Q1327.79 1568.97 1324.38 1568.97 Q1315.85 1568.97 1310.86 1564 Q1305.89 1559.04 1305.89 1550.57 Q1305.89 1541.82 1310.6 1536.69 Q1315.34 1531.54 1323.37 1531.54 Q1330.56 1531.54 1334.73 1536.18 Q1338.93 1540.8 1338.93 1548.76 M1333.07 1547.04 Q1333.01 1542.23 1330.37 1539.37 Q1327.76 1536.5 1323.43 1536.5 Q1318.53 1536.5 1315.57 1539.27 Q1312.64 1542.04 1312.19 1547.07 L1333.07 1547.04 Z\" fill=\"#000000\" fill-rule=\"evenodd\" fill-opacity=\"1\" /><polyline clip-path=\"url(#clip742)\" style=\"stroke:#000000; stroke-width:2; stroke-opacity:0.1; fill:none\" points=\"\n",
       "  211.602,1386.76 2352.76,1386.76 \n",
       "  \"/>\n",
       "<polyline clip-path=\"url(#clip742)\" style=\"stroke:#000000; stroke-width:2; stroke-opacity:0.1; fill:none\" points=\"\n",
       "  211.602,1060.53 2352.76,1060.53 \n",
       "  \"/>\n",
       "<polyline clip-path=\"url(#clip742)\" style=\"stroke:#000000; stroke-width:2; stroke-opacity:0.1; fill:none\" points=\"\n",
       "  211.602,734.3 2352.76,734.3 \n",
       "  \"/>\n",
       "<polyline clip-path=\"url(#clip742)\" style=\"stroke:#000000; stroke-width:2; stroke-opacity:0.1; fill:none\" points=\"\n",
       "  211.602,408.067 2352.76,408.067 \n",
       "  \"/>\n",
       "<polyline clip-path=\"url(#clip740)\" style=\"stroke:#000000; stroke-width:4; stroke-opacity:1; fill:none\" points=\"\n",
       "  211.602,1423.18 211.602,123.472 \n",
       "  \"/>\n",
       "<polyline clip-path=\"url(#clip740)\" style=\"stroke:#000000; stroke-width:4; stroke-opacity:1; fill:none\" points=\"\n",
       "  211.602,1386.76 237.296,1386.76 \n",
       "  \"/>\n",
       "<polyline clip-path=\"url(#clip740)\" style=\"stroke:#000000; stroke-width:4; stroke-opacity:1; fill:none\" points=\"\n",
       "  211.602,1060.53 237.296,1060.53 \n",
       "  \"/>\n",
       "<polyline clip-path=\"url(#clip740)\" style=\"stroke:#000000; stroke-width:4; stroke-opacity:1; fill:none\" points=\"\n",
       "  211.602,734.3 237.296,734.3 \n",
       "  \"/>\n",
       "<polyline clip-path=\"url(#clip740)\" style=\"stroke:#000000; stroke-width:4; stroke-opacity:1; fill:none\" points=\"\n",
       "  211.602,408.067 237.296,408.067 \n",
       "  \"/>\n",
       "<path clip-path=\"url(#clip740)\" d=\"M 0 0 M126.691 1372.56 Q123.08 1372.56 121.251 1376.13 Q119.445 1379.67 119.445 1386.8 Q119.445 1393.91 121.251 1397.47 Q123.08 1401.01 126.691 1401.01 Q130.325 1401.01 132.13 1397.47 Q133.959 1393.91 133.959 1386.8 Q133.959 1379.67 132.13 1376.13 Q130.325 1372.56 126.691 1372.56 M126.691 1368.86 Q132.501 1368.86 135.556 1373.47 Q138.635 1378.05 138.635 1386.8 Q138.635 1395.53 135.556 1400.13 Q132.501 1404.72 126.691 1404.72 Q120.88 1404.72 117.802 1400.13 Q114.746 1395.53 114.746 1386.8 Q114.746 1378.05 117.802 1373.47 Q120.88 1368.86 126.691 1368.86 Z\" fill=\"#000000\" fill-rule=\"evenodd\" fill-opacity=\"1\" /><path clip-path=\"url(#clip740)\" d=\"M 0 0 M143.704 1398.16 L148.589 1398.16 L148.589 1404.04 L143.704 1404.04 L143.704 1398.16 Z\" fill=\"#000000\" fill-rule=\"evenodd\" fill-opacity=\"1\" /><path clip-path=\"url(#clip740)\" d=\"M 0 0 M163.658 1372.56 Q160.047 1372.56 158.218 1376.13 Q156.413 1379.67 156.413 1386.8 Q156.413 1393.91 158.218 1397.47 Q160.047 1401.01 163.658 1401.01 Q167.292 1401.01 169.098 1397.47 Q170.927 1393.91 170.927 1386.8 Q170.927 1379.67 169.098 1376.13 Q167.292 1372.56 163.658 1372.56 M163.658 1368.86 Q169.468 1368.86 172.524 1373.47 Q175.602 1378.05 175.602 1386.8 Q175.602 1395.53 172.524 1400.13 Q169.468 1404.72 163.658 1404.72 Q157.848 1404.72 154.769 1400.13 Q151.714 1395.53 151.714 1386.8 Q151.714 1378.05 154.769 1373.47 Q157.848 1368.86 163.658 1368.86 Z\" fill=\"#000000\" fill-rule=\"evenodd\" fill-opacity=\"1\" /><path clip-path=\"url(#clip740)\" d=\"M 0 0 M128.288 1046.33 Q124.677 1046.33 122.848 1049.9 Q121.043 1053.44 121.043 1060.57 Q121.043 1067.67 122.848 1071.24 Q124.677 1074.78 128.288 1074.78 Q131.922 1074.78 133.728 1071.24 Q135.556 1067.67 135.556 1060.57 Q135.556 1053.44 133.728 1049.9 Q131.922 1046.33 128.288 1046.33 M128.288 1042.63 Q134.098 1042.63 137.154 1047.23 Q140.232 1051.82 140.232 1060.57 Q140.232 1069.29 137.154 1073.9 Q134.098 1078.48 128.288 1078.48 Q122.478 1078.48 119.399 1073.9 Q116.343 1069.29 116.343 1060.57 Q116.343 1051.82 119.399 1047.23 Q122.478 1042.63 128.288 1042.63 Z\" fill=\"#000000\" fill-rule=\"evenodd\" fill-opacity=\"1\" /><path clip-path=\"url(#clip740)\" d=\"M 0 0 M145.302 1071.93 L150.186 1071.93 L150.186 1077.81 L145.302 1077.81 L145.302 1071.93 Z\" fill=\"#000000\" fill-rule=\"evenodd\" fill-opacity=\"1\" /><path clip-path=\"url(#clip740)\" d=\"M 0 0 M159.283 1073.88 L175.602 1073.88 L175.602 1077.81 L153.658 1077.81 L153.658 1073.88 Q156.32 1071.12 160.903 1066.49 Q165.51 1061.84 166.69 1060.5 Q168.936 1057.97 169.815 1056.24 Q170.718 1054.48 170.718 1052.79 Q170.718 1050.03 168.774 1048.3 Q166.852 1046.56 163.751 1046.56 Q161.552 1046.56 159.098 1047.33 Q156.667 1048.09 153.89 1049.64 L153.89 1044.92 Q156.714 1043.78 159.167 1043.21 Q161.621 1042.63 163.658 1042.63 Q169.028 1042.63 172.223 1045.31 Q175.417 1048 175.417 1052.49 Q175.417 1054.62 174.607 1056.54 Q173.82 1058.44 171.714 1061.03 Q171.135 1061.7 168.033 1064.92 Q164.931 1068.11 159.283 1073.88 Z\" fill=\"#000000\" fill-rule=\"evenodd\" fill-opacity=\"1\" /><path clip-path=\"url(#clip740)\" d=\"M 0 0 M126.205 720.098 Q122.593 720.098 120.765 723.663 Q118.959 727.205 118.959 734.334 Q118.959 741.441 120.765 745.006 Q122.593 748.547 126.205 748.547 Q129.839 748.547 131.644 745.006 Q133.473 741.441 133.473 734.334 Q133.473 727.205 131.644 723.663 Q129.839 720.098 126.205 720.098 M126.205 716.395 Q132.015 716.395 135.07 721.001 Q138.149 725.584 138.149 734.334 Q138.149 743.061 135.07 747.668 Q132.015 752.251 126.205 752.251 Q120.394 752.251 117.316 747.668 Q114.26 743.061 114.26 734.334 Q114.26 725.584 117.316 721.001 Q120.394 716.395 126.205 716.395 Z\" fill=\"#000000\" fill-rule=\"evenodd\" fill-opacity=\"1\" /><path clip-path=\"url(#clip740)\" d=\"M 0 0 M143.218 745.7 L148.103 745.7 L148.103 751.58 L143.218 751.58 L143.218 745.7 Z\" fill=\"#000000\" fill-rule=\"evenodd\" fill-opacity=\"1\" /><path clip-path=\"url(#clip740)\" d=\"M 0 0 M166.019 721.094 L154.214 739.543 L166.019 739.543 L166.019 721.094 M164.792 717.02 L170.672 717.02 L170.672 739.543 L175.602 739.543 L175.602 743.431 L170.672 743.431 L170.672 751.58 L166.019 751.58 L166.019 743.431 L150.417 743.431 L150.417 738.918 L164.792 717.02 Z\" fill=\"#000000\" fill-rule=\"evenodd\" fill-opacity=\"1\" /><path clip-path=\"url(#clip740)\" d=\"M 0 0 M126.529 393.866 Q122.918 393.866 121.089 397.431 Q119.283 400.972 119.283 408.102 Q119.283 415.208 121.089 418.773 Q122.918 422.315 126.529 422.315 Q130.163 422.315 131.968 418.773 Q133.797 415.208 133.797 408.102 Q133.797 400.972 131.968 397.431 Q130.163 393.866 126.529 393.866 M126.529 390.162 Q132.339 390.162 135.394 394.769 Q138.473 399.352 138.473 408.102 Q138.473 416.829 135.394 421.435 Q132.339 426.018 126.529 426.018 Q120.718 426.018 117.64 421.435 Q114.584 416.829 114.584 408.102 Q114.584 399.352 117.64 394.769 Q120.718 390.162 126.529 390.162 Z\" fill=\"#000000\" fill-rule=\"evenodd\" fill-opacity=\"1\" /><path clip-path=\"url(#clip740)\" d=\"M 0 0 M143.542 419.468 L148.427 419.468 L148.427 425.347 L143.542 425.347 L143.542 419.468 Z\" fill=\"#000000\" fill-rule=\"evenodd\" fill-opacity=\"1\" /><path clip-path=\"url(#clip740)\" d=\"M 0 0 M164.075 406.204 Q160.927 406.204 159.075 408.356 Q157.246 410.509 157.246 414.259 Q157.246 417.986 159.075 420.162 Q160.927 422.315 164.075 422.315 Q167.223 422.315 169.052 420.162 Q170.903 417.986 170.903 414.259 Q170.903 410.509 169.052 408.356 Q167.223 406.204 164.075 406.204 M173.357 391.551 L173.357 395.81 Q171.598 394.977 169.792 394.537 Q168.01 394.097 166.251 394.097 Q161.621 394.097 159.167 397.222 Q156.737 400.347 156.39 406.667 Q157.755 404.653 159.815 403.588 Q161.876 402.5 164.352 402.5 Q169.561 402.5 172.57 405.671 Q175.602 408.819 175.602 414.259 Q175.602 419.583 172.454 422.801 Q169.306 426.018 164.075 426.018 Q158.079 426.018 154.908 421.435 Q151.737 416.829 151.737 408.102 Q151.737 399.907 155.626 395.046 Q159.515 390.162 166.065 390.162 Q167.825 390.162 169.607 390.509 Q171.413 390.857 173.357 391.551 Z\" fill=\"#000000\" fill-rule=\"evenodd\" fill-opacity=\"1\" /><path clip-path=\"url(#clip740)\" d=\"M 0 0 M16.4842 845.72 L16.4842 805.521 L21.895 805.521 L21.895 822.39 L64.0042 822.39 L64.0042 828.851 L21.895 828.851 L21.895 845.72 L16.4842 845.72 Z\" fill=\"#000000\" fill-rule=\"evenodd\" fill-opacity=\"1\" /><path clip-path=\"url(#clip740)\" d=\"M 0 0 M28.3562 801.383 L28.3562 795.526 L64.0042 795.526 L64.0042 801.383 L28.3562 801.383 M14.479 801.383 L14.479 795.526 L21.895 795.526 L21.895 801.383 L14.479 801.383 Z\" fill=\"#000000\" fill-rule=\"evenodd\" fill-opacity=\"1\" /><path clip-path=\"url(#clip740)\" d=\"M 0 0 M35.1993 761.629 Q31.2526 759.433 29.3747 756.377 Q27.4968 753.322 27.4968 749.184 Q27.4968 743.614 31.4117 740.59 Q35.2948 737.567 42.4881 737.567 L64.0042 737.567 L64.0042 743.455 L42.679 743.455 Q37.5546 743.455 35.072 745.269 Q32.5894 747.083 32.5894 750.807 Q32.5894 755.359 35.6131 758.001 Q38.6368 760.642 43.8567 760.642 L64.0042 760.642 L64.0042 766.531 L42.679 766.531 Q37.5228 766.531 35.072 768.345 Q32.5894 770.159 32.5894 773.947 Q32.5894 778.434 35.6449 781.076 Q38.6686 783.718 43.8567 783.718 L64.0042 783.718 L64.0042 789.606 L28.3562 789.606 L28.3562 783.718 L33.8944 783.718 Q30.616 781.713 29.0564 778.912 Q27.4968 776.111 27.4968 772.26 Q27.4968 768.377 29.4702 765.671 Q31.4436 762.934 35.1993 761.629 Z\" fill=\"#000000\" fill-rule=\"evenodd\" fill-opacity=\"1\" /><path clip-path=\"url(#clip740)\" d=\"M 0 0 M44.7161 700.932 L47.5806 700.932 L47.5806 727.859 Q53.6281 727.477 56.8109 724.23 Q59.9619 720.952 59.9619 715.128 Q59.9619 711.754 59.1344 708.603 Q58.3069 705.42 56.6518 702.301 L62.1899 702.301 Q63.5267 705.452 64.227 708.762 Q64.9272 712.072 64.9272 715.478 Q64.9272 724.008 59.9619 729.005 Q54.9967 733.97 46.5303 733.97 Q37.7774 733.97 32.6531 729.259 Q27.4968 724.517 27.4968 716.496 Q27.4968 709.303 32.1438 705.133 Q36.7589 700.932 44.7161 700.932 M42.9973 706.788 Q38.1912 706.852 35.3266 709.494 Q32.4621 712.104 32.4621 716.432 Q32.4621 721.334 35.2312 724.294 Q38.0002 727.222 43.0292 727.668 L42.9973 706.788 Z\" fill=\"#000000\" fill-rule=\"evenodd\" fill-opacity=\"1\" /><path clip-path=\"url(#clip740)\" d=\"M 0 0 M706.384 12.096 L718.577 12.096 L734.011 53.2532 L749.526 12.096 L761.719 12.096 L761.719 72.576 L753.739 72.576 L753.739 19.4686 L738.143 60.9499 L729.919 60.9499 L714.323 19.4686 L714.323 72.576 L706.384 72.576 L706.384 12.096 Z\" fill=\"#000000\" fill-rule=\"evenodd\" fill-opacity=\"1\" /><path clip-path=\"url(#clip740)\" d=\"M 0 0 M790.156 49.7694 Q781.123 49.7694 777.639 51.8354 Q774.155 53.9013 774.155 58.8839 Q774.155 62.8538 776.748 65.2034 Q779.381 67.5124 783.877 67.5124 Q790.075 67.5124 793.802 63.1374 Q797.569 58.7219 797.569 51.4303 L797.569 49.7694 L790.156 49.7694 M805.023 46.6907 L805.023 72.576 L797.569 72.576 L797.569 65.6895 Q795.017 69.8214 791.21 71.8063 Q787.402 73.7508 781.892 73.7508 Q774.925 73.7508 770.793 69.8619 Q766.702 65.9325 766.702 59.3701 Q766.702 51.7138 771.806 47.825 Q776.95 43.9361 787.118 43.9361 L797.569 43.9361 L797.569 43.2069 Q797.569 38.0623 794.167 35.2672 Q790.804 32.4315 784.688 32.4315 Q780.799 32.4315 777.112 33.3632 Q773.426 34.295 770.023 36.1584 L770.023 29.2718 Q774.115 27.692 777.963 26.9223 Q781.811 26.1121 785.457 26.1121 Q795.301 26.1121 800.162 31.2163 Q805.023 36.3204 805.023 46.6907 Z\" fill=\"#000000\" fill-rule=\"evenodd\" fill-opacity=\"1\" /><path clip-path=\"url(#clip740)\" d=\"M 0 0 M820.214 14.324 L820.214 27.2059 L835.567 27.2059 L835.567 32.9987 L820.214 32.9987 L820.214 57.6282 Q820.214 63.1779 821.713 64.7578 Q823.252 66.3376 827.911 66.3376 L835.567 66.3376 L835.567 72.576 L827.911 72.576 Q819.282 72.576 816.001 69.3758 Q812.72 66.1351 812.72 57.6282 L812.72 32.9987 L807.251 32.9987 L807.251 27.2059 L812.72 27.2059 L812.72 14.324 L820.214 14.324 Z\" fill=\"#000000\" fill-rule=\"evenodd\" fill-opacity=\"1\" /><path clip-path=\"url(#clip740)\" d=\"M 0 0 M869.676 34.1734 Q868.42 33.4443 866.921 33.1202 Q865.463 32.7556 863.68 32.7556 Q857.361 32.7556 853.958 36.8875 Q850.596 40.9789 850.596 48.6757 L850.596 72.576 L843.102 72.576 L843.102 27.2059 L850.596 27.2059 L850.596 34.2544 Q852.945 30.1225 856.713 28.1376 Q860.48 26.1121 865.868 26.1121 Q866.637 26.1121 867.569 26.2337 Q868.501 26.3147 869.635 26.5172 L869.676 34.1734 Z\" fill=\"#000000\" fill-rule=\"evenodd\" fill-opacity=\"1\" /><path clip-path=\"url(#clip740)\" d=\"M 0 0 M877.494 27.2059 L884.947 27.2059 L884.947 72.576 L877.494 72.576 L877.494 27.2059 M877.494 9.54393 L884.947 9.54393 L884.947 18.9825 L877.494 18.9825 L877.494 9.54393 Z\" fill=\"#000000\" fill-rule=\"evenodd\" fill-opacity=\"1\" /><path clip-path=\"url(#clip740)\" d=\"M 0 0 M930.48 27.2059 L914.073 49.2833 L931.33 72.576 L922.54 72.576 L909.334 54.752 L896.128 72.576 L887.338 72.576 L904.959 48.8377 L888.836 27.2059 L897.627 27.2059 L909.658 43.369 L921.689 27.2059 L930.48 27.2059 Z\" fill=\"#000000\" fill-rule=\"evenodd\" fill-opacity=\"1\" /><path clip-path=\"url(#clip740)\" d=\"M 0 0 M935.381 46.5287 L957.216 46.5287 L957.216 53.1722 L935.381 53.1722 L935.381 46.5287 Z\" fill=\"#000000\" fill-rule=\"evenodd\" fill-opacity=\"1\" /><path clip-path=\"url(#clip740)\" d=\"M 0 0 M957.459 27.2059 L965.358 27.2059 L979.536 65.2844 L993.714 27.2059 L1001.61 27.2059 L984.6 72.576 L974.472 72.576 L957.459 27.2059 Z\" fill=\"#000000\" fill-rule=\"evenodd\" fill-opacity=\"1\" /><path clip-path=\"url(#clip740)\" d=\"M 0 0 M1048.24 48.0275 L1048.24 51.6733 L1013.97 51.6733 Q1014.45 59.3701 1018.59 63.421 Q1022.76 67.4314 1030.17 67.4314 Q1034.47 67.4314 1038.48 66.3781 Q1042.53 65.3249 1046.5 63.2184 L1046.5 70.267 Q1042.49 71.9684 1038.27 72.8596 Q1034.06 73.7508 1029.73 73.7508 Q1018.87 73.7508 1012.51 67.4314 Q1006.19 61.1119 1006.19 50.3365 Q1006.19 39.1965 1012.19 32.6746 Q1018.22 26.1121 1028.43 26.1121 Q1037.59 26.1121 1042.89 32.0264 Q1048.24 37.9003 1048.24 48.0275 M1040.79 45.84 Q1040.7 39.7232 1037.34 36.0774 Q1034.02 32.4315 1028.51 32.4315 Q1022.27 32.4315 1018.51 35.9558 Q1014.78 39.4801 1014.21 45.8805 L1040.79 45.84 Z\" fill=\"#000000\" fill-rule=\"evenodd\" fill-opacity=\"1\" /><path clip-path=\"url(#clip740)\" d=\"M 0 0 M1063.43 14.324 L1063.43 27.2059 L1078.78 27.2059 L1078.78 32.9987 L1063.43 32.9987 L1063.43 57.6282 Q1063.43 63.1779 1064.93 64.7578 Q1066.47 66.3376 1071.13 66.3376 L1078.78 66.3376 L1078.78 72.576 L1071.13 72.576 Q1062.5 72.576 1059.22 69.3758 Q1055.94 66.1351 1055.94 57.6282 L1055.94 32.9987 L1050.47 32.9987 L1050.47 27.2059 L1055.94 27.2059 L1055.94 14.324 L1063.43 14.324 Z\" fill=\"#000000\" fill-rule=\"evenodd\" fill-opacity=\"1\" /><path clip-path=\"url(#clip740)\" d=\"M 0 0 M1104.18 32.4315 Q1098.19 32.4315 1094.7 37.1306 Q1091.22 41.7891 1091.22 49.9314 Q1091.22 58.0738 1094.66 62.7728 Q1098.15 67.4314 1104.18 67.4314 Q1110.14 67.4314 1113.62 62.7323 Q1117.1 58.0333 1117.1 49.9314 Q1117.1 41.8701 1113.62 37.1711 Q1110.14 32.4315 1104.18 32.4315 M1104.18 26.1121 Q1113.9 26.1121 1119.45 32.4315 Q1125 38.7509 1125 49.9314 Q1125 61.0714 1119.45 67.4314 Q1113.9 73.7508 1104.18 73.7508 Q1094.42 73.7508 1088.87 67.4314 Q1083.36 61.0714 1083.36 49.9314 Q1083.36 38.7509 1088.87 32.4315 Q1094.42 26.1121 1104.18 26.1121 Z\" fill=\"#000000\" fill-rule=\"evenodd\" fill-opacity=\"1\" /><path clip-path=\"url(#clip740)\" d=\"M 0 0 M1159.11 34.1734 Q1157.86 33.4443 1156.36 33.1202 Q1154.9 32.7556 1153.12 32.7556 Q1146.8 32.7556 1143.4 36.8875 Q1140.03 40.9789 1140.03 48.6757 L1140.03 72.576 L1132.54 72.576 L1132.54 27.2059 L1140.03 27.2059 L1140.03 34.2544 Q1142.38 30.1225 1146.15 28.1376 Q1149.92 26.1121 1155.3 26.1121 Q1156.07 26.1121 1157.01 26.2337 Q1157.94 26.3147 1159.07 26.5172 L1159.11 34.1734 Z\" fill=\"#000000\" fill-rule=\"evenodd\" fill-opacity=\"1\" /><path clip-path=\"url(#clip740)\" d=\"M 0 0 M1228.63 35.9153 Q1231.42 30.8922 1235.31 28.5022 Q1239.2 26.1121 1244.47 26.1121 Q1251.55 26.1121 1255.4 31.0947 Q1259.25 36.0368 1259.25 45.1919 L1259.25 72.576 L1251.76 72.576 L1251.76 45.4349 Q1251.76 38.913 1249.45 35.7533 Q1247.14 32.5936 1242.4 32.5936 Q1236.61 32.5936 1233.24 36.4419 Q1229.88 40.2903 1229.88 46.9338 L1229.88 72.576 L1222.39 72.576 L1222.39 45.4349 Q1222.39 38.8725 1220.08 35.7533 Q1217.77 32.5936 1212.95 32.5936 Q1207.24 32.5936 1203.88 36.4824 Q1200.51 40.3308 1200.51 46.9338 L1200.51 72.576 L1193.02 72.576 L1193.02 27.2059 L1200.51 27.2059 L1200.51 34.2544 Q1203.07 30.082 1206.63 28.0971 Q1210.19 26.1121 1215.1 26.1121 Q1220.04 26.1121 1223.48 28.6237 Q1226.97 31.1352 1228.63 35.9153 Z\" fill=\"#000000\" fill-rule=\"evenodd\" fill-opacity=\"1\" /><path clip-path=\"url(#clip740)\" d=\"M 0 0 M1266.3 54.671 L1266.3 27.2059 L1273.75 27.2059 L1273.75 54.3874 Q1273.75 60.8284 1276.26 64.0691 Q1278.78 67.2693 1283.8 67.2693 Q1289.84 67.2693 1293.32 63.421 Q1296.84 59.5726 1296.84 52.9291 L1296.84 27.2059 L1304.3 27.2059 L1304.3 72.576 L1296.84 72.576 L1296.84 65.6084 Q1294.13 69.7404 1290.52 71.7658 Q1286.96 73.7508 1282.22 73.7508 Q1274.4 73.7508 1270.35 68.8897 Q1266.3 64.0286 1266.3 54.671 M1285.06 26.1121 L1285.06 26.1121 Z\" fill=\"#000000\" fill-rule=\"evenodd\" fill-opacity=\"1\" /><path clip-path=\"url(#clip740)\" d=\"M 0 0 M1312.12 9.54393 L1319.57 9.54393 L1319.57 72.576 L1312.12 72.576 L1312.12 9.54393 Z\" fill=\"#000000\" fill-rule=\"evenodd\" fill-opacity=\"1\" /><path clip-path=\"url(#clip740)\" d=\"M 0 0 M1327.39 27.2059 L1334.84 27.2059 L1334.84 72.576 L1327.39 72.576 L1327.39 27.2059 M1327.39 9.54393 L1334.84 9.54393 L1334.84 18.9825 L1327.39 18.9825 L1327.39 9.54393 Z\" fill=\"#000000\" fill-rule=\"evenodd\" fill-opacity=\"1\" /><path clip-path=\"url(#clip740)\" d=\"M 0 0 M1350.03 14.324 L1350.03 27.2059 L1365.38 27.2059 L1365.38 32.9987 L1350.03 32.9987 L1350.03 57.6282 Q1350.03 63.1779 1351.53 64.7578 Q1353.07 66.3376 1357.73 66.3376 L1365.38 66.3376 L1365.38 72.576 L1357.73 72.576 Q1349.1 72.576 1345.82 69.3758 Q1342.54 66.1351 1342.54 57.6282 L1342.54 32.9987 L1337.07 32.9987 L1337.07 27.2059 L1342.54 27.2059 L1342.54 14.324 L1350.03 14.324 Z\" fill=\"#000000\" fill-rule=\"evenodd\" fill-opacity=\"1\" /><path clip-path=\"url(#clip740)\" d=\"M 0 0 M1380.41 65.7705 L1380.41 89.8329 L1372.92 89.8329 L1372.92 27.2059 L1380.41 27.2059 L1380.41 34.0924 Q1382.76 30.0415 1386.33 28.0971 Q1389.93 26.1121 1394.92 26.1121 Q1403.18 26.1121 1408.32 32.6746 Q1413.51 39.2371 1413.51 49.9314 Q1413.51 60.6258 1408.32 67.1883 Q1403.18 73.7508 1394.92 73.7508 Q1389.93 73.7508 1386.33 71.8063 Q1382.76 69.8214 1380.41 65.7705 M1405.77 49.9314 Q1405.77 41.7081 1402.37 37.0496 Q1399.01 32.3505 1393.09 32.3505 Q1387.18 32.3505 1383.78 37.0496 Q1380.41 41.7081 1380.41 49.9314 Q1380.41 58.1548 1383.78 62.8538 Q1387.18 67.5124 1393.09 67.5124 Q1399.01 67.5124 1402.37 62.8538 Q1405.77 58.1548 1405.77 49.9314 Z\" fill=\"#000000\" fill-rule=\"evenodd\" fill-opacity=\"1\" /><path clip-path=\"url(#clip740)\" d=\"M 0 0 M1421.33 9.54393 L1428.78 9.54393 L1428.78 72.576 L1421.33 72.576 L1421.33 9.54393 Z\" fill=\"#000000\" fill-rule=\"evenodd\" fill-opacity=\"1\" /><path clip-path=\"url(#clip740)\" d=\"M 0 0 M1436.6 27.2059 L1444.05 27.2059 L1444.05 72.576 L1436.6 72.576 L1436.6 27.2059 M1436.6 9.54393 L1444.05 9.54393 L1444.05 18.9825 L1436.6 18.9825 L1436.6 9.54393 Z\" fill=\"#000000\" fill-rule=\"evenodd\" fill-opacity=\"1\" /><path clip-path=\"url(#clip740)\" d=\"M 0 0 M1484.52 28.9478 L1484.52 35.9153 Q1481.36 34.1734 1478.16 33.3227 Q1475 32.4315 1471.76 32.4315 Q1464.51 32.4315 1460.5 37.0496 Q1456.49 41.6271 1456.49 49.9314 Q1456.49 58.2358 1460.5 62.8538 Q1464.51 67.4314 1471.76 67.4314 Q1475 67.4314 1478.16 66.5807 Q1481.36 65.6895 1484.52 63.9476 L1484.52 70.8341 Q1481.4 72.2924 1478.04 73.0216 Q1474.72 73.7508 1470.95 73.7508 Q1460.7 73.7508 1454.67 67.3098 Q1448.63 60.8689 1448.63 49.9314 Q1448.63 38.832 1454.71 32.472 Q1460.82 26.1121 1471.44 26.1121 Q1474.88 26.1121 1478.16 26.8413 Q1481.44 27.5299 1484.52 28.9478 Z\" fill=\"#000000\" fill-rule=\"evenodd\" fill-opacity=\"1\" /><path clip-path=\"url(#clip740)\" d=\"M 0 0 M1512.96 49.7694 Q1503.93 49.7694 1500.44 51.8354 Q1496.96 53.9013 1496.96 58.8839 Q1496.96 62.8538 1499.55 65.2034 Q1502.18 67.5124 1506.68 67.5124 Q1512.88 67.5124 1516.6 63.1374 Q1520.37 58.7219 1520.37 51.4303 L1520.37 49.7694 L1512.96 49.7694 M1527.83 46.6907 L1527.83 72.576 L1520.37 72.576 L1520.37 65.6895 Q1517.82 69.8214 1514.01 71.8063 Q1510.2 73.7508 1504.7 73.7508 Q1497.73 73.7508 1493.6 69.8619 Q1489.5 65.9325 1489.5 59.3701 Q1489.5 51.7138 1494.61 47.825 Q1499.75 43.9361 1509.92 43.9361 L1520.37 43.9361 L1520.37 43.2069 Q1520.37 38.0623 1516.97 35.2672 Q1513.61 32.4315 1507.49 32.4315 Q1503.6 32.4315 1499.92 33.3632 Q1496.23 34.295 1492.83 36.1584 L1492.83 29.2718 Q1496.92 27.692 1500.77 26.9223 Q1504.61 26.1121 1508.26 26.1121 Q1518.1 26.1121 1522.96 31.2163 Q1527.83 36.3204 1527.83 46.6907 Z\" fill=\"#000000\" fill-rule=\"evenodd\" fill-opacity=\"1\" /><path clip-path=\"url(#clip740)\" d=\"M 0 0 M1543.02 14.324 L1543.02 27.2059 L1558.37 27.2059 L1558.37 32.9987 L1543.02 32.9987 L1543.02 57.6282 Q1543.02 63.1779 1544.52 64.7578 Q1546.06 66.3376 1550.71 66.3376 L1558.37 66.3376 L1558.37 72.576 L1550.71 72.576 Q1542.09 72.576 1538.8 69.3758 Q1535.52 66.1351 1535.52 57.6282 L1535.52 32.9987 L1530.05 32.9987 L1530.05 27.2059 L1535.52 27.2059 L1535.52 14.324 L1543.02 14.324 Z\" fill=\"#000000\" fill-rule=\"evenodd\" fill-opacity=\"1\" /><path clip-path=\"url(#clip740)\" d=\"M 0 0 M1566.19 27.2059 L1573.64 27.2059 L1573.64 72.576 L1566.19 72.576 L1566.19 27.2059 M1566.19 9.54393 L1573.64 9.54393 L1573.64 18.9825 L1566.19 18.9825 L1566.19 9.54393 Z\" fill=\"#000000\" fill-rule=\"evenodd\" fill-opacity=\"1\" /><path clip-path=\"url(#clip740)\" d=\"M 0 0 M1599.04 32.4315 Q1593.05 32.4315 1589.56 37.1306 Q1586.08 41.7891 1586.08 49.9314 Q1586.08 58.0738 1589.52 62.7728 Q1593.01 67.4314 1599.04 67.4314 Q1605 67.4314 1608.48 62.7323 Q1611.96 58.0333 1611.96 49.9314 Q1611.96 41.8701 1608.48 37.1711 Q1605 32.4315 1599.04 32.4315 M1599.04 26.1121 Q1608.76 26.1121 1614.31 32.4315 Q1619.86 38.7509 1619.86 49.9314 Q1619.86 61.0714 1614.31 67.4314 Q1608.76 73.7508 1599.04 73.7508 Q1589.28 73.7508 1583.73 67.4314 Q1578.22 61.0714 1578.22 49.9314 Q1578.22 38.7509 1583.73 32.4315 Q1589.28 26.1121 1599.04 26.1121 Z\" fill=\"#000000\" fill-rule=\"evenodd\" fill-opacity=\"1\" /><path clip-path=\"url(#clip740)\" d=\"M 0 0 M1665.39 45.1919 L1665.39 72.576 L1657.94 72.576 L1657.94 45.4349 Q1657.94 38.994 1655.43 35.7938 Q1652.92 32.5936 1647.89 32.5936 Q1641.86 32.5936 1638.38 36.4419 Q1634.89 40.2903 1634.89 46.9338 L1634.89 72.576 L1627.4 72.576 L1627.4 27.2059 L1634.89 27.2059 L1634.89 34.2544 Q1637.56 30.163 1641.17 28.1376 Q1644.82 26.1121 1649.56 26.1121 Q1657.37 26.1121 1661.38 30.9732 Q1665.39 35.7938 1665.39 45.1919 Z\" fill=\"#000000\" fill-rule=\"evenodd\" fill-opacity=\"1\" /><path clip-path=\"url(#clip740)\" d=\"M 0 0 M1706.96 14.324 L1706.96 27.2059 L1722.31 27.2059 L1722.31 32.9987 L1706.96 32.9987 L1706.96 57.6282 Q1706.96 63.1779 1708.46 64.7578 Q1710 66.3376 1714.65 66.3376 L1722.31 66.3376 L1722.31 72.576 L1714.65 72.576 Q1706.03 72.576 1702.74 69.3758 Q1699.46 66.1351 1699.46 57.6282 L1699.46 32.9987 L1693.99 32.9987 L1693.99 27.2059 L1699.46 27.2059 L1699.46 14.324 L1706.96 14.324 Z\" fill=\"#000000\" fill-rule=\"evenodd\" fill-opacity=\"1\" /><path clip-path=\"url(#clip740)\" d=\"M 0 0 M1730.13 27.2059 L1737.58 27.2059 L1737.58 72.576 L1730.13 72.576 L1730.13 27.2059 M1730.13 9.54393 L1737.58 9.54393 L1737.58 18.9825 L1730.13 18.9825 L1730.13 9.54393 Z\" fill=\"#000000\" fill-rule=\"evenodd\" fill-opacity=\"1\" /><path clip-path=\"url(#clip740)\" d=\"M 0 0 M1780.72 35.9153 Q1783.52 30.8922 1787.41 28.5022 Q1791.3 26.1121 1796.56 26.1121 Q1803.65 26.1121 1807.5 31.0947 Q1811.35 36.0368 1811.35 45.1919 L1811.35 72.576 L1803.85 72.576 L1803.85 45.4349 Q1803.85 38.913 1801.55 35.7533 Q1799.24 32.5936 1794.5 32.5936 Q1788.7 32.5936 1785.34 36.4419 Q1781.98 40.2903 1781.98 46.9338 L1781.98 72.576 L1774.49 72.576 L1774.49 45.4349 Q1774.49 38.8725 1772.18 35.7533 Q1769.87 32.5936 1765.05 32.5936 Q1759.34 32.5936 1755.97 36.4824 Q1752.61 40.3308 1752.61 46.9338 L1752.61 72.576 L1745.12 72.576 L1745.12 27.2059 L1752.61 27.2059 L1752.61 34.2544 Q1755.16 30.082 1758.73 28.0971 Q1762.29 26.1121 1767.19 26.1121 Q1772.14 26.1121 1775.58 28.6237 Q1779.06 31.1352 1780.72 35.9153 Z\" fill=\"#000000\" fill-rule=\"evenodd\" fill-opacity=\"1\" /><path clip-path=\"url(#clip740)\" d=\"M 0 0 M1857.97 48.0275 L1857.97 51.6733 L1823.7 51.6733 Q1824.19 59.3701 1828.32 63.421 Q1832.49 67.4314 1839.91 67.4314 Q1844.2 67.4314 1848.21 66.3781 Q1852.26 65.3249 1856.23 63.2184 L1856.23 70.267 Q1852.22 71.9684 1848.01 72.8596 Q1843.8 73.7508 1839.46 73.7508 Q1828.61 73.7508 1822.25 67.4314 Q1815.93 61.1119 1815.93 50.3365 Q1815.93 39.1965 1821.92 32.6746 Q1827.96 26.1121 1838.17 26.1121 Q1847.32 26.1121 1852.63 32.0264 Q1857.97 37.9003 1857.97 48.0275 M1850.52 45.84 Q1850.44 39.7232 1847.08 36.0774 Q1843.76 32.4315 1838.25 32.4315 Q1832.01 32.4315 1828.24 35.9558 Q1824.51 39.4801 1823.95 45.8805 L1850.52 45.84 Z\" fill=\"#000000\" fill-rule=\"evenodd\" fill-opacity=\"1\" /><polyline clip-path=\"url(#clip742)\" style=\"stroke:#009af9; stroke-width:4; stroke-opacity:1; fill:none\" points=\"\n",
       "  272.201,1380.53 496.641,1366.87 721.08,1341.26 945.52,1272.4 1169.96,1155.04 1394.4,1014.09 1618.84,847.997 1843.28,624.846 2067.72,458.709 2292.16,177.376 \n",
       "  \n",
       "  \"/>\n",
       "<polyline clip-path=\"url(#clip742)\" style=\"stroke:#000000; stroke-width:4; stroke-opacity:1; fill:none\" points=\"\n",
       "  272.201,1386.4 272.201,1374.66 \n",
       "  \"/>\n",
       "<polyline clip-path=\"url(#clip742)\" style=\"stroke:#000000; stroke-width:4; stroke-opacity:1; fill:none\" points=\"\n",
       "  496.641,1372.58 496.641,1361.16 \n",
       "  \"/>\n",
       "<polyline clip-path=\"url(#clip742)\" style=\"stroke:#000000; stroke-width:4; stroke-opacity:1; fill:none\" points=\"\n",
       "  721.08,1348.45 721.08,1334.07 \n",
       "  \"/>\n",
       "<polyline clip-path=\"url(#clip742)\" style=\"stroke:#000000; stroke-width:4; stroke-opacity:1; fill:none\" points=\"\n",
       "  945.52,1278.47 945.52,1266.33 \n",
       "  \"/>\n",
       "<polyline clip-path=\"url(#clip742)\" style=\"stroke:#000000; stroke-width:4; stroke-opacity:1; fill:none\" points=\"\n",
       "  1169.96,1170.27 1169.96,1139.81 \n",
       "  \"/>\n",
       "<polyline clip-path=\"url(#clip742)\" style=\"stroke:#000000; stroke-width:4; stroke-opacity:1; fill:none\" points=\"\n",
       "  1394.4,1017.18 1394.4,1011 \n",
       "  \"/>\n",
       "<polyline clip-path=\"url(#clip742)\" style=\"stroke:#000000; stroke-width:4; stroke-opacity:1; fill:none\" points=\"\n",
       "  1618.84,863.77 1618.84,832.224 \n",
       "  \"/>\n",
       "<polyline clip-path=\"url(#clip742)\" style=\"stroke:#000000; stroke-width:4; stroke-opacity:1; fill:none\" points=\"\n",
       "  1843.28,739.758 1843.28,509.934 \n",
       "  \"/>\n",
       "<polyline clip-path=\"url(#clip742)\" style=\"stroke:#000000; stroke-width:4; stroke-opacity:1; fill:none\" points=\"\n",
       "  2067.72,463.409 2067.72,454.009 \n",
       "  \"/>\n",
       "<polyline clip-path=\"url(#clip742)\" style=\"stroke:#000000; stroke-width:4; stroke-opacity:1; fill:none\" points=\"\n",
       "  2292.16,194.496 2292.16,160.256 \n",
       "  \"/>\n",
       "<line clip-path=\"url(#clip742)\" x1=\"288.201\" y1=\"1386.4\" x2=\"256.201\" y2=\"1386.4\" style=\"stroke:#000000; stroke-width:3.2; stroke-opacity:1\"/>\n",
       "<line clip-path=\"url(#clip742)\" x1=\"288.201\" y1=\"1374.66\" x2=\"256.201\" y2=\"1374.66\" style=\"stroke:#000000; stroke-width:3.2; stroke-opacity:1\"/>\n",
       "<line clip-path=\"url(#clip742)\" x1=\"512.641\" y1=\"1372.58\" x2=\"480.641\" y2=\"1372.58\" style=\"stroke:#000000; stroke-width:3.2; stroke-opacity:1\"/>\n",
       "<line clip-path=\"url(#clip742)\" x1=\"512.641\" y1=\"1361.16\" x2=\"480.641\" y2=\"1361.16\" style=\"stroke:#000000; stroke-width:3.2; stroke-opacity:1\"/>\n",
       "<line clip-path=\"url(#clip742)\" x1=\"737.08\" y1=\"1348.45\" x2=\"705.08\" y2=\"1348.45\" style=\"stroke:#000000; stroke-width:3.2; stroke-opacity:1\"/>\n",
       "<line clip-path=\"url(#clip742)\" x1=\"737.08\" y1=\"1334.07\" x2=\"705.08\" y2=\"1334.07\" style=\"stroke:#000000; stroke-width:3.2; stroke-opacity:1\"/>\n",
       "<line clip-path=\"url(#clip742)\" x1=\"961.52\" y1=\"1278.47\" x2=\"929.52\" y2=\"1278.47\" style=\"stroke:#000000; stroke-width:3.2; stroke-opacity:1\"/>\n",
       "<line clip-path=\"url(#clip742)\" x1=\"961.52\" y1=\"1266.33\" x2=\"929.52\" y2=\"1266.33\" style=\"stroke:#000000; stroke-width:3.2; stroke-opacity:1\"/>\n",
       "<line clip-path=\"url(#clip742)\" x1=\"1185.96\" y1=\"1170.27\" x2=\"1153.96\" y2=\"1170.27\" style=\"stroke:#000000; stroke-width:3.2; stroke-opacity:1\"/>\n",
       "<line clip-path=\"url(#clip742)\" x1=\"1185.96\" y1=\"1139.81\" x2=\"1153.96\" y2=\"1139.81\" style=\"stroke:#000000; stroke-width:3.2; stroke-opacity:1\"/>\n",
       "<line clip-path=\"url(#clip742)\" x1=\"1410.4\" y1=\"1017.18\" x2=\"1378.4\" y2=\"1017.18\" style=\"stroke:#000000; stroke-width:3.2; stroke-opacity:1\"/>\n",
       "<line clip-path=\"url(#clip742)\" x1=\"1410.4\" y1=\"1011\" x2=\"1378.4\" y2=\"1011\" style=\"stroke:#000000; stroke-width:3.2; stroke-opacity:1\"/>\n",
       "<line clip-path=\"url(#clip742)\" x1=\"1634.84\" y1=\"863.77\" x2=\"1602.84\" y2=\"863.77\" style=\"stroke:#000000; stroke-width:3.2; stroke-opacity:1\"/>\n",
       "<line clip-path=\"url(#clip742)\" x1=\"1634.84\" y1=\"832.224\" x2=\"1602.84\" y2=\"832.224\" style=\"stroke:#000000; stroke-width:3.2; stroke-opacity:1\"/>\n",
       "<line clip-path=\"url(#clip742)\" x1=\"1859.28\" y1=\"739.758\" x2=\"1827.28\" y2=\"739.758\" style=\"stroke:#000000; stroke-width:3.2; stroke-opacity:1\"/>\n",
       "<line clip-path=\"url(#clip742)\" x1=\"1859.28\" y1=\"509.934\" x2=\"1827.28\" y2=\"509.934\" style=\"stroke:#000000; stroke-width:3.2; stroke-opacity:1\"/>\n",
       "<line clip-path=\"url(#clip742)\" x1=\"2083.72\" y1=\"463.409\" x2=\"2051.72\" y2=\"463.409\" style=\"stroke:#000000; stroke-width:3.2; stroke-opacity:1\"/>\n",
       "<line clip-path=\"url(#clip742)\" x1=\"2083.72\" y1=\"454.009\" x2=\"2051.72\" y2=\"454.009\" style=\"stroke:#000000; stroke-width:3.2; stroke-opacity:1\"/>\n",
       "<line clip-path=\"url(#clip742)\" x1=\"2308.16\" y1=\"194.496\" x2=\"2276.16\" y2=\"194.496\" style=\"stroke:#000000; stroke-width:3.2; stroke-opacity:1\"/>\n",
       "<line clip-path=\"url(#clip742)\" x1=\"2308.16\" y1=\"160.256\" x2=\"2276.16\" y2=\"160.256\" style=\"stroke:#000000; stroke-width:3.2; stroke-opacity:1\"/>\n",
       "<path clip-path=\"url(#clip740)\" d=\"\n",
       "M1992.46 287.756 L2281.38 287.756 L2281.38 166.796 L1992.46 166.796  Z\n",
       "  \" fill=\"#ffffff\" fill-rule=\"evenodd\" fill-opacity=\"1\"/>\n",
       "<polyline clip-path=\"url(#clip740)\" style=\"stroke:#000000; stroke-width:4; stroke-opacity:1; fill:none\" points=\"\n",
       "  1992.46,287.756 2281.38,287.756 2281.38,166.796 1992.46,166.796 1992.46,287.756 \n",
       "  \"/>\n",
       "<polyline clip-path=\"url(#clip740)\" style=\"stroke:#009af9; stroke-width:4; stroke-opacity:1; fill:none\" points=\"\n",
       "  2016.25,227.276 2158.99,227.276 \n",
       "  \"/>\n",
       "<path clip-path=\"url(#clip740)\" d=\"M 0 0 M2196.63 246.963 Q2194.82 251.593 2193.11 253.005 Q2191.4 254.417 2188.53 254.417 L2185.12 254.417 L2185.12 250.852 L2187.62 250.852 Q2189.38 250.852 2190.35 250.019 Q2191.33 249.185 2192.51 246.083 L2193.27 244.139 L2182.78 218.63 L2187.3 218.63 L2195.4 238.908 L2203.5 218.63 L2208.02 218.63 L2196.63 246.963 Z\" fill=\"#000000\" fill-rule=\"evenodd\" fill-opacity=\"1\" /><path clip-path=\"url(#clip740)\" d=\"M 0 0 M2213.9 240.621 L2221.53 240.621 L2221.53 214.255 L2213.22 215.922 L2213.22 211.662 L2221.49 209.996 L2226.16 209.996 L2226.16 240.621 L2233.8 240.621 L2233.8 244.556 L2213.9 244.556 L2213.9 240.621 Z\" fill=\"#000000\" fill-rule=\"evenodd\" fill-opacity=\"1\" /></svg>\n"
      ]
     },
     "execution_count": 158,
     "metadata": {},
     "output_type": "execute_result"
    }
   ],
   "source": [
    "using Plots\n",
    "std_arr = convert(Array, mv_std.std_time)\n",
    "p2 = plot(mv_avrg.SIZE, mv_avrg.mean_time, yerr=std_arr, xlabel = \"Size\", ylabel=\"Time\",title = \"Matrix-vetor mulitplication time\")"
   ]
  },
  {
   "cell_type": "markdown",
   "id": "revolutionary-western",
   "metadata": {},
   "source": [
    "#### Poukladanie wykresow w tabelke"
   ]
  },
  {
   "cell_type": "code",
   "execution_count": 159,
   "id": "subjective-carolina",
   "metadata": {},
   "outputs": [
    {
     "data": {
      "image/svg+xml": [
       "<?xml version=\"1.0\" encoding=\"utf-8\"?>\n",
       "<svg xmlns=\"http://www.w3.org/2000/svg\" xmlns:xlink=\"http://www.w3.org/1999/xlink\" width=\"600\" height=\"400\" viewBox=\"0 0 2400 1600\">\n",
       "<defs>\n",
       "  <clipPath id=\"clip780\">\n",
       "    <rect x=\"0\" y=\"0\" width=\"2400\" height=\"1600\"/>\n",
       "  </clipPath>\n",
       "</defs>\n",
       "<path clip-path=\"url(#clip780)\" d=\"\n",
       "M0 1600 L2400 1600 L2400 0 L0 0  Z\n",
       "  \" fill=\"#ffffff\" fill-rule=\"evenodd\" fill-opacity=\"1\"/>\n",
       "<defs>\n",
       "  <clipPath id=\"clip781\">\n",
       "    <rect x=\"480\" y=\"0\" width=\"1681\" height=\"1600\"/>\n",
       "  </clipPath>\n",
       "</defs>\n",
       "<path clip-path=\"url(#clip780)\" d=\"\n",
       "M345.19 1423.18 L1219.55 1423.18 L1219.55 123.472 L345.19 123.472  Z\n",
       "  \" fill=\"#ffffff\" fill-rule=\"evenodd\" fill-opacity=\"1\"/>\n",
       "<defs>\n",
       "  <clipPath id=\"clip782\">\n",
       "    <rect x=\"345\" y=\"123\" width=\"875\" height=\"1301\"/>\n",
       "  </clipPath>\n",
       "</defs>\n",
       "<polyline clip-path=\"url(#clip782)\" style=\"stroke:#000000; stroke-width:2; stroke-opacity:0.1; fill:none\" points=\"\n",
       "  461.588,1423.18 461.588,123.472 \n",
       "  \"/>\n",
       "<polyline clip-path=\"url(#clip782)\" style=\"stroke:#000000; stroke-width:2; stroke-opacity:0.1; fill:none\" points=\"\n",
       "  644.892,1423.18 644.892,123.472 \n",
       "  \"/>\n",
       "<polyline clip-path=\"url(#clip782)\" style=\"stroke:#000000; stroke-width:2; stroke-opacity:0.1; fill:none\" points=\"\n",
       "  828.196,1423.18 828.196,123.472 \n",
       "  \"/>\n",
       "<polyline clip-path=\"url(#clip782)\" style=\"stroke:#000000; stroke-width:2; stroke-opacity:0.1; fill:none\" points=\"\n",
       "  1011.5,1423.18 1011.5,123.472 \n",
       "  \"/>\n",
       "<polyline clip-path=\"url(#clip782)\" style=\"stroke:#000000; stroke-width:2; stroke-opacity:0.1; fill:none\" points=\"\n",
       "  1194.8,1423.18 1194.8,123.472 \n",
       "  \"/>\n",
       "<polyline clip-path=\"url(#clip780)\" style=\"stroke:#000000; stroke-width:4; stroke-opacity:1; fill:none\" points=\"\n",
       "  345.19,1423.18 1219.55,1423.18 \n",
       "  \"/>\n",
       "<polyline clip-path=\"url(#clip780)\" style=\"stroke:#000000; stroke-width:4; stroke-opacity:1; fill:none\" points=\"\n",
       "  461.588,1423.18 461.588,1407.58 \n",
       "  \"/>\n",
       "<polyline clip-path=\"url(#clip780)\" style=\"stroke:#000000; stroke-width:4; stroke-opacity:1; fill:none\" points=\"\n",
       "  644.892,1423.18 644.892,1407.58 \n",
       "  \"/>\n",
       "<polyline clip-path=\"url(#clip780)\" style=\"stroke:#000000; stroke-width:4; stroke-opacity:1; fill:none\" points=\"\n",
       "  828.196,1423.18 828.196,1407.58 \n",
       "  \"/>\n",
       "<polyline clip-path=\"url(#clip780)\" style=\"stroke:#000000; stroke-width:4; stroke-opacity:1; fill:none\" points=\"\n",
       "  1011.5,1423.18 1011.5,1407.58 \n",
       "  \"/>\n",
       "<polyline clip-path=\"url(#clip780)\" style=\"stroke:#000000; stroke-width:4; stroke-opacity:1; fill:none\" points=\"\n",
       "  1194.8,1423.18 1194.8,1407.58 \n",
       "  \"/>\n",
       "<path clip-path=\"url(#clip780)\" d=\"M 0 0 M411.449 1479.92 L419.088 1479.92 L419.088 1453.55 L410.778 1455.22 L410.778 1450.96 L419.042 1449.29 L423.718 1449.29 L423.718 1479.92 L431.356 1479.92 L431.356 1483.85 L411.449 1483.85 L411.449 1479.92 Z\" fill=\"#000000\" fill-rule=\"evenodd\" fill-opacity=\"1\" /><path clip-path=\"url(#clip780)\" d=\"M 0 0 M446.426 1452.37 Q442.815 1452.37 440.986 1455.94 Q439.18 1459.48 439.18 1466.61 Q439.18 1473.71 440.986 1477.28 Q442.815 1480.82 446.426 1480.82 Q450.06 1480.82 451.866 1477.28 Q453.694 1473.71 453.694 1466.61 Q453.694 1459.48 451.866 1455.94 Q450.06 1452.37 446.426 1452.37 M446.426 1448.67 Q452.236 1448.67 455.291 1453.27 Q458.37 1457.86 458.37 1466.61 Q458.37 1475.33 455.291 1479.94 Q452.236 1484.52 446.426 1484.52 Q440.616 1484.52 437.537 1479.94 Q434.481 1475.33 434.481 1466.61 Q434.481 1457.86 437.537 1453.27 Q440.616 1448.67 446.426 1448.67 Z\" fill=\"#000000\" fill-rule=\"evenodd\" fill-opacity=\"1\" /><path clip-path=\"url(#clip780)\" d=\"M 0 0 M473.439 1452.37 Q469.828 1452.37 468 1455.94 Q466.194 1459.48 466.194 1466.61 Q466.194 1473.71 468 1477.28 Q469.828 1480.82 473.439 1480.82 Q477.074 1480.82 478.879 1477.28 Q480.708 1473.71 480.708 1466.61 Q480.708 1459.48 478.879 1455.94 Q477.074 1452.37 473.439 1452.37 M473.439 1448.67 Q479.25 1448.67 482.305 1453.27 Q485.384 1457.86 485.384 1466.61 Q485.384 1475.33 482.305 1479.94 Q479.25 1484.52 473.439 1484.52 Q467.629 1484.52 464.551 1479.94 Q461.495 1475.33 461.495 1466.61 Q461.495 1457.86 464.551 1453.27 Q467.629 1448.67 473.439 1448.67 Z\" fill=\"#000000\" fill-rule=\"evenodd\" fill-opacity=\"1\" /><path clip-path=\"url(#clip780)\" d=\"M 0 0 M500.453 1452.37 Q496.842 1452.37 495.013 1455.94 Q493.208 1459.48 493.208 1466.61 Q493.208 1473.71 495.013 1477.28 Q496.842 1480.82 500.453 1480.82 Q504.087 1480.82 505.893 1477.28 Q507.722 1473.71 507.722 1466.61 Q507.722 1459.48 505.893 1455.94 Q504.087 1452.37 500.453 1452.37 M500.453 1448.67 Q506.263 1448.67 509.319 1453.27 Q512.398 1457.86 512.398 1466.61 Q512.398 1475.33 509.319 1479.94 Q506.263 1484.52 500.453 1484.52 Q494.643 1484.52 491.564 1479.94 Q488.509 1475.33 488.509 1466.61 Q488.509 1457.86 491.564 1453.27 Q494.643 1448.67 500.453 1448.67 Z\" fill=\"#000000\" fill-rule=\"evenodd\" fill-opacity=\"1\" /><path clip-path=\"url(#clip780)\" d=\"M 0 0 M599.024 1479.92 L615.343 1479.92 L615.343 1483.85 L593.399 1483.85 L593.399 1479.92 Q596.061 1477.16 600.644 1472.53 Q605.251 1467.88 606.431 1466.54 Q608.677 1464.01 609.556 1462.28 Q610.459 1460.52 610.459 1458.83 Q610.459 1456.07 608.515 1454.34 Q606.593 1452.6 603.491 1452.6 Q601.292 1452.6 598.839 1453.37 Q596.408 1454.13 593.63 1455.68 L593.63 1450.96 Q596.454 1449.82 598.908 1449.25 Q601.362 1448.67 603.399 1448.67 Q608.769 1448.67 611.964 1451.35 Q615.158 1454.04 615.158 1458.53 Q615.158 1460.66 614.348 1462.58 Q613.561 1464.48 611.454 1467.07 Q610.876 1467.74 607.774 1470.96 Q604.672 1474.15 599.024 1479.92 Z\" fill=\"#000000\" fill-rule=\"evenodd\" fill-opacity=\"1\" /><path clip-path=\"url(#clip780)\" d=\"M 0 0 M630.413 1452.37 Q626.801 1452.37 624.973 1455.94 Q623.167 1459.48 623.167 1466.61 Q623.167 1473.71 624.973 1477.28 Q626.801 1480.82 630.413 1480.82 Q634.047 1480.82 635.852 1477.28 Q637.681 1473.71 637.681 1466.61 Q637.681 1459.48 635.852 1455.94 Q634.047 1452.37 630.413 1452.37 M630.413 1448.67 Q636.223 1448.67 639.278 1453.27 Q642.357 1457.86 642.357 1466.61 Q642.357 1475.33 639.278 1479.94 Q636.223 1484.52 630.413 1484.52 Q624.602 1484.52 621.524 1479.94 Q618.468 1475.33 618.468 1466.61 Q618.468 1457.86 621.524 1453.27 Q624.602 1448.67 630.413 1448.67 Z\" fill=\"#000000\" fill-rule=\"evenodd\" fill-opacity=\"1\" /><path clip-path=\"url(#clip780)\" d=\"M 0 0 M657.426 1452.37 Q653.815 1452.37 651.987 1455.94 Q650.181 1459.48 650.181 1466.61 Q650.181 1473.71 651.987 1477.28 Q653.815 1480.82 657.426 1480.82 Q661.061 1480.82 662.866 1477.28 Q664.695 1473.71 664.695 1466.61 Q664.695 1459.48 662.866 1455.94 Q661.061 1452.37 657.426 1452.37 M657.426 1448.67 Q663.236 1448.67 666.292 1453.27 Q669.371 1457.86 669.371 1466.61 Q669.371 1475.33 666.292 1479.94 Q663.236 1484.52 657.426 1484.52 Q651.616 1484.52 648.537 1479.94 Q645.482 1475.33 645.482 1466.61 Q645.482 1457.86 648.537 1453.27 Q651.616 1448.67 657.426 1448.67 Z\" fill=\"#000000\" fill-rule=\"evenodd\" fill-opacity=\"1\" /><path clip-path=\"url(#clip780)\" d=\"M 0 0 M684.44 1452.37 Q680.829 1452.37 679 1455.94 Q677.195 1459.48 677.195 1466.61 Q677.195 1473.71 679 1477.28 Q680.829 1480.82 684.44 1480.82 Q688.074 1480.82 689.88 1477.28 Q691.709 1473.71 691.709 1466.61 Q691.709 1459.48 689.88 1455.94 Q688.074 1452.37 684.44 1452.37 M684.44 1448.67 Q690.25 1448.67 693.306 1453.27 Q696.384 1457.86 696.384 1466.61 Q696.384 1475.33 693.306 1479.94 Q690.25 1484.52 684.44 1484.52 Q678.63 1484.52 675.551 1479.94 Q672.496 1475.33 672.496 1466.61 Q672.496 1457.86 675.551 1453.27 Q678.63 1448.67 684.44 1448.67 Z\" fill=\"#000000\" fill-rule=\"evenodd\" fill-opacity=\"1\" /><path clip-path=\"url(#clip780)\" d=\"M 0 0 M791.923 1465.22 Q795.279 1465.94 797.154 1468.2 Q799.052 1470.47 799.052 1473.81 Q799.052 1478.92 795.534 1481.72 Q792.015 1484.52 785.534 1484.52 Q783.358 1484.52 781.043 1484.08 Q778.751 1483.67 776.298 1482.81 L776.298 1478.3 Q778.242 1479.43 780.557 1480.01 Q782.872 1480.59 785.395 1480.59 Q789.793 1480.59 792.085 1478.85 Q794.399 1477.12 794.399 1473.81 Q794.399 1470.75 792.247 1469.04 Q790.117 1467.3 786.298 1467.3 L782.27 1467.3 L782.27 1463.46 L786.483 1463.46 Q789.932 1463.46 791.761 1462.09 Q793.589 1460.7 793.589 1458.11 Q793.589 1455.45 791.691 1454.04 Q789.816 1452.6 786.298 1452.6 Q784.376 1452.6 782.177 1453.02 Q779.978 1453.44 777.339 1454.31 L777.339 1450.15 Q780.001 1449.41 782.316 1449.04 Q784.654 1448.67 786.714 1448.67 Q792.038 1448.67 795.14 1451.1 Q798.242 1453.5 798.242 1457.63 Q798.242 1460.5 796.599 1462.49 Q794.955 1464.45 791.923 1465.22 Z\" fill=\"#000000\" fill-rule=\"evenodd\" fill-opacity=\"1\" /><path clip-path=\"url(#clip780)\" d=\"M 0 0 M814.122 1452.37 Q810.51 1452.37 808.682 1455.94 Q806.876 1459.48 806.876 1466.61 Q806.876 1473.71 808.682 1477.28 Q810.51 1480.82 814.122 1480.82 Q817.756 1480.82 819.561 1477.28 Q821.39 1473.71 821.39 1466.61 Q821.39 1459.48 819.561 1455.94 Q817.756 1452.37 814.122 1452.37 M814.122 1448.67 Q819.932 1448.67 822.987 1453.27 Q826.066 1457.86 826.066 1466.61 Q826.066 1475.33 822.987 1479.94 Q819.932 1484.52 814.122 1484.52 Q808.311 1484.52 805.233 1479.94 Q802.177 1475.33 802.177 1466.61 Q802.177 1457.86 805.233 1453.27 Q808.311 1448.67 814.122 1448.67 Z\" fill=\"#000000\" fill-rule=\"evenodd\" fill-opacity=\"1\" /><path clip-path=\"url(#clip780)\" d=\"M 0 0 M841.135 1452.37 Q837.524 1452.37 835.696 1455.94 Q833.89 1459.48 833.89 1466.61 Q833.89 1473.71 835.696 1477.28 Q837.524 1480.82 841.135 1480.82 Q844.77 1480.82 846.575 1477.28 Q848.404 1473.71 848.404 1466.61 Q848.404 1459.48 846.575 1455.94 Q844.77 1452.37 841.135 1452.37 M841.135 1448.67 Q846.945 1448.67 850.001 1453.27 Q853.08 1457.86 853.08 1466.61 Q853.08 1475.33 850.001 1479.94 Q846.945 1484.52 841.135 1484.52 Q835.325 1484.52 832.246 1479.94 Q829.191 1475.33 829.191 1466.61 Q829.191 1457.86 832.246 1453.27 Q835.325 1448.67 841.135 1448.67 Z\" fill=\"#000000\" fill-rule=\"evenodd\" fill-opacity=\"1\" /><path clip-path=\"url(#clip780)\" d=\"M 0 0 M868.149 1452.37 Q864.538 1452.37 862.709 1455.94 Q860.904 1459.48 860.904 1466.61 Q860.904 1473.71 862.709 1477.28 Q864.538 1480.82 868.149 1480.82 Q871.783 1480.82 873.589 1477.28 Q875.418 1473.71 875.418 1466.61 Q875.418 1459.48 873.589 1455.94 Q871.783 1452.37 868.149 1452.37 M868.149 1448.67 Q873.959 1448.67 877.015 1453.27 Q880.093 1457.86 880.093 1466.61 Q880.093 1475.33 877.015 1479.94 Q873.959 1484.52 868.149 1484.52 Q862.339 1484.52 859.26 1479.94 Q856.205 1475.33 856.205 1466.61 Q856.205 1457.86 859.26 1453.27 Q862.339 1448.67 868.149 1448.67 Z\" fill=\"#000000\" fill-rule=\"evenodd\" fill-opacity=\"1\" /><path clip-path=\"url(#clip780)\" d=\"M 0 0 M973.988 1453.37 L962.183 1471.81 L973.988 1471.81 L973.988 1453.37 M972.761 1449.29 L978.641 1449.29 L978.641 1471.81 L983.571 1471.81 L983.571 1475.7 L978.641 1475.7 L978.641 1483.85 L973.988 1483.85 L973.988 1475.7 L958.386 1475.7 L958.386 1471.19 L972.761 1449.29 Z\" fill=\"#000000\" fill-rule=\"evenodd\" fill-opacity=\"1\" /><path clip-path=\"url(#clip780)\" d=\"M 0 0 M998.641 1452.37 Q995.03 1452.37 993.201 1455.94 Q991.395 1459.48 991.395 1466.61 Q991.395 1473.71 993.201 1477.28 Q995.03 1480.82 998.641 1480.82 Q1002.28 1480.82 1004.08 1477.28 Q1005.91 1473.71 1005.91 1466.61 Q1005.91 1459.48 1004.08 1455.94 Q1002.28 1452.37 998.641 1452.37 M998.641 1448.67 Q1004.45 1448.67 1007.51 1453.27 Q1010.59 1457.86 1010.59 1466.61 Q1010.59 1475.33 1007.51 1479.94 Q1004.45 1484.52 998.641 1484.52 Q992.831 1484.52 989.752 1479.94 Q986.696 1475.33 986.696 1466.61 Q986.696 1457.86 989.752 1453.27 Q992.831 1448.67 998.641 1448.67 Z\" fill=\"#000000\" fill-rule=\"evenodd\" fill-opacity=\"1\" /><path clip-path=\"url(#clip780)\" d=\"M 0 0 M1025.65 1452.37 Q1022.04 1452.37 1020.21 1455.94 Q1018.41 1459.48 1018.41 1466.61 Q1018.41 1473.71 1020.21 1477.28 Q1022.04 1480.82 1025.65 1480.82 Q1029.29 1480.82 1031.09 1477.28 Q1032.92 1473.71 1032.92 1466.61 Q1032.92 1459.48 1031.09 1455.94 Q1029.29 1452.37 1025.65 1452.37 M1025.65 1448.67 Q1031.46 1448.67 1034.52 1453.27 Q1037.6 1457.86 1037.6 1466.61 Q1037.6 1475.33 1034.52 1479.94 Q1031.46 1484.52 1025.65 1484.52 Q1019.84 1484.52 1016.77 1479.94 Q1013.71 1475.33 1013.71 1466.61 Q1013.71 1457.86 1016.77 1453.27 Q1019.84 1448.67 1025.65 1448.67 Z\" fill=\"#000000\" fill-rule=\"evenodd\" fill-opacity=\"1\" /><path clip-path=\"url(#clip780)\" d=\"M 0 0 M1052.67 1452.37 Q1049.06 1452.37 1047.23 1455.94 Q1045.42 1459.48 1045.42 1466.61 Q1045.42 1473.71 1047.23 1477.28 Q1049.06 1480.82 1052.67 1480.82 Q1056.3 1480.82 1058.11 1477.28 Q1059.94 1473.71 1059.94 1466.61 Q1059.94 1459.48 1058.11 1455.94 Q1056.3 1452.37 1052.67 1452.37 M1052.67 1448.67 Q1058.48 1448.67 1061.53 1453.27 Q1064.61 1457.86 1064.61 1466.61 Q1064.61 1475.33 1061.53 1479.94 Q1058.48 1484.52 1052.67 1484.52 Q1046.86 1484.52 1043.78 1479.94 Q1040.72 1475.33 1040.72 1466.61 Q1040.72 1457.86 1043.78 1453.27 Q1046.86 1448.67 1052.67 1448.67 Z\" fill=\"#000000\" fill-rule=\"evenodd\" fill-opacity=\"1\" /><path clip-path=\"url(#clip780)\" d=\"M 0 0 M1144.56 1449.29 L1162.92 1449.29 L1162.92 1453.23 L1148.84 1453.23 L1148.84 1461.7 Q1149.86 1461.35 1150.88 1461.19 Q1151.9 1461 1152.92 1461 Q1158.7 1461 1162.08 1464.18 Q1165.46 1467.35 1165.46 1472.76 Q1165.46 1478.34 1161.99 1481.44 Q1158.52 1484.52 1152.2 1484.52 Q1150.02 1484.52 1147.76 1484.15 Q1145.51 1483.78 1143.1 1483.04 L1143.1 1478.34 Q1145.19 1479.48 1147.41 1480.03 Q1149.63 1480.59 1152.11 1480.59 Q1156.11 1480.59 1158.45 1478.48 Q1160.79 1476.38 1160.79 1472.76 Q1160.79 1469.15 1158.45 1467.05 Q1156.11 1464.94 1152.11 1464.94 Q1150.23 1464.94 1148.36 1465.36 Q1146.51 1465.77 1144.56 1466.65 L1144.56 1449.29 Z\" fill=\"#000000\" fill-rule=\"evenodd\" fill-opacity=\"1\" /><path clip-path=\"url(#clip780)\" d=\"M 0 0 M1180.53 1452.37 Q1176.92 1452.37 1175.09 1455.94 Q1173.29 1459.48 1173.29 1466.61 Q1173.29 1473.71 1175.09 1477.28 Q1176.92 1480.82 1180.53 1480.82 Q1184.17 1480.82 1185.97 1477.28 Q1187.8 1473.71 1187.8 1466.61 Q1187.8 1459.48 1185.97 1455.94 Q1184.17 1452.37 1180.53 1452.37 M1180.53 1448.67 Q1186.34 1448.67 1189.4 1453.27 Q1192.48 1457.86 1192.48 1466.61 Q1192.48 1475.33 1189.4 1479.94 Q1186.34 1484.52 1180.53 1484.52 Q1174.72 1484.52 1171.64 1479.94 Q1168.59 1475.33 1168.59 1466.61 Q1168.59 1457.86 1171.64 1453.27 Q1174.72 1448.67 1180.53 1448.67 Z\" fill=\"#000000\" fill-rule=\"evenodd\" fill-opacity=\"1\" /><path clip-path=\"url(#clip780)\" d=\"M 0 0 M1207.55 1452.37 Q1203.94 1452.37 1202.11 1455.94 Q1200.3 1459.48 1200.3 1466.61 Q1200.3 1473.71 1202.11 1477.28 Q1203.94 1480.82 1207.55 1480.82 Q1211.18 1480.82 1212.99 1477.28 Q1214.81 1473.71 1214.81 1466.61 Q1214.81 1459.48 1212.99 1455.94 Q1211.18 1452.37 1207.55 1452.37 M1207.55 1448.67 Q1213.36 1448.67 1216.41 1453.27 Q1219.49 1457.86 1219.49 1466.61 Q1219.49 1475.33 1216.41 1479.94 Q1213.36 1484.52 1207.55 1484.52 Q1201.74 1484.52 1198.66 1479.94 Q1195.6 1475.33 1195.6 1466.61 Q1195.6 1457.86 1198.66 1453.27 Q1201.74 1448.67 1207.55 1448.67 Z\" fill=\"#000000\" fill-rule=\"evenodd\" fill-opacity=\"1\" /><path clip-path=\"url(#clip780)\" d=\"M 0 0 M1234.56 1452.37 Q1230.95 1452.37 1229.12 1455.94 Q1227.31 1459.48 1227.31 1466.61 Q1227.31 1473.71 1229.12 1477.28 Q1230.95 1480.82 1234.56 1480.82 Q1238.19 1480.82 1240 1477.28 Q1241.83 1473.71 1241.83 1466.61 Q1241.83 1459.48 1240 1455.94 Q1238.19 1452.37 1234.56 1452.37 M1234.56 1448.67 Q1240.37 1448.67 1243.43 1453.27 Q1246.5 1457.86 1246.5 1466.61 Q1246.5 1475.33 1243.43 1479.94 Q1240.37 1484.52 1234.56 1484.52 Q1228.75 1484.52 1225.67 1479.94 Q1222.62 1475.33 1222.62 1466.61 Q1222.62 1457.86 1225.67 1453.27 Q1228.75 1448.67 1234.56 1448.67 Z\" fill=\"#000000\" fill-rule=\"evenodd\" fill-opacity=\"1\" /><path clip-path=\"url(#clip780)\" d=\"M 0 0 M756.207 1522.08 L756.207 1528.35 Q752.546 1526.6 749.3 1525.74 Q746.053 1524.88 743.03 1524.88 Q737.778 1524.88 734.913 1526.92 Q732.081 1528.96 732.081 1532.71 Q732.081 1535.87 733.958 1537.49 Q735.868 1539.08 741.152 1540.07 L745.035 1540.86 Q752.228 1542.23 755.634 1545.7 Q759.071 1549.14 759.071 1554.93 Q759.071 1561.84 754.424 1565.4 Q749.809 1568.97 740.865 1568.97 Q737.491 1568.97 733.672 1568.2 Q729.884 1567.44 725.81 1565.94 L725.81 1559.32 Q729.725 1561.52 733.481 1562.63 Q737.237 1563.75 740.865 1563.75 Q746.372 1563.75 749.363 1561.58 Q752.355 1559.42 752.355 1555.41 Q752.355 1551.91 750.191 1549.93 Q748.058 1547.96 743.157 1546.97 L739.242 1546.21 Q732.049 1544.78 728.834 1541.72 Q725.619 1538.67 725.619 1533.22 Q725.619 1526.92 730.043 1523.29 Q734.499 1519.66 742.297 1519.66 Q745.639 1519.66 749.109 1520.27 Q752.578 1520.87 756.207 1522.08 Z\" fill=\"#000000\" fill-rule=\"evenodd\" fill-opacity=\"1\" /><path clip-path=\"url(#clip780)\" d=\"M 0 0 M765.214 1532.4 L771.07 1532.4 L771.07 1568.04 L765.214 1568.04 L765.214 1532.4 M765.214 1518.52 L771.07 1518.52 L771.07 1525.93 L765.214 1525.93 L765.214 1518.52 Z\" fill=\"#000000\" fill-rule=\"evenodd\" fill-opacity=\"1\" /><path clip-path=\"url(#clip780)\" d=\"M 0 0 M774.667 1532.4 L802.485 1532.4 L802.485 1537.74 L780.46 1563.37 L802.485 1563.37 L802.485 1568.04 L773.871 1568.04 L773.871 1562.7 L795.897 1537.07 L774.667 1537.07 L774.667 1532.4 Z\" fill=\"#000000\" fill-rule=\"evenodd\" fill-opacity=\"1\" /><path clip-path=\"url(#clip780)\" d=\"M 0 0 M839.12 1548.76 L839.12 1551.62 L812.193 1551.62 Q812.575 1557.67 815.821 1560.85 Q819.1 1564 824.924 1564 Q828.298 1564 831.449 1563.17 Q834.632 1562.35 837.751 1560.69 L837.751 1566.23 Q834.6 1567.57 831.29 1568.27 Q827.98 1568.97 824.574 1568.97 Q816.044 1568.97 811.047 1564 Q806.082 1559.04 806.082 1550.57 Q806.082 1541.82 810.792 1536.69 Q815.535 1531.54 823.556 1531.54 Q830.749 1531.54 834.919 1536.18 Q839.12 1540.8 839.12 1548.76 M833.263 1547.04 Q833.2 1542.23 830.558 1539.37 Q827.948 1536.5 823.619 1536.5 Q818.718 1536.5 815.758 1539.27 Q812.83 1542.04 812.384 1547.07 L833.263 1547.04 Z\" fill=\"#000000\" fill-rule=\"evenodd\" fill-opacity=\"1\" /><polyline clip-path=\"url(#clip782)\" style=\"stroke:#000000; stroke-width:2; stroke-opacity:0.1; fill:none\" points=\"\n",
       "  345.19,1285.64 1219.55,1285.64 \n",
       "  \"/>\n",
       "<polyline clip-path=\"url(#clip782)\" style=\"stroke:#000000; stroke-width:2; stroke-opacity:0.1; fill:none\" points=\"\n",
       "  345.19,995.241 1219.55,995.241 \n",
       "  \"/>\n",
       "<polyline clip-path=\"url(#clip782)\" style=\"stroke:#000000; stroke-width:2; stroke-opacity:0.1; fill:none\" points=\"\n",
       "  345.19,704.844 1219.55,704.844 \n",
       "  \"/>\n",
       "<polyline clip-path=\"url(#clip782)\" style=\"stroke:#000000; stroke-width:2; stroke-opacity:0.1; fill:none\" points=\"\n",
       "  345.19,414.446 1219.55,414.446 \n",
       "  \"/>\n",
       "<polyline clip-path=\"url(#clip782)\" style=\"stroke:#000000; stroke-width:2; stroke-opacity:0.1; fill:none\" points=\"\n",
       "  345.19,124.049 1219.55,124.049 \n",
       "  \"/>\n",
       "<polyline clip-path=\"url(#clip780)\" style=\"stroke:#000000; stroke-width:4; stroke-opacity:1; fill:none\" points=\"\n",
       "  345.19,1423.18 345.19,123.472 \n",
       "  \"/>\n",
       "<polyline clip-path=\"url(#clip780)\" style=\"stroke:#000000; stroke-width:4; stroke-opacity:1; fill:none\" points=\"\n",
       "  345.19,1285.64 355.682,1285.64 \n",
       "  \"/>\n",
       "<polyline clip-path=\"url(#clip780)\" style=\"stroke:#000000; stroke-width:4; stroke-opacity:1; fill:none\" points=\"\n",
       "  345.19,995.241 355.682,995.241 \n",
       "  \"/>\n",
       "<polyline clip-path=\"url(#clip780)\" style=\"stroke:#000000; stroke-width:4; stroke-opacity:1; fill:none\" points=\"\n",
       "  345.19,704.844 355.682,704.844 \n",
       "  \"/>\n",
       "<polyline clip-path=\"url(#clip780)\" style=\"stroke:#000000; stroke-width:4; stroke-opacity:1; fill:none\" points=\"\n",
       "  345.19,414.446 355.682,414.446 \n",
       "  \"/>\n",
       "<polyline clip-path=\"url(#clip780)\" style=\"stroke:#000000; stroke-width:4; stroke-opacity:1; fill:none\" points=\"\n",
       "  345.19,124.049 355.682,124.049 \n",
       "  \"/>\n",
       "<path clip-path=\"url(#clip780)\" d=\"M 0 0 M127.802 1271.44 Q124.191 1271.44 122.362 1275 Q120.556 1278.54 120.556 1285.67 Q120.556 1292.78 122.362 1296.34 Q124.191 1299.89 127.802 1299.89 Q131.436 1299.89 133.242 1296.34 Q135.07 1292.78 135.07 1285.67 Q135.07 1278.54 133.242 1275 Q131.436 1271.44 127.802 1271.44 M127.802 1267.73 Q133.612 1267.73 136.667 1272.34 Q139.746 1276.92 139.746 1285.67 Q139.746 1294.4 136.667 1299.01 Q133.612 1303.59 127.802 1303.59 Q121.992 1303.59 118.913 1299.01 Q115.857 1294.4 115.857 1285.67 Q115.857 1276.92 118.913 1272.34 Q121.992 1267.73 127.802 1267.73 Z\" fill=\"#000000\" fill-rule=\"evenodd\" fill-opacity=\"1\" /><path clip-path=\"url(#clip780)\" d=\"M 0 0 M144.816 1297.04 L149.7 1297.04 L149.7 1302.92 L144.816 1302.92 L144.816 1297.04 Z\" fill=\"#000000\" fill-rule=\"evenodd\" fill-opacity=\"1\" /><path clip-path=\"url(#clip780)\" d=\"M 0 0 M164.769 1271.44 Q161.158 1271.44 159.329 1275 Q157.524 1278.54 157.524 1285.67 Q157.524 1292.78 159.329 1296.34 Q161.158 1299.89 164.769 1299.89 Q168.403 1299.89 170.209 1296.34 Q172.038 1292.78 172.038 1285.67 Q172.038 1278.54 170.209 1275 Q168.403 1271.44 164.769 1271.44 M164.769 1267.73 Q170.579 1267.73 173.635 1272.34 Q176.714 1276.92 176.714 1285.67 Q176.714 1294.4 173.635 1299.01 Q170.579 1303.59 164.769 1303.59 Q158.959 1303.59 155.88 1299.01 Q152.825 1294.4 152.825 1285.67 Q152.825 1276.92 155.88 1272.34 Q158.959 1267.73 164.769 1267.73 Z\" fill=\"#000000\" fill-rule=\"evenodd\" fill-opacity=\"1\" /><path clip-path=\"url(#clip780)\" d=\"M 0 0 M191.783 1271.44 Q188.172 1271.44 186.343 1275 Q184.538 1278.54 184.538 1285.67 Q184.538 1292.78 186.343 1296.34 Q188.172 1299.89 191.783 1299.89 Q195.417 1299.89 197.223 1296.34 Q199.051 1292.78 199.051 1285.67 Q199.051 1278.54 197.223 1275 Q195.417 1271.44 191.783 1271.44 M191.783 1267.73 Q197.593 1267.73 200.649 1272.34 Q203.727 1276.92 203.727 1285.67 Q203.727 1294.4 200.649 1299.01 Q197.593 1303.59 191.783 1303.59 Q185.973 1303.59 182.894 1299.01 Q179.839 1294.4 179.839 1285.67 Q179.839 1276.92 182.894 1272.34 Q185.973 1267.73 191.783 1267.73 Z\" fill=\"#000000\" fill-rule=\"evenodd\" fill-opacity=\"1\" /><path clip-path=\"url(#clip780)\" d=\"M 0 0 M218.797 1271.44 Q215.186 1271.44 213.357 1275 Q211.551 1278.54 211.551 1285.67 Q211.551 1292.78 213.357 1296.34 Q215.186 1299.89 218.797 1299.89 Q222.431 1299.89 224.236 1296.34 Q226.065 1292.78 226.065 1285.67 Q226.065 1278.54 224.236 1275 Q222.431 1271.44 218.797 1271.44 M218.797 1267.73 Q224.607 1267.73 227.662 1272.34 Q230.741 1276.92 230.741 1285.67 Q230.741 1294.4 227.662 1299.01 Q224.607 1303.59 218.797 1303.59 Q212.986 1303.59 209.908 1299.01 Q206.852 1294.4 206.852 1285.67 Q206.852 1276.92 209.908 1272.34 Q212.986 1267.73 218.797 1267.73 Z\" fill=\"#000000\" fill-rule=\"evenodd\" fill-opacity=\"1\" /><path clip-path=\"url(#clip780)\" d=\"M 0 0 M245.81 1271.44 Q242.199 1271.44 240.371 1275 Q238.565 1278.54 238.565 1285.67 Q238.565 1292.78 240.371 1296.34 Q242.199 1299.89 245.81 1299.89 Q249.445 1299.89 251.25 1296.34 Q253.079 1292.78 253.079 1285.67 Q253.079 1278.54 251.25 1275 Q249.445 1271.44 245.81 1271.44 M245.81 1267.73 Q251.621 1267.73 254.676 1272.34 Q257.755 1276.92 257.755 1285.67 Q257.755 1294.4 254.676 1299.01 Q251.621 1303.59 245.81 1303.59 Q240 1303.59 236.922 1299.01 Q233.866 1294.4 233.866 1285.67 Q233.866 1276.92 236.922 1272.34 Q240 1267.73 245.81 1267.73 Z\" fill=\"#000000\" fill-rule=\"evenodd\" fill-opacity=\"1\" /><path clip-path=\"url(#clip780)\" d=\"M 0 0 M266.852 1298.98 L283.171 1298.98 L283.171 1302.92 L261.227 1302.92 L261.227 1298.98 Q263.889 1296.23 268.472 1291.6 Q273.079 1286.95 274.259 1285.6 Q276.505 1283.08 277.384 1281.34 Q278.287 1279.59 278.287 1277.9 Q278.287 1275.14 276.343 1273.41 Q274.421 1271.67 271.32 1271.67 Q269.12 1271.67 266.667 1272.43 Q264.236 1273.2 261.458 1274.75 L261.458 1270.03 Q264.283 1268.89 266.736 1268.31 Q269.19 1267.73 271.227 1267.73 Q276.597 1267.73 279.792 1270.42 Q282.986 1273.1 282.986 1277.59 Q282.986 1279.72 282.176 1281.65 Q281.389 1283.54 279.282 1286.14 Q278.704 1286.81 275.602 1290.03 Q272.5 1293.22 266.852 1298.98 Z\" fill=\"#000000\" fill-rule=\"evenodd\" fill-opacity=\"1\" /><path clip-path=\"url(#clip780)\" d=\"M 0 0 M288.287 1268.36 L306.643 1268.36 L306.643 1272.29 L292.569 1272.29 L292.569 1280.77 Q293.588 1280.42 294.606 1280.26 Q295.625 1280.07 296.643 1280.07 Q302.43 1280.07 305.81 1283.24 Q309.19 1286.41 309.19 1291.83 Q309.19 1297.41 305.717 1300.51 Q302.245 1303.59 295.926 1303.59 Q293.75 1303.59 291.481 1303.22 Q289.236 1302.85 286.829 1302.11 L286.829 1297.41 Q288.912 1298.54 291.134 1299.1 Q293.356 1299.65 295.833 1299.65 Q299.838 1299.65 302.176 1297.55 Q304.514 1295.44 304.514 1291.83 Q304.514 1288.22 302.176 1286.11 Q299.838 1284.01 295.833 1284.01 Q293.958 1284.01 292.083 1284.42 Q290.231 1284.84 288.287 1285.72 L288.287 1268.36 Z\" fill=\"#000000\" fill-rule=\"evenodd\" fill-opacity=\"1\" /><path clip-path=\"url(#clip780)\" d=\"M 0 0 M126.205 981.04 Q122.593 981.04 120.765 984.605 Q118.959 988.146 118.959 995.276 Q118.959 1002.38 120.765 1005.95 Q122.593 1009.49 126.205 1009.49 Q129.839 1009.49 131.644 1005.95 Q133.473 1002.38 133.473 995.276 Q133.473 988.146 131.644 984.605 Q129.839 981.04 126.205 981.04 M126.205 977.336 Q132.015 977.336 135.07 981.943 Q138.149 986.526 138.149 995.276 Q138.149 1004 135.07 1008.61 Q132.015 1013.19 126.205 1013.19 Q120.394 1013.19 117.316 1008.61 Q114.26 1004 114.26 995.276 Q114.26 986.526 117.316 981.943 Q120.394 977.336 126.205 977.336 Z\" fill=\"#000000\" fill-rule=\"evenodd\" fill-opacity=\"1\" /><path clip-path=\"url(#clip780)\" d=\"M 0 0 M143.218 1006.64 L148.103 1006.64 L148.103 1012.52 L143.218 1012.52 L143.218 1006.64 Z\" fill=\"#000000\" fill-rule=\"evenodd\" fill-opacity=\"1\" /><path clip-path=\"url(#clip780)\" d=\"M 0 0 M163.172 981.04 Q159.561 981.04 157.732 984.605 Q155.927 988.146 155.927 995.276 Q155.927 1002.38 157.732 1005.95 Q159.561 1009.49 163.172 1009.49 Q166.806 1009.49 168.612 1005.95 Q170.44 1002.38 170.44 995.276 Q170.44 988.146 168.612 984.605 Q166.806 981.04 163.172 981.04 M163.172 977.336 Q168.982 977.336 172.038 981.943 Q175.116 986.526 175.116 995.276 Q175.116 1004 172.038 1008.61 Q168.982 1013.19 163.172 1013.19 Q157.362 1013.19 154.283 1008.61 Q151.228 1004 151.228 995.276 Q151.228 986.526 154.283 981.943 Q157.362 977.336 163.172 977.336 Z\" fill=\"#000000\" fill-rule=\"evenodd\" fill-opacity=\"1\" /><path clip-path=\"url(#clip780)\" d=\"M 0 0 M190.186 981.04 Q186.575 981.04 184.746 984.605 Q182.94 988.146 182.94 995.276 Q182.94 1002.38 184.746 1005.95 Q186.575 1009.49 190.186 1009.49 Q193.82 1009.49 195.625 1005.95 Q197.454 1002.38 197.454 995.276 Q197.454 988.146 195.625 984.605 Q193.82 981.04 190.186 981.04 M190.186 977.336 Q195.996 977.336 199.051 981.943 Q202.13 986.526 202.13 995.276 Q202.13 1004 199.051 1008.61 Q195.996 1013.19 190.186 1013.19 Q184.376 1013.19 181.297 1008.61 Q178.241 1004 178.241 995.276 Q178.241 986.526 181.297 981.943 Q184.376 977.336 190.186 977.336 Z\" fill=\"#000000\" fill-rule=\"evenodd\" fill-opacity=\"1\" /><path clip-path=\"url(#clip780)\" d=\"M 0 0 M217.199 981.04 Q213.588 981.04 211.76 984.605 Q209.954 988.146 209.954 995.276 Q209.954 1002.38 211.76 1005.95 Q213.588 1009.49 217.199 1009.49 Q220.834 1009.49 222.639 1005.95 Q224.468 1002.38 224.468 995.276 Q224.468 988.146 222.639 984.605 Q220.834 981.04 217.199 981.04 M217.199 977.336 Q223.01 977.336 226.065 981.943 Q229.144 986.526 229.144 995.276 Q229.144 1004 226.065 1008.61 Q223.01 1013.19 217.199 1013.19 Q211.389 1013.19 208.311 1008.61 Q205.255 1004 205.255 995.276 Q205.255 986.526 208.311 981.943 Q211.389 977.336 217.199 977.336 Z\" fill=\"#000000\" fill-rule=\"evenodd\" fill-opacity=\"1\" /><path clip-path=\"url(#clip780)\" d=\"M 0 0 M244.213 981.04 Q240.602 981.04 238.773 984.605 Q236.968 988.146 236.968 995.276 Q236.968 1002.38 238.773 1005.95 Q240.602 1009.49 244.213 1009.49 Q247.847 1009.49 249.653 1005.95 Q251.482 1002.38 251.482 995.276 Q251.482 988.146 249.653 984.605 Q247.847 981.04 244.213 981.04 M244.213 977.336 Q250.023 977.336 253.079 981.943 Q256.158 986.526 256.158 995.276 Q256.158 1004 253.079 1008.61 Q250.023 1013.19 244.213 1013.19 Q238.403 1013.19 235.324 1008.61 Q232.269 1004 232.269 995.276 Q232.269 986.526 235.324 981.943 Q238.403 977.336 244.213 977.336 Z\" fill=\"#000000\" fill-rule=\"evenodd\" fill-opacity=\"1\" /><path clip-path=\"url(#clip780)\" d=\"M 0 0 M261.273 977.961 L279.63 977.961 L279.63 981.896 L265.556 981.896 L265.556 990.369 Q266.574 990.021 267.593 989.859 Q268.611 989.674 269.63 989.674 Q275.417 989.674 278.796 992.845 Q282.176 996.017 282.176 1001.43 Q282.176 1007.01 278.704 1010.11 Q275.232 1013.19 268.912 1013.19 Q266.736 1013.19 264.468 1012.82 Q262.222 1012.45 259.815 1011.71 L259.815 1007.01 Q261.898 1008.15 264.12 1008.7 Q266.343 1009.26 268.82 1009.26 Q272.824 1009.26 275.162 1007.15 Q277.5 1005.04 277.5 1001.43 Q277.5 997.822 275.162 995.716 Q272.824 993.609 268.82 993.609 Q266.945 993.609 265.07 994.026 Q263.218 994.443 261.273 995.322 L261.273 977.961 Z\" fill=\"#000000\" fill-rule=\"evenodd\" fill-opacity=\"1\" /><path clip-path=\"url(#clip780)\" d=\"M 0 0 M297.245 981.04 Q293.634 981.04 291.806 984.605 Q290 988.146 290 995.276 Q290 1002.38 291.806 1005.95 Q293.634 1009.49 297.245 1009.49 Q300.88 1009.49 302.685 1005.95 Q304.514 1002.38 304.514 995.276 Q304.514 988.146 302.685 984.605 Q300.88 981.04 297.245 981.04 M297.245 977.336 Q303.055 977.336 306.111 981.943 Q309.19 986.526 309.19 995.276 Q309.19 1004 306.111 1008.61 Q303.055 1013.19 297.245 1013.19 Q291.435 1013.19 288.356 1008.61 Q285.301 1004 285.301 995.276 Q285.301 986.526 288.356 981.943 Q291.435 977.336 297.245 977.336 Z\" fill=\"#000000\" fill-rule=\"evenodd\" fill-opacity=\"1\" /><path clip-path=\"url(#clip780)\" d=\"M 0 0 M127.107 690.643 Q123.496 690.643 121.668 694.207 Q119.862 697.749 119.862 704.879 Q119.862 711.985 121.668 715.55 Q123.496 719.091 127.107 719.091 Q130.742 719.091 132.547 715.55 Q134.376 711.985 134.376 704.879 Q134.376 697.749 132.547 694.207 Q130.742 690.643 127.107 690.643 M127.107 686.939 Q132.917 686.939 135.973 691.545 Q139.052 696.129 139.052 704.879 Q139.052 713.605 135.973 718.212 Q132.917 722.795 127.107 722.795 Q121.297 722.795 118.218 718.212 Q115.163 713.605 115.163 704.879 Q115.163 696.129 118.218 691.545 Q121.297 686.939 127.107 686.939 Z\" fill=\"#000000\" fill-rule=\"evenodd\" fill-opacity=\"1\" /><path clip-path=\"url(#clip780)\" d=\"M 0 0 M144.121 716.244 L149.005 716.244 L149.005 722.124 L144.121 722.124 L144.121 716.244 Z\" fill=\"#000000\" fill-rule=\"evenodd\" fill-opacity=\"1\" /><path clip-path=\"url(#clip780)\" d=\"M 0 0 M164.075 690.643 Q160.464 690.643 158.635 694.207 Q156.829 697.749 156.829 704.879 Q156.829 711.985 158.635 715.55 Q160.464 719.091 164.075 719.091 Q167.709 719.091 169.514 715.55 Q171.343 711.985 171.343 704.879 Q171.343 697.749 169.514 694.207 Q167.709 690.643 164.075 690.643 M164.075 686.939 Q169.885 686.939 172.94 691.545 Q176.019 696.129 176.019 704.879 Q176.019 713.605 172.94 718.212 Q169.885 722.795 164.075 722.795 Q158.265 722.795 155.186 718.212 Q152.13 713.605 152.13 704.879 Q152.13 696.129 155.186 691.545 Q158.265 686.939 164.075 686.939 Z\" fill=\"#000000\" fill-rule=\"evenodd\" fill-opacity=\"1\" /><path clip-path=\"url(#clip780)\" d=\"M 0 0 M191.088 690.643 Q187.477 690.643 185.649 694.207 Q183.843 697.749 183.843 704.879 Q183.843 711.985 185.649 715.55 Q187.477 719.091 191.088 719.091 Q194.723 719.091 196.528 715.55 Q198.357 711.985 198.357 704.879 Q198.357 697.749 196.528 694.207 Q194.723 690.643 191.088 690.643 M191.088 686.939 Q196.899 686.939 199.954 691.545 Q203.033 696.129 203.033 704.879 Q203.033 713.605 199.954 718.212 Q196.899 722.795 191.088 722.795 Q185.278 722.795 182.2 718.212 Q179.144 713.605 179.144 704.879 Q179.144 696.129 182.2 691.545 Q185.278 686.939 191.088 686.939 Z\" fill=\"#000000\" fill-rule=\"evenodd\" fill-opacity=\"1\" /><path clip-path=\"url(#clip780)\" d=\"M 0 0 M218.102 690.643 Q214.491 690.643 212.662 694.207 Q210.857 697.749 210.857 704.879 Q210.857 711.985 212.662 715.55 Q214.491 719.091 218.102 719.091 Q221.736 719.091 223.542 715.55 Q225.371 711.985 225.371 704.879 Q225.371 697.749 223.542 694.207 Q221.736 690.643 218.102 690.643 M218.102 686.939 Q223.912 686.939 226.968 691.545 Q230.047 696.129 230.047 704.879 Q230.047 713.605 226.968 718.212 Q223.912 722.795 218.102 722.795 Q212.292 722.795 209.213 718.212 Q206.158 713.605 206.158 704.879 Q206.158 696.129 209.213 691.545 Q212.292 686.939 218.102 686.939 Z\" fill=\"#000000\" fill-rule=\"evenodd\" fill-opacity=\"1\" /><path clip-path=\"url(#clip780)\" d=\"M 0 0 M245.116 690.643 Q241.505 690.643 239.676 694.207 Q237.871 697.749 237.871 704.879 Q237.871 711.985 239.676 715.55 Q241.505 719.091 245.116 719.091 Q248.75 719.091 250.556 715.55 Q252.384 711.985 252.384 704.879 Q252.384 697.749 250.556 694.207 Q248.75 690.643 245.116 690.643 M245.116 686.939 Q250.926 686.939 253.982 691.545 Q257.06 696.129 257.06 704.879 Q257.06 713.605 253.982 718.212 Q250.926 722.795 245.116 722.795 Q239.306 722.795 236.227 718.212 Q233.172 713.605 233.172 704.879 Q233.172 696.129 236.227 691.545 Q239.306 686.939 245.116 686.939 Z\" fill=\"#000000\" fill-rule=\"evenodd\" fill-opacity=\"1\" /><path clip-path=\"url(#clip780)\" d=\"M 0 0 M260.949 687.564 L283.171 687.564 L283.171 689.555 L270.625 722.124 L265.741 722.124 L277.546 691.499 L260.949 691.499 L260.949 687.564 Z\" fill=\"#000000\" fill-rule=\"evenodd\" fill-opacity=\"1\" /><path clip-path=\"url(#clip780)\" d=\"M 0 0 M288.287 687.564 L306.643 687.564 L306.643 691.499 L292.569 691.499 L292.569 699.971 Q293.588 699.624 294.606 699.462 Q295.625 699.277 296.643 699.277 Q302.43 699.277 305.81 702.448 Q309.19 705.619 309.19 711.036 Q309.19 716.615 305.717 719.716 Q302.245 722.795 295.926 722.795 Q293.75 722.795 291.481 722.425 Q289.236 722.054 286.829 721.314 L286.829 716.615 Q288.912 717.749 291.134 718.304 Q293.356 718.86 295.833 718.86 Q299.838 718.86 302.176 716.753 Q304.514 714.647 304.514 711.036 Q304.514 707.425 302.176 705.318 Q299.838 703.212 295.833 703.212 Q293.958 703.212 292.083 703.629 Q290.231 704.045 288.287 704.925 L288.287 687.564 Z\" fill=\"#000000\" fill-rule=\"evenodd\" fill-opacity=\"1\" /><path clip-path=\"url(#clip780)\" d=\"M 0 0 M126.436 400.245 Q122.825 400.245 120.996 403.81 Q119.191 407.351 119.191 414.481 Q119.191 421.588 120.996 425.152 Q122.825 428.694 126.436 428.694 Q130.07 428.694 131.876 425.152 Q133.704 421.588 133.704 414.481 Q133.704 407.351 131.876 403.81 Q130.07 400.245 126.436 400.245 M126.436 396.541 Q132.246 396.541 135.302 401.148 Q138.38 405.731 138.38 414.481 Q138.38 423.208 135.302 427.814 Q132.246 432.398 126.436 432.398 Q120.626 432.398 117.547 427.814 Q114.492 423.208 114.492 414.481 Q114.492 405.731 117.547 401.148 Q120.626 396.541 126.436 396.541 Z\" fill=\"#000000\" fill-rule=\"evenodd\" fill-opacity=\"1\" /><path clip-path=\"url(#clip780)\" d=\"M 0 0 M143.45 425.847 L148.334 425.847 L148.334 431.726 L143.45 431.726 L143.45 425.847 Z\" fill=\"#000000\" fill-rule=\"evenodd\" fill-opacity=\"1\" /><path clip-path=\"url(#clip780)\" d=\"M 0 0 M163.403 400.245 Q159.792 400.245 157.964 403.81 Q156.158 407.351 156.158 414.481 Q156.158 421.588 157.964 425.152 Q159.792 428.694 163.403 428.694 Q167.038 428.694 168.843 425.152 Q170.672 421.588 170.672 414.481 Q170.672 407.351 168.843 403.81 Q167.038 400.245 163.403 400.245 M163.403 396.541 Q169.214 396.541 172.269 401.148 Q175.348 405.731 175.348 414.481 Q175.348 423.208 172.269 427.814 Q169.214 432.398 163.403 432.398 Q157.593 432.398 154.515 427.814 Q151.459 423.208 151.459 414.481 Q151.459 405.731 154.515 401.148 Q157.593 396.541 163.403 396.541 Z\" fill=\"#000000\" fill-rule=\"evenodd\" fill-opacity=\"1\" /><path clip-path=\"url(#clip780)\" d=\"M 0 0 M190.417 400.245 Q186.806 400.245 184.977 403.81 Q183.172 407.351 183.172 414.481 Q183.172 421.588 184.977 425.152 Q186.806 428.694 190.417 428.694 Q194.051 428.694 195.857 425.152 Q197.686 421.588 197.686 414.481 Q197.686 407.351 195.857 403.81 Q194.051 400.245 190.417 400.245 M190.417 396.541 Q196.227 396.541 199.283 401.148 Q202.362 405.731 202.362 414.481 Q202.362 423.208 199.283 427.814 Q196.227 432.398 190.417 432.398 Q184.607 432.398 181.528 427.814 Q178.473 423.208 178.473 414.481 Q178.473 405.731 181.528 401.148 Q184.607 396.541 190.417 396.541 Z\" fill=\"#000000\" fill-rule=\"evenodd\" fill-opacity=\"1\" /><path clip-path=\"url(#clip780)\" d=\"M 0 0 M217.431 400.245 Q213.82 400.245 211.991 403.81 Q210.186 407.351 210.186 414.481 Q210.186 421.588 211.991 425.152 Q213.82 428.694 217.431 428.694 Q221.065 428.694 222.871 425.152 Q224.699 421.588 224.699 414.481 Q224.699 407.351 222.871 403.81 Q221.065 400.245 217.431 400.245 M217.431 396.541 Q223.241 396.541 226.297 401.148 Q229.375 405.731 229.375 414.481 Q229.375 423.208 226.297 427.814 Q223.241 432.398 217.431 432.398 Q211.621 432.398 208.542 427.814 Q205.487 423.208 205.487 414.481 Q205.487 405.731 208.542 401.148 Q211.621 396.541 217.431 396.541 Z\" fill=\"#000000\" fill-rule=\"evenodd\" fill-opacity=\"1\" /><path clip-path=\"url(#clip780)\" d=\"M 0 0 M235.255 427.791 L242.894 427.791 L242.894 401.426 L234.584 403.092 L234.584 398.833 L242.847 397.166 L247.523 397.166 L247.523 427.791 L255.162 427.791 L255.162 431.726 L235.255 431.726 L235.255 427.791 Z\" fill=\"#000000\" fill-rule=\"evenodd\" fill-opacity=\"1\" /><path clip-path=\"url(#clip780)\" d=\"M 0 0 M270.232 400.245 Q266.62 400.245 264.792 403.81 Q262.986 407.351 262.986 414.481 Q262.986 421.588 264.792 425.152 Q266.62 428.694 270.232 428.694 Q273.866 428.694 275.671 425.152 Q277.5 421.588 277.5 414.481 Q277.5 407.351 275.671 403.81 Q273.866 400.245 270.232 400.245 M270.232 396.541 Q276.042 396.541 279.097 401.148 Q282.176 405.731 282.176 414.481 Q282.176 423.208 279.097 427.814 Q276.042 432.398 270.232 432.398 Q264.421 432.398 261.343 427.814 Q258.287 423.208 258.287 414.481 Q258.287 405.731 261.343 401.148 Q264.421 396.541 270.232 396.541 Z\" fill=\"#000000\" fill-rule=\"evenodd\" fill-opacity=\"1\" /><path clip-path=\"url(#clip780)\" d=\"M 0 0 M297.245 400.245 Q293.634 400.245 291.806 403.81 Q290 407.351 290 414.481 Q290 421.588 291.806 425.152 Q293.634 428.694 297.245 428.694 Q300.88 428.694 302.685 425.152 Q304.514 421.588 304.514 414.481 Q304.514 407.351 302.685 403.81 Q300.88 400.245 297.245 400.245 M297.245 396.541 Q303.055 396.541 306.111 401.148 Q309.19 405.731 309.19 414.481 Q309.19 423.208 306.111 427.814 Q303.055 432.398 297.245 432.398 Q291.435 432.398 288.356 427.814 Q285.301 423.208 285.301 414.481 Q285.301 405.731 288.356 401.148 Q291.435 396.541 297.245 396.541 Z\" fill=\"#000000\" fill-rule=\"evenodd\" fill-opacity=\"1\" /><path clip-path=\"url(#clip780)\" d=\"M 0 0 M129.029 109.848 Q125.418 109.848 123.589 113.412 Q121.783 116.954 121.783 124.084 Q121.783 131.19 123.589 134.755 Q125.418 138.296 129.029 138.296 Q132.663 138.296 134.468 134.755 Q136.297 131.19 136.297 124.084 Q136.297 116.954 134.468 113.412 Q132.663 109.848 129.029 109.848 M129.029 106.144 Q134.839 106.144 137.894 110.75 Q140.973 115.334 140.973 124.084 Q140.973 132.81 137.894 137.417 Q134.839 142 129.029 142 Q123.218 142 120.14 137.417 Q117.084 132.81 117.084 124.084 Q117.084 115.334 120.14 110.75 Q123.218 106.144 129.029 106.144 Z\" fill=\"#000000\" fill-rule=\"evenodd\" fill-opacity=\"1\" /><path clip-path=\"url(#clip780)\" d=\"M 0 0 M146.042 135.449 L150.927 135.449 L150.927 141.329 L146.042 141.329 L146.042 135.449 Z\" fill=\"#000000\" fill-rule=\"evenodd\" fill-opacity=\"1\" /><path clip-path=\"url(#clip780)\" d=\"M 0 0 M165.996 109.848 Q162.385 109.848 160.556 113.412 Q158.751 116.954 158.751 124.084 Q158.751 131.19 160.556 134.755 Q162.385 138.296 165.996 138.296 Q169.63 138.296 171.436 134.755 Q173.264 131.19 173.264 124.084 Q173.264 116.954 171.436 113.412 Q169.63 109.848 165.996 109.848 M165.996 106.144 Q171.806 106.144 174.862 110.75 Q177.94 115.334 177.94 124.084 Q177.94 132.81 174.862 137.417 Q171.806 142 165.996 142 Q160.186 142 157.107 137.417 Q154.052 132.81 154.052 124.084 Q154.052 115.334 157.107 110.75 Q160.186 106.144 165.996 106.144 Z\" fill=\"#000000\" fill-rule=\"evenodd\" fill-opacity=\"1\" /><path clip-path=\"url(#clip780)\" d=\"M 0 0 M193.01 109.848 Q189.399 109.848 187.57 113.412 Q185.764 116.954 185.764 124.084 Q185.764 131.19 187.57 134.755 Q189.399 138.296 193.01 138.296 Q196.644 138.296 198.45 134.755 Q200.278 131.19 200.278 124.084 Q200.278 116.954 198.45 113.412 Q196.644 109.848 193.01 109.848 M193.01 106.144 Q198.82 106.144 201.875 110.75 Q204.954 115.334 204.954 124.084 Q204.954 132.81 201.875 137.417 Q198.82 142 193.01 142 Q187.2 142 184.121 137.417 Q181.065 132.81 181.065 124.084 Q181.065 115.334 184.121 110.75 Q187.2 106.144 193.01 106.144 Z\" fill=\"#000000\" fill-rule=\"evenodd\" fill-opacity=\"1\" /><path clip-path=\"url(#clip780)\" d=\"M 0 0 M220.023 109.848 Q216.412 109.848 214.584 113.412 Q212.778 116.954 212.778 124.084 Q212.778 131.19 214.584 134.755 Q216.412 138.296 220.023 138.296 Q223.658 138.296 225.463 134.755 Q227.292 131.19 227.292 124.084 Q227.292 116.954 225.463 113.412 Q223.658 109.848 220.023 109.848 M220.023 106.144 Q225.834 106.144 228.889 110.75 Q231.968 115.334 231.968 124.084 Q231.968 132.81 228.889 137.417 Q225.834 142 220.023 142 Q214.213 142 211.135 137.417 Q208.079 132.81 208.079 124.084 Q208.079 115.334 211.135 110.75 Q214.213 106.144 220.023 106.144 Z\" fill=\"#000000\" fill-rule=\"evenodd\" fill-opacity=\"1\" /><path clip-path=\"url(#clip780)\" d=\"M 0 0 M237.847 137.394 L245.486 137.394 L245.486 111.028 L237.176 112.695 L237.176 108.436 L245.44 106.769 L250.116 106.769 L250.116 137.394 L257.755 137.394 L257.755 141.329 L237.847 141.329 L237.847 137.394 Z\" fill=\"#000000\" fill-rule=\"evenodd\" fill-opacity=\"1\" /><path clip-path=\"url(#clip780)\" d=\"M 0 0 M266.852 137.394 L283.171 137.394 L283.171 141.329 L261.227 141.329 L261.227 137.394 Q263.889 134.639 268.472 130.009 Q273.079 125.357 274.259 124.014 Q276.505 121.491 277.384 119.755 Q278.287 117.996 278.287 116.306 Q278.287 113.551 276.343 111.815 Q274.421 110.079 271.32 110.079 Q269.12 110.079 266.667 110.843 Q264.236 111.607 261.458 113.158 L261.458 108.436 Q264.283 107.301 266.736 106.723 Q269.19 106.144 271.227 106.144 Q276.597 106.144 279.792 108.829 Q282.986 111.514 282.986 116.005 Q282.986 118.135 282.176 120.056 Q281.389 121.954 279.282 124.547 Q278.704 125.218 275.602 128.435 Q272.5 131.63 266.852 137.394 Z\" fill=\"#000000\" fill-rule=\"evenodd\" fill-opacity=\"1\" /><path clip-path=\"url(#clip780)\" d=\"M 0 0 M288.287 106.769 L306.643 106.769 L306.643 110.704 L292.569 110.704 L292.569 119.176 Q293.588 118.829 294.606 118.667 Q295.625 118.482 296.643 118.482 Q302.43 118.482 305.81 121.653 Q309.19 124.824 309.19 130.241 Q309.19 135.82 305.717 138.921 Q302.245 142 295.926 142 Q293.75 142 291.481 141.63 Q289.236 141.259 286.829 140.519 L286.829 135.82 Q288.912 136.954 291.134 137.509 Q293.356 138.065 295.833 138.065 Q299.838 138.065 302.176 135.959 Q304.514 133.852 304.514 130.241 Q304.514 126.63 302.176 124.523 Q299.838 122.417 295.833 122.417 Q293.958 122.417 292.083 122.834 Q290.231 123.25 288.287 124.13 L288.287 106.769 Z\" fill=\"#000000\" fill-rule=\"evenodd\" fill-opacity=\"1\" /><path clip-path=\"url(#clip780)\" d=\"M 0 0 M16.4842 845.72 L16.4842 805.521 L21.895 805.521 L21.895 822.39 L64.0042 822.39 L64.0042 828.851 L21.895 828.851 L21.895 845.72 L16.4842 845.72 Z\" fill=\"#000000\" fill-rule=\"evenodd\" fill-opacity=\"1\" /><path clip-path=\"url(#clip780)\" d=\"M 0 0 M28.3562 801.383 L28.3562 795.526 L64.0042 795.526 L64.0042 801.383 L28.3562 801.383 M14.479 801.383 L14.479 795.526 L21.895 795.526 L21.895 801.383 L14.479 801.383 Z\" fill=\"#000000\" fill-rule=\"evenodd\" fill-opacity=\"1\" /><path clip-path=\"url(#clip780)\" d=\"M 0 0 M35.1993 761.629 Q31.2526 759.433 29.3747 756.377 Q27.4968 753.322 27.4968 749.184 Q27.4968 743.614 31.4117 740.59 Q35.2948 737.567 42.4881 737.567 L64.0042 737.567 L64.0042 743.455 L42.679 743.455 Q37.5546 743.455 35.072 745.269 Q32.5894 747.083 32.5894 750.807 Q32.5894 755.359 35.6131 758.001 Q38.6368 760.642 43.8567 760.642 L64.0042 760.642 L64.0042 766.531 L42.679 766.531 Q37.5228 766.531 35.072 768.345 Q32.5894 770.159 32.5894 773.947 Q32.5894 778.434 35.6449 781.076 Q38.6686 783.718 43.8567 783.718 L64.0042 783.718 L64.0042 789.606 L28.3562 789.606 L28.3562 783.718 L33.8944 783.718 Q30.616 781.713 29.0564 778.912 Q27.4968 776.111 27.4968 772.26 Q27.4968 768.377 29.4702 765.671 Q31.4436 762.934 35.1993 761.629 Z\" fill=\"#000000\" fill-rule=\"evenodd\" fill-opacity=\"1\" /><path clip-path=\"url(#clip780)\" d=\"M 0 0 M44.7161 700.932 L47.5806 700.932 L47.5806 727.859 Q53.6281 727.477 56.8109 724.23 Q59.9619 720.952 59.9619 715.128 Q59.9619 711.754 59.1344 708.603 Q58.3069 705.42 56.6518 702.301 L62.1899 702.301 Q63.5267 705.452 64.227 708.762 Q64.9272 712.072 64.9272 715.478 Q64.9272 724.008 59.9619 729.005 Q54.9967 733.97 46.5303 733.97 Q37.7774 733.97 32.6531 729.259 Q27.4968 724.517 27.4968 716.496 Q27.4968 709.303 32.1438 705.133 Q36.7589 700.932 44.7161 700.932 M42.9973 706.788 Q38.1912 706.852 35.3266 709.494 Q32.4621 712.104 32.4621 716.432 Q32.4621 721.334 35.2312 724.294 Q38.0002 727.222 43.0292 727.668 L42.9973 706.788 Z\" fill=\"#000000\" fill-rule=\"evenodd\" fill-opacity=\"1\" /><path clip-path=\"url(#clip780)\" d=\"M 0 0 M377.32 18.8205 L377.32 65.8515 L387.204 65.8515 Q399.721 65.8515 405.514 60.1802 Q411.347 54.509 411.347 42.2752 Q411.347 30.1225 405.514 24.4918 Q399.721 18.8205 387.204 18.8205 L377.32 18.8205 M369.137 12.096 L385.948 12.096 Q403.529 12.096 411.752 19.4281 Q419.976 26.7198 419.976 42.2752 Q419.976 57.9117 411.712 65.2439 Q403.448 72.576 385.948 72.576 L369.137 72.576 L369.137 12.096 Z\" fill=\"#000000\" fill-rule=\"evenodd\" fill-opacity=\"1\" /><path clip-path=\"url(#clip780)\" d=\"M 0 0 M445.375 32.4315 Q439.38 32.4315 435.896 37.1306 Q432.412 41.7891 432.412 49.9314 Q432.412 58.0738 435.855 62.7728 Q439.339 67.4314 445.375 67.4314 Q451.33 67.4314 454.813 62.7323 Q458.297 58.0333 458.297 49.9314 Q458.297 41.8701 454.813 37.1711 Q451.33 32.4315 445.375 32.4315 M445.375 26.1121 Q455.097 26.1121 460.647 32.4315 Q466.197 38.7509 466.197 49.9314 Q466.197 61.0714 460.647 67.4314 Q455.097 73.7508 445.375 73.7508 Q435.612 73.7508 430.062 67.4314 Q424.553 61.0714 424.553 49.9314 Q424.553 38.7509 430.062 32.4315 Q435.612 26.1121 445.375 26.1121 Z\" fill=\"#000000\" fill-rule=\"evenodd\" fill-opacity=\"1\" /><path clip-path=\"url(#clip780)\" d=\"M 0 0 M481.387 14.324 L481.387 27.2059 L496.74 27.2059 L496.74 32.9987 L481.387 32.9987 L481.387 57.6282 Q481.387 63.1779 482.886 64.7578 Q484.426 66.3376 489.084 66.3376 L496.74 66.3376 L496.74 72.576 L489.084 72.576 Q480.456 72.576 477.174 69.3758 Q473.893 66.1351 473.893 57.6282 L473.893 32.9987 L468.425 32.9987 L468.425 27.2059 L473.893 27.2059 L473.893 14.324 L481.387 14.324 Z\" fill=\"#000000\" fill-rule=\"evenodd\" fill-opacity=\"1\" /><path clip-path=\"url(#clip780)\" d=\"M 0 0 M566.254 35.9153 Q569.049 30.8922 572.938 28.5022 Q576.827 26.1121 582.093 26.1121 Q589.182 26.1121 593.03 31.0947 Q596.879 36.0368 596.879 45.1919 L596.879 72.576 L589.385 72.576 L589.385 45.4349 Q589.385 38.913 587.076 35.7533 Q584.766 32.5936 580.027 32.5936 Q574.234 32.5936 570.872 36.4419 Q567.51 40.2903 567.51 46.9338 L567.51 72.576 L560.015 72.576 L560.015 45.4349 Q560.015 38.8725 557.706 35.7533 Q555.397 32.5936 550.577 32.5936 Q544.865 32.5936 541.503 36.4824 Q538.141 40.3308 538.141 46.9338 L538.141 72.576 L530.646 72.576 L530.646 27.2059 L538.141 27.2059 L538.141 34.2544 Q540.693 30.082 544.257 28.0971 Q547.822 26.1121 552.724 26.1121 Q557.666 26.1121 561.109 28.6237 Q564.593 31.1352 566.254 35.9153 Z\" fill=\"#000000\" fill-rule=\"evenodd\" fill-opacity=\"1\" /><path clip-path=\"url(#clip780)\" d=\"M 0 0 M603.927 54.671 L603.927 27.2059 L611.381 27.2059 L611.381 54.3874 Q611.381 60.8284 613.892 64.0691 Q616.404 67.2693 621.427 67.2693 Q627.463 67.2693 630.947 63.421 Q634.471 59.5726 634.471 52.9291 L634.471 27.2059 L641.925 27.2059 L641.925 72.576 L634.471 72.576 L634.471 65.6084 Q631.757 69.7404 628.152 71.7658 Q624.587 73.7508 619.847 73.7508 Q612.029 73.7508 607.978 68.8897 Q603.927 64.0286 603.927 54.671 M622.683 26.1121 L622.683 26.1121 Z\" fill=\"#000000\" fill-rule=\"evenodd\" fill-opacity=\"1\" /><path clip-path=\"url(#clip780)\" d=\"M 0 0 M649.743 9.54393 L657.197 9.54393 L657.197 72.576 L649.743 72.576 L649.743 9.54393 Z\" fill=\"#000000\" fill-rule=\"evenodd\" fill-opacity=\"1\" /><path clip-path=\"url(#clip780)\" d=\"M 0 0 M672.388 14.324 L672.388 27.2059 L687.74 27.2059 L687.74 32.9987 L672.388 32.9987 L672.388 57.6282 Q672.388 63.1779 673.886 64.7578 Q675.426 66.3376 680.084 66.3376 L687.74 66.3376 L687.74 72.576 L680.084 72.576 Q671.456 72.576 668.175 69.3758 Q664.893 66.1351 664.893 57.6282 L664.893 32.9987 L659.425 32.9987 L659.425 27.2059 L664.893 27.2059 L664.893 14.324 L672.388 14.324 Z\" fill=\"#000000\" fill-rule=\"evenodd\" fill-opacity=\"1\" /><path clip-path=\"url(#clip780)\" d=\"M 0 0 M695.559 27.2059 L703.012 27.2059 L703.012 72.576 L695.559 72.576 L695.559 27.2059 M695.559 9.54393 L703.012 9.54393 L703.012 18.9825 L695.559 18.9825 L695.559 9.54393 Z\" fill=\"#000000\" fill-rule=\"evenodd\" fill-opacity=\"1\" /><path clip-path=\"url(#clip780)\" d=\"M 0 0 M718.041 65.7705 L718.041 89.8329 L710.547 89.8329 L710.547 27.2059 L718.041 27.2059 L718.041 34.0924 Q720.391 30.0415 723.956 28.0971 Q727.561 26.1121 732.543 26.1121 Q740.807 26.1121 745.952 32.6746 Q751.137 39.2371 751.137 49.9314 Q751.137 60.6258 745.952 67.1883 Q740.807 73.7508 732.543 73.7508 Q727.561 73.7508 723.956 71.8063 Q720.391 69.8214 718.041 65.7705 M743.4 49.9314 Q743.4 41.7081 739.997 37.0496 Q736.635 32.3505 730.721 32.3505 Q724.806 32.3505 721.403 37.0496 Q718.041 41.7081 718.041 49.9314 Q718.041 58.1548 721.403 62.8538 Q724.806 67.5124 730.721 67.5124 Q736.635 67.5124 739.997 62.8538 Q743.4 58.1548 743.4 49.9314 Z\" fill=\"#000000\" fill-rule=\"evenodd\" fill-opacity=\"1\" /><path clip-path=\"url(#clip780)\" d=\"M 0 0 M758.955 9.54393 L766.409 9.54393 L766.409 72.576 L758.955 72.576 L758.955 9.54393 Z\" fill=\"#000000\" fill-rule=\"evenodd\" fill-opacity=\"1\" /><path clip-path=\"url(#clip780)\" d=\"M 0 0 M774.227 27.2059 L781.681 27.2059 L781.681 72.576 L774.227 72.576 L774.227 27.2059 M774.227 9.54393 L781.681 9.54393 L781.681 18.9825 L774.227 18.9825 L774.227 9.54393 Z\" fill=\"#000000\" fill-rule=\"evenodd\" fill-opacity=\"1\" /><path clip-path=\"url(#clip780)\" d=\"M 0 0 M822.149 28.9478 L822.149 35.9153 Q818.99 34.1734 815.79 33.3227 Q812.63 32.4315 809.389 32.4315 Q802.138 32.4315 798.128 37.0496 Q794.117 41.6271 794.117 49.9314 Q794.117 58.2358 798.128 62.8538 Q802.138 67.4314 809.389 67.4314 Q812.63 67.4314 815.79 66.5807 Q818.99 65.6895 822.149 63.9476 L822.149 70.8341 Q819.03 72.2924 815.668 73.0216 Q812.346 73.7508 808.579 73.7508 Q798.33 73.7508 792.294 67.3098 Q786.258 60.8689 786.258 49.9314 Q786.258 38.832 792.335 32.472 Q798.452 26.1121 809.065 26.1121 Q812.508 26.1121 815.79 26.8413 Q819.071 27.5299 822.149 28.9478 Z\" fill=\"#000000\" fill-rule=\"evenodd\" fill-opacity=\"1\" /><path clip-path=\"url(#clip780)\" d=\"M 0 0 M850.587 49.7694 Q841.553 49.7694 838.07 51.8354 Q834.586 53.9013 834.586 58.8839 Q834.586 62.8538 837.178 65.2034 Q839.811 67.5124 844.308 67.5124 Q850.506 67.5124 854.233 63.1374 Q858 58.7219 858 51.4303 L858 49.7694 L850.587 49.7694 M865.454 46.6907 L865.454 72.576 L858 72.576 L858 65.6895 Q855.448 69.8214 851.64 71.8063 Q847.832 73.7508 842.323 73.7508 Q835.355 73.7508 831.224 69.8619 Q827.132 65.9325 827.132 59.3701 Q827.132 51.7138 832.236 47.825 Q837.381 43.9361 847.549 43.9361 L858 43.9361 L858 43.2069 Q858 38.0623 854.597 35.2672 Q851.235 32.4315 845.118 32.4315 Q841.229 32.4315 837.543 33.3632 Q833.857 34.295 830.454 36.1584 L830.454 29.2718 Q834.545 27.692 838.394 26.9223 Q842.242 26.1121 845.888 26.1121 Q855.731 26.1121 860.593 31.2163 Q865.454 36.3204 865.454 46.6907 Z\" fill=\"#000000\" fill-rule=\"evenodd\" fill-opacity=\"1\" /><path clip-path=\"url(#clip780)\" d=\"M 0 0 M880.645 14.324 L880.645 27.2059 L895.997 27.2059 L895.997 32.9987 L880.645 32.9987 L880.645 57.6282 Q880.645 63.1779 882.143 64.7578 Q883.683 66.3376 888.341 66.3376 L895.997 66.3376 L895.997 72.576 L888.341 72.576 Q879.713 72.576 876.432 69.3758 Q873.15 66.1351 873.15 57.6282 L873.15 32.9987 L867.682 32.9987 L867.682 27.2059 L873.15 27.2059 L873.15 14.324 L880.645 14.324 Z\" fill=\"#000000\" fill-rule=\"evenodd\" fill-opacity=\"1\" /><path clip-path=\"url(#clip780)\" d=\"M 0 0 M903.816 27.2059 L911.269 27.2059 L911.269 72.576 L903.816 72.576 L903.816 27.2059 M903.816 9.54393 L911.269 9.54393 L911.269 18.9825 L903.816 18.9825 L903.816 9.54393 Z\" fill=\"#000000\" fill-rule=\"evenodd\" fill-opacity=\"1\" /><path clip-path=\"url(#clip780)\" d=\"M 0 0 M936.669 32.4315 Q930.673 32.4315 927.189 37.1306 Q923.706 41.7891 923.706 49.9314 Q923.706 58.0738 927.149 62.7728 Q930.633 67.4314 936.669 67.4314 Q942.623 67.4314 946.107 62.7323 Q949.591 58.0333 949.591 49.9314 Q949.591 41.8701 946.107 37.1711 Q942.623 32.4315 936.669 32.4315 M936.669 26.1121 Q946.391 26.1121 951.94 32.4315 Q957.49 38.7509 957.49 49.9314 Q957.49 61.0714 951.94 67.4314 Q946.391 73.7508 936.669 73.7508 Q926.906 73.7508 921.356 67.4314 Q915.847 61.0714 915.847 49.9314 Q915.847 38.7509 921.356 32.4315 Q926.906 26.1121 936.669 26.1121 Z\" fill=\"#000000\" fill-rule=\"evenodd\" fill-opacity=\"1\" /><path clip-path=\"url(#clip780)\" d=\"M 0 0 M1003.02 45.1919 L1003.02 72.576 L995.569 72.576 L995.569 45.4349 Q995.569 38.994 993.057 35.7938 Q990.546 32.5936 985.522 32.5936 Q979.487 32.5936 976.003 36.4419 Q972.519 40.2903 972.519 46.9338 L972.519 72.576 L965.025 72.576 L965.025 27.2059 L972.519 27.2059 L972.519 34.2544 Q975.193 30.163 978.798 28.1376 Q982.444 26.1121 987.183 26.1121 Q995.002 26.1121 999.012 30.9732 Q1003.02 35.7938 1003.02 45.1919 Z\" fill=\"#000000\" fill-rule=\"evenodd\" fill-opacity=\"1\" /><path clip-path=\"url(#clip780)\" d=\"M 0 0 M1044.58 14.324 L1044.58 27.2059 L1059.94 27.2059 L1059.94 32.9987 L1044.58 32.9987 L1044.58 57.6282 Q1044.58 63.1779 1046.08 64.7578 Q1047.62 66.3376 1052.28 66.3376 L1059.94 66.3376 L1059.94 72.576 L1052.28 72.576 Q1043.65 72.576 1040.37 69.3758 Q1037.09 66.1351 1037.09 57.6282 L1037.09 32.9987 L1031.62 32.9987 L1031.62 27.2059 L1037.09 27.2059 L1037.09 14.324 L1044.58 14.324 Z\" fill=\"#000000\" fill-rule=\"evenodd\" fill-opacity=\"1\" /><path clip-path=\"url(#clip780)\" d=\"M 0 0 M1067.76 27.2059 L1075.21 27.2059 L1075.21 72.576 L1067.76 72.576 L1067.76 27.2059 M1067.76 9.54393 L1075.21 9.54393 L1075.21 18.9825 L1067.76 18.9825 L1067.76 9.54393 Z\" fill=\"#000000\" fill-rule=\"evenodd\" fill-opacity=\"1\" /><path clip-path=\"url(#clip780)\" d=\"M 0 0 M1118.35 35.9153 Q1121.15 30.8922 1125.04 28.5022 Q1128.92 26.1121 1134.19 26.1121 Q1141.28 26.1121 1145.13 31.0947 Q1148.98 36.0368 1148.98 45.1919 L1148.98 72.576 L1141.48 72.576 L1141.48 45.4349 Q1141.48 38.913 1139.17 35.7533 Q1136.86 32.5936 1132.12 32.5936 Q1126.33 32.5936 1122.97 36.4419 Q1119.61 40.2903 1119.61 46.9338 L1119.61 72.576 L1112.11 72.576 L1112.11 45.4349 Q1112.11 38.8725 1109.8 35.7533 Q1107.5 32.5936 1102.67 32.5936 Q1096.96 32.5936 1093.6 36.4824 Q1090.24 40.3308 1090.24 46.9338 L1090.24 72.576 L1082.74 72.576 L1082.74 27.2059 L1090.24 27.2059 L1090.24 34.2544 Q1092.79 30.082 1096.36 28.0971 Q1099.92 26.1121 1104.82 26.1121 Q1109.76 26.1121 1113.21 28.6237 Q1116.69 31.1352 1118.35 35.9153 Z\" fill=\"#000000\" fill-rule=\"evenodd\" fill-opacity=\"1\" /><path clip-path=\"url(#clip780)\" d=\"M 0 0 M1195.6 48.0275 L1195.6 51.6733 L1161.33 51.6733 Q1161.82 59.3701 1165.95 63.421 Q1170.12 67.4314 1177.54 67.4314 Q1181.83 67.4314 1185.84 66.3781 Q1189.89 65.3249 1193.86 63.2184 L1193.86 70.267 Q1189.85 71.9684 1185.64 72.8596 Q1181.42 73.7508 1177.09 73.7508 Q1166.23 73.7508 1159.87 67.4314 Q1153.55 61.1119 1153.55 50.3365 Q1153.55 39.1965 1159.55 32.6746 Q1165.59 26.1121 1175.79 26.1121 Q1184.95 26.1121 1190.26 32.0264 Q1195.6 37.9003 1195.6 48.0275 M1188.15 45.84 Q1188.07 39.7232 1184.71 36.0774 Q1181.38 32.4315 1175.87 32.4315 Q1169.64 32.4315 1165.87 35.9558 Q1162.14 39.4801 1161.57 45.8805 L1188.15 45.84 Z\" fill=\"#000000\" fill-rule=\"evenodd\" fill-opacity=\"1\" /><polyline clip-path=\"url(#clip782)\" style=\"stroke:#009af9; stroke-width:4; stroke-opacity:1; fill:none\" points=\"\n",
       "  369.936,1342.91 461.588,1255.44 553.24,1063.31 644.892,915.208 736.544,886.865 828.196,857.825 919.848,620.164 1011.5,483.445 1103.15,538.62 1194.8,546.868 \n",
       "  \n",
       "  \"/>\n",
       "<polyline clip-path=\"url(#clip782)\" style=\"stroke:#000000; stroke-width:4; stroke-opacity:1; fill:none\" points=\"\n",
       "  369.936,1386.4 369.936,1299.41 \n",
       "  \"/>\n",
       "<polyline clip-path=\"url(#clip782)\" style=\"stroke:#000000; stroke-width:4; stroke-opacity:1; fill:none\" points=\"\n",
       "  461.588,1267.52 461.588,1243.35 \n",
       "  \"/>\n",
       "<polyline clip-path=\"url(#clip782)\" style=\"stroke:#000000; stroke-width:4; stroke-opacity:1; fill:none\" points=\"\n",
       "  553.24,1319.05 553.24,807.574 \n",
       "  \"/>\n",
       "<polyline clip-path=\"url(#clip782)\" style=\"stroke:#000000; stroke-width:4; stroke-opacity:1; fill:none\" points=\"\n",
       "  644.892,1211.07 644.892,619.35 \n",
       "  \"/>\n",
       "<polyline clip-path=\"url(#clip782)\" style=\"stroke:#000000; stroke-width:4; stroke-opacity:1; fill:none\" points=\"\n",
       "  736.544,1102.46 736.544,671.274 \n",
       "  \"/>\n",
       "<polyline clip-path=\"url(#clip782)\" style=\"stroke:#000000; stroke-width:4; stroke-opacity:1; fill:none\" points=\"\n",
       "  828.196,914.926 828.196,800.724 \n",
       "  \"/>\n",
       "<polyline clip-path=\"url(#clip782)\" style=\"stroke:#000000; stroke-width:4; stroke-opacity:1; fill:none\" points=\"\n",
       "  919.848,872.624 919.848,367.704 \n",
       "  \"/>\n",
       "<polyline clip-path=\"url(#clip782)\" style=\"stroke:#000000; stroke-width:4; stroke-opacity:1; fill:none\" points=\"\n",
       "  1011.5,806.633 1011.5,160.256 \n",
       "  \"/>\n",
       "<polyline clip-path=\"url(#clip782)\" style=\"stroke:#000000; stroke-width:4; stroke-opacity:1; fill:none\" points=\"\n",
       "  1103.15,816.978 1103.15,260.263 \n",
       "  \"/>\n",
       "<polyline clip-path=\"url(#clip782)\" style=\"stroke:#000000; stroke-width:4; stroke-opacity:1; fill:none\" points=\"\n",
       "  1194.8,580.994 1194.8,512.742 \n",
       "  \"/>\n",
       "<line clip-path=\"url(#clip782)\" x1=\"385.936\" y1=\"1386.4\" x2=\"353.936\" y2=\"1386.4\" style=\"stroke:#000000; stroke-width:3.2; stroke-opacity:1\"/>\n",
       "<line clip-path=\"url(#clip782)\" x1=\"385.936\" y1=\"1299.41\" x2=\"353.936\" y2=\"1299.41\" style=\"stroke:#000000; stroke-width:3.2; stroke-opacity:1\"/>\n",
       "<line clip-path=\"url(#clip782)\" x1=\"477.588\" y1=\"1267.52\" x2=\"445.588\" y2=\"1267.52\" style=\"stroke:#000000; stroke-width:3.2; stroke-opacity:1\"/>\n",
       "<line clip-path=\"url(#clip782)\" x1=\"477.588\" y1=\"1243.35\" x2=\"445.588\" y2=\"1243.35\" style=\"stroke:#000000; stroke-width:3.2; stroke-opacity:1\"/>\n",
       "<line clip-path=\"url(#clip782)\" x1=\"569.24\" y1=\"1319.05\" x2=\"537.24\" y2=\"1319.05\" style=\"stroke:#000000; stroke-width:3.2; stroke-opacity:1\"/>\n",
       "<line clip-path=\"url(#clip782)\" x1=\"569.24\" y1=\"807.574\" x2=\"537.24\" y2=\"807.574\" style=\"stroke:#000000; stroke-width:3.2; stroke-opacity:1\"/>\n",
       "<line clip-path=\"url(#clip782)\" x1=\"660.892\" y1=\"1211.07\" x2=\"628.892\" y2=\"1211.07\" style=\"stroke:#000000; stroke-width:3.2; stroke-opacity:1\"/>\n",
       "<line clip-path=\"url(#clip782)\" x1=\"660.892\" y1=\"619.35\" x2=\"628.892\" y2=\"619.35\" style=\"stroke:#000000; stroke-width:3.2; stroke-opacity:1\"/>\n",
       "<line clip-path=\"url(#clip782)\" x1=\"752.544\" y1=\"1102.46\" x2=\"720.544\" y2=\"1102.46\" style=\"stroke:#000000; stroke-width:3.2; stroke-opacity:1\"/>\n",
       "<line clip-path=\"url(#clip782)\" x1=\"752.544\" y1=\"671.274\" x2=\"720.544\" y2=\"671.274\" style=\"stroke:#000000; stroke-width:3.2; stroke-opacity:1\"/>\n",
       "<line clip-path=\"url(#clip782)\" x1=\"844.196\" y1=\"914.926\" x2=\"812.196\" y2=\"914.926\" style=\"stroke:#000000; stroke-width:3.2; stroke-opacity:1\"/>\n",
       "<line clip-path=\"url(#clip782)\" x1=\"844.196\" y1=\"800.724\" x2=\"812.196\" y2=\"800.724\" style=\"stroke:#000000; stroke-width:3.2; stroke-opacity:1\"/>\n",
       "<line clip-path=\"url(#clip782)\" x1=\"935.848\" y1=\"872.624\" x2=\"903.848\" y2=\"872.624\" style=\"stroke:#000000; stroke-width:3.2; stroke-opacity:1\"/>\n",
       "<line clip-path=\"url(#clip782)\" x1=\"935.848\" y1=\"367.704\" x2=\"903.848\" y2=\"367.704\" style=\"stroke:#000000; stroke-width:3.2; stroke-opacity:1\"/>\n",
       "<line clip-path=\"url(#clip782)\" x1=\"1027.5\" y1=\"806.633\" x2=\"995.5\" y2=\"806.633\" style=\"stroke:#000000; stroke-width:3.2; stroke-opacity:1\"/>\n",
       "<line clip-path=\"url(#clip782)\" x1=\"1027.5\" y1=\"160.256\" x2=\"995.5\" y2=\"160.256\" style=\"stroke:#000000; stroke-width:3.2; stroke-opacity:1\"/>\n",
       "<line clip-path=\"url(#clip782)\" x1=\"1119.15\" y1=\"816.978\" x2=\"1087.15\" y2=\"816.978\" style=\"stroke:#000000; stroke-width:3.2; stroke-opacity:1\"/>\n",
       "<line clip-path=\"url(#clip782)\" x1=\"1119.15\" y1=\"260.263\" x2=\"1087.15\" y2=\"260.263\" style=\"stroke:#000000; stroke-width:3.2; stroke-opacity:1\"/>\n",
       "<line clip-path=\"url(#clip782)\" x1=\"1210.8\" y1=\"580.994\" x2=\"1178.8\" y2=\"580.994\" style=\"stroke:#000000; stroke-width:3.2; stroke-opacity:1\"/>\n",
       "<line clip-path=\"url(#clip782)\" x1=\"1210.8\" y1=\"512.742\" x2=\"1178.8\" y2=\"512.742\" style=\"stroke:#000000; stroke-width:3.2; stroke-opacity:1\"/>\n",
       "<path clip-path=\"url(#clip780)\" d=\"\n",
       "M1042.23 287.756 L1190.4 287.756 L1190.4 166.796 L1042.23 166.796  Z\n",
       "  \" fill=\"#ffffff\" fill-rule=\"evenodd\" fill-opacity=\"1\"/>\n",
       "<polyline clip-path=\"url(#clip780)\" style=\"stroke:#000000; stroke-width:4; stroke-opacity:1; fill:none\" points=\"\n",
       "  1042.23,287.756 1190.4,287.756 1190.4,166.796 1042.23,166.796 1042.23,287.756 \n",
       "  \"/>\n",
       "<polyline clip-path=\"url(#clip780)\" style=\"stroke:#009af9; stroke-width:4; stroke-opacity:1; fill:none\" points=\"\n",
       "  1051.95,227.276 1110.24,227.276 \n",
       "  \"/>\n",
       "<path clip-path=\"url(#clip780)\" d=\"M 0 0 M1133.8 246.963 Q1131.99 251.593 1130.28 253.005 Q1128.57 254.417 1125.7 254.417 L1122.29 254.417 L1122.29 250.852 L1124.79 250.852 Q1126.55 250.852 1127.53 250.019 Q1128.5 249.185 1129.68 246.083 L1130.44 244.139 L1119.96 218.63 L1124.47 218.63 L1132.57 238.908 L1140.67 218.63 L1145.19 218.63 L1133.8 246.963 Z\" fill=\"#000000\" fill-rule=\"evenodd\" fill-opacity=\"1\" /><path clip-path=\"url(#clip780)\" d=\"M 0 0 M1151.07 240.621 L1158.71 240.621 L1158.71 214.255 L1150.4 215.922 L1150.4 211.662 L1158.66 209.996 L1163.34 209.996 L1163.34 240.621 L1170.97 240.621 L1170.97 244.556 L1151.07 244.556 L1151.07 240.621 Z\" fill=\"#000000\" fill-rule=\"evenodd\" fill-opacity=\"1\" /><path clip-path=\"url(#clip780)\" d=\"\n",
       "M1478.4 1423.18 L2352.76 1423.18 L2352.76 123.472 L1478.4 123.472  Z\n",
       "  \" fill=\"#ffffff\" fill-rule=\"evenodd\" fill-opacity=\"1\"/>\n",
       "<defs>\n",
       "  <clipPath id=\"clip783\">\n",
       "    <rect x=\"1478\" y=\"123\" width=\"875\" height=\"1301\"/>\n",
       "  </clipPath>\n",
       "</defs>\n",
       "<polyline clip-path=\"url(#clip783)\" style=\"stroke:#000000; stroke-width:2; stroke-opacity:0.1; fill:none\" points=\"\n",
       "  1594.79,1423.18 1594.79,123.472 \n",
       "  \"/>\n",
       "<polyline clip-path=\"url(#clip783)\" style=\"stroke:#000000; stroke-width:2; stroke-opacity:0.1; fill:none\" points=\"\n",
       "  1778.1,1423.18 1778.1,123.472 \n",
       "  \"/>\n",
       "<polyline clip-path=\"url(#clip783)\" style=\"stroke:#000000; stroke-width:2; stroke-opacity:0.1; fill:none\" points=\"\n",
       "  1961.4,1423.18 1961.4,123.472 \n",
       "  \"/>\n",
       "<polyline clip-path=\"url(#clip783)\" style=\"stroke:#000000; stroke-width:2; stroke-opacity:0.1; fill:none\" points=\"\n",
       "  2144.71,1423.18 2144.71,123.472 \n",
       "  \"/>\n",
       "<polyline clip-path=\"url(#clip783)\" style=\"stroke:#000000; stroke-width:2; stroke-opacity:0.1; fill:none\" points=\"\n",
       "  2328.01,1423.18 2328.01,123.472 \n",
       "  \"/>\n",
       "<polyline clip-path=\"url(#clip780)\" style=\"stroke:#000000; stroke-width:4; stroke-opacity:1; fill:none\" points=\"\n",
       "  1478.4,1423.18 2352.76,1423.18 \n",
       "  \"/>\n",
       "<polyline clip-path=\"url(#clip780)\" style=\"stroke:#000000; stroke-width:4; stroke-opacity:1; fill:none\" points=\"\n",
       "  1594.79,1423.18 1594.79,1407.58 \n",
       "  \"/>\n",
       "<polyline clip-path=\"url(#clip780)\" style=\"stroke:#000000; stroke-width:4; stroke-opacity:1; fill:none\" points=\"\n",
       "  1778.1,1423.18 1778.1,1407.58 \n",
       "  \"/>\n",
       "<polyline clip-path=\"url(#clip780)\" style=\"stroke:#000000; stroke-width:4; stroke-opacity:1; fill:none\" points=\"\n",
       "  1961.4,1423.18 1961.4,1407.58 \n",
       "  \"/>\n",
       "<polyline clip-path=\"url(#clip780)\" style=\"stroke:#000000; stroke-width:4; stroke-opacity:1; fill:none\" points=\"\n",
       "  2144.71,1423.18 2144.71,1407.58 \n",
       "  \"/>\n",
       "<polyline clip-path=\"url(#clip780)\" style=\"stroke:#000000; stroke-width:4; stroke-opacity:1; fill:none\" points=\"\n",
       "  2328.01,1423.18 2328.01,1407.58 \n",
       "  \"/>\n",
       "<path clip-path=\"url(#clip780)\" d=\"M 0 0 M1544.66 1479.92 L1552.29 1479.92 L1552.29 1453.55 L1543.98 1455.22 L1543.98 1450.96 L1552.25 1449.29 L1556.92 1449.29 L1556.92 1479.92 L1564.56 1479.92 L1564.56 1483.85 L1544.66 1483.85 L1544.66 1479.92 Z\" fill=\"#000000\" fill-rule=\"evenodd\" fill-opacity=\"1\" /><path clip-path=\"url(#clip780)\" d=\"M 0 0 M1579.63 1452.37 Q1576.02 1452.37 1574.19 1455.94 Q1572.39 1459.48 1572.39 1466.61 Q1572.39 1473.71 1574.19 1477.28 Q1576.02 1480.82 1579.63 1480.82 Q1583.27 1480.82 1585.07 1477.28 Q1586.9 1473.71 1586.9 1466.61 Q1586.9 1459.48 1585.07 1455.94 Q1583.27 1452.37 1579.63 1452.37 M1579.63 1448.67 Q1585.44 1448.67 1588.5 1453.27 Q1591.58 1457.86 1591.58 1466.61 Q1591.58 1475.33 1588.5 1479.94 Q1585.44 1484.52 1579.63 1484.52 Q1573.82 1484.52 1570.74 1479.94 Q1567.69 1475.33 1567.69 1466.61 Q1567.69 1457.86 1570.74 1453.27 Q1573.82 1448.67 1579.63 1448.67 Z\" fill=\"#000000\" fill-rule=\"evenodd\" fill-opacity=\"1\" /><path clip-path=\"url(#clip780)\" d=\"M 0 0 M1606.65 1452.37 Q1603.03 1452.37 1601.21 1455.94 Q1599.4 1459.48 1599.4 1466.61 Q1599.4 1473.71 1601.21 1477.28 Q1603.03 1480.82 1606.65 1480.82 Q1610.28 1480.82 1612.09 1477.28 Q1613.91 1473.71 1613.91 1466.61 Q1613.91 1459.48 1612.09 1455.94 Q1610.28 1452.37 1606.65 1452.37 M1606.65 1448.67 Q1612.46 1448.67 1615.51 1453.27 Q1618.59 1457.86 1618.59 1466.61 Q1618.59 1475.33 1615.51 1479.94 Q1612.46 1484.52 1606.65 1484.52 Q1600.84 1484.52 1597.76 1479.94 Q1594.7 1475.33 1594.7 1466.61 Q1594.7 1457.86 1597.76 1453.27 Q1600.84 1448.67 1606.65 1448.67 Z\" fill=\"#000000\" fill-rule=\"evenodd\" fill-opacity=\"1\" /><path clip-path=\"url(#clip780)\" d=\"M 0 0 M1633.66 1452.37 Q1630.05 1452.37 1628.22 1455.94 Q1626.41 1459.48 1626.41 1466.61 Q1626.41 1473.71 1628.22 1477.28 Q1630.05 1480.82 1633.66 1480.82 Q1637.29 1480.82 1639.1 1477.28 Q1640.93 1473.71 1640.93 1466.61 Q1640.93 1459.48 1639.1 1455.94 Q1637.29 1452.37 1633.66 1452.37 M1633.66 1448.67 Q1639.47 1448.67 1642.53 1453.27 Q1645.6 1457.86 1645.6 1466.61 Q1645.6 1475.33 1642.53 1479.94 Q1639.47 1484.52 1633.66 1484.52 Q1627.85 1484.52 1624.77 1479.94 Q1621.72 1475.33 1621.72 1466.61 Q1621.72 1457.86 1624.77 1453.27 Q1627.85 1448.67 1633.66 1448.67 Z\" fill=\"#000000\" fill-rule=\"evenodd\" fill-opacity=\"1\" /><path clip-path=\"url(#clip780)\" d=\"M 0 0 M1732.23 1479.92 L1748.55 1479.92 L1748.55 1483.85 L1726.61 1483.85 L1726.61 1479.92 Q1729.27 1477.16 1733.85 1472.53 Q1738.46 1467.88 1739.64 1466.54 Q1741.88 1464.01 1742.76 1462.28 Q1743.67 1460.52 1743.67 1458.83 Q1743.67 1456.07 1741.72 1454.34 Q1739.8 1452.6 1736.7 1452.6 Q1734.5 1452.6 1732.05 1453.37 Q1729.61 1454.13 1726.84 1455.68 L1726.84 1450.96 Q1729.66 1449.82 1732.11 1449.25 Q1734.57 1448.67 1736.61 1448.67 Q1741.98 1448.67 1745.17 1451.35 Q1748.36 1454.04 1748.36 1458.53 Q1748.36 1460.66 1747.55 1462.58 Q1746.77 1464.48 1744.66 1467.07 Q1744.08 1467.74 1740.98 1470.96 Q1737.88 1474.15 1732.23 1479.92 Z\" fill=\"#000000\" fill-rule=\"evenodd\" fill-opacity=\"1\" /><path clip-path=\"url(#clip780)\" d=\"M 0 0 M1763.62 1452.37 Q1760.01 1452.37 1758.18 1455.94 Q1756.37 1459.48 1756.37 1466.61 Q1756.37 1473.71 1758.18 1477.28 Q1760.01 1480.82 1763.62 1480.82 Q1767.25 1480.82 1769.06 1477.28 Q1770.89 1473.71 1770.89 1466.61 Q1770.89 1459.48 1769.06 1455.94 Q1767.25 1452.37 1763.62 1452.37 M1763.62 1448.67 Q1769.43 1448.67 1772.48 1453.27 Q1775.56 1457.86 1775.56 1466.61 Q1775.56 1475.33 1772.48 1479.94 Q1769.43 1484.52 1763.62 1484.52 Q1757.81 1484.52 1754.73 1479.94 Q1751.67 1475.33 1751.67 1466.61 Q1751.67 1457.86 1754.73 1453.27 Q1757.81 1448.67 1763.62 1448.67 Z\" fill=\"#000000\" fill-rule=\"evenodd\" fill-opacity=\"1\" /><path clip-path=\"url(#clip780)\" d=\"M 0 0 M1790.63 1452.37 Q1787.02 1452.37 1785.19 1455.94 Q1783.39 1459.48 1783.39 1466.61 Q1783.39 1473.71 1785.19 1477.28 Q1787.02 1480.82 1790.63 1480.82 Q1794.27 1480.82 1796.07 1477.28 Q1797.9 1473.71 1797.9 1466.61 Q1797.9 1459.48 1796.07 1455.94 Q1794.27 1452.37 1790.63 1452.37 M1790.63 1448.67 Q1796.44 1448.67 1799.5 1453.27 Q1802.58 1457.86 1802.58 1466.61 Q1802.58 1475.33 1799.5 1479.94 Q1796.44 1484.52 1790.63 1484.52 Q1784.82 1484.52 1781.74 1479.94 Q1778.69 1475.33 1778.69 1466.61 Q1778.69 1457.86 1781.74 1453.27 Q1784.82 1448.67 1790.63 1448.67 Z\" fill=\"#000000\" fill-rule=\"evenodd\" fill-opacity=\"1\" /><path clip-path=\"url(#clip780)\" d=\"M 0 0 M1817.65 1452.37 Q1814.04 1452.37 1812.21 1455.94 Q1810.4 1459.48 1810.4 1466.61 Q1810.4 1473.71 1812.21 1477.28 Q1814.04 1480.82 1817.65 1480.82 Q1821.28 1480.82 1823.09 1477.28 Q1824.91 1473.71 1824.91 1466.61 Q1824.91 1459.48 1823.09 1455.94 Q1821.28 1452.37 1817.65 1452.37 M1817.65 1448.67 Q1823.46 1448.67 1826.51 1453.27 Q1829.59 1457.86 1829.59 1466.61 Q1829.59 1475.33 1826.51 1479.94 Q1823.46 1484.52 1817.65 1484.52 Q1811.84 1484.52 1808.76 1479.94 Q1805.7 1475.33 1805.7 1466.61 Q1805.7 1457.86 1808.76 1453.27 Q1811.84 1448.67 1817.65 1448.67 Z\" fill=\"#000000\" fill-rule=\"evenodd\" fill-opacity=\"1\" /><path clip-path=\"url(#clip780)\" d=\"M 0 0 M1925.13 1465.22 Q1928.49 1465.94 1930.36 1468.2 Q1932.26 1470.47 1932.26 1473.81 Q1932.26 1478.92 1928.74 1481.72 Q1925.22 1484.52 1918.74 1484.52 Q1916.56 1484.52 1914.25 1484.08 Q1911.96 1483.67 1909.5 1482.81 L1909.5 1478.3 Q1911.45 1479.43 1913.76 1480.01 Q1916.08 1480.59 1918.6 1480.59 Q1923 1480.59 1925.29 1478.85 Q1927.61 1477.12 1927.61 1473.81 Q1927.61 1470.75 1925.45 1469.04 Q1923.32 1467.3 1919.5 1467.3 L1915.48 1467.3 L1915.48 1463.46 L1919.69 1463.46 Q1923.14 1463.46 1924.97 1462.09 Q1926.8 1460.7 1926.8 1458.11 Q1926.8 1455.45 1924.9 1454.04 Q1923.02 1452.6 1919.5 1452.6 Q1917.58 1452.6 1915.38 1453.02 Q1913.18 1453.44 1910.55 1454.31 L1910.55 1450.15 Q1913.21 1449.41 1915.52 1449.04 Q1917.86 1448.67 1919.92 1448.67 Q1925.24 1448.67 1928.35 1451.1 Q1931.45 1453.5 1931.45 1457.63 Q1931.45 1460.5 1929.8 1462.49 Q1928.16 1464.45 1925.13 1465.22 Z\" fill=\"#000000\" fill-rule=\"evenodd\" fill-opacity=\"1\" /><path clip-path=\"url(#clip780)\" d=\"M 0 0 M1947.33 1452.37 Q1943.72 1452.37 1941.89 1455.94 Q1940.08 1459.48 1940.08 1466.61 Q1940.08 1473.71 1941.89 1477.28 Q1943.72 1480.82 1947.33 1480.82 Q1950.96 1480.82 1952.77 1477.28 Q1954.6 1473.71 1954.6 1466.61 Q1954.6 1459.48 1952.77 1455.94 Q1950.96 1452.37 1947.33 1452.37 M1947.33 1448.67 Q1953.14 1448.67 1956.19 1453.27 Q1959.27 1457.86 1959.27 1466.61 Q1959.27 1475.33 1956.19 1479.94 Q1953.14 1484.52 1947.33 1484.52 Q1941.52 1484.52 1938.44 1479.94 Q1935.38 1475.33 1935.38 1466.61 Q1935.38 1457.86 1938.44 1453.27 Q1941.52 1448.67 1947.33 1448.67 Z\" fill=\"#000000\" fill-rule=\"evenodd\" fill-opacity=\"1\" /><path clip-path=\"url(#clip780)\" d=\"M 0 0 M1974.34 1452.37 Q1970.73 1452.37 1968.9 1455.94 Q1967.1 1459.48 1967.1 1466.61 Q1967.1 1473.71 1968.9 1477.28 Q1970.73 1480.82 1974.34 1480.82 Q1977.98 1480.82 1979.78 1477.28 Q1981.61 1473.71 1981.61 1466.61 Q1981.61 1459.48 1979.78 1455.94 Q1977.98 1452.37 1974.34 1452.37 M1974.34 1448.67 Q1980.15 1448.67 1983.21 1453.27 Q1986.29 1457.86 1986.29 1466.61 Q1986.29 1475.33 1983.21 1479.94 Q1980.15 1484.52 1974.34 1484.52 Q1968.53 1484.52 1965.45 1479.94 Q1962.4 1475.33 1962.4 1466.61 Q1962.4 1457.86 1965.45 1453.27 Q1968.53 1448.67 1974.34 1448.67 Z\" fill=\"#000000\" fill-rule=\"evenodd\" fill-opacity=\"1\" /><path clip-path=\"url(#clip780)\" d=\"M 0 0 M2001.36 1452.37 Q1997.74 1452.37 1995.92 1455.94 Q1994.11 1459.48 1994.11 1466.61 Q1994.11 1473.71 1995.92 1477.28 Q1997.74 1480.82 2001.36 1480.82 Q2004.99 1480.82 2006.8 1477.28 Q2008.62 1473.71 2008.62 1466.61 Q2008.62 1459.48 2006.8 1455.94 Q2004.99 1452.37 2001.36 1452.37 M2001.36 1448.67 Q2007.17 1448.67 2010.22 1453.27 Q2013.3 1457.86 2013.3 1466.61 Q2013.3 1475.33 2010.22 1479.94 Q2007.17 1484.52 2001.36 1484.52 Q1995.55 1484.52 1992.47 1479.94 Q1989.41 1475.33 1989.41 1466.61 Q1989.41 1457.86 1992.47 1453.27 Q1995.55 1448.67 2001.36 1448.67 Z\" fill=\"#000000\" fill-rule=\"evenodd\" fill-opacity=\"1\" /><path clip-path=\"url(#clip780)\" d=\"M 0 0 M2107.19 1453.37 L2095.39 1471.81 L2107.19 1471.81 L2107.19 1453.37 M2105.97 1449.29 L2111.85 1449.29 L2111.85 1471.81 L2116.78 1471.81 L2116.78 1475.7 L2111.85 1475.7 L2111.85 1483.85 L2107.19 1483.85 L2107.19 1475.7 L2091.59 1475.7 L2091.59 1471.19 L2105.97 1449.29 Z\" fill=\"#000000\" fill-rule=\"evenodd\" fill-opacity=\"1\" /><path clip-path=\"url(#clip780)\" d=\"M 0 0 M2131.85 1452.37 Q2128.24 1452.37 2126.41 1455.94 Q2124.6 1459.48 2124.6 1466.61 Q2124.6 1473.71 2126.41 1477.28 Q2128.24 1480.82 2131.85 1480.82 Q2135.48 1480.82 2137.29 1477.28 Q2139.12 1473.71 2139.12 1466.61 Q2139.12 1459.48 2137.29 1455.94 Q2135.48 1452.37 2131.85 1452.37 M2131.85 1448.67 Q2137.66 1448.67 2140.71 1453.27 Q2143.79 1457.86 2143.79 1466.61 Q2143.79 1475.33 2140.71 1479.94 Q2137.66 1484.52 2131.85 1484.52 Q2126.04 1484.52 2122.96 1479.94 Q2119.9 1475.33 2119.9 1466.61 Q2119.9 1457.86 2122.96 1453.27 Q2126.04 1448.67 2131.85 1448.67 Z\" fill=\"#000000\" fill-rule=\"evenodd\" fill-opacity=\"1\" /><path clip-path=\"url(#clip780)\" d=\"M 0 0 M2158.86 1452.37 Q2155.25 1452.37 2153.42 1455.94 Q2151.62 1459.48 2151.62 1466.61 Q2151.62 1473.71 2153.42 1477.28 Q2155.25 1480.82 2158.86 1480.82 Q2162.5 1480.82 2164.3 1477.28 Q2166.13 1473.71 2166.13 1466.61 Q2166.13 1459.48 2164.3 1455.94 Q2162.5 1452.37 2158.86 1452.37 M2158.86 1448.67 Q2164.67 1448.67 2167.73 1453.27 Q2170.81 1457.86 2170.81 1466.61 Q2170.81 1475.33 2167.73 1479.94 Q2164.67 1484.52 2158.86 1484.52 Q2153.05 1484.52 2149.97 1479.94 Q2146.92 1475.33 2146.92 1466.61 Q2146.92 1457.86 2149.97 1453.27 Q2153.05 1448.67 2158.86 1448.67 Z\" fill=\"#000000\" fill-rule=\"evenodd\" fill-opacity=\"1\" /><path clip-path=\"url(#clip780)\" d=\"M 0 0 M2185.87 1452.37 Q2182.26 1452.37 2180.43 1455.94 Q2178.63 1459.48 2178.63 1466.61 Q2178.63 1473.71 2180.43 1477.28 Q2182.26 1480.82 2185.87 1480.82 Q2189.51 1480.82 2191.31 1477.28 Q2193.14 1473.71 2193.14 1466.61 Q2193.14 1459.48 2191.31 1455.94 Q2189.51 1452.37 2185.87 1452.37 M2185.87 1448.67 Q2191.68 1448.67 2194.74 1453.27 Q2197.82 1457.86 2197.82 1466.61 Q2197.82 1475.33 2194.74 1479.94 Q2191.68 1484.52 2185.87 1484.52 Q2180.06 1484.52 2176.99 1479.94 Q2173.93 1475.33 2173.93 1466.61 Q2173.93 1457.86 2176.99 1453.27 Q2180.06 1448.67 2185.87 1448.67 Z\" fill=\"#000000\" fill-rule=\"evenodd\" fill-opacity=\"1\" /><path clip-path=\"url(#clip780)\" d=\"M 0 0 M2277.77 1449.29 L2296.12 1449.29 L2296.12 1453.23 L2282.05 1453.23 L2282.05 1461.7 Q2283.07 1461.35 2284.09 1461.19 Q2285.11 1461 2286.12 1461 Q2291.91 1461 2295.29 1464.18 Q2298.67 1467.35 2298.67 1472.76 Q2298.67 1478.34 2295.2 1481.44 Q2291.73 1484.52 2285.41 1484.52 Q2283.23 1484.52 2280.96 1484.15 Q2278.72 1483.78 2276.31 1483.04 L2276.31 1478.34 Q2278.39 1479.48 2280.61 1480.03 Q2282.84 1480.59 2285.31 1480.59 Q2289.32 1480.59 2291.66 1478.48 Q2293.99 1476.38 2293.99 1472.76 Q2293.99 1469.15 2291.66 1467.05 Q2289.32 1464.94 2285.31 1464.94 Q2283.44 1464.94 2281.56 1465.36 Q2279.71 1465.77 2277.77 1466.65 L2277.77 1449.29 Z\" fill=\"#000000\" fill-rule=\"evenodd\" fill-opacity=\"1\" /><path clip-path=\"url(#clip780)\" d=\"M 0 0 M2313.74 1452.37 Q2310.13 1452.37 2308.3 1455.94 Q2306.49 1459.48 2306.49 1466.61 Q2306.49 1473.71 2308.3 1477.28 Q2310.13 1480.82 2313.74 1480.82 Q2317.37 1480.82 2319.18 1477.28 Q2321.01 1473.71 2321.01 1466.61 Q2321.01 1459.48 2319.18 1455.94 Q2317.37 1452.37 2313.74 1452.37 M2313.74 1448.67 Q2319.55 1448.67 2322.6 1453.27 Q2325.68 1457.86 2325.68 1466.61 Q2325.68 1475.33 2322.6 1479.94 Q2319.55 1484.52 2313.74 1484.52 Q2307.93 1484.52 2304.85 1479.94 Q2301.79 1475.33 2301.79 1466.61 Q2301.79 1457.86 2304.85 1453.27 Q2307.93 1448.67 2313.74 1448.67 Z\" fill=\"#000000\" fill-rule=\"evenodd\" fill-opacity=\"1\" /><path clip-path=\"url(#clip780)\" d=\"M 0 0 M2340.75 1452.37 Q2337.14 1452.37 2335.31 1455.94 Q2333.51 1459.48 2333.51 1466.61 Q2333.51 1473.71 2335.31 1477.28 Q2337.14 1480.82 2340.75 1480.82 Q2344.39 1480.82 2346.19 1477.28 Q2348.02 1473.71 2348.02 1466.61 Q2348.02 1459.48 2346.19 1455.94 Q2344.39 1452.37 2340.75 1452.37 M2340.75 1448.67 Q2346.56 1448.67 2349.62 1453.27 Q2352.7 1457.86 2352.7 1466.61 Q2352.7 1475.33 2349.62 1479.94 Q2346.56 1484.52 2340.75 1484.52 Q2334.94 1484.52 2331.86 1479.94 Q2328.81 1475.33 2328.81 1466.61 Q2328.81 1457.86 2331.86 1453.27 Q2334.94 1448.67 2340.75 1448.67 Z\" fill=\"#000000\" fill-rule=\"evenodd\" fill-opacity=\"1\" /><path clip-path=\"url(#clip780)\" d=\"M 0 0 M2367.77 1452.37 Q2364.16 1452.37 2362.33 1455.94 Q2360.52 1459.48 2360.52 1466.61 Q2360.52 1473.71 2362.33 1477.28 Q2364.16 1480.82 2367.77 1480.82 Q2371.4 1480.82 2373.21 1477.28 Q2375.04 1473.71 2375.04 1466.61 Q2375.04 1459.48 2373.21 1455.94 Q2371.4 1452.37 2367.77 1452.37 M2367.77 1448.67 Q2373.58 1448.67 2376.63 1453.27 Q2379.71 1457.86 2379.71 1466.61 Q2379.71 1475.33 2376.63 1479.94 Q2373.58 1484.52 2367.77 1484.52 Q2361.96 1484.52 2358.88 1479.94 Q2355.82 1475.33 2355.82 1466.61 Q2355.82 1457.86 2358.88 1453.27 Q2361.96 1448.67 2367.77 1448.67 Z\" fill=\"#000000\" fill-rule=\"evenodd\" fill-opacity=\"1\" /><path clip-path=\"url(#clip780)\" d=\"M 0 0 M1889.41 1522.08 L1889.41 1528.35 Q1885.75 1526.6 1882.51 1525.74 Q1879.26 1524.88 1876.24 1524.88 Q1870.98 1524.88 1868.12 1526.92 Q1865.29 1528.96 1865.29 1532.71 Q1865.29 1535.87 1867.16 1537.49 Q1869.07 1539.08 1874.36 1540.07 L1878.24 1540.86 Q1885.43 1542.23 1888.84 1545.7 Q1892.28 1549.14 1892.28 1554.93 Q1892.28 1561.84 1887.63 1565.4 Q1883.02 1568.97 1874.07 1568.97 Q1870.7 1568.97 1866.88 1568.2 Q1863.09 1567.44 1859.02 1565.94 L1859.02 1559.32 Q1862.93 1561.52 1866.69 1562.63 Q1870.44 1563.75 1874.07 1563.75 Q1879.58 1563.75 1882.57 1561.58 Q1885.56 1559.42 1885.56 1555.41 Q1885.56 1551.91 1883.4 1549.93 Q1881.26 1547.96 1876.36 1546.97 L1872.45 1546.21 Q1865.26 1544.78 1862.04 1541.72 Q1858.83 1538.67 1858.83 1533.22 Q1858.83 1526.92 1863.25 1523.29 Q1867.71 1519.66 1875.5 1519.66 Q1878.85 1519.66 1882.32 1520.27 Q1885.78 1520.87 1889.41 1522.08 Z\" fill=\"#000000\" fill-rule=\"evenodd\" fill-opacity=\"1\" /><path clip-path=\"url(#clip780)\" d=\"M 0 0 M1898.42 1532.4 L1904.28 1532.4 L1904.28 1568.04 L1898.42 1568.04 L1898.42 1532.4 M1898.42 1518.52 L1904.28 1518.52 L1904.28 1525.93 L1898.42 1525.93 L1898.42 1518.52 Z\" fill=\"#000000\" fill-rule=\"evenodd\" fill-opacity=\"1\" /><path clip-path=\"url(#clip780)\" d=\"M 0 0 M1907.87 1532.4 L1935.69 1532.4 L1935.69 1537.74 L1913.67 1563.37 L1935.69 1563.37 L1935.69 1568.04 L1907.08 1568.04 L1907.08 1562.7 L1929.1 1537.07 L1907.87 1537.07 L1907.87 1532.4 Z\" fill=\"#000000\" fill-rule=\"evenodd\" fill-opacity=\"1\" /><path clip-path=\"url(#clip780)\" d=\"M 0 0 M1972.33 1548.76 L1972.33 1551.62 L1945.4 1551.62 Q1945.78 1557.67 1949.03 1560.85 Q1952.31 1564 1958.13 1564 Q1961.5 1564 1964.66 1563.17 Q1967.84 1562.35 1970.96 1560.69 L1970.96 1566.23 Q1967.81 1567.57 1964.5 1568.27 Q1961.19 1568.97 1957.78 1568.97 Q1949.25 1568.97 1944.25 1564 Q1939.29 1559.04 1939.29 1550.57 Q1939.29 1541.82 1944 1536.69 Q1948.74 1531.54 1956.76 1531.54 Q1963.96 1531.54 1968.12 1536.18 Q1972.33 1540.8 1972.33 1548.76 M1966.47 1547.04 Q1966.41 1542.23 1963.76 1539.37 Q1961.15 1536.5 1956.83 1536.5 Q1951.92 1536.5 1948.96 1539.27 Q1946.04 1542.04 1945.59 1547.07 L1966.47 1547.04 Z\" fill=\"#000000\" fill-rule=\"evenodd\" fill-opacity=\"1\" /><polyline clip-path=\"url(#clip783)\" style=\"stroke:#000000; stroke-width:2; stroke-opacity:0.1; fill:none\" points=\"\n",
       "  1478.4,1386.76 2352.76,1386.76 \n",
       "  \"/>\n",
       "<polyline clip-path=\"url(#clip783)\" style=\"stroke:#000000; stroke-width:2; stroke-opacity:0.1; fill:none\" points=\"\n",
       "  1478.4,1060.53 2352.76,1060.53 \n",
       "  \"/>\n",
       "<polyline clip-path=\"url(#clip783)\" style=\"stroke:#000000; stroke-width:2; stroke-opacity:0.1; fill:none\" points=\"\n",
       "  1478.4,734.3 2352.76,734.3 \n",
       "  \"/>\n",
       "<polyline clip-path=\"url(#clip783)\" style=\"stroke:#000000; stroke-width:2; stroke-opacity:0.1; fill:none\" points=\"\n",
       "  1478.4,408.067 2352.76,408.067 \n",
       "  \"/>\n",
       "<polyline clip-path=\"url(#clip780)\" style=\"stroke:#000000; stroke-width:4; stroke-opacity:1; fill:none\" points=\"\n",
       "  1478.4,1423.18 1478.4,123.472 \n",
       "  \"/>\n",
       "<polyline clip-path=\"url(#clip780)\" style=\"stroke:#000000; stroke-width:4; stroke-opacity:1; fill:none\" points=\"\n",
       "  1478.4,1386.76 1488.89,1386.76 \n",
       "  \"/>\n",
       "<polyline clip-path=\"url(#clip780)\" style=\"stroke:#000000; stroke-width:4; stroke-opacity:1; fill:none\" points=\"\n",
       "  1478.4,1060.53 1488.89,1060.53 \n",
       "  \"/>\n",
       "<polyline clip-path=\"url(#clip780)\" style=\"stroke:#000000; stroke-width:4; stroke-opacity:1; fill:none\" points=\"\n",
       "  1478.4,734.3 1488.89,734.3 \n",
       "  \"/>\n",
       "<polyline clip-path=\"url(#clip780)\" style=\"stroke:#000000; stroke-width:4; stroke-opacity:1; fill:none\" points=\"\n",
       "  1478.4,408.067 1488.89,408.067 \n",
       "  \"/>\n",
       "<path clip-path=\"url(#clip780)\" d=\"M 0 0 M1393.48 1372.56 Q1389.87 1372.56 1388.04 1376.13 Q1386.24 1379.67 1386.24 1386.8 Q1386.24 1393.91 1388.04 1397.47 Q1389.87 1401.01 1393.48 1401.01 Q1397.12 1401.01 1398.92 1397.47 Q1400.75 1393.91 1400.75 1386.8 Q1400.75 1379.67 1398.92 1376.13 Q1397.12 1372.56 1393.48 1372.56 M1393.48 1368.86 Q1399.29 1368.86 1402.35 1373.47 Q1405.43 1378.05 1405.43 1386.8 Q1405.43 1395.53 1402.35 1400.13 Q1399.29 1404.72 1393.48 1404.72 Q1387.67 1404.72 1384.6 1400.13 Q1381.54 1395.53 1381.54 1386.8 Q1381.54 1378.05 1384.6 1373.47 Q1387.67 1368.86 1393.48 1368.86 Z\" fill=\"#000000\" fill-rule=\"evenodd\" fill-opacity=\"1\" /><path clip-path=\"url(#clip780)\" d=\"M 0 0 M1410.5 1398.16 L1415.38 1398.16 L1415.38 1404.04 L1410.5 1404.04 L1410.5 1398.16 Z\" fill=\"#000000\" fill-rule=\"evenodd\" fill-opacity=\"1\" /><path clip-path=\"url(#clip780)\" d=\"M 0 0 M1430.45 1372.56 Q1426.84 1372.56 1425.01 1376.13 Q1423.21 1379.67 1423.21 1386.8 Q1423.21 1393.91 1425.01 1397.47 Q1426.84 1401.01 1430.45 1401.01 Q1434.09 1401.01 1435.89 1397.47 Q1437.72 1393.91 1437.72 1386.8 Q1437.72 1379.67 1435.89 1376.13 Q1434.09 1372.56 1430.45 1372.56 M1430.45 1368.86 Q1436.26 1368.86 1439.32 1373.47 Q1442.4 1378.05 1442.4 1386.8 Q1442.4 1395.53 1439.32 1400.13 Q1436.26 1404.72 1430.45 1404.72 Q1424.64 1404.72 1421.56 1400.13 Q1418.51 1395.53 1418.51 1386.8 Q1418.51 1378.05 1421.56 1373.47 Q1424.64 1368.86 1430.45 1368.86 Z\" fill=\"#000000\" fill-rule=\"evenodd\" fill-opacity=\"1\" /><path clip-path=\"url(#clip780)\" d=\"M 0 0 M1395.08 1046.33 Q1391.47 1046.33 1389.64 1049.9 Q1387.84 1053.44 1387.84 1060.57 Q1387.84 1067.67 1389.64 1071.24 Q1391.47 1074.78 1395.08 1074.78 Q1398.72 1074.78 1400.52 1071.24 Q1402.35 1067.67 1402.35 1060.57 Q1402.35 1053.44 1400.52 1049.9 Q1398.72 1046.33 1395.08 1046.33 M1395.08 1042.63 Q1400.89 1042.63 1403.95 1047.23 Q1407.03 1051.82 1407.03 1060.57 Q1407.03 1069.29 1403.95 1073.9 Q1400.89 1078.48 1395.08 1078.48 Q1389.27 1078.48 1386.19 1073.9 Q1383.14 1069.29 1383.14 1060.57 Q1383.14 1051.82 1386.19 1047.23 Q1389.27 1042.63 1395.08 1042.63 Z\" fill=\"#000000\" fill-rule=\"evenodd\" fill-opacity=\"1\" /><path clip-path=\"url(#clip780)\" d=\"M 0 0 M1412.1 1071.93 L1416.98 1071.93 L1416.98 1077.81 L1412.1 1077.81 L1412.1 1071.93 Z\" fill=\"#000000\" fill-rule=\"evenodd\" fill-opacity=\"1\" /><path clip-path=\"url(#clip780)\" d=\"M 0 0 M1426.08 1073.88 L1442.4 1073.88 L1442.4 1077.81 L1420.45 1077.81 L1420.45 1073.88 Q1423.11 1071.12 1427.7 1066.49 Q1432.3 1061.84 1433.48 1060.5 Q1435.73 1057.97 1436.61 1056.24 Q1437.51 1054.48 1437.51 1052.79 Q1437.51 1050.03 1435.57 1048.3 Q1433.65 1046.56 1430.54 1046.56 Q1428.35 1046.56 1425.89 1047.33 Q1423.46 1048.09 1420.68 1049.64 L1420.68 1044.92 Q1423.51 1043.78 1425.96 1043.21 Q1428.41 1042.63 1430.45 1042.63 Q1435.82 1042.63 1439.02 1045.31 Q1442.21 1048 1442.21 1052.49 Q1442.21 1054.62 1441.4 1056.54 Q1440.61 1058.44 1438.51 1061.03 Q1437.93 1061.7 1434.83 1064.92 Q1431.72 1068.11 1426.08 1073.88 Z\" fill=\"#000000\" fill-rule=\"evenodd\" fill-opacity=\"1\" /><path clip-path=\"url(#clip780)\" d=\"M 0 0 M1393 720.098 Q1389.39 720.098 1387.56 723.663 Q1385.75 727.205 1385.75 734.334 Q1385.75 741.441 1387.56 745.006 Q1389.39 748.547 1393 748.547 Q1396.63 748.547 1398.44 745.006 Q1400.27 741.441 1400.27 734.334 Q1400.27 727.205 1398.44 723.663 Q1396.63 720.098 1393 720.098 M1393 716.395 Q1398.81 716.395 1401.86 721.001 Q1404.94 725.584 1404.94 734.334 Q1404.94 743.061 1401.86 747.668 Q1398.81 752.251 1393 752.251 Q1387.19 752.251 1384.11 747.668 Q1381.05 743.061 1381.05 734.334 Q1381.05 725.584 1384.11 721.001 Q1387.19 716.395 1393 716.395 Z\" fill=\"#000000\" fill-rule=\"evenodd\" fill-opacity=\"1\" /><path clip-path=\"url(#clip780)\" d=\"M 0 0 M1410.01 745.7 L1414.9 745.7 L1414.9 751.58 L1410.01 751.58 L1410.01 745.7 Z\" fill=\"#000000\" fill-rule=\"evenodd\" fill-opacity=\"1\" /><path clip-path=\"url(#clip780)\" d=\"M 0 0 M1432.81 721.094 L1421.01 739.543 L1432.81 739.543 L1432.81 721.094 M1431.59 717.02 L1437.47 717.02 L1437.47 739.543 L1442.4 739.543 L1442.4 743.431 L1437.47 743.431 L1437.47 751.58 L1432.81 751.58 L1432.81 743.431 L1417.21 743.431 L1417.21 738.918 L1431.59 717.02 Z\" fill=\"#000000\" fill-rule=\"evenodd\" fill-opacity=\"1\" /><path clip-path=\"url(#clip780)\" d=\"M 0 0 M1393.32 393.866 Q1389.71 393.866 1387.88 397.431 Q1386.08 400.972 1386.08 408.102 Q1386.08 415.208 1387.88 418.773 Q1389.71 422.315 1393.32 422.315 Q1396.96 422.315 1398.76 418.773 Q1400.59 415.208 1400.59 408.102 Q1400.59 400.972 1398.76 397.431 Q1396.96 393.866 1393.32 393.866 M1393.32 390.162 Q1399.13 390.162 1402.19 394.769 Q1405.27 399.352 1405.27 408.102 Q1405.27 416.829 1402.19 421.435 Q1399.13 426.018 1393.32 426.018 Q1387.51 426.018 1384.43 421.435 Q1381.38 416.829 1381.38 408.102 Q1381.38 399.352 1384.43 394.769 Q1387.51 390.162 1393.32 390.162 Z\" fill=\"#000000\" fill-rule=\"evenodd\" fill-opacity=\"1\" /><path clip-path=\"url(#clip780)\" d=\"M 0 0 M1410.34 419.468 L1415.22 419.468 L1415.22 425.347 L1410.34 425.347 L1410.34 419.468 Z\" fill=\"#000000\" fill-rule=\"evenodd\" fill-opacity=\"1\" /><path clip-path=\"url(#clip780)\" d=\"M 0 0 M1430.87 406.204 Q1427.72 406.204 1425.87 408.356 Q1424.04 410.509 1424.04 414.259 Q1424.04 417.986 1425.87 420.162 Q1427.72 422.315 1430.87 422.315 Q1434.02 422.315 1435.85 420.162 Q1437.7 417.986 1437.7 414.259 Q1437.7 410.509 1435.85 408.356 Q1434.02 406.204 1430.87 406.204 M1440.15 391.551 L1440.15 395.81 Q1438.39 394.977 1436.59 394.537 Q1434.8 394.097 1433.04 394.097 Q1428.41 394.097 1425.96 397.222 Q1423.53 400.347 1423.18 406.667 Q1424.55 404.653 1426.61 403.588 Q1428.67 402.5 1431.15 402.5 Q1436.35 402.5 1439.36 405.671 Q1442.4 408.819 1442.4 414.259 Q1442.4 419.583 1439.25 422.801 Q1436.1 426.018 1430.87 426.018 Q1424.87 426.018 1421.7 421.435 Q1418.53 416.829 1418.53 408.102 Q1418.53 399.907 1422.42 395.046 Q1426.31 390.162 1432.86 390.162 Q1434.62 390.162 1436.4 390.509 Q1438.21 390.857 1440.15 391.551 Z\" fill=\"#000000\" fill-rule=\"evenodd\" fill-opacity=\"1\" /><path clip-path=\"url(#clip780)\" d=\"M 0 0 M1283.28 845.72 L1283.28 805.521 L1288.69 805.521 L1288.69 822.39 L1330.8 822.39 L1330.8 828.851 L1288.69 828.851 L1288.69 845.72 L1283.28 845.72 Z\" fill=\"#000000\" fill-rule=\"evenodd\" fill-opacity=\"1\" /><path clip-path=\"url(#clip780)\" d=\"M 0 0 M1295.15 801.383 L1295.15 795.526 L1330.8 795.526 L1330.8 801.383 L1295.15 801.383 M1281.27 801.383 L1281.27 795.526 L1288.69 795.526 L1288.69 801.383 L1281.27 801.383 Z\" fill=\"#000000\" fill-rule=\"evenodd\" fill-opacity=\"1\" /><path clip-path=\"url(#clip780)\" d=\"M 0 0 M1301.99 761.629 Q1298.05 759.433 1296.17 756.377 Q1294.29 753.322 1294.29 749.184 Q1294.29 743.614 1298.21 740.59 Q1302.09 737.567 1309.28 737.567 L1330.8 737.567 L1330.8 743.455 L1309.47 743.455 Q1304.35 743.455 1301.87 745.269 Q1299.38 747.083 1299.38 750.807 Q1299.38 755.359 1302.41 758.001 Q1305.43 760.642 1310.65 760.642 L1330.8 760.642 L1330.8 766.531 L1309.47 766.531 Q1304.32 766.531 1301.87 768.345 Q1299.38 770.159 1299.38 773.947 Q1299.38 778.434 1302.44 781.076 Q1305.46 783.718 1310.65 783.718 L1330.8 783.718 L1330.8 789.606 L1295.15 789.606 L1295.15 783.718 L1300.69 783.718 Q1297.41 781.713 1295.85 778.912 Q1294.29 776.111 1294.29 772.26 Q1294.29 768.377 1296.26 765.671 Q1298.24 762.934 1301.99 761.629 Z\" fill=\"#000000\" fill-rule=\"evenodd\" fill-opacity=\"1\" /><path clip-path=\"url(#clip780)\" d=\"M 0 0 M1311.51 700.932 L1314.37 700.932 L1314.37 727.859 Q1320.42 727.477 1323.6 724.23 Q1326.76 720.952 1326.76 715.128 Q1326.76 711.754 1325.93 708.603 Q1325.1 705.42 1323.45 702.301 L1328.98 702.301 Q1330.32 705.452 1331.02 708.762 Q1331.72 712.072 1331.72 715.478 Q1331.72 724.008 1326.76 729.005 Q1321.79 733.97 1313.32 733.97 Q1304.57 733.97 1299.45 729.259 Q1294.29 724.517 1294.29 716.496 Q1294.29 709.303 1298.94 705.133 Q1303.55 700.932 1311.51 700.932 M1309.79 706.788 Q1304.98 706.852 1302.12 709.494 Q1299.26 712.104 1299.26 716.432 Q1299.26 721.334 1302.02 724.294 Q1304.79 727.222 1309.82 727.668 L1309.79 706.788 Z\" fill=\"#000000\" fill-rule=\"evenodd\" fill-opacity=\"1\" /><path clip-path=\"url(#clip780)\" d=\"M 0 0 M1339.78 12.096 L1351.97 12.096 L1367.41 53.2532 L1382.92 12.096 L1395.12 12.096 L1395.12 72.576 L1387.14 72.576 L1387.14 19.4686 L1371.54 60.9499 L1363.32 60.9499 L1347.72 19.4686 L1347.72 72.576 L1339.78 72.576 L1339.78 12.096 Z\" fill=\"#000000\" fill-rule=\"evenodd\" fill-opacity=\"1\" /><path clip-path=\"url(#clip780)\" d=\"M 0 0 M1423.55 49.7694 Q1414.52 49.7694 1411.04 51.8354 Q1407.55 53.9013 1407.55 58.8839 Q1407.55 62.8538 1410.14 65.2034 Q1412.78 67.5124 1417.27 67.5124 Q1423.47 67.5124 1427.2 63.1374 Q1430.97 58.7219 1430.97 51.4303 L1430.97 49.7694 L1423.55 49.7694 M1438.42 46.6907 L1438.42 72.576 L1430.97 72.576 L1430.97 65.6895 Q1428.41 69.8214 1424.61 71.8063 Q1420.8 73.7508 1415.29 73.7508 Q1408.32 73.7508 1404.19 69.8619 Q1400.1 65.9325 1400.1 59.3701 Q1400.1 51.7138 1405.2 47.825 Q1410.35 43.9361 1420.51 43.9361 L1430.97 43.9361 L1430.97 43.2069 Q1430.97 38.0623 1427.56 35.2672 Q1424.2 32.4315 1418.08 32.4315 Q1414.2 32.4315 1410.51 33.3632 Q1406.82 34.295 1403.42 36.1584 L1403.42 29.2718 Q1407.51 27.692 1411.36 26.9223 Q1415.21 26.1121 1418.85 26.1121 Q1428.7 26.1121 1433.56 31.2163 Q1438.42 36.3204 1438.42 46.6907 Z\" fill=\"#000000\" fill-rule=\"evenodd\" fill-opacity=\"1\" /><path clip-path=\"url(#clip780)\" d=\"M 0 0 M1453.61 14.324 L1453.61 27.2059 L1468.96 27.2059 L1468.96 32.9987 L1453.61 32.9987 L1453.61 57.6282 Q1453.61 63.1779 1455.11 64.7578 Q1456.65 66.3376 1461.31 66.3376 L1468.96 66.3376 L1468.96 72.576 L1461.31 72.576 Q1452.68 72.576 1449.4 69.3758 Q1446.12 66.1351 1446.12 57.6282 L1446.12 32.9987 L1440.65 32.9987 L1440.65 27.2059 L1446.12 27.2059 L1446.12 14.324 L1453.61 14.324 Z\" fill=\"#000000\" fill-rule=\"evenodd\" fill-opacity=\"1\" /><path clip-path=\"url(#clip780)\" d=\"M 0 0 M1503.07 34.1734 Q1501.82 33.4443 1500.32 33.1202 Q1498.86 32.7556 1497.08 32.7556 Q1490.76 32.7556 1487.35 36.8875 Q1483.99 40.9789 1483.99 48.6757 L1483.99 72.576 L1476.5 72.576 L1476.5 27.2059 L1483.99 27.2059 L1483.99 34.2544 Q1486.34 30.1225 1490.11 28.1376 Q1493.88 26.1121 1499.26 26.1121 Q1500.03 26.1121 1500.97 26.2337 Q1501.9 26.3147 1503.03 26.5172 L1503.07 34.1734 Z\" fill=\"#000000\" fill-rule=\"evenodd\" fill-opacity=\"1\" /><path clip-path=\"url(#clip780)\" d=\"M 0 0 M1510.89 27.2059 L1518.34 27.2059 L1518.34 72.576 L1510.89 72.576 L1510.89 27.2059 M1510.89 9.54393 L1518.34 9.54393 L1518.34 18.9825 L1510.89 18.9825 L1510.89 9.54393 Z\" fill=\"#000000\" fill-rule=\"evenodd\" fill-opacity=\"1\" /><path clip-path=\"url(#clip780)\" d=\"M 0 0 M1563.88 27.2059 L1547.47 49.2833 L1564.73 72.576 L1555.94 72.576 L1542.73 54.752 L1529.52 72.576 L1520.73 72.576 L1538.36 48.8377 L1522.23 27.2059 L1531.02 27.2059 L1543.05 43.369 L1555.09 27.2059 L1563.88 27.2059 Z\" fill=\"#000000\" fill-rule=\"evenodd\" fill-opacity=\"1\" /><path clip-path=\"url(#clip780)\" d=\"M 0 0 M1568.78 46.5287 L1590.61 46.5287 L1590.61 53.1722 L1568.78 53.1722 L1568.78 46.5287 Z\" fill=\"#000000\" fill-rule=\"evenodd\" fill-opacity=\"1\" /><path clip-path=\"url(#clip780)\" d=\"M 0 0 M1590.86 27.2059 L1598.75 27.2059 L1612.93 65.2844 L1627.11 27.2059 L1635.01 27.2059 L1618 72.576 L1607.87 72.576 L1590.86 27.2059 Z\" fill=\"#000000\" fill-rule=\"evenodd\" fill-opacity=\"1\" /><path clip-path=\"url(#clip780)\" d=\"M 0 0 M1681.64 48.0275 L1681.64 51.6733 L1647.37 51.6733 Q1647.85 59.3701 1651.98 63.421 Q1656.16 67.4314 1663.57 67.4314 Q1667.86 67.4314 1671.87 66.3781 Q1675.92 65.3249 1679.89 63.2184 L1679.89 70.267 Q1675.88 71.9684 1671.67 72.8596 Q1667.46 73.7508 1663.12 73.7508 Q1652.27 73.7508 1645.91 67.4314 Q1639.59 61.1119 1639.59 50.3365 Q1639.59 39.1965 1645.58 32.6746 Q1651.62 26.1121 1661.83 26.1121 Q1670.98 26.1121 1676.29 32.0264 Q1681.64 37.9003 1681.64 48.0275 M1674.18 45.84 Q1674.1 39.7232 1670.74 36.0774 Q1667.42 32.4315 1661.91 32.4315 Q1655.67 32.4315 1651.9 35.9558 Q1648.18 39.4801 1647.61 45.8805 L1674.18 45.84 Z\" fill=\"#000000\" fill-rule=\"evenodd\" fill-opacity=\"1\" /><path clip-path=\"url(#clip780)\" d=\"M 0 0 M1696.83 14.324 L1696.83 27.2059 L1712.18 27.2059 L1712.18 32.9987 L1696.83 32.9987 L1696.83 57.6282 Q1696.83 63.1779 1698.33 64.7578 Q1699.87 66.3376 1704.52 66.3376 L1712.18 66.3376 L1712.18 72.576 L1704.52 72.576 Q1695.9 72.576 1692.61 69.3758 Q1689.33 66.1351 1689.33 57.6282 L1689.33 32.9987 L1683.86 32.9987 L1683.86 27.2059 L1689.33 27.2059 L1689.33 14.324 L1696.83 14.324 Z\" fill=\"#000000\" fill-rule=\"evenodd\" fill-opacity=\"1\" /><path clip-path=\"url(#clip780)\" d=\"M 0 0 M1737.58 32.4315 Q1731.58 32.4315 1728.1 37.1306 Q1724.62 41.7891 1724.62 49.9314 Q1724.62 58.0738 1728.06 62.7728 Q1731.54 67.4314 1737.58 67.4314 Q1743.53 67.4314 1747.02 62.7323 Q1750.5 58.0333 1750.5 49.9314 Q1750.5 41.8701 1747.02 37.1711 Q1743.53 32.4315 1737.58 32.4315 M1737.58 26.1121 Q1747.3 26.1121 1752.85 32.4315 Q1758.4 38.7509 1758.4 49.9314 Q1758.4 61.0714 1752.85 67.4314 Q1747.3 73.7508 1737.58 73.7508 Q1727.82 73.7508 1722.27 67.4314 Q1716.76 61.0714 1716.76 49.9314 Q1716.76 38.7509 1722.27 32.4315 Q1727.82 26.1121 1737.58 26.1121 Z\" fill=\"#000000\" fill-rule=\"evenodd\" fill-opacity=\"1\" /><path clip-path=\"url(#clip780)\" d=\"M 0 0 M1792.51 34.1734 Q1791.25 33.4443 1789.75 33.1202 Q1788.3 32.7556 1786.51 32.7556 Q1780.19 32.7556 1776.79 36.8875 Q1773.43 40.9789 1773.43 48.6757 L1773.43 72.576 L1765.94 72.576 L1765.94 27.2059 L1773.43 27.2059 L1773.43 34.2544 Q1775.78 30.1225 1779.55 28.1376 Q1783.31 26.1121 1788.7 26.1121 Q1789.47 26.1121 1790.4 26.2337 Q1791.33 26.3147 1792.47 26.5172 L1792.51 34.1734 Z\" fill=\"#000000\" fill-rule=\"evenodd\" fill-opacity=\"1\" /><path clip-path=\"url(#clip780)\" d=\"M 0 0 M1862.02 35.9153 Q1864.82 30.8922 1868.71 28.5022 Q1872.6 26.1121 1877.86 26.1121 Q1884.95 26.1121 1888.8 31.0947 Q1892.65 36.0368 1892.65 45.1919 L1892.65 72.576 L1885.15 72.576 L1885.15 45.4349 Q1885.15 38.913 1882.84 35.7533 Q1880.54 32.5936 1875.8 32.5936 Q1870 32.5936 1866.64 36.4419 Q1863.28 40.2903 1863.28 46.9338 L1863.28 72.576 L1855.78 72.576 L1855.78 45.4349 Q1855.78 38.8725 1853.48 35.7533 Q1851.17 32.5936 1846.35 32.5936 Q1840.63 32.5936 1837.27 36.4824 Q1833.91 40.3308 1833.91 46.9338 L1833.91 72.576 L1826.42 72.576 L1826.42 27.2059 L1833.91 27.2059 L1833.91 34.2544 Q1836.46 30.082 1840.03 28.0971 Q1843.59 26.1121 1848.49 26.1121 Q1853.44 26.1121 1856.88 28.6237 Q1860.36 31.1352 1862.02 35.9153 Z\" fill=\"#000000\" fill-rule=\"evenodd\" fill-opacity=\"1\" /><path clip-path=\"url(#clip780)\" d=\"M 0 0 M1899.7 54.671 L1899.7 27.2059 L1907.15 27.2059 L1907.15 54.3874 Q1907.15 60.8284 1909.66 64.0691 Q1912.17 67.2693 1917.2 67.2693 Q1923.23 67.2693 1926.72 63.421 Q1930.24 59.5726 1930.24 52.9291 L1930.24 27.2059 L1937.69 27.2059 L1937.69 72.576 L1930.24 72.576 L1930.24 65.6084 Q1927.53 69.7404 1923.92 71.7658 Q1920.36 73.7508 1915.62 73.7508 Q1907.8 73.7508 1903.75 68.8897 Q1899.7 64.0286 1899.7 54.671 M1918.45 26.1121 L1918.45 26.1121 Z\" fill=\"#000000\" fill-rule=\"evenodd\" fill-opacity=\"1\" /><path clip-path=\"url(#clip780)\" d=\"M 0 0 M1945.51 9.54393 L1952.97 9.54393 L1952.97 72.576 L1945.51 72.576 L1945.51 9.54393 Z\" fill=\"#000000\" fill-rule=\"evenodd\" fill-opacity=\"1\" /><path clip-path=\"url(#clip780)\" d=\"M 0 0 M1960.78 27.2059 L1968.24 27.2059 L1968.24 72.576 L1960.78 72.576 L1960.78 27.2059 M1960.78 9.54393 L1968.24 9.54393 L1968.24 18.9825 L1960.78 18.9825 L1960.78 9.54393 Z\" fill=\"#000000\" fill-rule=\"evenodd\" fill-opacity=\"1\" /><path clip-path=\"url(#clip780)\" d=\"M 0 0 M1983.43 14.324 L1983.43 27.2059 L1998.78 27.2059 L1998.78 32.9987 L1983.43 32.9987 L1983.43 57.6282 Q1983.43 63.1779 1984.93 64.7578 Q1986.47 66.3376 1991.13 66.3376 L1998.78 66.3376 L1998.78 72.576 L1991.13 72.576 Q1982.5 72.576 1979.22 69.3758 Q1975.93 66.1351 1975.93 57.6282 L1975.93 32.9987 L1970.47 32.9987 L1970.47 27.2059 L1975.93 27.2059 L1975.93 14.324 L1983.43 14.324 Z\" fill=\"#000000\" fill-rule=\"evenodd\" fill-opacity=\"1\" /><path clip-path=\"url(#clip780)\" d=\"M 0 0 M2013.81 65.7705 L2013.81 89.8329 L2006.32 89.8329 L2006.32 27.2059 L2013.81 27.2059 L2013.81 34.0924 Q2016.16 30.0415 2019.72 28.0971 Q2023.33 26.1121 2028.31 26.1121 Q2036.58 26.1121 2041.72 32.6746 Q2046.91 39.2371 2046.91 49.9314 Q2046.91 60.6258 2041.72 67.1883 Q2036.58 73.7508 2028.31 73.7508 Q2023.33 73.7508 2019.72 71.8063 Q2016.16 69.8214 2013.81 65.7705 M2039.17 49.9314 Q2039.17 41.7081 2035.77 37.0496 Q2032.4 32.3505 2026.49 32.3505 Q2020.58 32.3505 2017.17 37.0496 Q2013.81 41.7081 2013.81 49.9314 Q2013.81 58.1548 2017.17 62.8538 Q2020.58 67.5124 2026.49 67.5124 Q2032.4 67.5124 2035.77 62.8538 Q2039.17 58.1548 2039.17 49.9314 Z\" fill=\"#000000\" fill-rule=\"evenodd\" fill-opacity=\"1\" /><path clip-path=\"url(#clip780)\" d=\"M 0 0 M2054.72 9.54393 L2062.18 9.54393 L2062.18 72.576 L2054.72 72.576 L2054.72 9.54393 Z\" fill=\"#000000\" fill-rule=\"evenodd\" fill-opacity=\"1\" /><path clip-path=\"url(#clip780)\" d=\"M 0 0 M2070 27.2059 L2077.45 27.2059 L2077.45 72.576 L2070 72.576 L2070 27.2059 M2070 9.54393 L2077.45 9.54393 L2077.45 18.9825 L2070 18.9825 L2070 9.54393 Z\" fill=\"#000000\" fill-rule=\"evenodd\" fill-opacity=\"1\" /><path clip-path=\"url(#clip780)\" d=\"M 0 0 M2117.92 28.9478 L2117.92 35.9153 Q2114.76 34.1734 2111.56 33.3227 Q2108.4 32.4315 2105.16 32.4315 Q2097.91 32.4315 2093.9 37.0496 Q2089.89 41.6271 2089.89 49.9314 Q2089.89 58.2358 2093.9 62.8538 Q2097.91 67.4314 2105.16 67.4314 Q2108.4 67.4314 2111.56 66.5807 Q2114.76 65.6895 2117.92 63.9476 L2117.92 70.8341 Q2114.8 72.2924 2111.44 73.0216 Q2108.12 73.7508 2104.35 73.7508 Q2094.1 73.7508 2088.06 67.3098 Q2082.03 60.8689 2082.03 49.9314 Q2082.03 38.832 2088.1 32.472 Q2094.22 26.1121 2104.83 26.1121 Q2108.28 26.1121 2111.56 26.8413 Q2114.84 27.5299 2117.92 28.9478 Z\" fill=\"#000000\" fill-rule=\"evenodd\" fill-opacity=\"1\" /><path clip-path=\"url(#clip780)\" d=\"M 0 0 M2146.36 49.7694 Q2137.32 49.7694 2133.84 51.8354 Q2130.35 53.9013 2130.35 58.8839 Q2130.35 62.8538 2132.95 65.2034 Q2135.58 67.5124 2140.08 67.5124 Q2146.27 67.5124 2150 63.1374 Q2153.77 58.7219 2153.77 51.4303 L2153.77 49.7694 L2146.36 49.7694 M2161.22 46.6907 L2161.22 72.576 L2153.77 72.576 L2153.77 65.6895 Q2151.22 69.8214 2147.41 71.8063 Q2143.6 73.7508 2138.09 73.7508 Q2131.12 73.7508 2126.99 69.8619 Q2122.9 65.9325 2122.9 59.3701 Q2122.9 51.7138 2128.01 47.825 Q2133.15 43.9361 2143.32 43.9361 L2153.77 43.9361 L2153.77 43.2069 Q2153.77 38.0623 2150.37 35.2672 Q2147 32.4315 2140.89 32.4315 Q2137 32.4315 2133.31 33.3632 Q2129.63 34.295 2126.22 36.1584 L2126.22 29.2718 Q2130.31 27.692 2134.16 26.9223 Q2138.01 26.1121 2141.66 26.1121 Q2151.5 26.1121 2156.36 31.2163 Q2161.22 36.3204 2161.22 46.6907 Z\" fill=\"#000000\" fill-rule=\"evenodd\" fill-opacity=\"1\" /><path clip-path=\"url(#clip780)\" d=\"M 0 0 M2176.41 14.324 L2176.41 27.2059 L2191.77 27.2059 L2191.77 32.9987 L2176.41 32.9987 L2176.41 57.6282 Q2176.41 63.1779 2177.91 64.7578 Q2179.45 66.3376 2184.11 66.3376 L2191.77 66.3376 L2191.77 72.576 L2184.11 72.576 Q2175.48 72.576 2172.2 69.3758 Q2168.92 66.1351 2168.92 57.6282 L2168.92 32.9987 L2163.45 32.9987 L2163.45 27.2059 L2168.92 27.2059 L2168.92 14.324 L2176.41 14.324 Z\" fill=\"#000000\" fill-rule=\"evenodd\" fill-opacity=\"1\" /><path clip-path=\"url(#clip780)\" d=\"M 0 0 M2199.58 27.2059 L2207.04 27.2059 L2207.04 72.576 L2199.58 72.576 L2199.58 27.2059 M2199.58 9.54393 L2207.04 9.54393 L2207.04 18.9825 L2199.58 18.9825 L2199.58 9.54393 Z\" fill=\"#000000\" fill-rule=\"evenodd\" fill-opacity=\"1\" /><path clip-path=\"url(#clip780)\" d=\"M 0 0 M2232.44 32.4315 Q2226.44 32.4315 2222.96 37.1306 Q2219.47 41.7891 2219.47 49.9314 Q2219.47 58.0738 2222.92 62.7728 Q2226.4 67.4314 2232.44 67.4314 Q2238.39 67.4314 2241.88 62.7323 Q2245.36 58.0333 2245.36 49.9314 Q2245.36 41.8701 2241.88 37.1711 Q2238.39 32.4315 2232.44 32.4315 M2232.44 26.1121 Q2242.16 26.1121 2247.71 32.4315 Q2253.26 38.7509 2253.26 49.9314 Q2253.26 61.0714 2247.71 67.4314 Q2242.16 73.7508 2232.44 73.7508 Q2222.68 73.7508 2217.13 67.4314 Q2211.62 61.0714 2211.62 49.9314 Q2211.62 38.7509 2217.13 32.4315 Q2222.68 26.1121 2232.44 26.1121 Z\" fill=\"#000000\" fill-rule=\"evenodd\" fill-opacity=\"1\" /><path clip-path=\"url(#clip780)\" d=\"M 0 0 M2298.79 45.1919 L2298.79 72.576 L2291.34 72.576 L2291.34 45.4349 Q2291.34 38.994 2288.83 35.7938 Q2286.31 32.5936 2281.29 32.5936 Q2275.26 32.5936 2271.77 36.4419 Q2268.29 40.2903 2268.29 46.9338 L2268.29 72.576 L2260.79 72.576 L2260.79 27.2059 L2268.29 27.2059 L2268.29 34.2544 Q2270.96 30.163 2274.57 28.1376 Q2278.21 26.1121 2282.95 26.1121 Q2290.77 26.1121 2294.78 30.9732 Q2298.79 35.7938 2298.79 45.1919 Z\" fill=\"#000000\" fill-rule=\"evenodd\" fill-opacity=\"1\" /><path clip-path=\"url(#clip780)\" d=\"M 0 0 M2340.35 14.324 L2340.35 27.2059 L2355.71 27.2059 L2355.71 32.9987 L2340.35 32.9987 L2340.35 57.6282 Q2340.35 63.1779 2341.85 64.7578 Q2343.39 66.3376 2348.05 66.3376 L2355.71 66.3376 L2355.71 72.576 L2348.05 72.576 Q2339.42 72.576 2336.14 69.3758 Q2332.86 66.1351 2332.86 57.6282 L2332.86 32.9987 L2327.39 32.9987 L2327.39 27.2059 L2332.86 27.2059 L2332.86 14.324 L2340.35 14.324 Z\" fill=\"#000000\" fill-rule=\"evenodd\" fill-opacity=\"1\" /><path clip-path=\"url(#clip780)\" d=\"M 0 0 M2363.52 27.2059 L2370.98 27.2059 L2370.98 72.576 L2363.52 72.576 L2363.52 27.2059 M2363.52 9.54393 L2370.98 9.54393 L2370.98 18.9825 L2363.52 18.9825 L2363.52 9.54393 Z\" fill=\"#000000\" fill-rule=\"evenodd\" fill-opacity=\"1\" /><path clip-path=\"url(#clip780)\" d=\"M 0 0 M2414.12 35.9153 Q2416.92 30.8922 2420.8 28.5022 Q2424.69 26.1121 2429.96 26.1121 Q2437.05 26.1121 2440.9 31.0947 Q2444.75 36.0368 2444.75 45.1919 L2444.75 72.576 L2437.25 72.576 L2437.25 45.4349 Q2437.25 38.913 2434.94 35.7533 Q2432.63 32.5936 2427.89 32.5936 Q2422.1 32.5936 2418.74 36.4419 Q2415.38 40.2903 2415.38 46.9338 L2415.38 72.576 L2407.88 72.576 L2407.88 45.4349 Q2407.88 38.8725 2405.57 35.7533 Q2403.26 32.5936 2398.44 32.5936 Q2392.73 32.5936 2389.37 36.4824 Q2386.01 40.3308 2386.01 46.9338 L2386.01 72.576 L2378.51 72.576 L2378.51 27.2059 L2386.01 27.2059 L2386.01 34.2544 Q2388.56 30.082 2392.12 28.0971 Q2395.69 26.1121 2400.59 26.1121 Q2405.53 26.1121 2408.98 28.6237 Q2412.46 31.1352 2414.12 35.9153 Z\" fill=\"#000000\" fill-rule=\"evenodd\" fill-opacity=\"1\" /><path clip-path=\"url(#clip780)\" d=\"M 0 0 M2491.37 48.0275 L2491.37 51.6733 L2457.1 51.6733 Q2457.59 59.3701 2461.72 63.421 Q2465.89 67.4314 2473.3 67.4314 Q2477.6 67.4314 2481.61 66.3781 Q2485.66 65.3249 2489.63 63.2184 L2489.63 70.267 Q2485.62 71.9684 2481.41 72.8596 Q2477.19 73.7508 2472.86 73.7508 Q2462 73.7508 2455.64 67.4314 Q2449.32 61.1119 2449.32 50.3365 Q2449.32 39.1965 2455.32 32.6746 Q2461.35 26.1121 2471.56 26.1121 Q2480.72 26.1121 2486.02 32.0264 Q2491.37 37.9003 2491.37 48.0275 M2483.92 45.84 Q2483.84 39.7232 2480.47 36.0774 Q2477.15 32.4315 2471.64 32.4315 Q2465.41 32.4315 2461.64 35.9558 Q2457.91 39.4801 2457.34 45.8805 L2483.92 45.84 Z\" fill=\"#000000\" fill-rule=\"evenodd\" fill-opacity=\"1\" /><polyline clip-path=\"url(#clip783)\" style=\"stroke:#009af9; stroke-width:4; stroke-opacity:1; fill:none\" points=\"\n",
       "  1503.14,1380.53 1594.79,1366.87 1686.45,1341.26 1778.1,1272.4 1869.75,1155.04 1961.4,1014.09 2053.05,847.997 2144.71,624.846 2236.36,458.709 2328.01,177.376 \n",
       "  \n",
       "  \"/>\n",
       "<polyline clip-path=\"url(#clip783)\" style=\"stroke:#000000; stroke-width:4; stroke-opacity:1; fill:none\" points=\"\n",
       "  1503.14,1386.4 1503.14,1374.66 \n",
       "  \"/>\n",
       "<polyline clip-path=\"url(#clip783)\" style=\"stroke:#000000; stroke-width:4; stroke-opacity:1; fill:none\" points=\"\n",
       "  1594.79,1372.58 1594.79,1361.16 \n",
       "  \"/>\n",
       "<polyline clip-path=\"url(#clip783)\" style=\"stroke:#000000; stroke-width:4; stroke-opacity:1; fill:none\" points=\"\n",
       "  1686.45,1348.45 1686.45,1334.07 \n",
       "  \"/>\n",
       "<polyline clip-path=\"url(#clip783)\" style=\"stroke:#000000; stroke-width:4; stroke-opacity:1; fill:none\" points=\"\n",
       "  1778.1,1278.47 1778.1,1266.33 \n",
       "  \"/>\n",
       "<polyline clip-path=\"url(#clip783)\" style=\"stroke:#000000; stroke-width:4; stroke-opacity:1; fill:none\" points=\"\n",
       "  1869.75,1170.27 1869.75,1139.81 \n",
       "  \"/>\n",
       "<polyline clip-path=\"url(#clip783)\" style=\"stroke:#000000; stroke-width:4; stroke-opacity:1; fill:none\" points=\"\n",
       "  1961.4,1017.18 1961.4,1011 \n",
       "  \"/>\n",
       "<polyline clip-path=\"url(#clip783)\" style=\"stroke:#000000; stroke-width:4; stroke-opacity:1; fill:none\" points=\"\n",
       "  2053.05,863.77 2053.05,832.224 \n",
       "  \"/>\n",
       "<polyline clip-path=\"url(#clip783)\" style=\"stroke:#000000; stroke-width:4; stroke-opacity:1; fill:none\" points=\"\n",
       "  2144.71,739.758 2144.71,509.934 \n",
       "  \"/>\n",
       "<polyline clip-path=\"url(#clip783)\" style=\"stroke:#000000; stroke-width:4; stroke-opacity:1; fill:none\" points=\"\n",
       "  2236.36,463.409 2236.36,454.009 \n",
       "  \"/>\n",
       "<polyline clip-path=\"url(#clip783)\" style=\"stroke:#000000; stroke-width:4; stroke-opacity:1; fill:none\" points=\"\n",
       "  2328.01,194.496 2328.01,160.256 \n",
       "  \"/>\n",
       "<line clip-path=\"url(#clip783)\" x1=\"1519.14\" y1=\"1386.4\" x2=\"1487.14\" y2=\"1386.4\" style=\"stroke:#000000; stroke-width:3.2; stroke-opacity:1\"/>\n",
       "<line clip-path=\"url(#clip783)\" x1=\"1519.14\" y1=\"1374.66\" x2=\"1487.14\" y2=\"1374.66\" style=\"stroke:#000000; stroke-width:3.2; stroke-opacity:1\"/>\n",
       "<line clip-path=\"url(#clip783)\" x1=\"1610.79\" y1=\"1372.58\" x2=\"1578.79\" y2=\"1372.58\" style=\"stroke:#000000; stroke-width:3.2; stroke-opacity:1\"/>\n",
       "<line clip-path=\"url(#clip783)\" x1=\"1610.79\" y1=\"1361.16\" x2=\"1578.79\" y2=\"1361.16\" style=\"stroke:#000000; stroke-width:3.2; stroke-opacity:1\"/>\n",
       "<line clip-path=\"url(#clip783)\" x1=\"1702.45\" y1=\"1348.45\" x2=\"1670.45\" y2=\"1348.45\" style=\"stroke:#000000; stroke-width:3.2; stroke-opacity:1\"/>\n",
       "<line clip-path=\"url(#clip783)\" x1=\"1702.45\" y1=\"1334.07\" x2=\"1670.45\" y2=\"1334.07\" style=\"stroke:#000000; stroke-width:3.2; stroke-opacity:1\"/>\n",
       "<line clip-path=\"url(#clip783)\" x1=\"1794.1\" y1=\"1278.47\" x2=\"1762.1\" y2=\"1278.47\" style=\"stroke:#000000; stroke-width:3.2; stroke-opacity:1\"/>\n",
       "<line clip-path=\"url(#clip783)\" x1=\"1794.1\" y1=\"1266.33\" x2=\"1762.1\" y2=\"1266.33\" style=\"stroke:#000000; stroke-width:3.2; stroke-opacity:1\"/>\n",
       "<line clip-path=\"url(#clip783)\" x1=\"1885.75\" y1=\"1170.27\" x2=\"1853.75\" y2=\"1170.27\" style=\"stroke:#000000; stroke-width:3.2; stroke-opacity:1\"/>\n",
       "<line clip-path=\"url(#clip783)\" x1=\"1885.75\" y1=\"1139.81\" x2=\"1853.75\" y2=\"1139.81\" style=\"stroke:#000000; stroke-width:3.2; stroke-opacity:1\"/>\n",
       "<line clip-path=\"url(#clip783)\" x1=\"1977.4\" y1=\"1017.18\" x2=\"1945.4\" y2=\"1017.18\" style=\"stroke:#000000; stroke-width:3.2; stroke-opacity:1\"/>\n",
       "<line clip-path=\"url(#clip783)\" x1=\"1977.4\" y1=\"1011\" x2=\"1945.4\" y2=\"1011\" style=\"stroke:#000000; stroke-width:3.2; stroke-opacity:1\"/>\n",
       "<line clip-path=\"url(#clip783)\" x1=\"2069.05\" y1=\"863.77\" x2=\"2037.05\" y2=\"863.77\" style=\"stroke:#000000; stroke-width:3.2; stroke-opacity:1\"/>\n",
       "<line clip-path=\"url(#clip783)\" x1=\"2069.05\" y1=\"832.224\" x2=\"2037.05\" y2=\"832.224\" style=\"stroke:#000000; stroke-width:3.2; stroke-opacity:1\"/>\n",
       "<line clip-path=\"url(#clip783)\" x1=\"2160.71\" y1=\"739.758\" x2=\"2128.71\" y2=\"739.758\" style=\"stroke:#000000; stroke-width:3.2; stroke-opacity:1\"/>\n",
       "<line clip-path=\"url(#clip783)\" x1=\"2160.71\" y1=\"509.934\" x2=\"2128.71\" y2=\"509.934\" style=\"stroke:#000000; stroke-width:3.2; stroke-opacity:1\"/>\n",
       "<line clip-path=\"url(#clip783)\" x1=\"2252.36\" y1=\"463.409\" x2=\"2220.36\" y2=\"463.409\" style=\"stroke:#000000; stroke-width:3.2; stroke-opacity:1\"/>\n",
       "<line clip-path=\"url(#clip783)\" x1=\"2252.36\" y1=\"454.009\" x2=\"2220.36\" y2=\"454.009\" style=\"stroke:#000000; stroke-width:3.2; stroke-opacity:1\"/>\n",
       "<line clip-path=\"url(#clip783)\" x1=\"2344.01\" y1=\"194.496\" x2=\"2312.01\" y2=\"194.496\" style=\"stroke:#000000; stroke-width:3.2; stroke-opacity:1\"/>\n",
       "<line clip-path=\"url(#clip783)\" x1=\"2344.01\" y1=\"160.256\" x2=\"2312.01\" y2=\"160.256\" style=\"stroke:#000000; stroke-width:3.2; stroke-opacity:1\"/>\n",
       "<path clip-path=\"url(#clip780)\" d=\"\n",
       "M2175.44 287.756 L2323.61 287.756 L2323.61 166.796 L2175.44 166.796  Z\n",
       "  \" fill=\"#ffffff\" fill-rule=\"evenodd\" fill-opacity=\"1\"/>\n",
       "<polyline clip-path=\"url(#clip780)\" style=\"stroke:#000000; stroke-width:4; stroke-opacity:1; fill:none\" points=\"\n",
       "  2175.44,287.756 2323.61,287.756 2323.61,166.796 2175.44,166.796 2175.44,287.756 \n",
       "  \"/>\n",
       "<polyline clip-path=\"url(#clip780)\" style=\"stroke:#009af9; stroke-width:4; stroke-opacity:1; fill:none\" points=\"\n",
       "  2185.16,227.276 2243.45,227.276 \n",
       "  \"/>\n",
       "<path clip-path=\"url(#clip780)\" d=\"M 0 0 M2267 246.963 Q2265.2 251.593 2263.49 253.005 Q2261.77 254.417 2258.9 254.417 L2255.5 254.417 L2255.5 250.852 L2258 250.852 Q2259.76 250.852 2260.73 250.019 Q2261.7 249.185 2262.88 246.083 L2263.65 244.139 L2253.16 218.63 L2257.68 218.63 L2265.78 238.908 L2273.88 218.63 L2278.39 218.63 L2267 246.963 Z\" fill=\"#000000\" fill-rule=\"evenodd\" fill-opacity=\"1\" /><path clip-path=\"url(#clip780)\" d=\"M 0 0 M2284.27 240.621 L2291.91 240.621 L2291.91 214.255 L2283.6 215.922 L2283.6 211.662 L2291.87 209.996 L2296.54 209.996 L2296.54 240.621 L2304.18 240.621 L2304.18 244.556 L2284.27 244.556 L2284.27 240.621 Z\" fill=\"#000000\" fill-rule=\"evenodd\" fill-opacity=\"1\" /></svg>\n"
      ]
     },
     "execution_count": 159,
     "metadata": {},
     "output_type": "execute_result"
    }
   ],
   "source": [
    "plot(p1, p2, layout=2)"
   ]
  }
 ],
 "metadata": {
  "kernelspec": {
   "display_name": "Julia 1.5.3",
   "language": "julia",
   "name": "julia-1.5"
  },
  "language_info": {
   "file_extension": ".jl",
   "mimetype": "application/julia",
   "name": "julia",
   "version": "1.5.3"
  }
 },
 "nbformat": 4,
 "nbformat_minor": 5
}
